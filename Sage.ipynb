{
 "cells": [
  {
   "cell_type": "code",
   "execution_count": null,
   "metadata": {},
   "outputs": [],
   "source": []
  },
  {
   "cell_type": "code",
   "execution_count": 1,
   "metadata": {},
   "outputs": [],
   "source": [
    "import pandas as pd\n",
    "\n",
    "import numpy as np\n",
    "\n",
    "import matplotlib.pyplot as plt\n",
    "import seaborn as sns"
   ]
  },
  {
   "cell_type": "code",
   "execution_count": 2,
   "metadata": {},
   "outputs": [
    {
     "data": {
      "text/plain": [
       "dict_keys(['explained_variance', 'r2', 'max_error', 'neg_median_absolute_error', 'neg_mean_absolute_error', 'neg_mean_squared_error', 'neg_mean_squared_log_error', 'neg_root_mean_squared_error', 'neg_mean_poisson_deviance', 'neg_mean_gamma_deviance', 'accuracy', 'roc_auc', 'roc_auc_ovr', 'roc_auc_ovo', 'roc_auc_ovr_weighted', 'roc_auc_ovo_weighted', 'balanced_accuracy', 'average_precision', 'neg_log_loss', 'neg_brier_score', 'adjusted_rand_score', 'homogeneity_score', 'completeness_score', 'v_measure_score', 'mutual_info_score', 'adjusted_mutual_info_score', 'normalized_mutual_info_score', 'fowlkes_mallows_score', 'precision', 'precision_macro', 'precision_micro', 'precision_samples', 'precision_weighted', 'recall', 'recall_macro', 'recall_micro', 'recall_samples', 'recall_weighted', 'f1', 'f1_macro', 'f1_micro', 'f1_samples', 'f1_weighted', 'jaccard', 'jaccard_macro', 'jaccard_micro', 'jaccard_samples', 'jaccard_weighted'])"
      ]
     },
     "execution_count": 2,
     "metadata": {},
     "output_type": "execute_result"
    }
   ],
   "source": [
    "import matplotlib.pyplot as plt\n",
    "import seaborn as sns\n",
    "\n",
    "from sklearn.pipeline import Pipeline\n",
    "from sklearn.model_selection import GridSearchCV\n",
    "from sklearn.metrics import SCORERS\n",
    "SCORERS.keys()"
   ]
  },
  {
   "cell_type": "code",
   "execution_count": null,
   "metadata": {},
   "outputs": [],
   "source": []
  },
  {
   "cell_type": "code",
   "execution_count": 3,
   "metadata": {},
   "outputs": [],
   "source": [
    "# Below we import some of the libraries and packages we may need\n",
    "#from sklearn.feature_extraction.text import CountVectorizer\n",
    "# splitting our data into train and test sets\n",
    "from sklearn.model_selection import train_test_split\n",
    "from sklearn.preprocessing import StandardScaler\n",
    "from sklearn.decomposition import PCA\n",
    "from sklearn.metrics import accuracy_score\n",
    "\n",
    "from sklearn.metrics import accuracy_score\n",
    "%matplotlib inline"
   ]
  },
  {
   "cell_type": "code",
   "execution_count": null,
   "metadata": {},
   "outputs": [],
   "source": []
  },
  {
   "cell_type": "code",
   "execution_count": null,
   "metadata": {},
   "outputs": [],
   "source": []
  },
  {
   "cell_type": "code",
   "execution_count": null,
   "metadata": {},
   "outputs": [],
   "source": []
  },
  {
   "cell_type": "code",
   "execution_count": 4,
   "metadata": {},
   "outputs": [],
   "source": [
    "from sklearn.preprocessing import StandardScaler\n",
    "from sklearn.decomposition import PCA\n",
    "from sklearn.tree import DecisionTreeClassifier\n",
    "from sklearn.ensemble import RandomForestClassifier\n",
    "from sklearn.neighbors import KNeighborsClassifier\n",
    "from sklearn.metrics import confusion_matrix"
   ]
  },
  {
   "cell_type": "code",
   "execution_count": 5,
   "metadata": {},
   "outputs": [
    {
     "data": {
      "text/plain": [
       "dict_keys(['explained_variance', 'r2', 'max_error', 'neg_median_absolute_error', 'neg_mean_absolute_error', 'neg_mean_squared_error', 'neg_mean_squared_log_error', 'neg_root_mean_squared_error', 'neg_mean_poisson_deviance', 'neg_mean_gamma_deviance', 'accuracy', 'roc_auc', 'roc_auc_ovr', 'roc_auc_ovo', 'roc_auc_ovr_weighted', 'roc_auc_ovo_weighted', 'balanced_accuracy', 'average_precision', 'neg_log_loss', 'neg_brier_score', 'adjusted_rand_score', 'homogeneity_score', 'completeness_score', 'v_measure_score', 'mutual_info_score', 'adjusted_mutual_info_score', 'normalized_mutual_info_score', 'fowlkes_mallows_score', 'precision', 'precision_macro', 'precision_micro', 'precision_samples', 'precision_weighted', 'recall', 'recall_macro', 'recall_micro', 'recall_samples', 'recall_weighted', 'f1', 'f1_macro', 'f1_micro', 'f1_samples', 'f1_weighted', 'jaccard', 'jaccard_macro', 'jaccard_micro', 'jaccard_samples', 'jaccard_weighted'])"
      ]
     },
     "execution_count": 5,
     "metadata": {},
     "output_type": "execute_result"
    }
   ],
   "source": [
    "from sklearn.pipeline import Pipeline\n",
    "from sklearn.model_selection import GridSearchCV\n",
    "from sklearn.metrics import SCORERS\n",
    "SCORERS.keys()"
   ]
  },
  {
   "cell_type": "code",
   "execution_count": 6,
   "metadata": {},
   "outputs": [],
   "source": [
    "# Import everything again (for completeness)\n",
    "from sklearn.preprocessing import StandardScaler\n",
    "from sklearn.decomposition import PCA\n",
    "from sklearn.tree import DecisionTreeClassifier\n",
    "from sklearn.ensemble import RandomForestClassifier\n",
    "from sklearn.neighbors import KNeighborsClassifier"
   ]
  },
  {
   "cell_type": "code",
   "execution_count": 7,
   "metadata": {},
   "outputs": [
    {
     "name": "stdout",
     "output_type": "stream",
     "text": [
      "CPU times: user 10 µs, sys: 1 µs, total: 11 µs\n",
      "Wall time: 13.6 µs\n"
     ]
    }
   ],
   "source": [
    "%%time\n",
    "# Import everything again (for completeness)\n",
    "from sklearn.preprocessing import StandardScaler\n",
    "from sklearn.decomposition import PCA\n",
    "from sklearn.tree import DecisionTreeClassifier\n",
    "from sklearn.ensemble import RandomForestClassifier\n",
    "from sklearn.neighbors import KNeighborsClassifier"
   ]
  },
  {
   "cell_type": "code",
   "execution_count": 8,
   "metadata": {},
   "outputs": [],
   "source": [
    "# Import everything again (for completeness)\n",
    "from sklearn.preprocessing import StandardScaler\n",
    "from sklearn.decomposition import PCA\n",
    "from sklearn.tree import DecisionTreeClassifier\n",
    "from sklearn.ensemble import RandomForestClassifier\n",
    "from sklearn.neighbors import KNeighborsClassifier"
   ]
  },
  {
   "cell_type": "code",
   "execution_count": 9,
   "metadata": {},
   "outputs": [],
   "source": [
    "# Import everything again (for completeness)\n",
    "from sklearn.preprocessing import StandardScaler\n",
    "from sklearn.decomposition import PCA\n",
    "from sklearn.tree import DecisionTreeClassifier\n",
    "from sklearn.ensemble import RandomForestClassifier\n",
    "from sklearn.neighbors import KNeighborsClassifier\n"
   ]
  },
  {
   "cell_type": "code",
   "execution_count": null,
   "metadata": {},
   "outputs": [],
   "source": []
  },
  {
   "cell_type": "code",
   "execution_count": null,
   "metadata": {},
   "outputs": [],
   "source": []
  },
  {
   "cell_type": "code",
   "execution_count": null,
   "metadata": {},
   "outputs": [],
   "source": []
  },
  {
   "cell_type": "code",
   "execution_count": null,
   "metadata": {},
   "outputs": [],
   "source": []
  },
  {
   "cell_type": "code",
   "execution_count": 10,
   "metadata": {},
   "outputs": [],
   "source": [
    "#%%time\n",
    "\n",
    "## To read the data in from the local machine:\n",
    "\n",
    "#X_remainder = pd.read_csv('C:\\\\Users\\\\francisco\\\\Desktop\\\\BrainStation\\\\Capstoneproject_BS\\\\FiresUSA\\\\fires_X_smote.csv')\n",
    "\n",
    "#y_remainder = pd.read_csv('C:\\\\Users\\\\francisco\\\\Desktop\\\\BrainStation\\\\Capstoneproject_BS\\\\FiresUSA\\\\fires_y_smote.csv')\n",
    "\n",
    "#X_test = pd.read_csv('C:\\\\Users\\\\francisco\\\\Desktop\\\\BrainStation\\\\Capstoneproject_BS\\\\FiresUSA\\\\fires_X.csv')\n",
    "\n",
    "#y_test = pd.read_csv('C:\\\\Users\\\\francisco\\\\Desktop\\\\BrainStation\\\\Capstoneproject_BS\\\\FiresUSA\\\\fires_X_smote_test.csv')\n",
    "\n",
    "#y = pd.read_csv('C:\\\\Users\\\\francisco\\\\Desktop\\\\BrainStation\\\\Capstoneproject_BS\\\\FiresUSA\\\\fires_X_smote_test.csv')"
   ]
  },
  {
   "cell_type": "code",
   "execution_count": 45,
   "metadata": {},
   "outputs": [],
   "source": [
    "# For the Sagemaker, we can read in the data from the S3 bucket with:\n",
    "import boto3\n",
    "import pandas as pd\n",
    "from sagemaker import get_execution_role\n",
    "\n",
    "role = get_execution_role()\n",
    "bucket='francisco-bucket'\n",
    "data_key = 'fires_y_smote.csv'\n",
    "data_location = 's3://{}/{}'.format(bucket, data_key)\n",
    "\n",
    "y_remainder = pd.read_csv(data_location)\n",
    "#\n",
    "#\n",
    "role = get_execution_role()\n",
    "bucket='francisco-bucket'\n",
    "data_key = 'fires_X_smote.csv'\n",
    "data_location = 's3://{}/{}'.format(bucket, data_key)\n",
    "\n",
    "X_remainder = pd.read_csv(data_location)\n",
    "\n",
    "\n",
    "\n",
    "#%%time\n",
    "role = get_execution_role()\n",
    "bucket='francisco-bucket'\n",
    "data_key = 'fires_X_smote_test.csv'\n",
    "data_location = 's3://{}/{}'.format(bucket, data_key)\n",
    "\n",
    "X_test = pd.read_csv(data_location)\n",
    "\n",
    "\n",
    "#%%time\n",
    "role = get_execution_role()\n",
    "bucket='francisco-bucket'\n",
    "data_key = 'fires_y_smote_test.csv'\n",
    "data_location = 's3://{}/{}'.format(bucket, data_key)\n",
    "\n",
    "y_test = pd.read_csv(data_location)\n",
    "\n",
    "\n"
   ]
  },
  {
   "cell_type": "markdown",
   "metadata": {},
   "source": []
  },
  {
   "cell_type": "code",
   "execution_count": 46,
   "metadata": {},
   "outputs": [],
   "source": [
    "#%%time\n",
    "role = get_execution_role()\n",
    "bucket='francisco-bucket'\n",
    "data_key = 'fires_y_smote_test.csv'\n",
    "data_location = 's3://{}/{}'.format(bucket, data_key)\n",
    "\n",
    "y_test = pd.read_csv(data_location)"
   ]
  },
  {
   "cell_type": "code",
   "execution_count": 47,
   "metadata": {},
   "outputs": [],
   "source": [
    "X_rf = X_remainder\n",
    "y_rf = y_remainder"
   ]
  },
  {
   "cell_type": "markdown",
   "metadata": {},
   "source": [
    "# Modelling"
   ]
  },
  {
   "cell_type": "code",
   "execution_count": null,
   "metadata": {},
   "outputs": [],
   "source": []
  },
  {
   "cell_type": "code",
   "execution_count": null,
   "metadata": {},
   "outputs": [],
   "source": []
  },
  {
   "cell_type": "markdown",
   "metadata": {},
   "source": [
    "### Random Forest"
   ]
  },
  {
   "cell_type": "markdown",
   "metadata": {},
   "source": [
    "#### Random Forest without PCA"
   ]
  },
  {
   "cell_type": "code",
   "execution_count": 16,
   "metadata": {},
   "outputs": [
    {
     "name": "stdout",
     "output_type": "stream",
     "text": [
      "Fitting 5 folds for each of 4 candidates, totalling 20 fits\n"
     ]
    },
    {
     "name": "stderr",
     "output_type": "stream",
     "text": [
      "[Parallel(n_jobs=-1)]: Using backend LokyBackend with 8 concurrent workers.\n",
      "[Parallel(n_jobs=-1)]: Done  20 out of  20 | elapsed:   10.4s finished\n",
      "/home/ec2-user/anaconda3/envs/python3/lib/python3.6/site-packages/sklearn/pipeline.py:354: DataConversionWarning: A column-vector y was passed when a 1d array was expected. Please change the shape of y to (n_samples,), for example using ravel().\n",
      "  self._final_estimator.fit(Xt, y, **fit_params)\n"
     ]
    },
    {
     "name": "stdout",
     "output_type": "stream",
     "text": [
      "CPU times: user 2.44 s, sys: 142 ms, total: 2.58 s\n",
      "Wall time: 12.8 s\n"
     ]
    }
   ],
   "source": [
    "%%time\n",
    "# Import everything again (for completeness)\n",
    "from sklearn.preprocessing import StandardScaler\n",
    "from sklearn.decomposition import PCA\n",
    "from sklearn.tree import DecisionTreeClassifier\n",
    "from sklearn.ensemble import RandomForestClassifier\n",
    "from sklearn.neighbors import KNeighborsClassifier\n",
    "\n",
    "# Make the pipeline\n",
    "# Note that this is more of a placeholder, grid search will only look over the values\n",
    "# in the param grid, this more to setup the pipeline step names\n",
    "\n",
    "estimators = [('dimensionality', PCA()),\n",
    "              ('model', RandomForestClassifier())]\n",
    "\n",
    "pipe = Pipeline(estimators)\n",
    "\n",
    "param_grid = [\n",
    "{'dimensionality':[None],\n",
    "'model': [RandomForestClassifier(n_estimators=100)],\n",
    "'model__max_features': [3, 4, 5, 6]}\n",
    "#np.arange(1, 20)\n",
    "]\n",
    "grid = GridSearchCV(pipe, param_grid, cv=5, verbose=1, n_jobs=-1)\n",
    "fittedgrid = grid.fit(X_rf, y_rf)"
   ]
  },
  {
   "cell_type": "code",
   "execution_count": 17,
   "metadata": {},
   "outputs": [
    {
     "data": {
      "text/plain": [
       "Pipeline(memory=None,\n",
       "         steps=[('dimensionality', None),\n",
       "                ('model',\n",
       "                 RandomForestClassifier(bootstrap=True, ccp_alpha=0.0,\n",
       "                                        class_weight=None, criterion='gini',\n",
       "                                        max_depth=None, max_features=3,\n",
       "                                        max_leaf_nodes=None, max_samples=None,\n",
       "                                        min_impurity_decrease=0.0,\n",
       "                                        min_impurity_split=None,\n",
       "                                        min_samples_leaf=1, min_samples_split=2,\n",
       "                                        min_weight_fraction_leaf=0.0,\n",
       "                                        n_estimators=100, n_jobs=None,\n",
       "                                        oob_score=False, random_state=None,\n",
       "                                        verbose=0, warm_start=False))],\n",
       "         verbose=False)"
      ]
     },
     "execution_count": 17,
     "metadata": {},
     "output_type": "execute_result"
    }
   ],
   "source": [
    "# What is the best pipeline?\n",
    "fittedgrid.best_estimator_"
   ]
  },
  {
   "cell_type": "code",
   "execution_count": 18,
   "metadata": {},
   "outputs": [
    {
     "data": {
      "text/plain": [
       "0.45156482861400893"
      ]
     },
     "execution_count": 18,
     "metadata": {},
     "output_type": "execute_result"
    }
   ],
   "source": [
    "# Score\n",
    "fittedgrid.score(X_test, y_test)"
   ]
  },
  {
   "cell_type": "code",
   "execution_count": 19,
   "metadata": {},
   "outputs": [
    {
     "data": {
      "text/plain": [
       "1.0"
      ]
     },
     "execution_count": 19,
     "metadata": {},
     "output_type": "execute_result"
    }
   ],
   "source": [
    "# Accuracy\n",
    "fittedgrid.score(X_rf, y_rf)"
   ]
  },
  {
   "cell_type": "markdown",
   "metadata": {},
   "source": [
    "We can store the accuracies and scores in a dictionary."
   ]
  },
  {
   "cell_type": "code",
   "execution_count": 52,
   "metadata": {},
   "outputs": [],
   "source": [
    "acc_dic = {}\n",
    "acc_dic['RF_without_PCA'] = ('Acc: 0.45', 'Score: 1.0' )"
   ]
  },
  {
   "cell_type": "markdown",
   "metadata": {},
   "source": []
  },
  {
   "cell_type": "code",
   "execution_count": 21,
   "metadata": {},
   "outputs": [
    {
     "data": {
      "text/plain": [
       "array([0, 6, 7, ..., 8, 7, 8])"
      ]
     },
     "execution_count": 21,
     "metadata": {},
     "output_type": "execute_result"
    }
   ],
   "source": [
    "# Let's get the prediction vector\n",
    "y_pred = fittedgrid.predict(X_test)\n",
    "y_pred"
   ]
  },
  {
   "cell_type": "code",
   "execution_count": 22,
   "metadata": {},
   "outputs": [
    {
     "data": {
      "image/png": "[encoded data removed]",
      "text/plain": [
       "<Figure size 720x720 with 1 Axes>"
      ]
     },
     "metadata": {
      "needs_background": "light"
     },
     "output_type": "display_data"
    },
    {
     "name": "stdout",
     "output_type": "stream",
     "text": [
      "CPU times: user 649 ms, sys: 23.9 ms, total: 673 ms\n",
      "Wall time: 1.09 s\n"
     ]
    }
   ],
   "source": [
    "%%time\n",
    "from sklearn.metrics import confusion_matrix\n",
    "\n",
    "# Let's get the prediction vector\n",
    "y_pred = fittedgrid.predict(X_test)\n",
    "\n",
    "y_pred = fittedgrid.predict(X_test)\n",
    "\n",
    "conf_mat = confusion_matrix(y_test, y_pred)\n",
    "plt.figure(figsize = (10,10))\n",
    "sns.heatmap(conf_mat,\n",
    "            annot=True,\n",
    "            fmt=\"g\",\n",
    "            cbar=False\n",
    "           )\n",
    "plt.title('Model Confusion Matrix',size = 25,y=1.01)\n",
    "plt.show()"
   ]
  },
  {
   "cell_type": "code",
   "execution_count": null,
   "metadata": {},
   "outputs": [],
   "source": []
  },
  {
   "cell_type": "code",
   "execution_count": 23,
   "metadata": {},
   "outputs": [
    {
     "name": "stdout",
     "output_type": "stream",
     "text": [
      "Recall: [0.37777778 0.19607843 0.14102564 0.4730832  0.24311927 0.30769231\n",
      " 0.69193154 0.37291667 0.87610619 0.         0.34782609 0.05633803\n",
      " 0.2       ]\n",
      "\n",
      "Precision: [0.42265193 0.21505376 0.10679612 0.4730832  0.25728155 0.2\n",
      " 0.61925602 0.4811828  0.71480144 0.         0.19753086 0.05797101\n",
      " 0.2       ]\n",
      "\n",
      "Recall mean: 0.32953039524138256\n",
      "\n",
      "Precision mean: 0.30350836156717825\n"
     ]
    }
   ],
   "source": [
    "recall = np.diag(conf_mat)/np.sum(conf_mat, axis = 1)\n",
    "precision = np.diag(conf_mat)/np.sum(conf_mat, axis = 0)\n",
    "\n",
    "print('Recall:', recall)\n",
    "\n",
    "print('')\n",
    "\n",
    "print('Precision:', precision)\n",
    "\n",
    "print('')\n",
    "\n",
    "print('Recall mean:', np.mean(recall))\n",
    "\n",
    "print('')\n",
    "\n",
    "print('Precision mean:', np.mean(precision))"
   ]
  },
  {
   "cell_type": "markdown",
   "metadata": {},
   "source": [
    "Below we will determine wich features have the most predictive power."
   ]
  },
  {
   "cell_type": "code",
   "execution_count": 24,
   "metadata": {},
   "outputs": [
    {
     "data": {
      "text/plain": [
       "array([6.76223322e-02, 9.42201811e-02, 9.76100848e-02, 9.09288621e-02,\n",
       "       8.74697946e-02, 7.75660689e-02, 1.29640172e-02, 4.02748939e-03,\n",
       "       1.15828586e-02, 1.26701309e-02, 3.82691578e-04, 1.06175953e-02,\n",
       "       1.03961740e-03, 1.51927722e-03, 1.18142895e-04, 1.93481479e-03,\n",
       "       5.10531961e-03, 6.64899612e-04, 5.68687277e-04, 3.11751539e-03,\n",
       "       1.67515180e-04, 5.46709032e-04, 1.15403381e-02, 2.49360756e-03,\n",
       "       7.29424416e-04, 1.70481921e-03, 1.13148072e-03, 4.94318925e-04,\n",
       "       4.86118989e-04, 3.20842301e-03, 5.77520182e-04, 1.71033872e-02,\n",
       "       2.20439700e-03, 0.00000000e+00, 5.43168384e-04, 2.37569761e-03,\n",
       "       1.10450896e-03, 3.53703329e-03, 3.78043588e-04, 7.95108501e-04,\n",
       "       5.99469032e-03, 1.56787260e-03, 9.99125427e-04, 5.80948592e-04,\n",
       "       2.26599932e-03, 1.11773248e-04, 2.51027054e-02, 2.48288304e-02,\n",
       "       1.13532596e-02, 1.83298314e-03, 2.63104262e-03, 1.16730185e-03,\n",
       "       2.59206267e-04, 1.79593265e-02, 6.48170734e-03, 0.00000000e+00,\n",
       "       1.16103703e-04, 0.00000000e+00, 7.38349536e-04, 2.33149356e-02,\n",
       "       4.27415528e-04, 2.88367627e-03, 6.19268645e-04, 1.74167040e-02,\n",
       "       5.50840856e-03, 2.34445126e-03, 2.00005121e-04, 1.09979973e-02,\n",
       "       2.89717092e-03, 1.16875126e-02, 2.41683622e-03, 5.65210638e-03,\n",
       "       1.14754386e-02, 3.10641690e-03, 6.19200481e-04, 0.00000000e+00,\n",
       "       0.00000000e+00, 1.45716672e-02, 1.27619755e-02, 1.19389895e-04,\n",
       "       6.64151615e-04, 3.74292964e-03, 3.19880950e-04, 5.17614934e-04,\n",
       "       2.93437407e-04, 3.51789438e-03, 2.66316815e-03, 0.00000000e+00,\n",
       "       9.44672640e-04, 1.86235914e-03, 2.21181129e-03, 4.23573564e-03,\n",
       "       1.02243446e-03, 4.07126117e-03, 7.17603598e-03, 6.90027827e-03,\n",
       "       2.54085524e-03, 1.82979105e-03, 4.27948006e-04, 3.12087920e-03,\n",
       "       3.78578065e-03, 1.22867542e-03, 9.71638198e-03, 4.32345825e-04,\n",
       "       4.83084905e-03, 4.41758607e-03, 1.05280039e-03, 2.21930361e-03,\n",
       "       2.72545166e-05, 4.78055185e-03, 1.28904402e-02, 8.57515480e-03,\n",
       "       9.73597318e-03, 3.61310102e-03, 3.36526441e-03, 3.08829478e-05,\n",
       "       3.15749614e-03, 4.98780625e-03, 5.41840027e-03, 1.80700884e-03])"
      ]
     },
     "execution_count": 24,
     "metadata": {},
     "output_type": "execute_result"
    }
   ],
   "source": [
    "#fittedgrid.best_estimator_.feature_importances_()\n",
    "\n",
    "fittedgrid.best_estimator_[1].feature_importances_"
   ]
  },
  {
   "cell_type": "code",
   "execution_count": null,
   "metadata": {},
   "outputs": [],
   "source": []
  },
  {
   "cell_type": "markdown",
   "metadata": {},
   "source": [
    "#### Random Forest with PCA"
   ]
  },
  {
   "cell_type": "code",
   "execution_count": 48,
   "metadata": {},
   "outputs": [
    {
     "name": "stdout",
     "output_type": "stream",
     "text": [
      "Fitting 5 folds for each of 476 candidates, totalling 2380 fits\n"
     ]
    },
    {
     "name": "stderr",
     "output_type": "stream",
     "text": [
      "[Parallel(n_jobs=-1)]: Using backend LokyBackend with 8 concurrent workers.\n",
      "[Parallel(n_jobs=-1)]: Done  34 tasks      | elapsed:    1.2s\n",
      "/home/ec2-user/anaconda3/envs/python3/lib/python3.6/site-packages/joblib/externals/loky/process_executor.py:706: UserWarning: A worker stopped while some jobs were given to the executor. This can be caused by a too short worker timeout or by a memory leak.\n",
      "  \"timeout or by a memory leak.\", UserWarning\n",
      "[Parallel(n_jobs=-1)]: Done 184 tasks      | elapsed:  2.6min\n",
      "[Parallel(n_jobs=-1)]: Done 434 tasks      | elapsed:  8.4min\n",
      "[Parallel(n_jobs=-1)]: Done 784 tasks      | elapsed: 16.3min\n",
      "[Parallel(n_jobs=-1)]: Done 1234 tasks      | elapsed: 26.7min\n",
      "[Parallel(n_jobs=-1)]: Done 1784 tasks      | elapsed: 39.1min\n",
      "[Parallel(n_jobs=-1)]: Done 2380 out of 2380 | elapsed: 52.2min finished\n",
      "/home/ec2-user/anaconda3/envs/python3/lib/python3.6/site-packages/sklearn/pipeline.py:354: DataConversionWarning: A column-vector y was passed when a 1d array was expected. Please change the shape of y to (n_samples,), for example using ravel().\n",
      "  self._final_estimator.fit(Xt, y, **fit_params)\n"
     ]
    },
    {
     "name": "stdout",
     "output_type": "stream",
     "text": [
      "CPU times: user 24.4 s, sys: 476 ms, total: 24.9 s\n",
      "Wall time: 52min 26s\n"
     ]
    }
   ],
   "source": [
    "%%time\n",
    "# Import everything again (for completeness)\n",
    "from sklearn.preprocessing import StandardScaler\n",
    "from sklearn.decomposition import PCA\n",
    "from sklearn.tree import DecisionTreeClassifier\n",
    "from sklearn.ensemble import RandomForestClassifier\n",
    "from sklearn.neighbors import KNeighborsClassifier\n",
    "\n",
    "# Make the pipeline\n",
    "# Note that this is more of a placeholder, grid search will only look over the values\n",
    "# in the param grid, this more to setup the pipeline step names\n",
    "\n",
    "estimators = [('dimensionality', PCA()),\n",
    "              ('model', RandomForestClassifier())]\n",
    "\n",
    "pipe = Pipeline(estimators)\n",
    "\n",
    "param_grid = [\n",
    "{'dimensionality':[PCA()],\n",
    "'model': [RandomForestClassifier(n_estimators=100)],\n",
    "'dimensionality__n_components':np.arange(1,min(X_rf.shape)),\n",
    "'model__max_features': [3, 4, 5, 6]}\n",
    "#np.arange(1, 20)\n",
    "]\n",
    "grid = GridSearchCV(pipe, param_grid, cv=5, verbose=1, n_jobs=-1)\n",
    "fittedgrid = grid.fit(X_rf, y_rf)"
   ]
  },
  {
   "cell_type": "code",
   "execution_count": 49,
   "metadata": {},
   "outputs": [
    {
     "name": "stdout",
     "output_type": "stream",
     "text": [
      "Best estimator: Pipeline(memory=None,\n",
      "         steps=[('dimensionality',\n",
      "                 PCA(copy=True, iterated_power='auto', n_components=109,\n",
      "                     random_state=None, svd_solver='auto', tol=0.0,\n",
      "                     whiten=False)),\n",
      "                ('model',\n",
      "                 RandomForestClassifier(bootstrap=True, ccp_alpha=0.0,\n",
      "                                        class_weight=None, criterion='gini',\n",
      "                                        max_depth=None, max_features=6,\n",
      "                                        max_leaf_nodes=None, max_samples=None,\n",
      "                                        min_impurity_decrease=0.0,\n",
      "                                        min_impurity_split=None,\n",
      "                                        min_samples_leaf=1, min_samples_split=2,\n",
      "                                        min_weight_fraction_leaf=0.0,\n",
      "                                        n_estimators=100, n_jobs=None,\n",
      "                                        oob_score=False, random_state=None,\n",
      "                                        verbose=0, warm_start=False))],\n",
      "         verbose=False)\n",
      "Accuracy: 0.4195230998509687\n",
      "\n",
      "Score: 1.0\n"
     ]
    }
   ],
   "source": [
    "# What is the best pipeline?\n",
    "print('Best estimator:', fittedgrid.best_estimator_)\n",
    "\n",
    "# Accuracy\n",
    "print('Accuracy:', fittedgrid.score(X_test, y_test))\n",
    "\n",
    "print('')\n",
    "\n",
    "# Score\n",
    "print('Score:', fittedgrid.score(X_rf, y_rf))"
   ]
  },
  {
   "cell_type": "code",
   "execution_count": 53,
   "metadata": {},
   "outputs": [],
   "source": [
    "acc_dic['RF_with_PCA'] = ('Acc: 0.41', 'Score: 1.0' )"
   ]
  },
  {
   "cell_type": "markdown",
   "metadata": {},
   "source": [
    "Let us see the confusion matrix."
   ]
  },
  {
   "cell_type": "code",
   "execution_count": null,
   "metadata": {},
   "outputs": [],
   "source": [
    "# Let's get the prediction vector\n",
    "y_pred = fittedgrid.predict(X_test)\n",
    "\n",
    "from sklearn.metrics import confusion_matrix\n",
    "\n",
    "# Let's get the prediction vector\n",
    "y_pred = fittedgrid.predict(X_test)\n",
    "\n",
    "y_pred = fittedgrid.predict(X_test)\n",
    "\n",
    "conf_mat = confusion_matrix(y_test, y_pred)\n",
    "plt.figure(figsize = (10,10))\n",
    "sns.heatmap(conf_mat,\n",
    "            annot=True,\n",
    "            fmt=\"g\",\n",
    "            cbar=False\n",
    "           )\n",
    "plt.title('Model Confusion Matrix',size = 25,y=1.01)\n",
    "plt.show()"
   ]
  },
  {
   "cell_type": "code",
   "execution_count": null,
   "metadata": {},
   "outputs": [],
   "source": []
  },
  {
   "cell_type": "markdown",
   "metadata": {},
   "source": [
    "From the confusion matrix we can see recall and precision of this model "
   ]
  },
  {
   "cell_type": "code",
   "execution_count": null,
   "metadata": {},
   "outputs": [],
   "source": [
    "recall = np.diag(conf_mat)/np.sum(conf_mat, axis = 1)\n",
    "precision = np.diag(conf_mat)/np.sum(conf_mat, axis = 0)\n",
    "\n",
    "print('Recall:', recall)\n",
    "\n",
    "print('')\n",
    "\n",
    "print('Precision:', precision)\n",
    "\n",
    "print('')\n",
    "\n",
    "print('Recall mean:', np.mean(recall))\n",
    "\n",
    "print('')\n",
    "\n",
    "print('Precision mean:', np.mean(precision))"
   ]
  },
  {
   "cell_type": "markdown",
   "metadata": {},
   "source": [
    "Below we can see which features are most important"
   ]
  },
  {
   "cell_type": "code",
   "execution_count": null,
   "metadata": {},
   "outputs": [],
   "source": [
    "#fittedgrid.best_estimator_.feature_importances_()\n",
    "\n",
    "fittedgrid.best_estimator_[1].feature_importances_"
   ]
  },
  {
   "cell_type": "code",
   "execution_count": null,
   "metadata": {},
   "outputs": [],
   "source": []
  },
  {
   "cell_type": "markdown",
   "metadata": {},
   "source": [
    "### Decision Tree"
   ]
  },
  {
   "cell_type": "markdown",
   "metadata": {},
   "source": [
    "#### Without PCA"
   ]
  },
  {
   "cell_type": "code",
   "execution_count": 15,
   "metadata": {},
   "outputs": [
    {
     "name": "stdout",
     "output_type": "stream",
     "text": [
      "Fitting 5 folds for each of 24 candidates, totalling 120 fits\n"
     ]
    },
    {
     "name": "stderr",
     "output_type": "stream",
     "text": [
      "[Parallel(n_jobs=-1)]: Using backend LokyBackend with 8 concurrent workers.\n",
      "[Parallel(n_jobs=-1)]: Done  34 tasks      | elapsed:    1.6s\n",
      "[Parallel(n_jobs=-1)]: Done 120 out of 120 | elapsed:    5.1s finished\n"
     ]
    },
    {
     "name": "stdout",
     "output_type": "stream",
     "text": [
      "CPU times: user 870 ms, sys: 70.8 ms, total: 940 ms\n",
      "Wall time: 5.4 s\n"
     ]
    }
   ],
   "source": [
    "%%time\n",
    "# Import everything again (for completeness)\n",
    "from sklearn.preprocessing import StandardScaler\n",
    "from sklearn.decomposition import PCA\n",
    "from sklearn.tree import DecisionTreeClassifier\n",
    "from sklearn.ensemble import RandomForestClassifier\n",
    "from sklearn.neighbors import KNeighborsClassifier\n",
    "\n",
    "# Make the pipeline\n",
    "# Note that this is more of a placeholder, grid search will only look over the values\n",
    "# in the param grid, this more to setup the pipeline step names\n",
    "\n",
    "estimators = [('dimensionality', PCA()),\n",
    "              ('model', DecisionTreeClassifier())]\n",
    "\n",
    "pipe = Pipeline(estimators)\n",
    "\n",
    "param_grid = [\n",
    "{'dimensionality':[None],\n",
    " 'model': [DecisionTreeClassifier()],\n",
    " 'model__max_depth':np.arange(1, 25)}\n",
    "]\n",
    "grid = GridSearchCV(pipe, param_grid, cv=5, verbose=1, n_jobs=-1)\n",
    "fittedgrid = grid.fit(X_rf, y_rf)"
   ]
  },
  {
   "cell_type": "code",
   "execution_count": null,
   "metadata": {},
   "outputs": [],
   "source": []
  },
  {
   "cell_type": "code",
   "execution_count": 16,
   "metadata": {},
   "outputs": [
    {
     "name": "stdout",
     "output_type": "stream",
     "text": [
      "Pipeline(memory=None,\n",
      "         steps=[('dimensionality', None),\n",
      "                ('model',\n",
      "                 DecisionTreeClassifier(ccp_alpha=0.0, class_weight=None,\n",
      "                                        criterion='gini', max_depth=24,\n",
      "                                        max_features=None, max_leaf_nodes=None,\n",
      "                                        min_impurity_decrease=0.0,\n",
      "                                        min_impurity_split=None,\n",
      "                                        min_samples_leaf=1, min_samples_split=2,\n",
      "                                        min_weight_fraction_leaf=0.0,\n",
      "                                        presort='deprecated', random_state=None,\n",
      "                                        splitter='best'))],\n",
      "         verbose=False)\n",
      "Accuracy: 0.36363636363636365\n",
      "\n",
      "Score: 0.9127491538172245\n"
     ]
    }
   ],
   "source": [
    "# What is the best pipeline?\n",
    "print(fittedgrid.best_estimator_)\n",
    "\n",
    "# Accuracy\n",
    "print('Accuracy:', fittedgrid.score(X_test, y_test))\n",
    "\n",
    "print('')\n",
    "\n",
    "# Score\n",
    "print('Score:', fittedgrid.score(X_rf, y_rf))"
   ]
  },
  {
   "cell_type": "code",
   "execution_count": 55,
   "metadata": {},
   "outputs": [],
   "source": [
    "acc_dic['DT_without_PCA'] = ('Acc: 0.36', 'Score: 0.91' )\n"
   ]
  },
  {
   "cell_type": "code",
   "execution_count": 17,
   "metadata": {},
   "outputs": [
    {
     "data": {
      "image/png": "[encoded data removed]",
      "text/plain": [
       "<Figure size 720x720 with 1 Axes>"
      ]
     },
     "metadata": {
      "needs_background": "light"
     },
     "output_type": "display_data"
    }
   ],
   "source": [
    "# Let's get the prediction vector\n",
    "y_pred = fittedgrid.predict(X_test)\n",
    "\n",
    "from sklearn.metrics import confusion_matrix\n",
    "\n",
    "# Let's get the prediction vector\n",
    "y_pred = fittedgrid.predict(X_test)\n",
    "\n",
    "y_pred = fittedgrid.predict(X_test)\n",
    "\n",
    "conf_mat = confusion_matrix(y_test, y_pred)\n",
    "plt.figure(figsize = (10,10))\n",
    "sns.heatmap(conf_mat,\n",
    "            annot=True,\n",
    "            fmt=\"g\",\n",
    "            cbar=False\n",
    "           )\n",
    "plt.title('Model Confusion Matrix',size = 25,y=1.01)\n",
    "plt.show()"
   ]
  },
  {
   "cell_type": "code",
   "execution_count": 18,
   "metadata": {},
   "outputs": [
    {
     "name": "stdout",
     "output_type": "stream",
     "text": [
      "Recall: [0.36296296 0.2745098  0.14102564 0.28548124 0.21559633 0.07692308\n",
      " 0.55256724 0.2875     0.80530973 0.05555556 0.26086957 0.09859155\n",
      " 0.2       ]\n",
      "\n",
      "Precision: [0.375      0.15053763 0.08396947 0.44303797 0.21171171 0.07142857\n",
      " 0.57360406 0.38333333 0.49726776 0.04166667 0.16901408 0.06086957\n",
      " 0.07142857]\n",
      "\n",
      "Recall mean: 0.27822251512757923\n",
      "\n",
      "Precision mean: 0.2409899538085259\n"
     ]
    }
   ],
   "source": [
    "recall = np.diag(conf_mat)/np.sum(conf_mat, axis = 1)\n",
    "precision = np.diag(conf_mat)/np.sum(conf_mat, axis = 0)\n",
    "\n",
    "print('Recall:', recall)\n",
    "\n",
    "print('')\n",
    "\n",
    "print('Precision:', precision)\n",
    "\n",
    "print('')\n",
    "\n",
    "print('Recall mean:', np.mean(recall))\n",
    "\n",
    "print('')\n",
    "\n",
    "print('Precision mean:', np.mean(precision))\n",
    "\n",
    "#fittedgrid.best_estimator_.feature_importances_()"
   ]
  },
  {
   "cell_type": "code",
   "execution_count": 19,
   "metadata": {},
   "outputs": [
    {
     "data": {
      "text/plain": [
       "array([5.56852338e-02, 9.16890864e-02, 1.09590692e-01, 8.77317484e-02,\n",
       "       1.32078986e-01, 7.32144705e-02, 2.77055342e-02, 0.00000000e+00,\n",
       "       3.24032806e-04, 1.35819181e-03, 4.19183983e-04, 5.69902492e-03,\n",
       "       0.00000000e+00, 0.00000000e+00, 3.43355445e-04, 0.00000000e+00,\n",
       "       3.83176658e-04, 0.00000000e+00, 1.29135233e-04, 6.62054598e-03,\n",
       "       4.34344005e-05, 2.36810039e-04, 3.73424088e-02, 4.48271538e-04,\n",
       "       0.00000000e+00, 0.00000000e+00, 1.15141754e-04, 0.00000000e+00,\n",
       "       4.65163633e-04, 6.82721142e-03, 0.00000000e+00, 6.94330877e-03,\n",
       "       3.30324705e-04, 0.00000000e+00, 0.00000000e+00, 0.00000000e+00,\n",
       "       0.00000000e+00, 5.91727958e-03, 0.00000000e+00, 5.72562822e-05,\n",
       "       1.84414519e-02, 0.00000000e+00, 2.73622814e-04, 1.25186758e-04,\n",
       "       5.55401216e-04, 0.00000000e+00, 3.40831034e-02, 1.70509500e-02,\n",
       "       6.21477682e-03, 1.06214831e-03, 1.23123453e-03, 2.71867242e-04,\n",
       "       1.85285582e-04, 4.67233208e-02, 4.38739981e-03, 0.00000000e+00,\n",
       "       0.00000000e+00, 0.00000000e+00, 1.88730593e-04, 8.84102559e-03,\n",
       "       0.00000000e+00, 1.13757699e-03, 4.73646908e-04, 2.49093479e-02,\n",
       "       1.65706984e-03, 1.53527488e-03, 0.00000000e+00, 4.71586872e-03,\n",
       "       6.60649410e-05, 7.73558931e-03, 5.52075963e-04, 1.25770947e-03,\n",
       "       1.25467047e-02, 1.22265363e-03, 3.96953813e-04, 0.00000000e+00,\n",
       "       0.00000000e+00, 1.23842200e-02, 1.38251924e-02, 0.00000000e+00,\n",
       "       0.00000000e+00, 1.21368804e-03, 2.16546196e-04, 1.18936585e-04,\n",
       "       1.24004960e-04, 3.30172438e-04, 1.21119059e-04, 0.00000000e+00,\n",
       "       1.14667100e-03, 5.43852276e-04, 1.17448784e-04, 3.85939013e-03,\n",
       "       1.17615615e-04, 3.11843154e-03, 2.78101833e-03, 4.18222301e-03,\n",
       "       1.32126311e-03, 1.29775116e-03, 6.60649410e-05, 5.55492249e-04,\n",
       "       1.80387111e-03, 4.56997049e-04, 2.49483644e-02, 1.07172015e-04,\n",
       "       1.95339304e-03, 9.87360353e-04, 1.58555858e-04, 0.00000000e+00,\n",
       "       0.00000000e+00, 1.54151529e-04, 1.79310290e-02, 1.95932238e-02,\n",
       "       8.48045839e-03, 1.97543711e-03, 1.96813926e-03, 0.00000000e+00,\n",
       "       2.35814849e-03, 7.64686038e-03, 1.12712492e-02, 1.22343536e-03])"
      ]
     },
     "execution_count": 19,
     "metadata": {},
     "output_type": "execute_result"
    }
   ],
   "source": [
    "fittedgrid.best_estimator_[1].feature_importances_"
   ]
  },
  {
   "cell_type": "code",
   "execution_count": null,
   "metadata": {},
   "outputs": [],
   "source": []
  },
  {
   "cell_type": "code",
   "execution_count": null,
   "metadata": {},
   "outputs": [],
   "source": []
  },
  {
   "cell_type": "markdown",
   "metadata": {},
   "source": [
    "#### With PCA"
   ]
  },
  {
   "cell_type": "code",
   "execution_count": 20,
   "metadata": {},
   "outputs": [
    {
     "name": "stdout",
     "output_type": "stream",
     "text": [
      "Fitting 5 folds for each of 2856 candidates, totalling 14280 fits\n"
     ]
    },
    {
     "name": "stderr",
     "output_type": "stream",
     "text": [
      "[Parallel(n_jobs=-1)]: Using backend LokyBackend with 8 concurrent workers.\n",
      "[Parallel(n_jobs=-1)]: Done  34 tasks      | elapsed:    1.0s\n",
      "[Parallel(n_jobs=-1)]: Done 184 tasks      | elapsed:    4.9s\n",
      "[Parallel(n_jobs=-1)]: Done 434 tasks      | elapsed:   12.8s\n",
      "[Parallel(n_jobs=-1)]: Done 784 tasks      | elapsed:   26.7s\n",
      "[Parallel(n_jobs=-1)]: Done 1234 tasks      | elapsed:   50.8s\n",
      "[Parallel(n_jobs=-1)]: Done 1784 tasks      | elapsed:  1.4min\n",
      "[Parallel(n_jobs=-1)]: Done 2434 tasks      | elapsed:  2.3min\n",
      "[Parallel(n_jobs=-1)]: Done 3184 tasks      | elapsed:  3.5min\n",
      "[Parallel(n_jobs=-1)]: Done 4034 tasks      | elapsed:  5.3min\n",
      "[Parallel(n_jobs=-1)]: Done 4984 tasks      | elapsed:  7.7min\n",
      "[Parallel(n_jobs=-1)]: Done 6034 tasks      | elapsed: 10.9min\n",
      "[Parallel(n_jobs=-1)]: Done 7184 tasks      | elapsed: 15.1min\n",
      "[Parallel(n_jobs=-1)]: Done 8434 tasks      | elapsed: 20.4min\n",
      "[Parallel(n_jobs=-1)]: Done 9784 tasks      | elapsed: 27.1min\n",
      "[Parallel(n_jobs=-1)]: Done 11234 tasks      | elapsed: 35.3min\n",
      "[Parallel(n_jobs=-1)]: Done 12784 tasks      | elapsed: 44.2min\n",
      "[Parallel(n_jobs=-1)]: Done 14280 out of 14280 | elapsed: 53.2min finished\n"
     ]
    },
    {
     "name": "stdout",
     "output_type": "stream",
     "text": [
      "CPU times: user 1min 12s, sys: 1.84 s, total: 1min 14s\n",
      "Wall time: 53min 14s\n"
     ]
    }
   ],
   "source": [
    "%%time\n",
    "# Import everything again (for completeness)\n",
    "from sklearn.preprocessing import StandardScaler\n",
    "from sklearn.decomposition import PCA\n",
    "from sklearn.tree import DecisionTreeClassifier\n",
    "from sklearn.ensemble import RandomForestClassifier\n",
    "from sklearn.neighbors import KNeighborsClassifier\n",
    "\n",
    "# Make the pipeline\n",
    "# Note that this is more of a placeholder, grid search will only look over the values\n",
    "# in the param grid, this more to setup the pipeline step names\n",
    "\n",
    "estimators = [('dimensionality', PCA()),\n",
    "              ('model', DecisionTreeClassifier())]\n",
    "\n",
    "pipe = Pipeline(estimators)\n",
    "\n",
    "param_grid = [\n",
    "{'dimensionality':[PCA()],\n",
    " 'model': [DecisionTreeClassifier()],\n",
    " 'dimensionality__n_components':np.arange(1,min(X_rf.shape)),\n",
    " 'model__max_depth':np.arange(1, 25)}\n",
    "]\n",
    "grid = GridSearchCV(pipe, param_grid, cv=5, verbose=1, n_jobs=-1)\n",
    "fittedgrid = grid.fit(X_rf, y_rf)"
   ]
  },
  {
   "cell_type": "code",
   "execution_count": 21,
   "metadata": {},
   "outputs": [
    {
     "name": "stdout",
     "output_type": "stream",
     "text": [
      "Accuracy: 0.3323397913561848\n",
      "\n",
      "Score: 0.911352280664052\n"
     ]
    }
   ],
   "source": [
    "# What is the best pipeline?\n",
    "print('Best estimator:', fittedgrid.best_estimator_)\n",
    "\n",
    "# Accuracy\n",
    "print('Accuracy:', fittedgrid.score(X_test, y_test))\n",
    "\n",
    "print('')\n",
    "\n",
    "# Score\n",
    "print('Score:', fittedgrid.score(X_rf, y_rf))"
   ]
  },
  {
   "cell_type": "code",
   "execution_count": 56,
   "metadata": {},
   "outputs": [],
   "source": [
    "acc_dic['DT_with_PCA'] = ('Acc: 0.33', 'Score: 0.91' )"
   ]
  },
  {
   "cell_type": "code",
   "execution_count": 22,
   "metadata": {},
   "outputs": [
    {
     "data": {
      "image/png": "[encoded data removed]",
      "text/plain": [
       "<Figure size 720x720 with 1 Axes>"
      ]
     },
     "metadata": {
      "needs_background": "light"
     },
     "output_type": "display_data"
    }
   ],
   "source": [
    "# Let's get the prediction vector\n",
    "y_pred = fittedgrid.predict(X_test)\n",
    "\n",
    "from sklearn.metrics import confusion_matrix\n",
    "\n",
    "# Let's get the prediction vector\n",
    "y_pred = fittedgrid.predict(X_test)\n",
    "\n",
    "y_pred = fittedgrid.predict(X_test)\n",
    "\n",
    "conf_mat = confusion_matrix(y_test, y_pred)\n",
    "plt.figure(figsize = (10,10))\n",
    "sns.heatmap(conf_mat,\n",
    "            annot=True,\n",
    "            fmt=\"g\",\n",
    "            cbar=False\n",
    "           )\n",
    "plt.title('Model Confusion Matrix',size = 25,y=1.01)\n",
    "plt.show()"
   ]
  },
  {
   "cell_type": "code",
   "execution_count": 23,
   "metadata": {},
   "outputs": [
    {
     "name": "stdout",
     "output_type": "stream",
     "text": [
      "Recall: [0.27901235 0.18627451 0.12820513 0.27569331 0.20183486 0.07692308\n",
      " 0.50366748 0.26666667 0.80973451 0.         0.13043478 0.16901408\n",
      " 0.2       ]\n",
      "\n",
      "Precision: [0.29350649 0.12179487 0.05714286 0.41119221 0.19730942 0.04545455\n",
      " 0.54068241 0.37647059 0.68796992 0.         0.07894737 0.05940594\n",
      " 0.125     ]\n",
      "\n",
      "Recall mean: 0.24826621256139805\n",
      "\n",
      "Precision mean: 0.23037512583166522\n"
     ]
    }
   ],
   "source": [
    "recall = np.diag(conf_mat)/np.sum(conf_mat, axis = 1)\n",
    "precision = np.diag(conf_mat)/np.sum(conf_mat, axis = 0)\n",
    "\n",
    "print('Recall:', recall)\n",
    "\n",
    "print('')\n",
    "\n",
    "print('Precision:', precision)\n",
    "\n",
    "print('')\n",
    "\n",
    "print('Recall mean:', np.mean(recall))\n",
    "\n",
    "print('')\n",
    "\n",
    "print('Precision mean:', np.mean(precision))"
   ]
  },
  {
   "cell_type": "code",
   "execution_count": 24,
   "metadata": {},
   "outputs": [
    {
     "data": {
      "text/plain": [
       "array([0.04554032, 0.04302495, 0.0239309 , 0.06327267, 0.00320138,\n",
       "       0.01714726, 0.04007868, 0.0116686 , 0.01479698, 0.00725267,\n",
       "       0.00595489, 0.02130571, 0.00966148, 0.00531503, 0.00612734,\n",
       "       0.00516553, 0.00559568, 0.01396491, 0.00320327, 0.00531359,\n",
       "       0.02087686, 0.00734101, 0.00397582, 0.00763874, 0.00560571,\n",
       "       0.00463381, 0.00472071, 0.00196587, 0.00888436, 0.00685557,\n",
       "       0.00530839, 0.00711499, 0.00833487, 0.01070922, 0.00525643,\n",
       "       0.00551879, 0.01064777, 0.00259941, 0.00848588, 0.0049803 ,\n",
       "       0.00908354, 0.00695212, 0.00822254, 0.0092321 , 0.01049556,\n",
       "       0.00645105, 0.00590012, 0.00529325, 0.00575918, 0.00980005,\n",
       "       0.00435777, 0.00617293, 0.00342958, 0.00337258, 0.00541464,\n",
       "       0.00440162, 0.00551475, 0.01526668, 0.00559634, 0.00477813,\n",
       "       0.01081262, 0.00913667, 0.01414081, 0.00482683, 0.007728  ,\n",
       "       0.00390544, 0.0036144 , 0.0060164 , 0.0049893 , 0.00569987,\n",
       "       0.00792685, 0.01102649, 0.00403251, 0.00798975, 0.00389619,\n",
       "       0.01177352, 0.00474155, 0.00393516, 0.00215217, 0.005718  ,\n",
       "       0.00349842, 0.00436873, 0.01021364, 0.00515721, 0.00724276,\n",
       "       0.00223023, 0.00513768, 0.00855761, 0.00371928, 0.00820422,\n",
       "       0.00461643, 0.0254958 , 0.00709721, 0.01515845, 0.00653137,\n",
       "       0.00472904, 0.00628189, 0.00496968, 0.00392414, 0.00376245,\n",
       "       0.02050951, 0.00773853, 0.01222838, 0.00620599, 0.00739983,\n",
       "       0.01026896, 0.03221913, 0.        ])"
      ]
     },
     "execution_count": 24,
     "metadata": {},
     "output_type": "execute_result"
    }
   ],
   "source": [
    "#fittedgrid.best_estimator_.feature_importances_()\n",
    "\n",
    "fittedgrid.best_estimator_[1].feature_importances_"
   ]
  },
  {
   "cell_type": "markdown",
   "metadata": {},
   "source": [
    "In terms of accuracy, the DecisionTree performs better without PCA."
   ]
  },
  {
   "cell_type": "code",
   "execution_count": null,
   "metadata": {},
   "outputs": [],
   "source": []
  },
  {
   "cell_type": "markdown",
   "metadata": {},
   "source": [
    "### KNN "
   ]
  },
  {
   "cell_type": "markdown",
   "metadata": {},
   "source": [
    "Int the case of KNN, it is important to combine the model with PCA"
   ]
  },
  {
   "cell_type": "code",
   "execution_count": 25,
   "metadata": {},
   "outputs": [
    {
     "name": "stdout",
     "output_type": "stream",
     "text": [
      "Fitting 5 folds for each of 714 candidates, totalling 3570 fits\n"
     ]
    },
    {
     "name": "stderr",
     "output_type": "stream",
     "text": [
      "[Parallel(n_jobs=-1)]: Using backend LokyBackend with 8 concurrent workers.\n",
      "[Parallel(n_jobs=-1)]: Done  34 tasks      | elapsed:    1.7s\n",
      "[Parallel(n_jobs=-1)]: Done 184 tasks      | elapsed:    8.7s\n",
      "[Parallel(n_jobs=-1)]: Done 434 tasks      | elapsed:   23.4s\n",
      "[Parallel(n_jobs=-1)]: Done 784 tasks      | elapsed:   52.8s\n",
      "[Parallel(n_jobs=-1)]: Done 1234 tasks      | elapsed:  2.0min\n",
      "/home/ec2-user/anaconda3/envs/python3/lib/python3.6/site-packages/joblib/externals/loky/process_executor.py:706: UserWarning: A worker stopped while some jobs were given to the executor. This can be caused by a too short worker timeout or by a memory leak.\n",
      "  \"timeout or by a memory leak.\", UserWarning\n",
      "[Parallel(n_jobs=-1)]: Done 1784 tasks      | elapsed:  4.4min\n",
      "[Parallel(n_jobs=-1)]: Done 2434 tasks      | elapsed:  9.1min\n",
      "[Parallel(n_jobs=-1)]: Done 3184 tasks      | elapsed: 15.8min\n",
      "[Parallel(n_jobs=-1)]: Done 3570 out of 3570 | elapsed: 19.4min finished\n",
      "/home/ec2-user/anaconda3/envs/python3/lib/python3.6/site-packages/sklearn/pipeline.py:354: DataConversionWarning: A column-vector y was passed when a 1d array was expected. Please change the shape of y to (n_samples, ), for example using ravel().\n",
      "  self._final_estimator.fit(Xt, y, **fit_params)\n"
     ]
    },
    {
     "name": "stdout",
     "output_type": "stream",
     "text": [
      "CPU times: user 17.7 s, sys: 494 ms, total: 18.2 s\n",
      "Wall time: 19min 22s\n"
     ]
    }
   ],
   "source": [
    "%%time\n",
    "# Import everything again (for completeness)\n",
    "from sklearn.preprocessing import StandardScaler\n",
    "from sklearn.decomposition import PCA\n",
    "from sklearn.tree import DecisionTreeClassifier\n",
    "from sklearn.ensemble import RandomForestClassifier\n",
    "from sklearn.neighbors import KNeighborsClassifier\n",
    "\n",
    "# Make the pipeline\n",
    "# Note that this is more of a placeholder, grid search will only look over the values\n",
    "# in the param grid, this more to setup the pipeline step names\n",
    "\n",
    "\n",
    "\n",
    "estimators = [('dimensionality', PCA()),\n",
    "              ('model', KNeighborsClassifier())]\n",
    "\n",
    "pipe = Pipeline(estimators)\n",
    "\n",
    "param_grid = [\n",
    "{ 'dimensionality':[PCA()],\n",
    " 'model': [KNeighborsClassifier()],\n",
    "  'dimensionality__n_components':np.arange(1,min(X_rf.shape)),\n",
    "  'model__n_neighbors':np.arange(1, 7)}\n",
    "]\n",
    "grid = GridSearchCV(pipe, param_grid, cv=5, verbose=1, n_jobs=-1)\n",
    "fittedgrid = grid.fit(X_rf, y_rf)"
   ]
  },
  {
   "cell_type": "code",
   "execution_count": 26,
   "metadata": {},
   "outputs": [
    {
     "name": "stdout",
     "output_type": "stream",
     "text": [
      "Pipeline(memory=None,\n",
      "         steps=[('dimensionality',\n",
      "                 PCA(copy=True, iterated_power='auto', n_components=107,\n",
      "                     random_state=None, svd_solver='auto', tol=0.0,\n",
      "                     whiten=False)),\n",
      "                ('model',\n",
      "                 KNeighborsClassifier(algorithm='auto', leaf_size=30,\n",
      "                                      metric='minkowski', metric_params=None,\n",
      "                                      n_jobs=None, n_neighbors=1, p=2,\n",
      "                                      weights='uniform'))],\n",
      "         verbose=False)\n",
      "Accuracy: 0.3740685543964232\n",
      "\n",
      "Score: 1.0\n"
     ]
    }
   ],
   "source": [
    "# What is the best pipeline?\n",
    "print(fittedgrid.best_estimator_)\n",
    "\n",
    "# Accuracy\n",
    "print('Accuracy:', fittedgrid.score(X_test, y_test))\n",
    "\n",
    "print('')\n",
    "\n",
    "# Score\n",
    "print('Score:', fittedgrid.score(X_rf, y_rf))"
   ]
  },
  {
   "cell_type": "code",
   "execution_count": 57,
   "metadata": {},
   "outputs": [],
   "source": [
    "acc_dic['KNN_with_PCA'] = ('Acc: 0.37', 'Score: 1.0' )"
   ]
  },
  {
   "cell_type": "code",
   "execution_count": 27,
   "metadata": {},
   "outputs": [
    {
     "data": {
      "image/png": "[encoded data removed]",
      "text/plain": [
       "<Figure size 720x720 with 1 Axes>"
      ]
     },
     "metadata": {
      "needs_background": "light"
     },
     "output_type": "display_data"
    }
   ],
   "source": [
    "# Let's get the prediction vector\n",
    "y_pred = fittedgrid.predict(X_test)\n",
    "\n",
    "from sklearn.metrics import confusion_matrix\n",
    "\n",
    "# Let's get the prediction vector\n",
    "y_pred = fittedgrid.predict(X_test)\n",
    "\n",
    "y_pred = fittedgrid.predict(X_test)\n",
    "\n",
    "conf_mat = confusion_matrix(y_test, y_pred)\n",
    "plt.figure(figsize = (10,10))\n",
    "sns.heatmap(conf_mat,\n",
    "            annot=True,\n",
    "            fmt=\"g\",\n",
    "            cbar=False\n",
    "           )\n",
    "plt.title('Model Confusion Matrix',size = 25,y=1.01)\n",
    "plt.show()"
   ]
  },
  {
   "cell_type": "code",
   "execution_count": 28,
   "metadata": {},
   "outputs": [
    {
     "name": "stdout",
     "output_type": "stream",
     "text": [
      "Recall: [0.30864198 0.23529412 0.1025641  0.35562806 0.21559633 0.15384615\n",
      " 0.56234719 0.31041667 0.80088496 0.         0.2173913  0.12676056\n",
      " 0.2       ]\n",
      "\n",
      "Precision: [0.32722513 0.19354839 0.05755396 0.4        0.21363636 0.1\n",
      " 0.57934509 0.38107417 0.72983871 0.         0.16949153 0.072\n",
      " 0.1       ]\n",
      "\n",
      "Recall mean: 0.27610549359844627\n",
      "\n",
      "Precision mean: 0.25567025619369493\n"
     ]
    }
   ],
   "source": [
    "recall = np.diag(conf_mat)/np.sum(conf_mat, axis = 1)\n",
    "precision = np.diag(conf_mat)/np.sum(conf_mat, axis = 0)\n",
    "\n",
    "print('Recall:', recall)\n",
    "\n",
    "print('')\n",
    "\n",
    "print('Precision:', precision)\n",
    "\n",
    "print('')\n",
    "\n",
    "print('Recall mean:', np.mean(recall))\n",
    "\n",
    "print('')\n",
    "\n",
    "print('Precision mean:', np.mean(precision))"
   ]
  },
  {
   "cell_type": "markdown",
   "metadata": {},
   "source": [
    "Let us compare the different accuracies and scores we have obtained so far"
   ]
  },
  {
   "cell_type": "code",
   "execution_count": 58,
   "metadata": {},
   "outputs": [
    {
     "data": {
      "text/plain": [
       "{'RF_without_PCA': ('Acc: 0.45', 'Score: 1.0'),\n",
       " 'RF_with_PCA': ('Acc: 0.41', 'Score: 1.0'),\n",
       " 'DT_without_PCA': ('Acc: 0.36', 'Score: 0.91'),\n",
       " 'DT_with_PCA': ('Acc: 0.33', 'Score: 0.91'),\n",
       " 'KNN_with_PCA': ('Acc: 0.37', 'Score: 1.0')}"
      ]
     },
     "execution_count": 58,
     "metadata": {},
     "output_type": "execute_result"
    }
   ],
   "source": [
    "acc_dic"
   ]
  },
  {
   "cell_type": "markdown",
   "metadata": {},
   "source": [
    "In terms of accuracy, Random Forest without PCA is the best. "
   ]
  },
  {
   "cell_type": "code",
   "execution_count": null,
   "metadata": {},
   "outputs": [],
   "source": []
  },
  {
   "cell_type": "code",
   "execution_count": null,
   "metadata": {},
   "outputs": [],
   "source": []
  },
  {
   "cell_type": "code",
   "execution_count": null,
   "metadata": {},
   "outputs": [],
   "source": []
  },
  {
   "cell_type": "markdown",
   "metadata": {},
   "source": [
    "# Oversampling"
   ]
  },
  {
   "cell_type": "code",
   "execution_count": null,
   "metadata": {},
   "outputs": [],
   "source": []
  },
  {
   "cell_type": "code",
   "execution_count": null,
   "metadata": {},
   "outputs": [],
   "source": [
    "#%%time\n",
    "\n",
    "## To read the data in from the local machine:\n",
    "\n",
    "#X_over = pd.read_csv('C:\\\\Users\\\\francisco\\\\Desktop\\\\BrainStation\\\\Capstoneproject_BS\\\\FiresUSA\\\\fires_X_over.csv')\n",
    "\n",
    "#y_over = pd.read_csv('C:\\\\Users\\\\francisco\\\\Desktop\\\\BrainStation\\\\Capstoneproject_BS\\\\FiresUSA\\\\fires_y_over.csv')\n",
    "\n",
    "#X_test = pd.read_csv('C:\\\\Users\\\\francisco\\\\Desktop\\\\BrainStation\\\\Capstoneproject_BS\\\\FiresUSA\\\\fires_X_over_test.csv')\n",
    "\n",
    "#y_test = pd.read_csv('C:\\\\Users\\\\francisco\\\\Desktop\\\\BrainStation\\\\Capstoneproject_BS\\\\FiresUSA\\\\fires_X_over_test.csv')\n",
    "\n",
    "#y = pd.read_csv('C:\\\\Users\\\\francisco\\\\Desktop\\\\BrainStation\\\\Capstoneproject_BS\\\\FiresUSA\\\\fires_X_smote_test.csv')"
   ]
  },
  {
   "cell_type": "code",
   "execution_count": 10,
   "metadata": {},
   "outputs": [
    {
     "name": "stdout",
     "output_type": "stream",
     "text": [
      "CPU times: user 1.27 s, sys: 261 ms, total: 1.53 s\n",
      "Wall time: 2.19 s\n"
     ]
    }
   ],
   "source": [
    "%%time\n",
    "# For the Sagemaker, we can read in the data from the S3 bucket with:\n",
    "import boto3\n",
    "import pandas as pd\n",
    "from sagemaker import get_execution_role\n",
    "\n",
    "role = get_execution_role()\n",
    "bucket='francisco-bucket'\n",
    "data_key = 'fires_y_over_1.csv'\n",
    "data_location = 's3://{}/{}'.format(bucket, data_key)\n",
    "\n",
    "y_over = pd.read_csv(data_location)\n",
    "#\n",
    "#\n",
    "role = get_execution_role()\n",
    "bucket='francisco-bucket'\n",
    "data_key = 'fires_X_over.csv'\n",
    "data_location = 's3://{}/{}'.format(bucket, data_key)\n",
    "\n",
    "X_over = pd.read_csv(data_location)\n",
    "\n",
    "\n",
    "\n",
    "#%%time\n",
    "role = get_execution_role()\n",
    "bucket='francisco-bucket'\n",
    "data_key = 'fires_X_over_test.csv'\n",
    "data_location = 's3://{}/{}'.format(bucket, data_key)\n",
    "\n",
    "X_test = pd.read_csv(data_location)\n",
    "\n",
    "\n",
    "#%%time\n",
    "role = get_execution_role()\n",
    "bucket='francisco-bucket'\n",
    "data_key = 'fires_y_over_test.csv'\n",
    "data_location = 's3://{}/{}'.format(bucket, data_key)\n",
    "\n",
    "y_test = pd.read_csv(data_location)\n",
    "\n",
    "\n"
   ]
  },
  {
   "cell_type": "code",
   "execution_count": 11,
   "metadata": {},
   "outputs": [],
   "source": [
    "X_rf = X_over\n",
    "\n",
    "y_rf = y_over"
   ]
  },
  {
   "cell_type": "code",
   "execution_count": 13,
   "metadata": {},
   "outputs": [
    {
     "data": {
      "text/plain": [
       "(19903, 120)"
      ]
     },
     "execution_count": 13,
     "metadata": {},
     "output_type": "execute_result"
    }
   ],
   "source": [
    "X_rf.shape"
   ]
  },
  {
   "cell_type": "code",
   "execution_count": 12,
   "metadata": {},
   "outputs": [
    {
     "data": {
      "text/plain": [
       "(19903, 1)"
      ]
     },
     "execution_count": 12,
     "metadata": {},
     "output_type": "execute_result"
    }
   ],
   "source": [
    "y_rf.shape"
   ]
  },
  {
   "cell_type": "code",
   "execution_count": 14,
   "metadata": {},
   "outputs": [
    {
     "data": {
      "text/plain": [
       "(2684, 120)"
      ]
     },
     "execution_count": 14,
     "metadata": {},
     "output_type": "execute_result"
    }
   ],
   "source": [
    "X_test.shape"
   ]
  },
  {
   "cell_type": "code",
   "execution_count": 15,
   "metadata": {},
   "outputs": [
    {
     "data": {
      "text/plain": [
       "(2684, 1)"
      ]
     },
     "execution_count": 15,
     "metadata": {},
     "output_type": "execute_result"
    }
   ],
   "source": [
    "y_test.shape"
   ]
  },
  {
   "cell_type": "markdown",
   "metadata": {},
   "source": [
    "### Random Forest"
   ]
  },
  {
   "cell_type": "markdown",
   "metadata": {},
   "source": [
    "#### Random Forest without PCA"
   ]
  },
  {
   "cell_type": "code",
   "execution_count": 16,
   "metadata": {},
   "outputs": [
    {
     "name": "stdout",
     "output_type": "stream",
     "text": [
      "Fitting 5 folds for each of 5 candidates, totalling 25 fits\n"
     ]
    },
    {
     "name": "stderr",
     "output_type": "stream",
     "text": [
      "[Parallel(n_jobs=-1)]: Using backend LokyBackend with 8 concurrent workers.\n",
      "/home/ec2-user/anaconda3/envs/python3/lib/python3.6/site-packages/joblib/externals/loky/process_executor.py:706: UserWarning: A worker stopped while some jobs were given to the executor. This can be caused by a too short worker timeout or by a memory leak.\n",
      "  \"timeout or by a memory leak.\", UserWarning\n",
      "[Parallel(n_jobs=-1)]: Done  25 out of  25 | elapsed:   15.1s finished\n",
      "/home/ec2-user/anaconda3/envs/python3/lib/python3.6/site-packages/sklearn/pipeline.py:354: DataConversionWarning: A column-vector y was passed when a 1d array was expected. Please change the shape of y to (n_samples,), for example using ravel().\n",
      "  self._final_estimator.fit(Xt, y, **fit_params)\n"
     ]
    },
    {
     "name": "stdout",
     "output_type": "stream",
     "text": [
      "CPU times: user 2.78 s, sys: 180 ms, total: 2.96 s\n",
      "Wall time: 17.8 s\n"
     ]
    }
   ],
   "source": [
    "%%time\n",
    "# Import everything again (for completeness)\n",
    "from sklearn.preprocessing import StandardScaler\n",
    "from sklearn.decomposition import PCA\n",
    "from sklearn.tree import DecisionTreeClassifier\n",
    "from sklearn.ensemble import RandomForestClassifier\n",
    "from sklearn.neighbors import KNeighborsClassifier\n",
    "\n",
    "# Make the pipeline\n",
    "# Note that this is more of a placeholder, grid search will only look over the values\n",
    "# in the param grid, this more to setup the pipeline step names\n",
    "\n",
    "estimators = [('dimensionality', PCA()),\n",
    "              ('model', RandomForestClassifier())]\n",
    "\n",
    "pipe = Pipeline(estimators)\n",
    "\n",
    "param_grid = [\n",
    "{'dimensionality':[None],\n",
    "'model': [RandomForestClassifier(n_estimators=100)],\n",
    "'model__max_features': [2, 3, 4, 5, 6]}\n",
    "#np.arange(1, 20)\n",
    "]\n",
    "grid = GridSearchCV(pipe, param_grid, cv=5, verbose=1, n_jobs=-1)\n",
    "fittedgrid = grid.fit(X_rf, y_rf)"
   ]
  },
  {
   "cell_type": "code",
   "execution_count": 18,
   "metadata": {},
   "outputs": [
    {
     "data": {
      "text/plain": [
       "Pipeline(memory=None,\n",
       "         steps=[('dimensionality', None),\n",
       "                ('model',\n",
       "                 RandomForestClassifier(bootstrap=True, ccp_alpha=0.0,\n",
       "                                        class_weight=None, criterion='gini',\n",
       "                                        max_depth=None, max_features=3,\n",
       "                                        max_leaf_nodes=None, max_samples=None,\n",
       "                                        min_impurity_decrease=0.0,\n",
       "                                        min_impurity_split=None,\n",
       "                                        min_samples_leaf=1, min_samples_split=2,\n",
       "                                        min_weight_fraction_leaf=0.0,\n",
       "                                        n_estimators=100, n_jobs=None,\n",
       "                                        oob_score=False, random_state=None,\n",
       "                                        verbose=0, warm_start=False))],\n",
       "         verbose=False)"
      ]
     },
     "execution_count": 18,
     "metadata": {},
     "output_type": "execute_result"
    }
   ],
   "source": [
    "# What is the best pipeline?\n",
    "fittedgrid.best_estimator_"
   ]
  },
  {
   "cell_type": "code",
   "execution_count": 19,
   "metadata": {},
   "outputs": [
    {
     "data": {
      "text/plain": [
       "0.44150521609538"
      ]
     },
     "execution_count": 19,
     "metadata": {},
     "output_type": "execute_result"
    }
   ],
   "source": [
    "# Score\n",
    "fittedgrid.score(X_test, y_test)"
   ]
  },
  {
   "cell_type": "code",
   "execution_count": 20,
   "metadata": {},
   "outputs": [
    {
     "data": {
      "text/plain": [
       "1.0"
      ]
     },
     "execution_count": 20,
     "metadata": {},
     "output_type": "execute_result"
    }
   ],
   "source": [
    "# Accuracy\n",
    "fittedgrid.score(X_rf, y_rf)"
   ]
  },
  {
   "cell_type": "markdown",
   "metadata": {},
   "source": [
    "We can store the accuracies and scores in a dictionary."
   ]
  },
  {
   "cell_type": "code",
   "execution_count": 59,
   "metadata": {},
   "outputs": [],
   "source": [
    "acc_dic_over = {}\n",
    "acc_dic['RF_without_PCA'] = ('Acc: 0.44', 'Score: 1.0' )"
   ]
  },
  {
   "cell_type": "markdown",
   "metadata": {},
   "source": []
  },
  {
   "cell_type": "code",
   "execution_count": 21,
   "metadata": {},
   "outputs": [
    {
     "data": {
      "text/plain": [
       "array([0, 6, 4, ..., 8, 7, 8])"
      ]
     },
     "execution_count": 21,
     "metadata": {},
     "output_type": "execute_result"
    }
   ],
   "source": [
    "# Let's get the prediction vector\n",
    "y_pred = fittedgrid.predict(X_test)\n",
    "y_pred"
   ]
  },
  {
   "cell_type": "code",
   "execution_count": 22,
   "metadata": {},
   "outputs": [
    {
     "data": {
      "image/png": "[encoded data removed]",
      "text/plain": [
       "<Figure size 720x720 with 1 Axes>"
      ]
     },
     "metadata": {
      "needs_background": "light"
     },
     "output_type": "display_data"
    },
    {
     "name": "stdout",
     "output_type": "stream",
     "text": [
      "CPU times: user 660 ms, sys: 12.1 ms, total: 672 ms\n",
      "Wall time: 688 ms\n"
     ]
    }
   ],
   "source": [
    "%%time\n",
    "from sklearn.metrics import confusion_matrix\n",
    "\n",
    "# Let's get the prediction vector\n",
    "y_pred = fittedgrid.predict(X_test)\n",
    "\n",
    "y_pred = fittedgrid.predict(X_test)\n",
    "\n",
    "conf_mat = confusion_matrix(y_test, y_pred)\n",
    "plt.figure(figsize = (10,10))\n",
    "sns.heatmap(conf_mat,\n",
    "            annot=True,\n",
    "            fmt=\"g\",\n",
    "            cbar=False\n",
    "           )\n",
    "plt.title('Model Confusion Matrix',size = 25,y=1.01)\n",
    "plt.show()"
   ]
  },
  {
   "cell_type": "code",
   "execution_count": null,
   "metadata": {},
   "outputs": [],
   "source": []
  },
  {
   "cell_type": "code",
   "execution_count": 23,
   "metadata": {},
   "outputs": [
    {
     "name": "stdout",
     "output_type": "stream",
     "text": [
      "Recall: [0.36049383 0.15686275 0.06410256 0.48450245 0.23394495 0.23076923\n",
      " 0.68948655 0.35625    0.86283186 0.         0.34782609 0.02816901\n",
      " 0.2       ]\n",
      "\n",
      "Precision: [0.39566396 0.17021277 0.05617978 0.4479638  0.25628141 0.16666667\n",
      " 0.61572052 0.46849315 0.73584906 0.         0.20253165 0.03333333\n",
      " 0.25      ]\n",
      "\n",
      "Recall mean: 0.30886456001970536\n",
      "\n",
      "Precision mean: 0.29222277559183524\n"
     ]
    }
   ],
   "source": [
    "recall = np.diag(conf_mat)/np.sum(conf_mat, axis = 1)\n",
    "precision = np.diag(conf_mat)/np.sum(conf_mat, axis = 0)\n",
    "\n",
    "print('Recall:', recall)\n",
    "\n",
    "print('')\n",
    "\n",
    "print('Precision:', precision)\n",
    "\n",
    "print('')\n",
    "\n",
    "print('Recall mean:', np.mean(recall))\n",
    "\n",
    "print('')\n",
    "\n",
    "print('Precision mean:', np.mean(precision))"
   ]
  },
  {
   "cell_type": "markdown",
   "metadata": {},
   "source": [
    "Below we will determine wich features have the most predictive power."
   ]
  },
  {
   "cell_type": "code",
   "execution_count": 24,
   "metadata": {},
   "outputs": [
    {
     "data": {
      "text/plain": [
       "array([7.14001219e-02, 9.72564387e-02, 1.01315033e-01, 9.11765974e-02,\n",
       "       8.80271459e-02, 8.03226387e-02, 1.23051148e-02, 3.92435872e-03,\n",
       "       1.01780922e-02, 1.28706950e-02, 4.37978014e-04, 1.10996923e-02,\n",
       "       9.53397776e-04, 1.65914670e-03, 9.95445648e-05, 1.81102006e-03,\n",
       "       5.42285375e-03, 5.54517538e-04, 5.73153300e-04, 2.93052489e-03,\n",
       "       1.89012649e-04, 5.63354776e-04, 1.18635669e-02, 2.15661663e-03,\n",
       "       7.73691725e-04, 1.48760242e-03, 1.30559319e-03, 5.23782736e-04,\n",
       "       7.42501045e-04, 3.55011094e-03, 3.82748426e-04, 1.69708298e-02,\n",
       "       2.38748349e-03, 0.00000000e+00, 5.76506103e-04, 2.22088558e-03,\n",
       "       1.05853236e-03, 2.73545058e-03, 3.07903214e-04, 7.10999092e-04,\n",
       "       5.02875120e-03, 1.44883922e-03, 1.04768553e-03, 6.39262239e-04,\n",
       "       1.95041906e-03, 1.24022020e-04, 2.41544576e-02, 2.49610170e-02,\n",
       "       1.19066875e-02, 2.40368254e-03, 2.59404915e-03, 1.17437365e-03,\n",
       "       1.97108873e-04, 1.57973082e-02, 6.03878029e-03, 0.00000000e+00,\n",
       "       5.62609764e-05, 0.00000000e+00, 7.89708417e-04, 2.22567931e-02,\n",
       "       5.23130188e-04, 2.63676800e-03, 7.04815053e-04, 1.73156703e-02,\n",
       "       6.11395849e-03, 2.07248031e-03, 2.44550581e-04, 8.80627427e-03,\n",
       "       2.77317583e-03, 8.56283613e-03, 2.27401751e-03, 5.50501961e-03,\n",
       "       1.22820477e-02, 2.92134014e-03, 6.38317407e-04, 0.00000000e+00,\n",
       "       0.00000000e+00, 1.28247624e-02, 1.16236369e-02, 6.49898006e-05,\n",
       "       6.73192765e-04, 3.60927812e-03, 3.99883230e-04, 6.47419048e-04,\n",
       "       2.64350721e-04, 3.17345662e-03, 2.32841476e-03, 0.00000000e+00,\n",
       "       8.87676999e-04, 2.01336708e-03, 2.17831266e-03, 4.34059057e-03,\n",
       "       9.96037257e-04, 4.59385075e-03, 6.82358540e-03, 7.47737100e-03,\n",
       "       2.58511070e-03, 2.10518451e-03, 2.48668740e-04, 3.30567073e-03,\n",
       "       3.41947548e-03, 1.16731604e-03, 8.88622376e-03, 4.02486152e-04,\n",
       "       4.97344427e-03, 4.43517204e-03, 9.97544631e-04, 1.87113840e-03,\n",
       "       5.92744638e-05, 5.02762115e-03, 1.42892240e-02, 8.04452818e-03,\n",
       "       9.72152872e-03, 3.84764056e-03, 3.39044731e-03, 2.56795629e-05,\n",
       "       3.08592214e-03, 4.57168524e-03, 6.13802652e-03, 1.71196563e-03])"
      ]
     },
     "execution_count": 24,
     "metadata": {},
     "output_type": "execute_result"
    }
   ],
   "source": [
    "#fittedgrid.best_estimator_.feature_importances_()\n",
    "\n",
    "fittedgrid.best_estimator_[1].feature_importances_"
   ]
  },
  {
   "cell_type": "code",
   "execution_count": null,
   "metadata": {},
   "outputs": [],
   "source": []
  },
  {
   "cell_type": "markdown",
   "metadata": {},
   "source": [
    "#### Random Forest with PCA"
   ]
  },
  {
   "cell_type": "code",
   "execution_count": 25,
   "metadata": {},
   "outputs": [
    {
     "name": "stdout",
     "output_type": "stream",
     "text": [
      "Fitting 5 folds for each of 476 candidates, totalling 2380 fits\n"
     ]
    },
    {
     "name": "stderr",
     "output_type": "stream",
     "text": [
      "[Parallel(n_jobs=-1)]: Using backend LokyBackend with 8 concurrent workers.\n",
      "[Parallel(n_jobs=-1)]: Done  34 tasks      | elapsed:    1.6s\n",
      "/home/ec2-user/anaconda3/envs/python3/lib/python3.6/site-packages/joblib/externals/loky/process_executor.py:706: UserWarning: A worker stopped while some jobs were given to the executor. This can be caused by a too short worker timeout or by a memory leak.\n",
      "  \"timeout or by a memory leak.\", UserWarning\n",
      "[Parallel(n_jobs=-1)]: Done 184 tasks      | elapsed:  2.9min\n",
      "[Parallel(n_jobs=-1)]: Done 434 tasks      | elapsed:  9.4min\n",
      "[Parallel(n_jobs=-1)]: Done 784 tasks      | elapsed: 18.3min\n",
      "[Parallel(n_jobs=-1)]: Done 1234 tasks      | elapsed: 29.8min\n",
      "[Parallel(n_jobs=-1)]: Done 1784 tasks      | elapsed: 43.6min\n",
      "[Parallel(n_jobs=-1)]: Done 2380 out of 2380 | elapsed: 58.1min finished\n",
      "/home/ec2-user/anaconda3/envs/python3/lib/python3.6/site-packages/sklearn/pipeline.py:354: DataConversionWarning: A column-vector y was passed when a 1d array was expected. Please change the shape of y to (n_samples,), for example using ravel().\n",
      "  self._final_estimator.fit(Xt, y, **fit_params)\n"
     ]
    },
    {
     "name": "stdout",
     "output_type": "stream",
     "text": [
      "CPU times: user 26.3 s, sys: 749 ms, total: 27.1 s\n",
      "Wall time: 58min 19s\n"
     ]
    }
   ],
   "source": [
    "%%time\n",
    "# Import everything again (for completeness)\n",
    "from sklearn.preprocessing import StandardScaler\n",
    "from sklearn.decomposition import PCA\n",
    "from sklearn.tree import DecisionTreeClassifier\n",
    "from sklearn.ensemble import RandomForestClassifier\n",
    "from sklearn.neighbors import KNeighborsClassifier\n",
    "\n",
    "# Make the pipeline\n",
    "# Note that this is more of a placeholder, grid search will only look over the values\n",
    "# in the param grid, this more to setup the pipeline step names\n",
    "\n",
    "estimators = [('dimensionality', PCA()),\n",
    "              ('model', RandomForestClassifier())]\n",
    "\n",
    "pipe = Pipeline(estimators)\n",
    "\n",
    "param_grid = [\n",
    "{'dimensionality':[PCA()],\n",
    "'model': [RandomForestClassifier(n_estimators=100)],\n",
    "'dimensionality__n_components':np.arange(1,min(X_rf.shape)),\n",
    "'model__max_features': [3, 4, 5, 6]}\n",
    "#np.arange(1, 20)\n",
    "]\n",
    "grid = GridSearchCV(pipe, param_grid, cv=5, verbose=1, n_jobs=-1)\n",
    "fittedgrid = grid.fit(X_rf, y_rf)"
   ]
  },
  {
   "cell_type": "code",
   "execution_count": 26,
   "metadata": {},
   "outputs": [
    {
     "name": "stdout",
     "output_type": "stream",
     "text": [
      "Best estimator: Pipeline(memory=None,\n",
      "         steps=[('dimensionality',\n",
      "                 PCA(copy=True, iterated_power='auto', n_components=108,\n",
      "                     random_state=None, svd_solver='auto', tol=0.0,\n",
      "                     whiten=False)),\n",
      "                ('model',\n",
      "                 RandomForestClassifier(bootstrap=True, ccp_alpha=0.0,\n",
      "                                        class_weight=None, criterion='gini',\n",
      "                                        max_depth=None, max_features=6,\n",
      "                                        max_leaf_nodes=None, max_samples=None,\n",
      "                                        min_impurity_decrease=0.0,\n",
      "                                        min_impurity_split=None,\n",
      "                                        min_samples_leaf=1, min_samples_split=2,\n",
      "                                        min_weight_fraction_leaf=0.0,\n",
      "                                        n_estimators=100, n_jobs=None,\n",
      "                                        oob_score=False, random_state=None,\n",
      "                                        verbose=0, warm_start=False))],\n",
      "         verbose=False)\n",
      "Accuracy: 0.4187779433681073\n",
      "\n",
      "Score: 1.0\n"
     ]
    }
   ],
   "source": [
    "# What is the best pipeline?\n",
    "print('Best estimator:', fittedgrid.best_estimator_)\n",
    "\n",
    "# Accuracy\n",
    "print('Accuracy:', fittedgrid.score(X_test, y_test))\n",
    "\n",
    "print('')\n",
    "\n",
    "# Score\n",
    "print('Score:', fittedgrid.score(X_rf, y_rf))"
   ]
  },
  {
   "cell_type": "code",
   "execution_count": 60,
   "metadata": {},
   "outputs": [],
   "source": [
    "acc_dic_over['RF_with_PCA'] = ('Acc: 0.41', 'Score: 1.0' )"
   ]
  },
  {
   "cell_type": "markdown",
   "metadata": {},
   "source": [
    "Let us see the confusion matrix."
   ]
  },
  {
   "cell_type": "code",
   "execution_count": 27,
   "metadata": {},
   "outputs": [
    {
     "data": {
      "image/png": "[encoded data removed]",
      "text/plain": [
       "<Figure size 720x720 with 1 Axes>"
      ]
     },
     "metadata": {
      "needs_background": "light"
     },
     "output_type": "display_data"
    }
   ],
   "source": [
    "# Let's get the prediction vector\n",
    "y_pred = fittedgrid.predict(X_test)\n",
    "\n",
    "from sklearn.metrics import confusion_matrix\n",
    "\n",
    "# Let's get the prediction vector\n",
    "y_pred = fittedgrid.predict(X_test)\n",
    "\n",
    "y_pred = fittedgrid.predict(X_test)\n",
    "\n",
    "conf_mat = confusion_matrix(y_test, y_pred)\n",
    "plt.figure(figsize = (10,10))\n",
    "sns.heatmap(conf_mat,\n",
    "            annot=True,\n",
    "            fmt=\"g\",\n",
    "            cbar=False\n",
    "           )\n",
    "plt.title('Model Confusion Matrix',size = 25,y=1.01)\n",
    "plt.show()"
   ]
  },
  {
   "cell_type": "code",
   "execution_count": null,
   "metadata": {},
   "outputs": [],
   "source": []
  },
  {
   "cell_type": "markdown",
   "metadata": {},
   "source": [
    "From the confusion matrix we can see recall and precision of this model "
   ]
  },
  {
   "cell_type": "code",
   "execution_count": 28,
   "metadata": {},
   "outputs": [
    {
     "name": "stdout",
     "output_type": "stream",
     "text": [
      "Recall: [0.33333333 0.24509804 0.1025641  0.42088091 0.24311927 0.07692308\n",
      " 0.62347188 0.34583333 0.87168142 0.         0.34782609 0.12676056\n",
      " 0.2       ]\n",
      "\n",
      "Precision: [0.37709497 0.19685039 0.06722689 0.44636678 0.24882629 0.05263158\n",
      " 0.59579439 0.44504021 0.76356589 0.         0.20779221 0.09473684\n",
      " 0.08333333]\n",
      "\n",
      "Recall mean: 0.30288400106701074\n",
      "\n",
      "Precision mean: 0.27532767617403686\n"
     ]
    }
   ],
   "source": [
    "recall = np.diag(conf_mat)/np.sum(conf_mat, axis = 1)\n",
    "precision = np.diag(conf_mat)/np.sum(conf_mat, axis = 0)\n",
    "\n",
    "print('Recall:', recall)\n",
    "\n",
    "print('')\n",
    "\n",
    "print('Precision:', precision)\n",
    "\n",
    "print('')\n",
    "\n",
    "print('Recall mean:', np.mean(recall))\n",
    "\n",
    "print('')\n",
    "\n",
    "print('Precision mean:', np.mean(precision))"
   ]
  },
  {
   "cell_type": "markdown",
   "metadata": {},
   "source": [
    "Below we can see which features are most important"
   ]
  },
  {
   "cell_type": "code",
   "execution_count": 29,
   "metadata": {},
   "outputs": [
    {
     "data": {
      "text/plain": [
       "array([0.02255968, 0.01800776, 0.01918199, 0.02737333, 0.01435606,\n",
       "       0.01382542, 0.01690337, 0.01998142, 0.01448605, 0.01143963,\n",
       "       0.01178278, 0.01224846, 0.00972671, 0.01039605, 0.01012845,\n",
       "       0.01011087, 0.00892253, 0.01145584, 0.00801465, 0.0092458 ,\n",
       "       0.00982374, 0.00854819, 0.00919981, 0.00715457, 0.00718042,\n",
       "       0.00812403, 0.00787231, 0.00783426, 0.00909636, 0.00816992,\n",
       "       0.00774888, 0.0097665 , 0.00764858, 0.0078345 , 0.00931718,\n",
       "       0.00897475, 0.00823371, 0.00769249, 0.00846427, 0.00730011,\n",
       "       0.00765311, 0.00706877, 0.00767181, 0.00688475, 0.00918528,\n",
       "       0.00812847, 0.00719172, 0.00824677, 0.00794743, 0.00795798,\n",
       "       0.00762144, 0.00939036, 0.00741842, 0.00751755, 0.00772296,\n",
       "       0.00748948, 0.00839682, 0.00835181, 0.00808283, 0.00749716,\n",
       "       0.00767299, 0.00694785, 0.00772702, 0.00725526, 0.00755111,\n",
       "       0.00936213, 0.0067909 , 0.00867547, 0.00939238, 0.00789339,\n",
       "       0.00851823, 0.00831325, 0.00776753, 0.00841717, 0.00816629,\n",
       "       0.00750599, 0.00826356, 0.00793929, 0.00759608, 0.00770204,\n",
       "       0.0077743 , 0.00831219, 0.00772494, 0.00776535, 0.00821192,\n",
       "       0.00785184, 0.00826289, 0.00790374, 0.00868954, 0.00792169,\n",
       "       0.01018265, 0.00770424, 0.01005395, 0.01181302, 0.0071894 ,\n",
       "       0.00760477, 0.00877521, 0.00709608, 0.0103541 , 0.00752298,\n",
       "       0.0077243 , 0.00971618, 0.00984047, 0.01303595, 0.00938166,\n",
       "       0.0083548 , 0.01021752, 0.        ])"
      ]
     },
     "execution_count": 29,
     "metadata": {},
     "output_type": "execute_result"
    }
   ],
   "source": [
    "#fittedgrid.best_estimator_.feature_importances_()\n",
    "\n",
    "fittedgrid.best_estimator_[1].feature_importances_"
   ]
  },
  {
   "cell_type": "code",
   "execution_count": null,
   "metadata": {},
   "outputs": [],
   "source": []
  },
  {
   "cell_type": "markdown",
   "metadata": {},
   "source": [
    "### Decision Tree"
   ]
  },
  {
   "cell_type": "markdown",
   "metadata": {},
   "source": [
    "#### Without PCA"
   ]
  },
  {
   "cell_type": "code",
   "execution_count": 30,
   "metadata": {},
   "outputs": [
    {
     "name": "stdout",
     "output_type": "stream",
     "text": [
      "Fitting 5 folds for each of 24 candidates, totalling 120 fits\n"
     ]
    },
    {
     "name": "stderr",
     "output_type": "stream",
     "text": [
      "[Parallel(n_jobs=-1)]: Using backend LokyBackend with 8 concurrent workers.\n",
      "[Parallel(n_jobs=-1)]: Done  52 tasks      | elapsed:    1.4s\n",
      "[Parallel(n_jobs=-1)]: Done 120 out of 120 | elapsed:    4.4s finished\n"
     ]
    },
    {
     "name": "stdout",
     "output_type": "stream",
     "text": [
      "CPU times: user 703 ms, sys: 16.7 ms, total: 720 ms\n",
      "Wall time: 4.77 s\n"
     ]
    }
   ],
   "source": [
    "%%time\n",
    "# Import everything again (for completeness)\n",
    "from sklearn.preprocessing import StandardScaler\n",
    "from sklearn.decomposition import PCA\n",
    "from sklearn.tree import DecisionTreeClassifier\n",
    "from sklearn.ensemble import RandomForestClassifier\n",
    "from sklearn.neighbors import KNeighborsClassifier\n",
    "\n",
    "# Make the pipeline\n",
    "# Note that this is more of a placeholder, grid search will only look over the values\n",
    "# in the param grid, this more to setup the pipeline step names\n",
    "\n",
    "estimators = [('dimensionality', PCA()),\n",
    "              ('model', DecisionTreeClassifier())]\n",
    "\n",
    "pipe = Pipeline(estimators)\n",
    "\n",
    "param_grid = [\n",
    "{'dimensionality':[None],\n",
    " 'model': [DecisionTreeClassifier()],\n",
    " 'model__max_depth':np.arange(1, 25)}\n",
    "]\n",
    "grid = GridSearchCV(pipe, param_grid, cv=5, verbose=1, n_jobs=-1)\n",
    "fittedgrid = grid.fit(X_rf, y_rf)"
   ]
  },
  {
   "cell_type": "code",
   "execution_count": null,
   "metadata": {},
   "outputs": [],
   "source": []
  },
  {
   "cell_type": "code",
   "execution_count": 31,
   "metadata": {},
   "outputs": [
    {
     "name": "stdout",
     "output_type": "stream",
     "text": [
      "Pipeline(memory=None,\n",
      "         steps=[('dimensionality', None),\n",
      "                ('model',\n",
      "                 DecisionTreeClassifier(ccp_alpha=0.0, class_weight=None,\n",
      "                                        criterion='gini', max_depth=24,\n",
      "                                        max_features=None, max_leaf_nodes=None,\n",
      "                                        min_impurity_decrease=0.0,\n",
      "                                        min_impurity_split=None,\n",
      "                                        min_samples_leaf=1, min_samples_split=2,\n",
      "                                        min_weight_fraction_leaf=0.0,\n",
      "                                        presort='deprecated', random_state=None,\n",
      "                                        splitter='best'))],\n",
      "         verbose=False)\n",
      "Accuracy: 0.3610283159463487\n",
      "\n",
      "Score: 0.8585137918906698\n"
     ]
    }
   ],
   "source": [
    "# What is the best pipeline?\n",
    "print(fittedgrid.best_estimator_)\n",
    "\n",
    "# Accuracy\n",
    "print('Accuracy:', fittedgrid.score(X_test, y_test))\n",
    "\n",
    "print('')\n",
    "\n",
    "# Score\n",
    "print('Score:', fittedgrid.score(X_rf, y_rf))"
   ]
  },
  {
   "cell_type": "code",
   "execution_count": 61,
   "metadata": {},
   "outputs": [],
   "source": [
    "acc_dic['DT_without_PCA'] = ('Acc: 0.36', 'Score: 0.85' )\n"
   ]
  },
  {
   "cell_type": "code",
   "execution_count": 32,
   "metadata": {},
   "outputs": [
    {
     "data": {
      "image/png": "[encoded data removed]",
      "text/plain": [
       "<Figure size 720x720 with 1 Axes>"
      ]
     },
     "metadata": {
      "needs_background": "light"
     },
     "output_type": "display_data"
    }
   ],
   "source": [
    "# Let's get the prediction vector\n",
    "y_pred = fittedgrid.predict(X_test)\n",
    "\n",
    "from sklearn.metrics import confusion_matrix\n",
    "\n",
    "# Let's get the prediction vector\n",
    "y_pred = fittedgrid.predict(X_test)\n",
    "\n",
    "y_pred = fittedgrid.predict(X_test)\n",
    "\n",
    "conf_mat = confusion_matrix(y_test, y_pred)\n",
    "plt.figure(figsize = (10,10))\n",
    "sns.heatmap(conf_mat,\n",
    "            annot=True,\n",
    "            fmt=\"g\",\n",
    "            cbar=False\n",
    "           )\n",
    "plt.title('Model Confusion Matrix',size = 25,y=1.01)\n",
    "plt.show()"
   ]
  },
  {
   "cell_type": "code",
   "execution_count": 33,
   "metadata": {},
   "outputs": [
    {
     "name": "stdout",
     "output_type": "stream",
     "text": [
      "Recall: [0.31851852 0.16666667 0.15384615 0.2675367  0.1559633  0.15384615\n",
      " 0.56234719 0.36458333 0.84070796 0.05555556 0.2173913  0.05633803\n",
      " 0.2       ]\n",
      "\n",
      "Precision: [0.37068966 0.15044248 0.07692308 0.43850267 0.20731707 0.13333333\n",
      " 0.61827957 0.30918728 0.50802139 0.04347826 0.18867925 0.03389831\n",
      " 0.125     ]\n",
      "\n",
      "Recall mean: 0.27025391343324434\n",
      "\n",
      "Precision mean: 0.2464424877637332\n"
     ]
    }
   ],
   "source": [
    "recall = np.diag(conf_mat)/np.sum(conf_mat, axis = 1)\n",
    "precision = np.diag(conf_mat)/np.sum(conf_mat, axis = 0)\n",
    "\n",
    "print('Recall:', recall)\n",
    "\n",
    "print('')\n",
    "\n",
    "print('Precision:', precision)\n",
    "\n",
    "print('')\n",
    "\n",
    "print('Recall mean:', np.mean(recall))\n",
    "\n",
    "print('')\n",
    "\n",
    "print('Precision mean:', np.mean(precision))\n",
    "\n",
    "#fittedgrid.best_estimator_.feature_importances_()"
   ]
  },
  {
   "cell_type": "code",
   "execution_count": 34,
   "metadata": {},
   "outputs": [
    {
     "data": {
      "text/plain": [
       "array([6.44283398e-02, 7.37150759e-02, 1.02070075e-01, 9.81088715e-02,\n",
       "       1.10652236e-01, 7.61970589e-02, 2.74953365e-02, 0.00000000e+00,\n",
       "       1.29536636e-03, 2.04719975e-03, 4.71692539e-04, 3.78682387e-03,\n",
       "       3.71837224e-04, 0.00000000e+00, 0.00000000e+00, 0.00000000e+00,\n",
       "       2.60193307e-04, 1.22655635e-04, 1.27065346e-03, 7.31904738e-03,\n",
       "       0.00000000e+00, 0.00000000e+00, 3.85494339e-02, 2.85243168e-04,\n",
       "       0.00000000e+00, 0.00000000e+00, 0.00000000e+00, 0.00000000e+00,\n",
       "       5.25713570e-04, 7.16539932e-03, 0.00000000e+00, 4.20852479e-03,\n",
       "       4.57816951e-03, 0.00000000e+00, 0.00000000e+00, 2.10559530e-04,\n",
       "       0.00000000e+00, 6.62544289e-05, 1.29644058e-04, 6.69719566e-04,\n",
       "       1.73895598e-02, 0.00000000e+00, 0.00000000e+00, 6.97762200e-04,\n",
       "       2.25767741e-04, 0.00000000e+00, 3.48466794e-02, 1.50035781e-02,\n",
       "       7.19457235e-03, 4.44313572e-04, 1.59420178e-03, 3.05841905e-04,\n",
       "       4.12146096e-05, 4.28840179e-02, 6.09014998e-03, 0.00000000e+00,\n",
       "       0.00000000e+00, 0.00000000e+00, 3.14708537e-04, 1.23023945e-02,\n",
       "       4.11213543e-04, 2.02828758e-03, 3.23660618e-04, 2.45627403e-02,\n",
       "       1.78262758e-03, 2.43424019e-03, 0.00000000e+00, 6.08089922e-03,\n",
       "       3.53356954e-04, 8.03472167e-03, 6.27902955e-04, 9.00890923e-03,\n",
       "       5.76994058e-03, 2.19379105e-03, 0.00000000e+00, 0.00000000e+00,\n",
       "       0.00000000e+00, 1.19492913e-02, 1.27412568e-02, 0.00000000e+00,\n",
       "       0.00000000e+00, 5.59857934e-03, 1.05660658e-04, 1.00385498e-04,\n",
       "       0.00000000e+00, 3.82995659e-03, 1.87720882e-04, 0.00000000e+00,\n",
       "       3.05519687e-04, 1.56171154e-04, 7.76946495e-04, 3.55116458e-04,\n",
       "       4.14514889e-04, 3.86613303e-03, 2.07358993e-03, 5.01288221e-03,\n",
       "       1.88154012e-03, 0.00000000e+00, 3.57736590e-04, 0.00000000e+00,\n",
       "       2.88796241e-03, 1.17241540e-03, 2.48047988e-02, 1.20462598e-04,\n",
       "       6.60959508e-03, 1.45796363e-03, 4.49424501e-04, 0.00000000e+00,\n",
       "       0.00000000e+00, 8.34317904e-03, 2.92924111e-02, 1.78687673e-02,\n",
       "       1.84154076e-03, 6.40903530e-03, 2.31890501e-04, 0.00000000e+00,\n",
       "       5.60601529e-04, 6.45909318e-03, 1.19072959e-02, 9.22382863e-04])"
      ]
     },
     "execution_count": 34,
     "metadata": {},
     "output_type": "execute_result"
    }
   ],
   "source": [
    "fittedgrid.best_estimator_[1].feature_importances_"
   ]
  },
  {
   "cell_type": "code",
   "execution_count": null,
   "metadata": {},
   "outputs": [],
   "source": []
  },
  {
   "cell_type": "code",
   "execution_count": null,
   "metadata": {},
   "outputs": [],
   "source": []
  },
  {
   "cell_type": "markdown",
   "metadata": {},
   "source": [
    "#### With PCA"
   ]
  },
  {
   "cell_type": "code",
   "execution_count": 36,
   "metadata": {},
   "outputs": [
    {
     "name": "stdout",
     "output_type": "stream",
     "text": [
      "Fitting 5 folds for each of 2856 candidates, totalling 14280 fits\n"
     ]
    },
    {
     "name": "stderr",
     "output_type": "stream",
     "text": [
      "[Parallel(n_jobs=-1)]: Using backend LokyBackend with 8 concurrent workers.\n",
      "[Parallel(n_jobs=-1)]: Done  34 tasks      | elapsed:    2.0s\n",
      "[Parallel(n_jobs=-1)]: Done 184 tasks      | elapsed:    6.5s\n",
      "[Parallel(n_jobs=-1)]: Done 434 tasks      | elapsed:   15.5s\n",
      "[Parallel(n_jobs=-1)]: Done 784 tasks      | elapsed:   31.5s\n",
      "[Parallel(n_jobs=-1)]: Done 1234 tasks      | elapsed:   57.6s\n",
      "[Parallel(n_jobs=-1)]: Done 1784 tasks      | elapsed:  1.6min\n",
      "[Parallel(n_jobs=-1)]: Done 2434 tasks      | elapsed:  2.5min\n",
      "[Parallel(n_jobs=-1)]: Done 3184 tasks      | elapsed:  3.9min\n",
      "[Parallel(n_jobs=-1)]: Done 4034 tasks      | elapsed:  5.8min\n",
      "[Parallel(n_jobs=-1)]: Done 4984 tasks      | elapsed:  8.4min\n",
      "[Parallel(n_jobs=-1)]: Done 6034 tasks      | elapsed: 11.9min\n",
      "[Parallel(n_jobs=-1)]: Done 7184 tasks      | elapsed: 16.4min\n",
      "[Parallel(n_jobs=-1)]: Done 8434 tasks      | elapsed: 22.1min\n",
      "[Parallel(n_jobs=-1)]: Done 9784 tasks      | elapsed: 29.4min\n",
      "[Parallel(n_jobs=-1)]: Done 11234 tasks      | elapsed: 38.4min\n",
      "[Parallel(n_jobs=-1)]: Done 12784 tasks      | elapsed: 47.9min\n",
      "[Parallel(n_jobs=-1)]: Done 14280 out of 14280 | elapsed: 57.7min finished\n"
     ]
    },
    {
     "name": "stdout",
     "output_type": "stream",
     "text": [
      "CPU times: user 1min 11s, sys: 1.86 s, total: 1min 13s\n",
      "Wall time: 57min 47s\n"
     ]
    }
   ],
   "source": [
    "%%time\n",
    "# Import everything again (for completeness)\n",
    "from sklearn.preprocessing import StandardScaler\n",
    "from sklearn.decomposition import PCA\n",
    "from sklearn.tree import DecisionTreeClassifier\n",
    "from sklearn.ensemble import RandomForestClassifier\n",
    "from sklearn.neighbors import KNeighborsClassifier\n",
    "\n",
    "# Make the pipeline\n",
    "# Note that this is more of a placeholder, grid search will only look over the values\n",
    "# in the param grid, this more to setup the pipeline step names\n",
    "\n",
    "estimators = [('dimensionality', PCA()),\n",
    "              ('model', DecisionTreeClassifier())]\n",
    "\n",
    "pipe = Pipeline(estimators)\n",
    "\n",
    "param_grid = [\n",
    "{'dimensionality':[PCA()],\n",
    " 'model': [DecisionTreeClassifier()],\n",
    " 'dimensionality__n_components':np.arange(1,min(X_rf.shape)),\n",
    " 'model__max_depth':np.arange(1, 25)}\n",
    "]\n",
    "grid = GridSearchCV(pipe, param_grid, cv=5, verbose=1, n_jobs=-1)\n",
    "fittedgrid = grid.fit(X_rf, y_rf)"
   ]
  },
  {
   "cell_type": "code",
   "execution_count": 37,
   "metadata": {},
   "outputs": [
    {
     "name": "stdout",
     "output_type": "stream",
     "text": [
      "Accuracy: 0.34761549925484353\n",
      "\n",
      "Score: 0.8997136110134151\n"
     ]
    }
   ],
   "source": [
    "# What is the best pipeline?\n",
    "fittedgrid.best_estimator_\n",
    "\n",
    "# Accuracy\n",
    "print('Accuracy:', fittedgrid.score(X_test, y_test))\n",
    "\n",
    "print('')\n",
    "\n",
    "# Score\n",
    "print('Score:', fittedgrid.score(X_rf, y_rf))"
   ]
  },
  {
   "cell_type": "code",
   "execution_count": 62,
   "metadata": {},
   "outputs": [],
   "source": [
    "acc_dic['DT_with_PCA'] = ('Acc: 0.34', 'Score: 0.89' )"
   ]
  },
  {
   "cell_type": "code",
   "execution_count": 38,
   "metadata": {},
   "outputs": [
    {
     "data": {
      "image/png": "[encoded data removed]",
      "text/plain": [
       "<Figure size 720x720 with 1 Axes>"
      ]
     },
     "metadata": {
      "needs_background": "light"
     },
     "output_type": "display_data"
    }
   ],
   "source": [
    "# Let's get the prediction vector\n",
    "y_pred = fittedgrid.predict(X_test)\n",
    "\n",
    "from sklearn.metrics import confusion_matrix\n",
    "\n",
    "# Let's get the prediction vector\n",
    "y_pred = fittedgrid.predict(X_test)\n",
    "\n",
    "y_pred = fittedgrid.predict(X_test)\n",
    "\n",
    "conf_mat = confusion_matrix(y_test, y_pred)\n",
    "plt.figure(figsize = (10,10))\n",
    "sns.heatmap(conf_mat,\n",
    "            annot=True,\n",
    "            fmt=\"g\",\n",
    "            cbar=False\n",
    "           )\n",
    "plt.title('Model Confusion Matrix',size = 25,y=1.01)\n",
    "plt.show()"
   ]
  },
  {
   "cell_type": "code",
   "execution_count": 39,
   "metadata": {},
   "outputs": [
    {
     "name": "stdout",
     "output_type": "stream",
     "text": [
      "Recall: [0.31604938 0.18627451 0.12820513 0.30016313 0.18807339 0.07692308\n",
      " 0.51100244 0.31875    0.74778761 0.05555556 0.10869565 0.16901408\n",
      " 0.2       ]\n",
      "\n",
      "Precision: [0.36887608 0.11656442 0.06493506 0.40707965 0.19158879 0.04\n",
      " 0.55882353 0.38734177 0.69834711 0.02631579 0.07246377 0.05825243\n",
      " 0.2       ]\n",
      "\n",
      "Recall mean: 0.2543456901634134\n",
      "\n",
      "Precision mean: 0.24542987597267857\n"
     ]
    }
   ],
   "source": [
    "recall = np.diag(conf_mat)/np.sum(conf_mat, axis = 1)\n",
    "precision = np.diag(conf_mat)/np.sum(conf_mat, axis = 0)\n",
    "\n",
    "print('Recall:', recall)\n",
    "\n",
    "print('')\n",
    "\n",
    "print('Precision:', precision)\n",
    "\n",
    "print('')\n",
    "\n",
    "print('Recall mean:', np.mean(recall))\n",
    "\n",
    "print('')\n",
    "\n",
    "print('Precision mean:', np.mean(precision))"
   ]
  },
  {
   "cell_type": "code",
   "execution_count": 40,
   "metadata": {},
   "outputs": [
    {
     "data": {
      "text/plain": [
       "array([0.090833  , 0.00644032, 0.03273834, 0.05066821, 0.00504406,\n",
       "       0.01969899, 0.01629821, 0.05565284, 0.00765248, 0.00564359,\n",
       "       0.00699809, 0.0328563 , 0.01286976, 0.01281805, 0.01936198,\n",
       "       0.00579136, 0.00477245, 0.00906335, 0.00659604, 0.0130379 ,\n",
       "       0.01009141, 0.00837965, 0.02090023, 0.003326  , 0.00284631,\n",
       "       0.00878215, 0.00398376, 0.0052234 , 0.01424315, 0.01059058,\n",
       "       0.00960799, 0.00588947, 0.00333773, 0.00627409, 0.00993814,\n",
       "       0.01853075, 0.01114597, 0.0077446 , 0.00701365, 0.01150818,\n",
       "       0.00691682, 0.00832027, 0.00873742, 0.00868003, 0.01216472,\n",
       "       0.00696737, 0.00639821, 0.00347416, 0.01005193, 0.00630644,\n",
       "       0.00804656, 0.00534952, 0.00898145, 0.00654662, 0.00937834,\n",
       "       0.0069769 , 0.0065198 , 0.00589235, 0.01189464, 0.00769701,\n",
       "       0.00774403, 0.00413732, 0.01006314, 0.00741254, 0.00555326,\n",
       "       0.0243688 , 0.00300244, 0.01647681, 0.01076169, 0.00356719,\n",
       "       0.00734355, 0.00736764, 0.0071313 , 0.01364354, 0.00879517,\n",
       "       0.00357715, 0.01014032, 0.00896867, 0.00486101, 0.00821391,\n",
       "       0.00644713, 0.00451375, 0.0121218 , 0.00572092, 0.00836066,\n",
       "       0.01027646, 0.01346406, 0.01072089, 0.00575174])"
      ]
     },
     "execution_count": 40,
     "metadata": {},
     "output_type": "execute_result"
    }
   ],
   "source": [
    "#fittedgrid.best_estimator_.feature_importances_()\n",
    "\n",
    "fittedgrid.best_estimator_[1].feature_importances_"
   ]
  },
  {
   "cell_type": "markdown",
   "metadata": {},
   "source": [
    "In terms of accuracy, the DecisionTree performs better without PCA."
   ]
  },
  {
   "cell_type": "code",
   "execution_count": null,
   "metadata": {},
   "outputs": [],
   "source": []
  },
  {
   "cell_type": "markdown",
   "metadata": {},
   "source": [
    "### KNN "
   ]
  },
  {
   "cell_type": "markdown",
   "metadata": {},
   "source": [
    "Int the case of KNN, it is important to combine the model with PCA"
   ]
  },
  {
   "cell_type": "code",
   "execution_count": 41,
   "metadata": {},
   "outputs": [
    {
     "name": "stdout",
     "output_type": "stream",
     "text": [
      "Fitting 5 folds for each of 714 candidates, totalling 3570 fits\n"
     ]
    },
    {
     "name": "stderr",
     "output_type": "stream",
     "text": [
      "[Parallel(n_jobs=-1)]: Using backend LokyBackend with 8 concurrent workers.\n",
      "[Parallel(n_jobs=-1)]: Done  34 tasks      | elapsed:    1.8s\n",
      "[Parallel(n_jobs=-1)]: Done 184 tasks      | elapsed:    8.8s\n",
      "[Parallel(n_jobs=-1)]: Done 434 tasks      | elapsed:   24.7s\n",
      "[Parallel(n_jobs=-1)]: Done 784 tasks      | elapsed:   54.8s\n",
      "[Parallel(n_jobs=-1)]: Done 1234 tasks      | elapsed:  2.0min\n",
      "[Parallel(n_jobs=-1)]: Done 1784 tasks      | elapsed:  4.3min\n",
      "[Parallel(n_jobs=-1)]: Done 2434 tasks      | elapsed:  8.8min\n",
      "[Parallel(n_jobs=-1)]: Done 3184 tasks      | elapsed: 15.3min\n",
      "[Parallel(n_jobs=-1)]: Done 3570 out of 3570 | elapsed: 18.8min finished\n",
      "/home/ec2-user/anaconda3/envs/python3/lib/python3.6/site-packages/sklearn/pipeline.py:354: DataConversionWarning: A column-vector y was passed when a 1d array was expected. Please change the shape of y to (n_samples, ), for example using ravel().\n",
      "  self._final_estimator.fit(Xt, y, **fit_params)\n"
     ]
    },
    {
     "name": "stdout",
     "output_type": "stream",
     "text": [
      "CPU times: user 17.5 s, sys: 548 ms, total: 18 s\n",
      "Wall time: 18min 48s\n"
     ]
    }
   ],
   "source": [
    "%%time\n",
    "# Import everything again (for completeness)\n",
    "from sklearn.preprocessing import StandardScaler\n",
    "from sklearn.decomposition import PCA\n",
    "from sklearn.tree import DecisionTreeClassifier\n",
    "from sklearn.ensemble import RandomForestClassifier\n",
    "from sklearn.neighbors import KNeighborsClassifier\n",
    "\n",
    "# Make the pipeline\n",
    "# Note that this is more of a placeholder, grid search will only look over the values\n",
    "# in the param grid, this more to setup the pipeline step names\n",
    "\n",
    "\n",
    "\n",
    "estimators = [('dimensionality', PCA()),\n",
    "              ('model', KNeighborsClassifier())]\n",
    "\n",
    "pipe = Pipeline(estimators)\n",
    "\n",
    "param_grid = [\n",
    "{ 'dimensionality':[PCA()],\n",
    " 'model': [KNeighborsClassifier()],\n",
    "  'dimensionality__n_components':np.arange(1,min(X_rf.shape)),\n",
    "  'model__n_neighbors':np.arange(1, 7)}\n",
    "]\n",
    "grid = GridSearchCV(pipe, param_grid, cv=5, verbose=1, n_jobs=-1)\n",
    "fittedgrid = grid.fit(X_rf, y_rf)"
   ]
  },
  {
   "cell_type": "code",
   "execution_count": 42,
   "metadata": {},
   "outputs": [
    {
     "name": "stdout",
     "output_type": "stream",
     "text": [
      "Pipeline(memory=None,\n",
      "         steps=[('dimensionality',\n",
      "                 PCA(copy=True, iterated_power='auto', n_components=107,\n",
      "                     random_state=None, svd_solver='auto', tol=0.0,\n",
      "                     whiten=False)),\n",
      "                ('model',\n",
      "                 KNeighborsClassifier(algorithm='auto', leaf_size=30,\n",
      "                                      metric='minkowski', metric_params=None,\n",
      "                                      n_jobs=None, n_neighbors=1, p=2,\n",
      "                                      weights='uniform'))],\n",
      "         verbose=False)\n",
      "Accuracy: 0.3789120715350224\n",
      "\n",
      "Score: 1.0\n"
     ]
    }
   ],
   "source": [
    "# What is the best pipeline?\n",
    "print(fittedgrid.best_estimator_)\n",
    "\n",
    "# Accuracy\n",
    "print('Accuracy:', fittedgrid.score(X_test, y_test))\n",
    "\n",
    "print('')\n",
    "\n",
    "# Score\n",
    "print('Score:', fittedgrid.score(X_rf, y_rf))"
   ]
  },
  {
   "cell_type": "code",
   "execution_count": 63,
   "metadata": {},
   "outputs": [],
   "source": [
    "acc_dic['KNN_with_PCA'] = ('Acc: 0.37', 'Score: 1.0' )"
   ]
  },
  {
   "cell_type": "code",
   "execution_count": 43,
   "metadata": {},
   "outputs": [
    {
     "data": {
      "image/png": "[encoded data removed]",
      "text/plain": [
       "<Figure size 720x720 with 1 Axes>"
      ]
     },
     "metadata": {
      "needs_background": "light"
     },
     "output_type": "display_data"
    }
   ],
   "source": [
    "# Let's get the prediction vector\n",
    "y_pred = fittedgrid.predict(X_test)\n",
    "\n",
    "from sklearn.metrics import confusion_matrix\n",
    "\n",
    "# Let's get the prediction vector\n",
    "y_pred = fittedgrid.predict(X_test)\n",
    "\n",
    "y_pred = fittedgrid.predict(X_test)\n",
    "\n",
    "conf_mat = confusion_matrix(y_test, y_pred)\n",
    "plt.figure(figsize = (10,10))\n",
    "sns.heatmap(conf_mat,\n",
    "            annot=True,\n",
    "            fmt=\"g\",\n",
    "            cbar=False\n",
    "           )\n",
    "plt.title('Model Confusion Matrix',size = 25,y=1.01)\n",
    "plt.show()"
   ]
  },
  {
   "cell_type": "code",
   "execution_count": 44,
   "metadata": {},
   "outputs": [
    {
     "name": "stdout",
     "output_type": "stream",
     "text": [
      "Recall: [0.30864198 0.20588235 0.1025641  0.35236542 0.25688073 0.07692308\n",
      " 0.57457213 0.32291667 0.79646018 0.         0.2173913  0.12676056\n",
      " 0.2       ]\n",
      "\n",
      "Precision: [0.32216495 0.18421053 0.06896552 0.40986717 0.22672065 0.05\n",
      " 0.56763285 0.37530266 0.74688797 0.         0.17241379 0.07692308\n",
      " 0.125     ]\n",
      "\n",
      "Recall mean: 0.27241219201493777\n",
      "\n",
      "Precision mean: 0.25585301253622195\n"
     ]
    }
   ],
   "source": [
    "recall = np.diag(conf_mat)/np.sum(conf_mat, axis = 1)\n",
    "precision = np.diag(conf_mat)/np.sum(conf_mat, axis = 0)\n",
    "\n",
    "print('Recall:', recall)\n",
    "\n",
    "print('')\n",
    "\n",
    "print('Precision:', precision)\n",
    "\n",
    "print('')\n",
    "\n",
    "print('Recall mean:', np.mean(recall))\n",
    "\n",
    "print('')\n",
    "\n",
    "print('Precision mean:', np.mean(precision))"
   ]
  },
  {
   "cell_type": "markdown",
   "metadata": {},
   "source": [
    "Let us compare the different accuracies and scores we have obtained so far"
   ]
  },
  {
   "cell_type": "code",
   "execution_count": 64,
   "metadata": {},
   "outputs": [
    {
     "data": {
      "text/plain": [
       "{'RF_without_PCA': ('Acc: 0.44', 'Score: 1.0'),\n",
       " 'RF_with_PCA': ('Acc: 0.41', 'Score: 1.0'),\n",
       " 'DT_without_PCA': ('Acc: 0.36', 'Score: 0.85'),\n",
       " 'DT_with_PCA': ('Acc: 0.34', 'Score: 0.89'),\n",
       " 'KNN_with_PCA': ('Acc: 0.37', 'Score: 1.0')}"
      ]
     },
     "execution_count": 64,
     "metadata": {},
     "output_type": "execute_result"
    }
   ],
   "source": [
    "acc_dic"
   ]
  },
  {
   "cell_type": "markdown",
   "metadata": {},
   "source": [
    "In terms of accuracy, Random Forest without PCA is the best. "
   ]
  }
 ],
 "metadata": {
  "kernelspec": {
   "display_name": "Python 3",
   "language": "python",
   "name": "python3"
  },
  "language_info": {
   "codemirror_mode": {
    "name": "ipython",
    "version": 3
   },
   "file_extension": ".py",
   "mimetype": "text/x-python",
   "name": "python",
   "nbconvert_exporter": "python",
   "pygments_lexer": "ipython3",
   "version": "3.7.6"
  }
 },
 "nbformat": 4,
 "nbformat_minor": 4
}
