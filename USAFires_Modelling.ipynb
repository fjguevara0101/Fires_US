{
 "cells": [
  {
   "cell_type": "markdown",
   "metadata": {},
   "source": [
    "### Modelling"
   ]
  },
  {
   "cell_type": "markdown",
   "metadata": {},
   "source": [
    "There are two obstackles with the data we have prepared for modelling. One is the size of the dataset. $1.8$M datapoints are too many to be processed in a personal machine. This issue can be adddressed by subsampling. The other issue we have is that our data is imbalanced. There are many methods we can try to address this. One could be just downsampling. This was done and the results were not as expected. The other approach is using SMOTE. This gave us the best results, with an accuracy higher than $40\\%$. As for the models, we will try DecisionTree,  Random Forest and  KNN (if the machine allows us to do so). After we have run each model we will get the corresponding confusion matrix, recall and precision."
   ]
  },
  {
   "cell_type": "code",
   "execution_count": 1,
   "metadata": {},
   "outputs": [
    {
     "data": {
      "text/plain": [
       "dict_keys(['explained_variance', 'r2', 'max_error', 'neg_median_absolute_error', 'neg_mean_absolute_error', 'neg_mean_squared_error', 'neg_mean_squared_log_error', 'neg_root_mean_squared_error', 'neg_mean_poisson_deviance', 'neg_mean_gamma_deviance', 'accuracy', 'roc_auc', 'roc_auc_ovr', 'roc_auc_ovo', 'roc_auc_ovr_weighted', 'roc_auc_ovo_weighted', 'balanced_accuracy', 'average_precision', 'neg_log_loss', 'neg_brier_score', 'adjusted_rand_score', 'homogeneity_score', 'completeness_score', 'v_measure_score', 'mutual_info_score', 'adjusted_mutual_info_score', 'normalized_mutual_info_score', 'fowlkes_mallows_score', 'precision', 'precision_macro', 'precision_micro', 'precision_samples', 'precision_weighted', 'recall', 'recall_macro', 'recall_micro', 'recall_samples', 'recall_weighted', 'f1', 'f1_macro', 'f1_micro', 'f1_samples', 'f1_weighted', 'jaccard', 'jaccard_macro', 'jaccard_micro', 'jaccard_samples', 'jaccard_weighted'])"
      ]
     },
     "execution_count": 1,
     "metadata": {},
     "output_type": "execute_result"
    }
   ],
   "source": [
    "import pandas as pd\n",
    "\n",
    "import numpy as np\n",
    "\n",
    "import matplotlib.pyplot as plt\n",
    "import seaborn as sns\n",
    "\n",
    "from sklearn.pipeline import Pipeline\n",
    "from sklearn.model_selection import GridSearchCV\n",
    "from sklearn.metrics import SCORERS\n",
    "SCORERS.keys()"
   ]
  },
  {
   "cell_type": "markdown",
   "metadata": {},
   "source": []
  },
  {
   "cell_type": "code",
   "execution_count": 2,
   "metadata": {},
   "outputs": [
    {
     "name": "stdout",
     "output_type": "stream",
     "text": [
      "Wall time: 45.6 s\n"
     ]
    }
   ],
   "source": [
    "%%time\n",
    "X = pd.read_csv('C:\\\\Users\\\\francisco\\\\Desktop\\\\BrainStation\\\\Capstoneproject_BS\\\\FiresUSA\\\\fires_X.csv')"
   ]
  },
  {
   "cell_type": "code",
   "execution_count": 3,
   "metadata": {},
   "outputs": [
    {
     "name": "stdout",
     "output_type": "stream",
     "text": [
      "Wall time: 2.5 s\n"
     ]
    }
   ],
   "source": [
    "%%time\n",
    "y = pd.read_csv('C:\\\\Users\\\\francisco\\\\Desktop\\\\BrainStation\\\\Capstoneproject_BS\\\\FiresUSA\\\\fires_y.csv')"
   ]
  },
  {
   "cell_type": "code",
   "execution_count": 4,
   "metadata": {},
   "outputs": [
    {
     "name": "stdout",
     "output_type": "stream",
     "text": [
      "<class 'pandas.core.frame.DataFrame'>\n",
      "RangeIndex: 1789378 entries, 0 to 1789377\n",
      "Columns: 120 entries, FIRE_SIZE to STATE_WY\n",
      "dtypes: float64(3), int64(117)\n",
      "memory usage: 1.6 GB\n"
     ]
    }
   ],
   "source": [
    "X.info()"
   ]
  },
  {
   "cell_type": "code",
   "execution_count": 5,
   "metadata": {},
   "outputs": [
    {
     "name": "stdout",
     "output_type": "stream",
     "text": [
      "<class 'pandas.core.frame.DataFrame'>\n",
      "RangeIndex: 1789378 entries, 0 to 1789377\n",
      "Data columns (total 1 columns):\n",
      " #   Column                Dtype\n",
      "---  ------                -----\n",
      " 0   STAT_CAUSE_DESCR_cat  int64\n",
      "dtypes: int64(1)\n",
      "memory usage: 13.7 MB\n"
     ]
    }
   ],
   "source": [
    "y.info()"
   ]
  },
  {
   "cell_type": "markdown",
   "metadata": {},
   "source": []
  },
  {
   "cell_type": "markdown",
   "metadata": {},
   "source": [
    "Our next steps include:\n",
    "\n",
    "* Downsampling and upsampling our data.\n",
    "* Scaling our data so that we can use it with various models (this is not necessary to run a Decision Tree or a Random Fores but it is important for KNN)\n",
    "* If possible, reduce the number of features using PCA. This will address the problem of multicoliarity and it particularly important for KNN.\n",
    "* Model to run: Decision Tree, RandomForest and KNN."
   ]
  },
  {
   "cell_type": "code",
   "execution_count": 6,
   "metadata": {},
   "outputs": [],
   "source": [
    "# Below we import some of the libraries and packages we may need\n",
    "#from sklearn.feature_extraction.text import CountVectorizer\n",
    "# splitting our data into train and test sets\n",
    "from sklearn.model_selection import train_test_split\n",
    "from sklearn.preprocessing import StandardScaler\n",
    "from sklearn.decomposition import PCA\n",
    "from sklearn.metrics import accuracy_score\n",
    "\n",
    "from sklearn.metrics import accuracy_score\n",
    "%matplotlib inline"
   ]
  },
  {
   "cell_type": "markdown",
   "metadata": {},
   "source": [
    "This dataset is too large to be processed as our models are computational expensive. Therefore, we will work with a subsample of the data."
   ]
  },
  {
   "cell_type": "code",
   "execution_count": 7,
   "metadata": {},
   "outputs": [
    {
     "name": "stdout",
     "output_type": "stream",
     "text": [
      "Wall time: 0 ns\n"
     ]
    }
   ],
   "source": [
    "%time\n",
    "X_subsample, X_rest, y_subsample, y_rest = \\\n",
    "        train_test_split(X, y, test_size = 0.995, random_state=2020)"
   ]
  },
  {
   "cell_type": "markdown",
   "metadata": {},
   "source": [
    "Let us scale our data and then we split it to get the test set."
   ]
  },
  {
   "cell_type": "code",
   "execution_count": 8,
   "metadata": {},
   "outputs": [
    {
     "name": "stdout",
     "output_type": "stream",
     "text": [
      "Wall time: 42.7 s\n",
      "Parser   : 114 ms\n"
     ]
    }
   ],
   "source": [
    "%%time\n",
    "\n",
    "# Splitting the data into the test and remainder data:\n",
    "X_remainder, X_test, y_remainder, y_test = \\\n",
    "        train_test_split(X_subsample, y_subsample, test_size = 0.3, random_state=2020)\n",
    "\n",
    "\n",
    "# Scaling:\n",
    "scaler = StandardScaler()\n",
    "scaler.fit(X_remainder)\n",
    "X_remainder = scaler.transform(X_remainder)\n",
    "X_test = scaler.transform(X_test)"
   ]
  },
  {
   "cell_type": "code",
   "execution_count": 9,
   "metadata": {},
   "outputs": [
    {
     "data": {
      "text/plain": [
       "(6262, 120)"
      ]
     },
     "execution_count": 9,
     "metadata": {},
     "output_type": "execute_result"
    }
   ],
   "source": [
    "X_remainder.shape"
   ]
  },
  {
   "cell_type": "code",
   "execution_count": 10,
   "metadata": {},
   "outputs": [
    {
     "data": {
      "text/plain": [
       "(6262, 1)"
      ]
     },
     "execution_count": 10,
     "metadata": {},
     "output_type": "execute_result"
    }
   ],
   "source": [
    "y_remainder.shape"
   ]
  },
  {
   "cell_type": "markdown",
   "metadata": {},
   "source": [
    "We will address the imbalance problem in our data using SMOTE. We will do an oversample and an undersampling using `X_remainder` and `y_remainder`."
   ]
  },
  {
   "cell_type": "code",
   "execution_count": 11,
   "metadata": {},
   "outputs": [
    {
     "name": "stdout",
     "output_type": "stream",
     "text": [
      "0.7.0\n"
     ]
    }
   ],
   "source": [
    "import imblearn\n",
    "print(imblearn.__version__)"
   ]
  },
  {
   "cell_type": "code",
   "execution_count": 12,
   "metadata": {},
   "outputs": [],
   "source": [
    "from sklearn.datasets import make_classification\n",
    "from imblearn.over_sampling import SMOTE\n",
    "from imblearn.under_sampling import RandomUnderSampler"
   ]
  },
  {
   "cell_type": "code",
   "execution_count": null,
   "metadata": {},
   "outputs": [],
   "source": []
  },
  {
   "cell_type": "code",
   "execution_count": 13,
   "metadata": {},
   "outputs": [
    {
     "name": "stdout",
     "output_type": "stream",
     "text": [
      "[('STAT_CAUSE_DESCR_cat', 1)]\n",
      "Wall time: 1min 7s\n"
     ]
    }
   ],
   "source": [
    "%%time\n",
    "from collections import Counter\n",
    "from imblearn.combine import SMOTEENN\n",
    "smote_enn = SMOTEENN(random_state=0)\n",
    "X_resampled, y_resampled = smote_enn.fit_resample(X_remainder, y_remainder)\n",
    "print(sorted(Counter(y_resampled).items()))"
   ]
  },
  {
   "cell_type": "code",
   "execution_count": 14,
   "metadata": {},
   "outputs": [
    {
     "name": "stdout",
     "output_type": "stream",
     "text": [
      "[('STAT_CAUSE_DESCR_cat', 1)]\n"
     ]
    }
   ],
   "source": [
    "from imblearn.combine import SMOTETomek\n",
    "smote_tomek = SMOTETomek(random_state=0)\n",
    "X_resampled, y_resampled = smote_tomek.fit_resample(X_remainder, y_remainder)\n",
    "print(sorted(Counter(y_resampled).items()))"
   ]
  },
  {
   "cell_type": "code",
   "execution_count": 15,
   "metadata": {},
   "outputs": [
    {
     "data": {
      "image/png": "[encoded data removed]",
      "text/plain": [
       "<Figure size 432x288 with 1 Axes>"
      ]
     },
     "metadata": {
      "needs_background": "light"
     },
     "output_type": "display_data"
    }
   ],
   "source": [
    "plt.figure()\n",
    "sns.distplot(y_resampled, kde=False) # Enable `kde` if you also want a curve to be plotted; in this case I've disabled it\n",
    "#plt.axvline(y.mean(), c='r', label='Mean') # Plot the mean\n",
    "#plt.axvline(y.median(), c='gold', label='Median') # Plot the median\n",
    "#plt.legend() # Make a legend so we know which line is the mean and which is the median\n",
    "plt.title('Dependent variable (train) after resampling')\n",
    "plt.xlabel('Categories')\n",
    "plt.ylabel('Count')\n",
    "plt.show()"
   ]
  },
  {
   "cell_type": "markdown",
   "metadata": {},
   "source": [
    "Below we store the data we havee processed so far to have it at hand."
   ]
  },
  {
   "cell_type": "code",
   "execution_count": 16,
   "metadata": {},
   "outputs": [
    {
     "name": "stdout",
     "output_type": "stream",
     "text": [
      "Wall time: 33.8 s\n"
     ]
    }
   ],
   "source": [
    "%%time\n",
    "# From numpy array to pandas daaframe\n",
    "X0 = pd.DataFrame(data = X_resampled, index=None, columns=None)\n",
    "#from pandas df to csv\n",
    "X0.to_csv(r'C:\\Users\\francisco\\Desktop\\BrainStation\\Capstoneproject_BS\\FiresUSA\\fires_X_smote.csv', index = False)\n",
    "\n",
    "##\n",
    "y0 = pd.DataFrame(data = y_resampled, index=None, columns=None)\n",
    "\n",
    "##\n",
    "\n",
    "y0.to_csv(r'C:\\Users\\francisco\\Desktop\\BrainStation\\Capstoneproject_BS\\FiresUSA\\fires_y_smote.csv', index = False)\n",
    "\n",
    "\n",
    "\n",
    "\n",
    "X00 = pd.DataFrame(data = X_test, index=None, columns=None)\n",
    "#from pandas df to csv\n",
    "X00.to_csv(r'C:\\Users\\francisco\\Desktop\\BrainStation\\Capstoneproject_BS\\FiresUSA\\fires_X_smote_test.csv', index = False)\n",
    "\n",
    "\n",
    "y00 = pd.DataFrame(data = y_test, index=None, columns=None)\n",
    "#from pandas df to csv\n",
    "y00.to_csv(r'C:\\Users\\francisco\\Desktop\\BrainStation\\Capstoneproject_BS\\FiresUSA\\fires_y_smote_test.csv', index = False)\n"
   ]
  },
  {
   "cell_type": "code",
   "execution_count": null,
   "metadata": {},
   "outputs": [],
   "source": []
  },
  {
   "cell_type": "markdown",
   "metadata": {},
   "source": [
    "### The cell below is made to be able to run  the random forest"
   ]
  },
  {
   "cell_type": "code",
   "execution_count": 17,
   "metadata": {},
   "outputs": [],
   "source": [
    "X_rf, X_resto, y_rf, y_resto = \\\n",
    "        train_test_split(X_resampled, y_resampled, test_size = 0.9, random_state=2020)\n",
    "\n",
    "\n",
    "X_rf_test, X_restos, y_rf_test, y_restos = \\\n",
    "        train_test_split(X_test, y_test, test_size = 0.9, random_state=2020)"
   ]
  },
  {
   "cell_type": "code",
   "execution_count": 18,
   "metadata": {},
   "outputs": [
    {
     "data": {
      "image/png": "[encoded data removed]",
      "text/plain": [
       "<Figure size 432x288 with 1 Axes>"
      ]
     },
     "metadata": {
      "needs_background": "light"
     },
     "output_type": "display_data"
    }
   ],
   "source": [
    "plt.figure()\n",
    "sns.distplot(y_rf, kde=False) # Enable `kde` if you also want a curve to be plotted; in this case I've disabled it\n",
    "#plt.axvline(y.mean(), c='r', label='Mean') # Plot the mean\n",
    "#plt.axvline(y.median(), c='gold', label='Median') # Plot the median\n",
    "#plt.legend() # Make a legend so we know which line is the mean and which is the median\n",
    "plt.title('Dependent variable (train) after resampling')\n",
    "plt.xlabel('Categories')\n",
    "plt.ylabel('Count')\n",
    "plt.show()"
   ]
  },
  {
   "cell_type": "markdown",
   "metadata": {},
   "source": [
    "### Random Forest"
   ]
  },
  {
   "cell_type": "markdown",
   "metadata": {},
   "source": [
    "#### Random Forest without PCA"
   ]
  },
  {
   "cell_type": "code",
   "execution_count": 113,
   "metadata": {},
   "outputs": [
    {
     "name": "stdout",
     "output_type": "stream",
     "text": [
      "Fitting 5 folds for each of 4 candidates, totalling 20 fits\n"
     ]
    },
    {
     "name": "stderr",
     "output_type": "stream",
     "text": [
      "[Parallel(n_jobs=-1)]: Using backend LokyBackend with 4 concurrent workers.\n",
      "[Parallel(n_jobs=-1)]: Done  20 out of  20 | elapsed:    6.9s finished\n",
      "C:\\Users\\francisco\\anaconda3\\lib\\site-packages\\sklearn\\pipeline.py:335: DataConversionWarning: A column-vector y was passed when a 1d array was expected. Please change the shape of y to (n_samples,), for example using ravel().\n",
      "  self._final_estimator.fit(Xt, y, **fit_params_last_step)\n"
     ]
    },
    {
     "name": "stdout",
     "output_type": "stream",
     "text": [
      "Wall time: 8.88 s\n"
     ]
    }
   ],
   "source": [
    "%%time\n",
    "# Import everything again (for completeness)\n",
    "from sklearn.preprocessing import StandardScaler\n",
    "from sklearn.decomposition import PCA\n",
    "from sklearn.tree import DecisionTreeClassifier\n",
    "from sklearn.ensemble import RandomForestClassifier\n",
    "from sklearn.neighbors import KNeighborsClassifier\n",
    "\n",
    "# Make the pipeline\n",
    "# Note that this is more of a placeholder, grid search will only look over the values\n",
    "# in the param grid, this more to setup the pipeline step names\n",
    "\n",
    "estimators = [('dimensionality', PCA()),\n",
    "              ('model', RandomForestClassifier())]\n",
    "\n",
    "pipe = Pipeline(estimators)\n",
    "\n",
    "param_grid = [\n",
    "{'dimensionality':[None],\n",
    "'model': [RandomForestClassifier(n_estimators=100)],\n",
    "'model__max_features': [3, 4, 5, 6]}\n",
    "#np.arange(1, 20)\n",
    "]\n",
    "grid = GridSearchCV(pipe, param_grid, cv=5, verbose=1, n_jobs=-1)\n",
    "fittedgrid = grid.fit(X_rf, y_rf)"
   ]
  },
  {
   "cell_type": "code",
   "execution_count": 21,
   "metadata": {},
   "outputs": [
    {
     "data": {
      "text/plain": [
       "Pipeline(steps=[('dimensionality', None),\n",
       "                ('model', RandomForestClassifier(max_features=6))])"
      ]
     },
     "execution_count": 21,
     "metadata": {},
     "output_type": "execute_result"
    }
   ],
   "source": [
    "# What is the best pipeline?\n",
    "fittedgrid.best_estimator_"
   ]
  },
  {
   "cell_type": "code",
   "execution_count": 115,
   "metadata": {},
   "outputs": [
    {
     "data": {
      "text/plain": [
       "0.36475409836065575"
      ]
     },
     "execution_count": 115,
     "metadata": {},
     "output_type": "execute_result"
    }
   ],
   "source": [
    "# Score\n",
    "fittedgrid.score(X_test, y_test)"
   ]
  },
  {
   "cell_type": "code",
   "execution_count": 116,
   "metadata": {},
   "outputs": [
    {
     "data": {
      "text/plain": [
       "1.0"
      ]
     },
     "execution_count": 116,
     "metadata": {},
     "output_type": "execute_result"
    }
   ],
   "source": [
    "# Accuracy\n",
    "fittedgrid.score(X_rf, y_rf)"
   ]
  },
  {
   "cell_type": "markdown",
   "metadata": {},
   "source": [
    "We can store the accuracies and scores in a dictionary."
   ]
  },
  {
   "cell_type": "code",
   "execution_count": 76,
   "metadata": {},
   "outputs": [],
   "source": [
    "acc_dic = {}\n",
    "acc_dic['RF_without_PCA'] = ('Acc: 0.37', 'Score: 1.0' )"
   ]
  },
  {
   "cell_type": "markdown",
   "metadata": {},
   "source": []
  },
  {
   "cell_type": "code",
   "execution_count": 24,
   "metadata": {},
   "outputs": [
    {
     "data": {
      "text/plain": [
       "array([0, 6, 4, ..., 8, 0, 8], dtype=int64)"
      ]
     },
     "execution_count": 24,
     "metadata": {},
     "output_type": "execute_result"
    }
   ],
   "source": [
    "# Let's get the prediction vector\n",
    "y_pred = fittedgrid.predict(X_test)\n",
    "y_pred"
   ]
  },
  {
   "cell_type": "code",
   "execution_count": 25,
   "metadata": {},
   "outputs": [
    {
     "data": {
      "image/png": "[encoded data removed]",
      "text/plain": [
       "<Figure size 720x720 with 1 Axes>"
      ]
     },
     "metadata": {
      "needs_background": "light"
     },
     "output_type": "display_data"
    },
    {
     "name": "stdout",
     "output_type": "stream",
     "text": [
      "Wall time: 2.74 s\n"
     ]
    }
   ],
   "source": [
    "%%time\n",
    "from sklearn.metrics import confusion_matrix\n",
    "\n",
    "# Let's get the prediction vector\n",
    "y_pred = fittedgrid.predict(X_test)\n",
    "\n",
    "y_pred = fittedgrid.predict(X_test)\n",
    "\n",
    "conf_mat = confusion_matrix(y_test, y_pred)\n",
    "plt.figure(figsize = (10,10))\n",
    "sns.heatmap(conf_mat,\n",
    "            annot=True,\n",
    "            fmt=\"g\",\n",
    "            cbar=False\n",
    "           )\n",
    "plt.title('Model Confusion Matrix',size = 25,y=1.01)\n",
    "plt.show()"
   ]
  },
  {
   "cell_type": "code",
   "execution_count": null,
   "metadata": {},
   "outputs": [],
   "source": []
  },
  {
   "cell_type": "code",
   "execution_count": 26,
   "metadata": {},
   "outputs": [
    {
     "name": "stdout",
     "output_type": "stream",
     "text": [
      "Recall: [0.39259259 0.2745098  0.17948718 0.24959217 0.19266055 0.53846154\n",
      " 0.60391198 0.26875    0.80530973 0.11111111 0.39130435 0.11267606\n",
      " 0.2       ]\n",
      "\n",
      "Precision: [0.40253165 0.21212121 0.07777778 0.44219653 0.21761658 0.10769231\n",
      " 0.52441614 0.48134328 0.59672131 0.025      0.18       0.06060606\n",
      " 0.05882353]\n",
      "\n",
      "Recall mean: 0.3323359280621243\n",
      "\n",
      "Precision mean: 0.26052664432462574\n"
     ]
    }
   ],
   "source": [
    "recall = np.diag(conf_mat)/np.sum(conf_mat, axis = 1)\n",
    "precision = np.diag(conf_mat)/np.sum(conf_mat, axis = 0)\n",
    "\n",
    "print('Recall:', recall)\n",
    "\n",
    "print('')\n",
    "\n",
    "print('Precision:', precision)\n",
    "\n",
    "print('')\n",
    "\n",
    "print('Recall mean:', np.mean(recall))\n",
    "\n",
    "print('')\n",
    "\n",
    "print('Precision mean:', np.mean(precision))"
   ]
  },
  {
   "cell_type": "markdown",
   "metadata": {},
   "source": [
    "Below we will determine wich features have the most predictive power."
   ]
  },
  {
   "cell_type": "code",
   "execution_count": 27,
   "metadata": {},
   "outputs": [
    {
     "data": {
      "text/plain": [
       "array([6.74728950e-02, 8.84662535e-02, 9.00898684e-02, 8.27517088e-02,\n",
       "       8.31237382e-02, 7.02452476e-02, 1.61101951e-02, 2.96525416e-03,\n",
       "       1.29610392e-02, 1.30439252e-02, 3.83675904e-04, 1.11664137e-02,\n",
       "       8.20056470e-04, 9.28014805e-04, 1.54892476e-04, 1.60827041e-03,\n",
       "       4.82906204e-03, 5.61043460e-04, 7.78012125e-04, 3.47389485e-03,\n",
       "       2.94244437e-04, 4.39925304e-04, 1.14671823e-02, 2.80642544e-03,\n",
       "       7.65207795e-04, 1.97361970e-03, 1.32105289e-03, 1.20135368e-03,\n",
       "       3.74607991e-04, 3.94469957e-03, 4.17915282e-04, 2.02142118e-02,\n",
       "       2.86981298e-03, 0.00000000e+00, 1.27627946e-04, 2.30915269e-03,\n",
       "       1.00466393e-03, 1.86316005e-03, 3.85199888e-04, 1.10296209e-03,\n",
       "       8.47482799e-03, 1.67322154e-03, 1.14550527e-03, 7.88483818e-04,\n",
       "       1.90718011e-03, 0.00000000e+00, 2.76084826e-02, 2.82196737e-02,\n",
       "       1.38833455e-02, 1.55966775e-03, 1.89175071e-03, 1.03293562e-03,\n",
       "       0.00000000e+00, 2.11344894e-02, 6.81409121e-03, 0.00000000e+00,\n",
       "       1.67517905e-04, 0.00000000e+00, 5.81249486e-04, 2.49007870e-02,\n",
       "       2.05975920e-05, 2.57705131e-03, 7.58278742e-04, 1.83138350e-02,\n",
       "       7.56147714e-03, 1.68540900e-03, 0.00000000e+00, 1.23215328e-02,\n",
       "       1.83398241e-03, 1.20365443e-02, 2.33036379e-03, 5.82496756e-03,\n",
       "       1.26748461e-02, 3.54156121e-03, 5.01396391e-04, 0.00000000e+00,\n",
       "       0.00000000e+00, 1.59398654e-02, 1.37261861e-02, 1.35582101e-04,\n",
       "       4.49701634e-04, 3.74274480e-03, 4.85947059e-04, 7.82512411e-04,\n",
       "       2.37299429e-04, 2.49149158e-03, 2.87014443e-03, 0.00000000e+00,\n",
       "       5.69956542e-04, 2.53956330e-03, 2.10412520e-03, 5.27189409e-03,\n",
       "       5.72462234e-04, 4.60390906e-03, 7.54831358e-03, 6.32272909e-03,\n",
       "       1.50048856e-03, 1.41273473e-03, 0.00000000e+00, 3.28161053e-03,\n",
       "       4.29186969e-03, 1.09366766e-03, 1.10272094e-02, 5.06655414e-04,\n",
       "       5.22622561e-03, 4.46258352e-03, 1.78860286e-03, 2.16347828e-03,\n",
       "       0.00000000e+00, 4.50375872e-03, 1.34363543e-02, 1.05756559e-02,\n",
       "       1.08044982e-02, 3.77311558e-03, 3.85089369e-03, 0.00000000e+00,\n",
       "       3.22245787e-03, 5.98180417e-03, 4.67553747e-03, 1.44482983e-03])"
      ]
     },
     "execution_count": 27,
     "metadata": {},
     "output_type": "execute_result"
    }
   ],
   "source": [
    "#fittedgrid.best_estimator_.feature_importances_()\n",
    "\n",
    "fittedgrid.best_estimator_[1].feature_importances_"
   ]
  },
  {
   "cell_type": "code",
   "execution_count": null,
   "metadata": {},
   "outputs": [],
   "source": []
  },
  {
   "cell_type": "markdown",
   "metadata": {},
   "source": [
    "#### Random Forest with PCA"
   ]
  },
  {
   "cell_type": "code",
   "execution_count": 28,
   "metadata": {},
   "outputs": [
    {
     "name": "stdout",
     "output_type": "stream",
     "text": [
      "Fitting 5 folds for each of 476 candidates, totalling 2380 fits\n"
     ]
    },
    {
     "name": "stderr",
     "output_type": "stream",
     "text": [
      "[Parallel(n_jobs=-1)]: Using backend LokyBackend with 4 concurrent workers.\n",
      "[Parallel(n_jobs=-1)]: Done  42 tasks      | elapsed:   29.6s\n",
      "[Parallel(n_jobs=-1)]: Done 192 tasks      | elapsed:  1.2min\n",
      "[Parallel(n_jobs=-1)]: Done 442 tasks      | elapsed:  2.8min\n",
      "[Parallel(n_jobs=-1)]: Done 792 tasks      | elapsed:  4.9min\n",
      "[Parallel(n_jobs=-1)]: Done 1242 tasks      | elapsed:  7.7min\n",
      "[Parallel(n_jobs=-1)]: Done 1792 tasks      | elapsed: 11.2min\n",
      "[Parallel(n_jobs=-1)]: Done 2380 out of 2380 | elapsed: 15.3min finished\n",
      "C:\\Users\\francisco\\anaconda3\\lib\\site-packages\\sklearn\\pipeline.py:335: DataConversionWarning: A column-vector y was passed when a 1d array was expected. Please change the shape of y to (n_samples,), for example using ravel().\n",
      "  self._final_estimator.fit(Xt, y, **fit_params_last_step)\n"
     ]
    },
    {
     "name": "stdout",
     "output_type": "stream",
     "text": [
      "Wall time: 15min 21s\n"
     ]
    }
   ],
   "source": [
    "%%time\n",
    "# Import everything again (for completeness)\n",
    "from sklearn.preprocessing import StandardScaler\n",
    "from sklearn.decomposition import PCA\n",
    "from sklearn.tree import DecisionTreeClassifier\n",
    "from sklearn.ensemble import RandomForestClassifier\n",
    "from sklearn.neighbors import KNeighborsClassifier\n",
    "\n",
    "# Make the pipeline\n",
    "# Note that this is more of a placeholder, grid search will only look over the values\n",
    "# in the param grid, this more to setup the pipeline step names\n",
    "\n",
    "estimators = [('dimensionality', PCA()),\n",
    "              ('model', RandomForestClassifier())]\n",
    "\n",
    "pipe = Pipeline(estimators)\n",
    "\n",
    "param_grid = [\n",
    "{'dimensionality':[PCA()],\n",
    "'model': [RandomForestClassifier(n_estimators=100)],\n",
    "'dimensionality__n_components':np.arange(1,min(X_rf.shape)),\n",
    "'model__max_features': [3, 4, 5, 6]}\n",
    "#np.arange(1, 20)\n",
    "]\n",
    "grid = GridSearchCV(pipe, param_grid, cv=5, verbose=1, n_jobs=-1)\n",
    "fittedgrid = grid.fit(X_rf, y_rf)"
   ]
  },
  {
   "cell_type": "code",
   "execution_count": 30,
   "metadata": {},
   "outputs": [
    {
     "name": "stdout",
     "output_type": "stream",
     "text": [
      "Accuracy: 0.3450074515648286\n",
      "\n",
      "Score: 1.0\n"
     ]
    }
   ],
   "source": [
    "# What is the best pipeline?\n",
    "print('Best estimator:', fittedgrid.best_estimator_)\n",
    "\n",
    "# Accuracy\n",
    "print('Accuracy:', fittedgrid.score(X_test, y_test))\n",
    "\n",
    "print('')\n",
    "\n",
    "# Score\n",
    "print('Score:', fittedgrid.score(X_rf, y_rf))"
   ]
  },
  {
   "cell_type": "code",
   "execution_count": 77,
   "metadata": {},
   "outputs": [],
   "source": [
    "acc_dic['RF_with_PCA'] = ('Acc: 0.34', 'Score: 1.0' )"
   ]
  },
  {
   "cell_type": "markdown",
   "metadata": {},
   "source": [
    "Let us see the confusion matrix."
   ]
  },
  {
   "cell_type": "code",
   "execution_count": 32,
   "metadata": {},
   "outputs": [
    {
     "data": {
      "image/png": "[encoded data removed]",
      "text/plain": [
       "<Figure size 720x720 with 1 Axes>"
      ]
     },
     "metadata": {
      "needs_background": "light"
     },
     "output_type": "display_data"
    }
   ],
   "source": [
    "# Let's get the prediction vector\n",
    "y_pred = fittedgrid.predict(X_test)\n",
    "\n",
    "from sklearn.metrics import confusion_matrix\n",
    "\n",
    "# Let's get the prediction vector\n",
    "y_pred = fittedgrid.predict(X_test)\n",
    "\n",
    "y_pred = fittedgrid.predict(X_test)\n",
    "\n",
    "conf_mat = confusion_matrix(y_test, y_pred)\n",
    "plt.figure(figsize = (10,10))\n",
    "sns.heatmap(conf_mat,\n",
    "            annot=True,\n",
    "            fmt=\"g\",\n",
    "            cbar=False\n",
    "           )\n",
    "plt.title('Model Confusion Matrix',size = 25,y=1.01)\n",
    "plt.show()"
   ]
  },
  {
   "cell_type": "code",
   "execution_count": null,
   "metadata": {},
   "outputs": [],
   "source": []
  },
  {
   "cell_type": "markdown",
   "metadata": {},
   "source": [
    "From the confusion matrix we can see recall and precision of this model "
   ]
  },
  {
   "cell_type": "code",
   "execution_count": 33,
   "metadata": {},
   "outputs": [
    {
     "name": "stdout",
     "output_type": "stream",
     "text": [
      "Recall: [0.31358025 0.31372549 0.21794872 0.20065253 0.20642202 0.46153846\n",
      " 0.54767726 0.27291667 0.80973451 0.27777778 0.47826087 0.12676056\n",
      " 0.4       ]\n",
      "\n",
      "Precision: [0.36389685 0.15165877 0.09444444 0.45555556 0.20737327 0.06976744\n",
      " 0.54901961 0.46453901 0.61409396 0.05208333 0.18644068 0.06164384\n",
      " 0.08695652]\n",
      "\n",
      "Recall mean: 0.3559227012131968\n",
      "\n",
      "Precision mean: 0.25826717484475364\n"
     ]
    }
   ],
   "source": [
    "recall = np.diag(conf_mat)/np.sum(conf_mat, axis = 1)\n",
    "precision = np.diag(conf_mat)/np.sum(conf_mat, axis = 0)\n",
    "\n",
    "print('Recall:', recall)\n",
    "\n",
    "print('')\n",
    "\n",
    "print('Precision:', precision)\n",
    "\n",
    "print('')\n",
    "\n",
    "print('Recall mean:', np.mean(recall))\n",
    "\n",
    "print('')\n",
    "\n",
    "print('Precision mean:', np.mean(precision))"
   ]
  },
  {
   "cell_type": "markdown",
   "metadata": {},
   "source": [
    "Below we can see which features are most important"
   ]
  },
  {
   "cell_type": "code",
   "execution_count": 34,
   "metadata": {},
   "outputs": [
    {
     "data": {
      "text/plain": [
       "array([0.01775187, 0.01735712, 0.01942793, 0.01534728, 0.01600619,\n",
       "       0.01639769, 0.01065644, 0.01281556, 0.01537267, 0.01030639,\n",
       "       0.01199498, 0.0103676 , 0.01081507, 0.01073294, 0.01121749,\n",
       "       0.01049562, 0.00983267, 0.01131093, 0.00943787, 0.00968967,\n",
       "       0.01082891, 0.01248207, 0.01259221, 0.01113097, 0.00906093,\n",
       "       0.00953555, 0.00772   , 0.00988882, 0.00874323, 0.00865374,\n",
       "       0.01110664, 0.00887905, 0.00973825, 0.00806889, 0.00941556,\n",
       "       0.00889305, 0.00964664, 0.00972797, 0.00797102, 0.01019868,\n",
       "       0.00956169, 0.01168258, 0.00866992, 0.00917303, 0.00761429,\n",
       "       0.00893146, 0.00966015, 0.01128153, 0.00921788, 0.00906854,\n",
       "       0.00795078, 0.00974518, 0.00908758, 0.00789678, 0.00884595,\n",
       "       0.0078868 , 0.00992593, 0.00875509, 0.0083706 , 0.0081086 ,\n",
       "       0.0079032 , 0.01016289, 0.00858256, 0.0091539 , 0.00935511,\n",
       "       0.00872063, 0.00806495, 0.00942433, 0.00877439, 0.01200226,\n",
       "       0.00949949, 0.00917176, 0.00854079, 0.01049344, 0.00912367,\n",
       "       0.00953763, 0.00963456, 0.00858631, 0.00863527, 0.00753018,\n",
       "       0.00856064, 0.00938632, 0.00794002, 0.01011216, 0.00969829,\n",
       "       0.00853452, 0.00806923, 0.00887503, 0.00952345, 0.00878161,\n",
       "       0.0084594 , 0.00779667, 0.00996512, 0.00926942, 0.0079395 ,\n",
       "       0.00874808, 0.00866124, 0.00751356, 0.00777812, 0.00832683,\n",
       "       0.01011295, 0.        , 0.        , 0.        , 0.        ,\n",
       "       0.        , 0.        , 0.        , 0.        , 0.        ,\n",
       "       0.        , 0.        , 0.        , 0.        , 0.        ,\n",
       "       0.        , 0.        , 0.        , 0.        ])"
      ]
     },
     "execution_count": 34,
     "metadata": {},
     "output_type": "execute_result"
    }
   ],
   "source": [
    "#fittedgrid.best_estimator_.feature_importances_()\n",
    "\n",
    "fittedgrid.best_estimator_[1].feature_importances_"
   ]
  },
  {
   "cell_type": "code",
   "execution_count": null,
   "metadata": {},
   "outputs": [],
   "source": []
  },
  {
   "cell_type": "markdown",
   "metadata": {},
   "source": [
    "### Decision Tree"
   ]
  },
  {
   "cell_type": "markdown",
   "metadata": {},
   "source": [
    "#### Without PCA"
   ]
  },
  {
   "cell_type": "code",
   "execution_count": 53,
   "metadata": {},
   "outputs": [
    {
     "name": "stdout",
     "output_type": "stream",
     "text": [
      "Fitting 5 folds for each of 24 candidates, totalling 120 fits\n"
     ]
    },
    {
     "name": "stderr",
     "output_type": "stream",
     "text": [
      "[Parallel(n_jobs=-1)]: Using backend LokyBackend with 4 concurrent workers.\n"
     ]
    },
    {
     "name": "stdout",
     "output_type": "stream",
     "text": [
      "Wall time: 1.93 s\n"
     ]
    },
    {
     "name": "stderr",
     "output_type": "stream",
     "text": [
      "[Parallel(n_jobs=-1)]: Done 120 out of 120 | elapsed:    1.8s finished\n"
     ]
    }
   ],
   "source": [
    "%%time\n",
    "# Import everything again (for completeness)\n",
    "from sklearn.preprocessing import StandardScaler\n",
    "from sklearn.decomposition import PCA\n",
    "from sklearn.tree import DecisionTreeClassifier\n",
    "from sklearn.ensemble import RandomForestClassifier\n",
    "from sklearn.neighbors import KNeighborsClassifier\n",
    "\n",
    "# Make the pipeline\n",
    "# Note that this is more of a placeholder, grid search will only look over the values\n",
    "# in the param grid, this more to setup the pipeline step names\n",
    "\n",
    "estimators = [('dimensionality', PCA()),\n",
    "              ('model', DecisionTreeClassifier())]\n",
    "\n",
    "pipe = Pipeline(estimators)\n",
    "\n",
    "param_grid = [\n",
    "{'dimensionality':[None],\n",
    " 'model': [DecisionTreeClassifier()],\n",
    " 'model__max_depth':np.arange(1, 25)}\n",
    "]\n",
    "grid = GridSearchCV(pipe, param_grid, cv=5, verbose=1, n_jobs=-1)\n",
    "fittedgrid = grid.fit(X_rf, y_rf)"
   ]
  },
  {
   "cell_type": "code",
   "execution_count": null,
   "metadata": {},
   "outputs": [],
   "source": []
  },
  {
   "cell_type": "code",
   "execution_count": 54,
   "metadata": {},
   "outputs": [
    {
     "name": "stdout",
     "output_type": "stream",
     "text": [
      "Pipeline(steps=[('dimensionality', None),\n",
      "                ('model', DecisionTreeClassifier(max_depth=24))])\n",
      "Accuracy: 0.30700447093889716\n",
      "\n",
      "Score: 0.907576571735626\n"
     ]
    }
   ],
   "source": [
    "# What is the best pipeline?\n",
    "print(fittedgrid.best_estimator_)\n",
    "\n",
    "# Accuracy\n",
    "print('Accuracy:', fittedgrid.score(X_test, y_test))\n",
    "\n",
    "print('')\n",
    "\n",
    "# Score\n",
    "print('Score:', fittedgrid.score(X_rf, y_rf))"
   ]
  },
  {
   "cell_type": "code",
   "execution_count": 78,
   "metadata": {},
   "outputs": [],
   "source": [
    "acc_dic['DT_without_PCA'] = ('Acc: 0.30', 'Score: 0.9' )\n"
   ]
  },
  {
   "cell_type": "code",
   "execution_count": 55,
   "metadata": {},
   "outputs": [
    {
     "data": {
      "image/png": "[encoded data removed]",
      "text/plain": [
       "<Figure size 720x720 with 1 Axes>"
      ]
     },
     "metadata": {
      "needs_background": "light"
     },
     "output_type": "display_data"
    }
   ],
   "source": [
    "# Let's get the prediction vector\n",
    "y_pred = fittedgrid.predict(X_test)\n",
    "\n",
    "from sklearn.metrics import confusion_matrix\n",
    "\n",
    "# Let's get the prediction vector\n",
    "y_pred = fittedgrid.predict(X_test)\n",
    "\n",
    "y_pred = fittedgrid.predict(X_test)\n",
    "\n",
    "conf_mat = confusion_matrix(y_test, y_pred)\n",
    "plt.figure(figsize = (10,10))\n",
    "sns.heatmap(conf_mat,\n",
    "            annot=True,\n",
    "            fmt=\"g\",\n",
    "            cbar=False\n",
    "           )\n",
    "plt.title('Model Confusion Matrix',size = 25,y=1.01)\n",
    "plt.show()"
   ]
  },
  {
   "cell_type": "code",
   "execution_count": 56,
   "metadata": {},
   "outputs": [
    {
     "name": "stdout",
     "output_type": "stream",
     "text": [
      "Recall: [0.26666667 0.28431373 0.12820513 0.18270799 0.30275229 0.30769231\n",
      " 0.46210269 0.275      0.68141593 0.05555556 0.2826087  0.08450704\n",
      " 0.        ]\n",
      "\n",
      "Precision: [0.34726688 0.09830508 0.06369427 0.40433213 0.22222222 0.11764706\n",
      " 0.55263158 0.40490798 0.52920962 0.01470588 0.1031746  0.04285714\n",
      " 0.        ]\n",
      "\n",
      "Recall mean: 0.25488677132756443\n",
      "\n",
      "Precision mean: 0.2231503422373524\n"
     ]
    }
   ],
   "source": [
    "recall = np.diag(conf_mat)/np.sum(conf_mat, axis = 1)\n",
    "precision = np.diag(conf_mat)/np.sum(conf_mat, axis = 0)\n",
    "\n",
    "print('Recall:', recall)\n",
    "\n",
    "print('')\n",
    "\n",
    "print('Precision:', precision)\n",
    "\n",
    "print('')\n",
    "\n",
    "print('Recall mean:', np.mean(recall))\n",
    "\n",
    "print('')\n",
    "\n",
    "print('Precision mean:', np.mean(precision))\n",
    "\n",
    "#fittedgrid.best_estimator_.feature_importances_()"
   ]
  },
  {
   "cell_type": "code",
   "execution_count": 57,
   "metadata": {},
   "outputs": [
    {
     "data": {
      "text/plain": [
       "array([0.07759886, 0.06225147, 0.09374553, 0.10626306, 0.12821692,\n",
       "       0.07774954, 0.02642729, 0.        , 0.        , 0.00489524,\n",
       "       0.        , 0.00583105, 0.00066356, 0.        , 0.        ,\n",
       "       0.        , 0.00191828, 0.0015483 , 0.        , 0.        ,\n",
       "       0.        , 0.        , 0.0389265 , 0.0011944 , 0.00148194,\n",
       "       0.00270006, 0.        , 0.        , 0.        , 0.00818412,\n",
       "       0.        , 0.0148247 , 0.00582388, 0.        , 0.        ,\n",
       "       0.00666471, 0.        , 0.00097954, 0.        , 0.        ,\n",
       "       0.02128351, 0.        , 0.        , 0.        , 0.        ,\n",
       "       0.        , 0.0166458 , 0.01516961, 0.01100875, 0.        ,\n",
       "       0.00152618, 0.        , 0.        , 0.05740583, 0.00136503,\n",
       "       0.        , 0.        , 0.        , 0.        , 0.00649465,\n",
       "       0.        , 0.        , 0.        , 0.03374609, 0.        ,\n",
       "       0.00221185, 0.        , 0.00793957, 0.        , 0.02000491,\n",
       "       0.        , 0.00868368, 0.00066356, 0.00210796, 0.        ,\n",
       "       0.        , 0.        , 0.0100174 , 0.00887648, 0.        ,\n",
       "       0.        , 0.        , 0.        , 0.        , 0.        ,\n",
       "       0.        , 0.00066356, 0.        , 0.        , 0.00066356,\n",
       "       0.        , 0.00066356, 0.        , 0.00530777, 0.00086262,\n",
       "       0.00106169, 0.00273166, 0.        , 0.        , 0.        ,\n",
       "       0.003154  , 0.        , 0.02664474, 0.        , 0.00059371,\n",
       "       0.00124819, 0.00263057, 0.        , 0.        , 0.00479881,\n",
       "       0.01290279, 0.00536237, 0.00571769, 0.00693532, 0.00215626,\n",
       "       0.        , 0.00450292, 0.00716709, 0.00964304, 0.0015483 ])"
      ]
     },
     "execution_count": 57,
     "metadata": {},
     "output_type": "execute_result"
    }
   ],
   "source": [
    "fittedgrid.best_estimator_[1].feature_importances_"
   ]
  },
  {
   "cell_type": "code",
   "execution_count": null,
   "metadata": {},
   "outputs": [],
   "source": []
  },
  {
   "cell_type": "code",
   "execution_count": null,
   "metadata": {},
   "outputs": [],
   "source": []
  },
  {
   "cell_type": "markdown",
   "metadata": {},
   "source": [
    "#### With PCA"
   ]
  },
  {
   "cell_type": "code",
   "execution_count": 58,
   "metadata": {},
   "outputs": [
    {
     "name": "stdout",
     "output_type": "stream",
     "text": [
      "Fitting 5 folds for each of 2856 candidates, totalling 14280 fits\n"
     ]
    },
    {
     "name": "stderr",
     "output_type": "stream",
     "text": [
      "[Parallel(n_jobs=-1)]: Using backend LokyBackend with 4 concurrent workers.\n",
      "[Parallel(n_jobs=-1)]: Done 128 tasks      | elapsed:    1.9s\n",
      "[Parallel(n_jobs=-1)]: Done 728 tasks      | elapsed:   11.1s\n",
      "[Parallel(n_jobs=-1)]: Done 1728 tasks      | elapsed:   32.3s\n",
      "[Parallel(n_jobs=-1)]: Done 3128 tasks      | elapsed:  1.2min\n",
      "[Parallel(n_jobs=-1)]: Done 4928 tasks      | elapsed:  2.4min\n",
      "[Parallel(n_jobs=-1)]: Done 6468 tasks      | elapsed:  3.7min\n",
      "[Parallel(n_jobs=-1)]: Done 7118 tasks      | elapsed:  4.3min\n",
      "[Parallel(n_jobs=-1)]: Done 7868 tasks      | elapsed:  5.2min\n",
      "[Parallel(n_jobs=-1)]: Done 8718 tasks      | elapsed:  6.2min\n",
      "[Parallel(n_jobs=-1)]: Done 9668 tasks      | elapsed:  7.5min\n",
      "[Parallel(n_jobs=-1)]: Done 10718 tasks      | elapsed:  9.3min\n",
      "[Parallel(n_jobs=-1)]: Done 11868 tasks      | elapsed: 11.3min\n",
      "[Parallel(n_jobs=-1)]: Done 13118 tasks      | elapsed: 13.2min\n",
      "[Parallel(n_jobs=-1)]: Done 14280 out of 14280 | elapsed: 15.0min finished\n"
     ]
    },
    {
     "name": "stdout",
     "output_type": "stream",
     "text": [
      "Wall time: 15min\n"
     ]
    }
   ],
   "source": [
    "%%time\n",
    "# Import everything again (for completeness)\n",
    "from sklearn.preprocessing import StandardScaler\n",
    "from sklearn.decomposition import PCA\n",
    "from sklearn.tree import DecisionTreeClassifier\n",
    "from sklearn.ensemble import RandomForestClassifier\n",
    "from sklearn.neighbors import KNeighborsClassifier\n",
    "\n",
    "# Make the pipeline\n",
    "# Note that this is more of a placeholder, grid search will only look over the values\n",
    "# in the param grid, this more to setup the pipeline step names\n",
    "\n",
    "estimators = [('dimensionality', PCA()),\n",
    "              ('model', DecisionTreeClassifier())]\n",
    "\n",
    "pipe = Pipeline(estimators)\n",
    "\n",
    "param_grid = [\n",
    "{'dimensionality':[PCA()],\n",
    " 'model': [DecisionTreeClassifier()],\n",
    " 'dimensionality__n_components':np.arange(1,min(X_rf.shape)),\n",
    " 'model__max_depth':np.arange(1, 25)}\n",
    "]\n",
    "grid = GridSearchCV(pipe, param_grid, cv=5, verbose=1, n_jobs=-1)\n",
    "fittedgrid = grid.fit(X_rf, y_rf)"
   ]
  },
  {
   "cell_type": "code",
   "execution_count": 60,
   "metadata": {},
   "outputs": [
    {
     "name": "stdout",
     "output_type": "stream",
     "text": [
      "Accuracy: 0.26527570789865873\n",
      "\n",
      "Score: 0.9618484685652875\n"
     ]
    }
   ],
   "source": [
    "# What is the best pipeline?\n",
    "fittedgrid.best_estimator_\n",
    "\n",
    "# Accuracy\n",
    "print('Accuracy:', fittedgrid.score(X_test, y_test))\n",
    "\n",
    "print('')\n",
    "\n",
    "# Score\n",
    "print('Score:', fittedgrid.score(X_rf, y_rf))"
   ]
  },
  {
   "cell_type": "code",
   "execution_count": 81,
   "metadata": {},
   "outputs": [],
   "source": [
    "acc_dic['DT_with_PCA'] = ('Acc: 0.26', 'Score: 0.96' )"
   ]
  },
  {
   "cell_type": "code",
   "execution_count": 61,
   "metadata": {},
   "outputs": [
    {
     "data": {
      "image/png": "[encoded data removed]",
      "text/plain": [
       "<Figure size 720x720 with 1 Axes>"
      ]
     },
     "metadata": {
      "needs_background": "light"
     },
     "output_type": "display_data"
    }
   ],
   "source": [
    "# Let's get the prediction vector\n",
    "y_pred = fittedgrid.predict(X_test)\n",
    "\n",
    "from sklearn.metrics import confusion_matrix\n",
    "\n",
    "# Let's get the prediction vector\n",
    "y_pred = fittedgrid.predict(X_test)\n",
    "\n",
    "y_pred = fittedgrid.predict(X_test)\n",
    "\n",
    "conf_mat = confusion_matrix(y_test, y_pred)\n",
    "plt.figure(figsize = (10,10))\n",
    "sns.heatmap(conf_mat,\n",
    "            annot=True,\n",
    "            fmt=\"g\",\n",
    "            cbar=False\n",
    "           )\n",
    "plt.title('Model Confusion Matrix',size = 25,y=1.01)\n",
    "plt.show()"
   ]
  },
  {
   "cell_type": "code",
   "execution_count": 62,
   "metadata": {},
   "outputs": [
    {
     "name": "stdout",
     "output_type": "stream",
     "text": [
      "Recall: [0.25925926 0.2745098  0.08974359 0.17944535 0.17431193 0.46153846\n",
      " 0.37897311 0.20833333 0.61504425 0.05555556 0.23913043 0.15492958\n",
      " 0.2       ]\n",
      "\n",
      "Precision: [0.30612245 0.11522634 0.03301887 0.39426523 0.15322581 0.125\n",
      " 0.47256098 0.37037037 0.56275304 0.01123596 0.07638889 0.05445545\n",
      " 0.03225806]\n",
      "\n",
      "Recall mean: 0.25313651122006536\n",
      "\n",
      "Precision mean: 0.2082216484771022\n"
     ]
    }
   ],
   "source": [
    "recall = np.diag(conf_mat)/np.sum(conf_mat, axis = 1)\n",
    "precision = np.diag(conf_mat)/np.sum(conf_mat, axis = 0)\n",
    "\n",
    "print('Recall:', recall)\n",
    "\n",
    "print('')\n",
    "\n",
    "print('Precision:', precision)\n",
    "\n",
    "print('')\n",
    "\n",
    "print('Recall mean:', np.mean(recall))\n",
    "\n",
    "print('')\n",
    "\n",
    "print('Precision mean:', np.mean(precision))"
   ]
  },
  {
   "cell_type": "code",
   "execution_count": 63,
   "metadata": {},
   "outputs": [
    {
     "data": {
      "text/plain": [
       "array([0.06475172, 0.04624311, 0.05905456, 0.0418364 , 0.01526512,\n",
       "       0.04992802, 0.01568742, 0.00834676, 0.0185412 , 0.01271755,\n",
       "       0.        , 0.01476121, 0.01309038, 0.01163173, 0.01087092,\n",
       "       0.00910399, 0.00579995, 0.02378513, 0.01281071, 0.0083823 ,\n",
       "       0.01387609, 0.03470342, 0.01749158, 0.01204661, 0.02316125,\n",
       "       0.00869278, 0.01414471, 0.00419391, 0.00861182, 0.01131148,\n",
       "       0.00928329, 0.01447317, 0.0142157 , 0.00682652, 0.02320218,\n",
       "       0.0035665 , 0.01368025, 0.01512761, 0.01458272, 0.00762954,\n",
       "       0.01807835, 0.00397524, 0.01443542, 0.00879501, 0.01294388,\n",
       "       0.01052828, 0.00694934, 0.00562506, 0.0105968 , 0.01673006,\n",
       "       0.01276384, 0.01770053, 0.0125962 , 0.01575357, 0.00998746,\n",
       "       0.00925741, 0.01249484, 0.01830538, 0.01313627, 0.00587194,\n",
       "       0.01582805, 0.0171427 , 0.01707509])"
      ]
     },
     "execution_count": 63,
     "metadata": {},
     "output_type": "execute_result"
    }
   ],
   "source": [
    "#fittedgrid.best_estimator_.feature_importances_()\n",
    "\n",
    "fittedgrid.best_estimator_[1].feature_importances_"
   ]
  },
  {
   "cell_type": "markdown",
   "metadata": {},
   "source": [
    "In terms of accuracy, the DecisionTree performs better without PCA."
   ]
  },
  {
   "cell_type": "code",
   "execution_count": null,
   "metadata": {},
   "outputs": [],
   "source": []
  },
  {
   "cell_type": "markdown",
   "metadata": {},
   "source": [
    "### KNN "
   ]
  },
  {
   "cell_type": "markdown",
   "metadata": {},
   "source": [
    "Int the case of KNN, it is important to combine the model with PCA"
   ]
  },
  {
   "cell_type": "code",
   "execution_count": 69,
   "metadata": {},
   "outputs": [
    {
     "name": "stdout",
     "output_type": "stream",
     "text": [
      "Fitting 5 folds for each of 714 candidates, totalling 3570 fits\n"
     ]
    },
    {
     "name": "stderr",
     "output_type": "stream",
     "text": [
      "[Parallel(n_jobs=-1)]: Using backend LokyBackend with 4 concurrent workers.\n",
      "[Parallel(n_jobs=-1)]: Done  42 tasks      | elapsed:    1.2s\n",
      "[Parallel(n_jobs=-1)]: Done 292 tasks      | elapsed:    7.8s\n",
      "[Parallel(n_jobs=-1)]: Done 792 tasks      | elapsed:   23.8s\n",
      "[Parallel(n_jobs=-1)]: Done 1492 tasks      | elapsed:   54.1s\n",
      "[Parallel(n_jobs=-1)]: Done 2392 tasks      | elapsed:  1.9min\n",
      "[Parallel(n_jobs=-1)]: Done 3492 tasks      | elapsed:  3.3min\n",
      "[Parallel(n_jobs=-1)]: Done 3563 out of 3570 | elapsed:  3.4min remaining:    0.3s\n",
      "[Parallel(n_jobs=-1)]: Done 3570 out of 3570 | elapsed:  3.4min finished\n"
     ]
    },
    {
     "name": "stdout",
     "output_type": "stream",
     "text": [
      "Wall time: 3min 26s\n"
     ]
    },
    {
     "name": "stderr",
     "output_type": "stream",
     "text": [
      "C:\\Users\\francisco\\anaconda3\\lib\\site-packages\\sklearn\\pipeline.py:335: DataConversionWarning: A column-vector y was passed when a 1d array was expected. Please change the shape of y to (n_samples, ), for example using ravel().\n",
      "  self._final_estimator.fit(Xt, y, **fit_params_last_step)\n"
     ]
    }
   ],
   "source": [
    "%%time\n",
    "# Import everything again (for completeness)\n",
    "from sklearn.preprocessing import StandardScaler\n",
    "from sklearn.decomposition import PCA\n",
    "from sklearn.tree import DecisionTreeClassifier\n",
    "from sklearn.ensemble import RandomForestClassifier\n",
    "from sklearn.neighbors import KNeighborsClassifier\n",
    "\n",
    "# Make the pipeline\n",
    "# Note that this is more of a placeholder, grid search will only look over the values\n",
    "# in the param grid, this more to setup the pipeline step names\n",
    "\n",
    "\n",
    "\n",
    "estimators = [('dimensionality', PCA()),\n",
    "              ('model', KNeighborsClassifier())]\n",
    "\n",
    "pipe = Pipeline(estimators)\n",
    "\n",
    "param_grid = [\n",
    "{ 'dimensionality':[PCA()],\n",
    " 'model': [KNeighborsClassifier()],\n",
    "  'dimensionality__n_components':np.arange(1,min(X_rf.shape)),\n",
    "  'model__n_neighbors':np.arange(1, 7)}\n",
    "]\n",
    "grid = GridSearchCV(pipe, param_grid, cv=5, verbose=1, n_jobs=-1)\n",
    "fittedgrid = grid.fit(X_rf, y_rf)"
   ]
  },
  {
   "cell_type": "code",
   "execution_count": 73,
   "metadata": {},
   "outputs": [
    {
     "name": "stdout",
     "output_type": "stream",
     "text": [
      "Pipeline(steps=[('dimensionality', PCA(n_components=100)),\n",
      "                ('model', KNeighborsClassifier(n_neighbors=1))])\n",
      "Accuracy: 0.3289865871833085\n",
      "\n",
      "Score: 1.0\n"
     ]
    }
   ],
   "source": [
    "# What is the best pipeline?\n",
    "print(fittedgrid.best_estimator_)\n",
    "\n",
    "# Accuracy\n",
    "print('Accuracy:', fittedgrid.score(X_test, y_test))\n",
    "\n",
    "print('')\n",
    "\n",
    "# Score\n",
    "print('Score:', fittedgrid.score(X_rf, y_rf))"
   ]
  },
  {
   "cell_type": "code",
   "execution_count": 80,
   "metadata": {},
   "outputs": [],
   "source": [
    "acc_dic['KNN_with_PCA'] = ('Acc: 0.32', 'Score: 1.0' )"
   ]
  },
  {
   "cell_type": "code",
   "execution_count": 74,
   "metadata": {},
   "outputs": [
    {
     "data": {
      "image/png": "[encoded data removed]",
      "text/plain": [
       "<Figure size 720x720 with 1 Axes>"
      ]
     },
     "metadata": {
      "needs_background": "light"
     },
     "output_type": "display_data"
    }
   ],
   "source": [
    "# Let's get the prediction vector\n",
    "y_pred = fittedgrid.predict(X_test)\n",
    "\n",
    "from sklearn.metrics import confusion_matrix\n",
    "\n",
    "# Let's get the prediction vector\n",
    "y_pred = fittedgrid.predict(X_test)\n",
    "\n",
    "y_pred = fittedgrid.predict(X_test)\n",
    "\n",
    "conf_mat = confusion_matrix(y_test, y_pred)\n",
    "plt.figure(figsize = (10,10))\n",
    "sns.heatmap(conf_mat,\n",
    "            annot=True,\n",
    "            fmt=\"g\",\n",
    "            cbar=False\n",
    "           )\n",
    "plt.title('Model Confusion Matrix',size = 25,y=1.01)\n",
    "plt.show()"
   ]
  },
  {
   "cell_type": "code",
   "execution_count": 75,
   "metadata": {},
   "outputs": [
    {
     "name": "stdout",
     "output_type": "stream",
     "text": [
      "Recall: [0.29876543 0.33333333 0.19230769 0.22185971 0.23394495 0.30769231\n",
      " 0.46943765 0.27708333 0.75221239 0.11111111 0.39130435 0.07042254\n",
      " 0.4       ]\n",
      "\n",
      "Precision: [0.34971098 0.16037736 0.07575758 0.45791246 0.21338912 0.06349206\n",
      " 0.53333333 0.43181818 0.60498221 0.02298851 0.16071429 0.03144654\n",
      " 0.09090909]\n",
      "\n",
      "Recall mean: 0.3122672919689814\n",
      "\n",
      "Precision mean: 0.24591013111221158\n"
     ]
    }
   ],
   "source": [
    "recall = np.diag(conf_mat)/np.sum(conf_mat, axis = 1)\n",
    "precision = np.diag(conf_mat)/np.sum(conf_mat, axis = 0)\n",
    "\n",
    "print('Recall:', recall)\n",
    "\n",
    "print('')\n",
    "\n",
    "print('Precision:', precision)\n",
    "\n",
    "print('')\n",
    "\n",
    "print('Recall mean:', np.mean(recall))\n",
    "\n",
    "print('')\n",
    "\n",
    "print('Precision mean:', np.mean(precision))"
   ]
  },
  {
   "cell_type": "markdown",
   "metadata": {},
   "source": [
    "Let us compare the different accuracies and scores we have obtained so far"
   ]
  },
  {
   "cell_type": "code",
   "execution_count": 82,
   "metadata": {},
   "outputs": [
    {
     "data": {
      "text/plain": [
       "{'RF_without_PCA': ('Acc: 0.37', 'Score: 1.0'),\n",
       " 'RF_with_PCA': ('Acc: 0.34', 'Score: 1.0'),\n",
       " 'DT_without_PCA': ('Acc: 0.30', 'Score: 0.9'),\n",
       " 'DT_with_PCA': ('Acc: 0.26', 'Score: 0.96'),\n",
       " 'KNN_with_PCA': ('Acc: 0.32', 'Score: 1.0')}"
      ]
     },
     "execution_count": 82,
     "metadata": {},
     "output_type": "execute_result"
    }
   ],
   "source": [
    "acc_dic"
   ]
  },
  {
   "cell_type": "markdown",
   "metadata": {},
   "source": [
    "In terms of accuracy, Random Forest without PCA is the best. "
   ]
  },
  {
   "cell_type": "code",
   "execution_count": null,
   "metadata": {},
   "outputs": [],
   "source": []
  },
  {
   "cell_type": "markdown",
   "metadata": {},
   "source": [
    "### Random Forest with imbalanced data."
   ]
  },
  {
   "cell_type": "code",
   "execution_count": 98,
   "metadata": {},
   "outputs": [],
   "source": [
    "X_imb, X_resto, y_imb, y_resto = \\\n",
    "        train_test_split(X_remainder, y_remainder, test_size = 0.7, random_state=2020)\n",
    "\n",
    "\n",
    "X_imb_test, X_restos, y_imb_test, y_restos = \\\n",
    "        train_test_split(X_test, y_test, test_size = 0.7, random_state=2020)"
   ]
  },
  {
   "cell_type": "code",
   "execution_count": 112,
   "metadata": {},
   "outputs": [
    {
     "data": {
      "image/png": "[encoded data removed]",
      "text/plain": [
       "<Figure size 432x288 with 1 Axes>"
      ]
     },
     "metadata": {
      "needs_background": "light"
     },
     "output_type": "display_data"
    }
   ],
   "source": [
    "plt.figure()\n",
    "sns.distplot(y_imb, kde=False) # Enable `kde` if you also want a curve to be plotted; in this case I've disabled it\n",
    "#plt.axvline(y.mean(), c='r', label='Mean') # Plot the mean\n",
    "#plt.axvline(y.median(), c='gold', label='Median') # Plot the median\n",
    "#plt.legend() # Make a legend so we know which line is the mean and which is the median\n",
    "plt.title('Independent variable imbalanced and subsampled')\n",
    "plt.xlabel('Categories')\n",
    "plt.ylabel('Count')\n",
    "plt.show()"
   ]
  },
  {
   "cell_type": "code",
   "execution_count": 100,
   "metadata": {},
   "outputs": [
    {
     "name": "stdout",
     "output_type": "stream",
     "text": [
      "Fitting 5 folds for each of 476 candidates, totalling 2380 fits\n"
     ]
    },
    {
     "name": "stderr",
     "output_type": "stream",
     "text": [
      "C:\\Users\\francisco\\anaconda3\\lib\\site-packages\\sklearn\\model_selection\\_split.py:672: UserWarning: The least populated class in y has only 3 members, which is less than n_splits=5.\n",
      "  % (min_groups, self.n_splits)), UserWarning)\n",
      "[Parallel(n_jobs=-1)]: Using backend LokyBackend with 4 concurrent workers.\n",
      "[Parallel(n_jobs=-1)]: Done  42 tasks      | elapsed:    5.5s\n",
      "[Parallel(n_jobs=-1)]: Done 192 tasks      | elapsed:   54.0s\n",
      "[Parallel(n_jobs=-1)]: Done 442 tasks      | elapsed:  2.5min\n",
      "[Parallel(n_jobs=-1)]: Done 792 tasks      | elapsed:  4.6min\n",
      "[Parallel(n_jobs=-1)]: Done 1242 tasks      | elapsed:  7.5min\n",
      "[Parallel(n_jobs=-1)]: Done 1792 tasks      | elapsed: 11.0min\n",
      "[Parallel(n_jobs=-1)]: Done 2380 out of 2380 | elapsed: 15.0min finished\n",
      "C:\\Users\\francisco\\anaconda3\\lib\\site-packages\\sklearn\\pipeline.py:335: DataConversionWarning: A column-vector y was passed when a 1d array was expected. Please change the shape of y to (n_samples,), for example using ravel().\n",
      "  self._final_estimator.fit(Xt, y, **fit_params_last_step)\n"
     ]
    },
    {
     "name": "stdout",
     "output_type": "stream",
     "text": [
      "Wall time: 14min 59s\n"
     ]
    }
   ],
   "source": [
    "%%time\n",
    "# Import everything again (for completeness)\n",
    "from sklearn.preprocessing import StandardScaler\n",
    "from sklearn.decomposition import PCA\n",
    "from sklearn.tree import DecisionTreeClassifier\n",
    "from sklearn.ensemble import RandomForestClassifier\n",
    "from sklearn.neighbors import KNeighborsClassifier\n",
    "\n",
    "# Make the pipeline\n",
    "# Note that this is more of a placeholder, grid search will only look over the values\n",
    "# in the param grid, this more to setup the pipeline step names\n",
    "\n",
    "estimators = [('dimensionality', PCA()),\n",
    "              ('model', RandomForestClassifier())]\n",
    "\n",
    "pipe = Pipeline(estimators)\n",
    "\n",
    "param_grid = [\n",
    "{'dimensionality':[PCA()],\n",
    "'model': [RandomForestClassifier(n_estimators=100)],\n",
    "'dimensionality__n_components':np.arange(1,min(X_imb.shape)),\n",
    "'model__max_features': [3, 4, 5, 6]}\n",
    "#np.arange(1, 20)\n",
    "]\n",
    "grid = GridSearchCV(pipe, param_grid, cv=5, verbose=1, n_jobs=-1)\n",
    "fittedgrid = grid.fit(X_imb, y_imb)"
   ]
  },
  {
   "cell_type": "code",
   "execution_count": 103,
   "metadata": {},
   "outputs": [
    {
     "name": "stdout",
     "output_type": "stream",
     "text": [
      "Best estimator: Pipeline(steps=[('dimensionality', PCA(n_components=20)),\n",
      "                ('model', RandomForestClassifier(max_features=6))])\n",
      "Accuracy: 0.42857142857142855\n",
      "\n",
      "Score: 0.8221512247071352\n"
     ]
    }
   ],
   "source": [
    "# What is the best pipeline?\n",
    "print('Best estimator:', fittedgrid.best_estimator_)\n",
    "\n",
    "# Accuracy\n",
    "print('Accuracy:', fittedgrid.score(X_imb_test, y_imb_test))\n",
    "\n",
    "print('')\n",
    "\n",
    "# Score\n",
    "print('Score:', fittedgrid.score(X_imb, y_imb))"
   ]
  },
  {
   "cell_type": "code",
   "execution_count": 107,
   "metadata": {},
   "outputs": [],
   "source": [
    "acc_dic['RF_with_Imbalanced_data'] = ('Acc:0.42', 'Score:0.82')"
   ]
  },
  {
   "cell_type": "code",
   "execution_count": 109,
   "metadata": {},
   "outputs": [
    {
     "data": {
      "image/png": "[encoded data removed]",
      "text/plain": [
       "<Figure size 720x720 with 1 Axes>"
      ]
     },
     "metadata": {
      "needs_background": "light"
     },
     "output_type": "display_data"
    }
   ],
   "source": [
    "# Let's get the prediction vector\n",
    "y_pred = fittedgrid.predict(X_imb_test)\n",
    "\n",
    "from sklearn.metrics import confusion_matrix\n",
    "\n",
    "# Let's get the prediction vector\n",
    "y_pred = fittedgrid.predict(X_imb_test)\n",
    "\n",
    "y_pred = fittedgrid.predict(X_imb_test)\n",
    "\n",
    "conf_mat = confusion_matrix(y_imb_test, y_pred)\n",
    "plt.figure(figsize = (10,10))\n",
    "sns.heatmap(conf_mat,\n",
    "            annot=True,\n",
    "            fmt=\"g\",\n",
    "            cbar=False\n",
    "           )\n",
    "plt.title('Model Confusion Matrix',size = 25,y=1.01)\n",
    "plt.show()"
   ]
  },
  {
   "cell_type": "code",
   "execution_count": 110,
   "metadata": {},
   "outputs": [
    {
     "name": "stdout",
     "output_type": "stream",
     "text": [
      "Recall: [0.36585366 0.         0.04166667 0.55555556 0.17948718 0.\n",
      " 0.68316832 0.37410072 0.72058824 0.         0.35714286 0.\n",
      " 0.        ]\n",
      "\n",
      "Precision: [0.40178571 0.         0.125      0.41509434 0.26415094 0.\n",
      " 0.48251748 0.38518519 0.79032258 0.         0.35714286 0.\n",
      "        nan]\n",
      "\n",
      "Recall mean: 0.25212024530300814\n",
      "\n",
      "Precision mean: nan\n"
     ]
    },
    {
     "name": "stderr",
     "output_type": "stream",
     "text": [
      "C:\\Users\\francisco\\anaconda3\\lib\\site-packages\\ipykernel_launcher.py:2: RuntimeWarning: invalid value encountered in true_divide\n",
      "  \n"
     ]
    }
   ],
   "source": [
    "recall = np.diag(conf_mat)/np.sum(conf_mat, axis = 1)\n",
    "precision = np.diag(conf_mat)/np.sum(conf_mat, axis = 0)\n",
    "\n",
    "print('Recall:', recall)\n",
    "\n",
    "print('')\n",
    "\n",
    "print('Precision:', precision)\n",
    "\n",
    "print('')\n",
    "\n",
    "print('Recall mean:', np.mean(recall))\n",
    "\n",
    "print('')\n",
    "\n",
    "print('Precision mean:', np.mean(precision))"
   ]
  },
  {
   "cell_type": "code",
   "execution_count": 111,
   "metadata": {},
   "outputs": [
    {
     "data": {
      "text/plain": [
       "array([0.08685473, 0.05769692, 0.04732754, 0.05652899, 0.05646508,\n",
       "       0.05230623, 0.04935812, 0.05730311, 0.05558653, 0.04375128,\n",
       "       0.04286354, 0.04452939, 0.04420014, 0.04072347, 0.0464096 ,\n",
       "       0.0420057 , 0.044541  , 0.04368748, 0.04726072, 0.04060045])"
      ]
     },
     "execution_count": 111,
     "metadata": {},
     "output_type": "execute_result"
    }
   ],
   "source": [
    "#fittedgrid.best_estimator_.feature_importances_()\n",
    "\n",
    "fittedgrid.best_estimator_[1].feature_importances_"
   ]
  },
  {
   "cell_type": "code",
   "execution_count": null,
   "metadata": {},
   "outputs": [],
   "source": []
  },
  {
   "cell_type": "code",
   "execution_count": null,
   "metadata": {},
   "outputs": [],
   "source": []
  },
  {
   "cell_type": "code",
   "execution_count": null,
   "metadata": {},
   "outputs": [],
   "source": []
  },
  {
   "cell_type": "code",
   "execution_count": null,
   "metadata": {},
   "outputs": [],
   "source": []
  },
  {
   "cell_type": "code",
   "execution_count": null,
   "metadata": {},
   "outputs": [],
   "source": []
  },
  {
   "cell_type": "code",
   "execution_count": null,
   "metadata": {},
   "outputs": [],
   "source": []
  },
  {
   "cell_type": "code",
   "execution_count": null,
   "metadata": {},
   "outputs": [],
   "source": []
  },
  {
   "cell_type": "code",
   "execution_count": null,
   "metadata": {},
   "outputs": [],
   "source": []
  },
  {
   "cell_type": "code",
   "execution_count": null,
   "metadata": {},
   "outputs": [],
   "source": []
  },
  {
   "cell_type": "code",
   "execution_count": null,
   "metadata": {},
   "outputs": [],
   "source": []
  },
  {
   "cell_type": "code",
   "execution_count": null,
   "metadata": {},
   "outputs": [],
   "source": []
  },
  {
   "cell_type": "code",
   "execution_count": null,
   "metadata": {},
   "outputs": [],
   "source": []
  },
  {
   "cell_type": "code",
   "execution_count": null,
   "metadata": {},
   "outputs": [],
   "source": []
  },
  {
   "cell_type": "code",
   "execution_count": null,
   "metadata": {},
   "outputs": [],
   "source": []
  },
  {
   "cell_type": "code",
   "execution_count": null,
   "metadata": {},
   "outputs": [],
   "source": []
  },
  {
   "cell_type": "code",
   "execution_count": null,
   "metadata": {},
   "outputs": [],
   "source": []
  },
  {
   "cell_type": "code",
   "execution_count": null,
   "metadata": {},
   "outputs": [],
   "source": []
  },
  {
   "cell_type": "code",
   "execution_count": null,
   "metadata": {},
   "outputs": [],
   "source": []
  },
  {
   "cell_type": "code",
   "execution_count": null,
   "metadata": {},
   "outputs": [],
   "source": []
  },
  {
   "cell_type": "code",
   "execution_count": null,
   "metadata": {},
   "outputs": [],
   "source": []
  },
  {
   "cell_type": "code",
   "execution_count": null,
   "metadata": {},
   "outputs": [],
   "source": []
  },
  {
   "cell_type": "code",
   "execution_count": null,
   "metadata": {},
   "outputs": [],
   "source": []
  },
  {
   "cell_type": "code",
   "execution_count": null,
   "metadata": {},
   "outputs": [],
   "source": []
  },
  {
   "cell_type": "code",
   "execution_count": null,
   "metadata": {},
   "outputs": [],
   "source": []
  },
  {
   "cell_type": "markdown",
   "metadata": {},
   "source": [
    "### Other resampling methods"
   ]
  },
  {
   "cell_type": "code",
   "execution_count": 121,
   "metadata": {},
   "outputs": [
    {
     "data": {
      "text/plain": [
       "(6262, 120)"
      ]
     },
     "execution_count": 121,
     "metadata": {},
     "output_type": "execute_result"
    }
   ],
   "source": []
  },
  {
   "cell_type": "code",
   "execution_count": null,
   "metadata": {},
   "outputs": [],
   "source": []
  },
  {
   "cell_type": "markdown",
   "metadata": {},
   "source": [
    "Below we do the oversampling. "
   ]
  },
  {
   "cell_type": "code",
   "execution_count": 117,
   "metadata": {},
   "outputs": [],
   "source": [
    "# transform the dataset\n",
    "oversample = SMOTE()\n",
    "#Fit the data\n",
    "X_over, y_over = oversample.fit_resample(X_remainder, y_remainder)"
   ]
  },
  {
   "cell_type": "code",
   "execution_count": 118,
   "metadata": {},
   "outputs": [
    {
     "name": "stdout",
     "output_type": "stream",
     "text": [
      "Wall time: 8.01 ms\n"
     ]
    }
   ],
   "source": [
    "%%time\n",
    "# transform the dataset\n",
    "oversample = RandomUnderSampler()\n",
    "#Fit the data\n",
    "X_under, y_under = oversample.fit_resample(X_remainder, y_remainder)"
   ]
  },
  {
   "cell_type": "markdown",
   "metadata": {},
   "source": [
    "Let us check that everythig looks as excepted."
   ]
  },
  {
   "cell_type": "code",
   "execution_count": 123,
   "metadata": {},
   "outputs": [
    {
     "data": {
      "image/png": "[encoded data removed]",
      "text/plain": [
       "<Figure size 432x288 with 1 Axes>"
      ]
     },
     "metadata": {
      "needs_background": "light"
     },
     "output_type": "display_data"
    }
   ],
   "source": [
    "plt.figure()\n",
    "sns.distplot(y_over, kde=False) # Enable `kde` if you also want a curve to be plotted; in this case I've disabled it\n",
    "#plt.axvline(y.mean(), c='r', label='Mean') # Plot the mean\n",
    "#plt.axvline(y.median(), c='gold', label='Median') # Plot the median\n",
    "#plt.legend() # Make a legend so we know which line is the mean and which is the median\n",
    "plt.title('Distribution independent variable values with oversampling')\n",
    "plt.xlabel('Categories')\n",
    "plt.ylabel('Count')\n",
    "plt.show()"
   ]
  },
  {
   "cell_type": "code",
   "execution_count": 120,
   "metadata": {},
   "outputs": [
    {
     "data": {
      "image/png": "[encoded data removed]",
      "text/plain": [
       "<Figure size 432x288 with 1 Axes>"
      ]
     },
     "metadata": {
      "needs_background": "light"
     },
     "output_type": "display_data"
    }
   ],
   "source": [
    "plt.figure()\n",
    "sns.distplot(y_under, kde=False) # Enable `kde` if you also want a curve to be plotted; in this case I've disabled it\n",
    "#plt.axvline(y.mean(), c='r', label='Mean') # Plot the mean\n",
    "#plt.axvline(y.median(), c='gold', label='Median') # Plot the median\n",
    "#plt.legend() # Make a legend so we know which line is the mean and which is the median\n",
    "plt.title('Distribution independent variable values with undersampling')\n",
    "plt.xlabel('Categories')\n",
    "plt.ylabel('Count')\n",
    "plt.show()"
   ]
  },
  {
   "cell_type": "markdown",
   "metadata": {},
   "source": [
    "We will use ``X_over`` and ``y_over`` to train the models below"
   ]
  },
  {
   "cell_type": "code",
   "execution_count": 148,
   "metadata": {},
   "outputs": [],
   "source": [
    "X_rf = X_over\n",
    "\n",
    "y_rf = y_over"
   ]
  },
  {
   "cell_type": "code",
   "execution_count": 149,
   "metadata": {},
   "outputs": [
    {
     "data": {
      "text/plain": [
       "(19903, 120)"
      ]
     },
     "execution_count": 149,
     "metadata": {},
     "output_type": "execute_result"
    }
   ],
   "source": [
    "X_rf.shape"
   ]
  },
  {
   "cell_type": "markdown",
   "metadata": {},
   "source": [
    "We will store ``X_over`` and ``y_over``"
   ]
  },
  {
   "cell_type": "code",
   "execution_count": 150,
   "metadata": {},
   "outputs": [
    {
     "name": "stdout",
     "output_type": "stream",
     "text": [
      "Wall time: 7.53 s\n"
     ]
    }
   ],
   "source": [
    "%%time\n",
    "# From numpy array to pandas daaframe\n",
    "X0 = pd.DataFrame(data = X_over, index=None, columns=None)\n",
    "#from pandas df to csv\n",
    "X0.to_csv(r'C:\\Users\\francisco\\Desktop\\BrainStation\\Capstoneproject_BS\\FiresUSA\\fires_X_over.csv', index = False)\n",
    "\n",
    "##\n",
    "y0 = pd.DataFrame(data = y_resampled, index=None, columns=None)\n",
    "\n",
    "##\n",
    "\n",
    "y0.to_csv(r'C:\\Users\\francisco\\Desktop\\BrainStation\\Capstoneproject_BS\\FiresUSA\\fires_y_over.csv', index = False)\n",
    "\n",
    "\n",
    "\n",
    "\n",
    "X00 = pd.DataFrame(data = X_test, index=None, columns=None)\n",
    "#from pandas df to csv\n",
    "X00.to_csv(r'C:\\Users\\francisco\\Desktop\\BrainStation\\Capstoneproject_BS\\FiresUSA\\fires_X_over_test.csv', index = False)\n",
    "\n",
    "\n",
    "y00 = pd.DataFrame(data = y_test, index=None, columns=None)\n",
    "#from pandas df to csv\n",
    "y00.to_csv(r'C:\\Users\\francisco\\Desktop\\BrainStation\\Capstoneproject_BS\\FiresUSA\\fires_y_over_test.csv', index = False)\n"
   ]
  },
  {
   "cell_type": "markdown",
   "metadata": {},
   "source": [
    "### Random Forest"
   ]
  },
  {
   "cell_type": "markdown",
   "metadata": {},
   "source": [
    "#### Random Forest without PCA"
   ]
  },
  {
   "cell_type": "code",
   "execution_count": 129,
   "metadata": {},
   "outputs": [
    {
     "name": "stdout",
     "output_type": "stream",
     "text": [
      "Fitting 5 folds for each of 5 candidates, totalling 25 fits\n"
     ]
    },
    {
     "name": "stderr",
     "output_type": "stream",
     "text": [
      "[Parallel(n_jobs=-1)]: Using backend LokyBackend with 4 concurrent workers.\n",
      "[Parallel(n_jobs=-1)]: Done  25 out of  25 | elapsed:   40.1s finished\n",
      "C:\\Users\\francisco\\anaconda3\\lib\\site-packages\\sklearn\\pipeline.py:335: DataConversionWarning: A column-vector y was passed when a 1d array was expected. Please change the shape of y to (n_samples,), for example using ravel().\n",
      "  self._final_estimator.fit(Xt, y, **fit_params_last_step)\n"
     ]
    },
    {
     "name": "stdout",
     "output_type": "stream",
     "text": [
      "Wall time: 44.6 s\n"
     ]
    }
   ],
   "source": [
    "%%time\n",
    "# Import everything again (for completeness)\n",
    "from sklearn.preprocessing import StandardScaler\n",
    "from sklearn.decomposition import PCA\n",
    "from sklearn.tree import DecisionTreeClassifier\n",
    "from sklearn.ensemble import RandomForestClassifier\n",
    "from sklearn.neighbors import KNeighborsClassifier\n",
    "\n",
    "# Make the pipeline\n",
    "# Note that this is more of a placeholder, grid search will only look over the values\n",
    "# in the param grid, this more to setup the pipeline step names\n",
    "\n",
    "estimators = [('dimensionality', PCA()),\n",
    "              ('model', RandomForestClassifier())]\n",
    "\n",
    "pipe = Pipeline(estimators)\n",
    "\n",
    "param_grid = [\n",
    "{'dimensionality':[None],\n",
    "'model': [RandomForestClassifier(n_estimators=100)],\n",
    "'model__max_features': [2, 3, 4, 5, 6]}\n",
    "#np.arange(1, 20)\n",
    "]\n",
    "grid = GridSearchCV(pipe, param_grid, cv=5, verbose=1, n_jobs=-1)\n",
    "fittedgrid = grid.fit(X_rf, y_rf)"
   ]
  },
  {
   "cell_type": "code",
   "execution_count": 130,
   "metadata": {},
   "outputs": [
    {
     "data": {
      "text/plain": [
       "Pipeline(steps=[('dimensionality', None),\n",
       "                ('model', RandomForestClassifier(max_features=4))])"
      ]
     },
     "execution_count": 130,
     "metadata": {},
     "output_type": "execute_result"
    }
   ],
   "source": [
    "# What is the best pipeline?\n",
    "fittedgrid.best_estimator_"
   ]
  },
  {
   "cell_type": "code",
   "execution_count": 131,
   "metadata": {},
   "outputs": [
    {
     "data": {
      "text/plain": [
       "0.44076005961251863"
      ]
     },
     "execution_count": 131,
     "metadata": {},
     "output_type": "execute_result"
    }
   ],
   "source": [
    "# Score\n",
    "fittedgrid.score(X_test, y_test)"
   ]
  },
  {
   "cell_type": "code",
   "execution_count": 132,
   "metadata": {},
   "outputs": [
    {
     "data": {
      "text/plain": [
       "1.0"
      ]
     },
     "execution_count": 132,
     "metadata": {},
     "output_type": "execute_result"
    }
   ],
   "source": [
    "# Accuracy\n",
    "fittedgrid.score(X_rf, y_rf)"
   ]
  },
  {
   "cell_type": "markdown",
   "metadata": {},
   "source": [
    "We can store the accuracies and scores in a dictionary."
   ]
  },
  {
   "cell_type": "code",
   "execution_count": 141,
   "metadata": {},
   "outputs": [],
   "source": [
    "acc_dic_over = {}\n",
    "acc_dic['RF_without_PCA'] = ('Acc: 0.44', 'Score: 1.0' )"
   ]
  },
  {
   "cell_type": "markdown",
   "metadata": {},
   "source": []
  },
  {
   "cell_type": "code",
   "execution_count": 134,
   "metadata": {},
   "outputs": [
    {
     "data": {
      "text/plain": [
       "array([0, 6, 4, ..., 8, 7, 8], dtype=int64)"
      ]
     },
     "execution_count": 134,
     "metadata": {},
     "output_type": "execute_result"
    }
   ],
   "source": [
    "# Let's get the prediction vector\n",
    "y_pred = fittedgrid.predict(X_test)\n",
    "y_pred"
   ]
  },
  {
   "cell_type": "code",
   "execution_count": 135,
   "metadata": {},
   "outputs": [
    {
     "data": {
      "image/png": "[encoded data removed]",
      "text/plain": [
       "<Figure size 720x720 with 1 Axes>"
      ]
     },
     "metadata": {
      "needs_background": "light"
     },
     "output_type": "display_data"
    },
    {
     "name": "stdout",
     "output_type": "stream",
     "text": [
      "Wall time: 1.51 s\n"
     ]
    }
   ],
   "source": [
    "%%time\n",
    "from sklearn.metrics import confusion_matrix\n",
    "\n",
    "# Let's get the prediction vector\n",
    "y_pred = fittedgrid.predict(X_test)\n",
    "\n",
    "y_pred = fittedgrid.predict(X_test)\n",
    "\n",
    "conf_mat = confusion_matrix(y_test, y_pred)\n",
    "plt.figure(figsize = (10,10))\n",
    "sns.heatmap(conf_mat,\n",
    "            annot=True,\n",
    "            fmt=\"g\",\n",
    "            cbar=False\n",
    "           )\n",
    "plt.title('Model Confusion Matrix',size = 25,y=1.01)\n",
    "plt.show()"
   ]
  },
  {
   "cell_type": "code",
   "execution_count": null,
   "metadata": {},
   "outputs": [],
   "source": []
  },
  {
   "cell_type": "code",
   "execution_count": 136,
   "metadata": {},
   "outputs": [
    {
     "name": "stdout",
     "output_type": "stream",
     "text": [
      "Recall: [0.37777778 0.2254902  0.07692308 0.45840131 0.21100917 0.30769231\n",
      " 0.69193154 0.36458333 0.8539823  0.         0.34782609 0.04225352\n",
      " 0.        ]\n",
      "\n",
      "Precision: [0.39947781 0.2371134  0.06976744 0.43230769 0.23       0.19047619\n",
      " 0.63452915 0.46296296 0.74230769 0.         0.22222222 0.04615385\n",
      " 0.        ]\n",
      "\n",
      "Recall mean: 0.30445158619111434\n",
      "\n",
      "Precision mean: 0.2821014157787309\n"
     ]
    }
   ],
   "source": [
    "recall = np.diag(conf_mat)/np.sum(conf_mat, axis = 1)\n",
    "precision = np.diag(conf_mat)/np.sum(conf_mat, axis = 0)\n",
    "\n",
    "print('Recall:', recall)\n",
    "\n",
    "print('')\n",
    "\n",
    "print('Precision:', precision)\n",
    "\n",
    "print('')\n",
    "\n",
    "print('Recall mean:', np.mean(recall))\n",
    "\n",
    "print('')\n",
    "\n",
    "print('Precision mean:', np.mean(precision))"
   ]
  },
  {
   "cell_type": "markdown",
   "metadata": {},
   "source": [
    "Below we will determine wich features have the most predictive power."
   ]
  },
  {
   "cell_type": "code",
   "execution_count": 142,
   "metadata": {},
   "outputs": [
    {
     "data": {
      "text/plain": [
       "array([7.11822169e-02, 9.80243483e-02, 1.00036280e-01, 9.07676114e-02,\n",
       "       9.04780961e-02, 8.09682894e-02, 1.03817717e-02, 2.83173337e-03,\n",
       "       1.17752586e-02, 1.29443242e-02, 3.74512305e-04, 1.04702236e-02,\n",
       "       7.83851627e-04, 1.47775053e-03, 1.56085635e-04, 2.21682300e-03,\n",
       "       4.41429438e-03, 6.19801663e-04, 4.73414701e-04, 3.33871578e-03,\n",
       "       1.50175468e-04, 5.83381166e-04, 9.44947699e-03, 1.90582115e-03,\n",
       "       6.00718398e-04, 1.35454546e-03, 1.26939168e-03, 4.40711247e-04,\n",
       "       6.01098548e-04, 3.18398539e-03, 6.71681257e-04, 1.69203440e-02,\n",
       "       2.17508444e-03, 0.00000000e+00, 7.77585149e-04, 2.37380086e-03,\n",
       "       9.29275976e-04, 3.13230025e-03, 2.66999548e-04, 8.40253636e-04,\n",
       "       6.16213903e-03, 1.46587341e-03, 1.11590801e-03, 6.29520840e-04,\n",
       "       2.11015795e-03, 9.92210570e-05, 2.42237213e-02, 2.49229635e-02,\n",
       "       1.15666073e-02, 1.88984810e-03, 2.49128671e-03, 1.02442258e-03,\n",
       "       1.84008681e-04, 1.89205649e-02, 5.80060914e-03, 0.00000000e+00,\n",
       "       1.15117675e-04, 0.00000000e+00, 7.19042030e-04, 2.13639359e-02,\n",
       "       5.16325676e-04, 2.50729331e-03, 6.32295813e-04, 1.72850742e-02,\n",
       "       6.92518188e-03, 2.11727920e-03, 1.79135384e-04, 1.09961746e-02,\n",
       "       2.76261415e-03, 1.02141483e-02, 2.13896136e-03, 5.26811256e-03,\n",
       "       1.14260907e-02, 2.75252358e-03, 6.08874365e-04, 0.00000000e+00,\n",
       "       0.00000000e+00, 1.40615490e-02, 1.13234527e-02, 2.35005936e-04,\n",
       "       5.28298552e-04, 3.62233309e-03, 3.84431980e-04, 6.05218863e-04,\n",
       "       1.98281274e-04, 3.26293491e-03, 2.28988631e-03, 0.00000000e+00,\n",
       "       7.52326184e-04, 1.81066852e-03, 2.13761013e-03, 4.70014964e-03,\n",
       "       1.12435318e-03, 3.80658351e-03, 6.94138667e-03, 6.95139812e-03,\n",
       "       2.34753467e-03, 1.85124845e-03, 3.94152576e-04, 3.24227455e-03,\n",
       "       3.43913453e-03, 1.22945288e-03, 9.62420453e-03, 3.41969599e-04,\n",
       "       4.85500821e-03, 3.97527898e-03, 1.14276543e-03, 1.64195944e-03,\n",
       "       4.18424301e-05, 4.52608310e-03, 1.18811390e-02, 8.90348780e-03,\n",
       "       1.01486497e-02, 3.82397950e-03, 3.17980187e-03, 2.41130458e-05,\n",
       "       3.37105595e-03, 5.13272252e-03, 5.99205600e-03, 1.67715010e-03])"
      ]
     },
     "execution_count": 142,
     "metadata": {},
     "output_type": "execute_result"
    }
   ],
   "source": [
    "#fittedgrid.best_estimator_.feature_importances_()\n",
    "\n",
    "fittedgrid.best_estimator_[1].feature_importances_"
   ]
  },
  {
   "cell_type": "code",
   "execution_count": null,
   "metadata": {},
   "outputs": [],
   "source": []
  },
  {
   "cell_type": "markdown",
   "metadata": {},
   "source": [
    "#### Random Forest with PCA"
   ]
  },
  {
   "cell_type": "code",
   "execution_count": 143,
   "metadata": {},
   "outputs": [
    {
     "name": "stdout",
     "output_type": "stream",
     "text": [
      "Fitting 5 folds for each of 476 candidates, totalling 2380 fits\n"
     ]
    },
    {
     "name": "stderr",
     "output_type": "stream",
     "text": [
      "[Parallel(n_jobs=-1)]: Using backend LokyBackend with 4 concurrent workers.\n",
      "[Parallel(n_jobs=-1)]: Done  42 tasks      | elapsed:   20.1s\n",
      "[Parallel(n_jobs=-1)]: Done 192 tasks      | elapsed:  9.1min\n",
      "[Parallel(n_jobs=-1)]: Done 193 tasks      | elapsed:  9.1min\n",
      "[Parallel(n_jobs=-1)]: Done 194 tasks      | elapsed:  9.1min\n",
      "[Parallel(n_jobs=-1)]: Done 195 tasks      | elapsed:  9.1min\n",
      "[Parallel(n_jobs=-1)]: Done 196 tasks      | elapsed:  9.1min\n",
      "[Parallel(n_jobs=-1)]: Done 197 tasks      | elapsed:  9.1min\n",
      "[Parallel(n_jobs=-1)]: Done 198 tasks      | elapsed:  9.1min\n",
      "[Parallel(n_jobs=-1)]: Done 199 tasks      | elapsed:  9.1min\n"
     ]
    },
    {
     "ename": "KeyboardInterrupt",
     "evalue": "",
     "output_type": "error",
     "traceback": [
      "\u001b[1;31m---------------------------------------------------------------------------\u001b[0m",
      "\u001b[1;31mKeyboardInterrupt\u001b[0m                         Traceback (most recent call last)",
      "\u001b[1;32m<timed exec>\u001b[0m in \u001b[0;36m<module>\u001b[1;34m\u001b[0m\n",
      "\u001b[1;32m~\\anaconda3\\lib\\site-packages\\sklearn\\utils\\validation.py\u001b[0m in \u001b[0;36minner_f\u001b[1;34m(*args, **kwargs)\u001b[0m\n\u001b[0;32m     71\u001b[0m                           FutureWarning)\n\u001b[0;32m     72\u001b[0m         \u001b[0mkwargs\u001b[0m\u001b[1;33m.\u001b[0m\u001b[0mupdate\u001b[0m\u001b[1;33m(\u001b[0m\u001b[1;33m{\u001b[0m\u001b[0mk\u001b[0m\u001b[1;33m:\u001b[0m \u001b[0marg\u001b[0m \u001b[1;32mfor\u001b[0m \u001b[0mk\u001b[0m\u001b[1;33m,\u001b[0m \u001b[0marg\u001b[0m \u001b[1;32min\u001b[0m \u001b[0mzip\u001b[0m\u001b[1;33m(\u001b[0m\u001b[0msig\u001b[0m\u001b[1;33m.\u001b[0m\u001b[0mparameters\u001b[0m\u001b[1;33m,\u001b[0m \u001b[0margs\u001b[0m\u001b[1;33m)\u001b[0m\u001b[1;33m}\u001b[0m\u001b[1;33m)\u001b[0m\u001b[1;33m\u001b[0m\u001b[1;33m\u001b[0m\u001b[0m\n\u001b[1;32m---> 73\u001b[1;33m         \u001b[1;32mreturn\u001b[0m \u001b[0mf\u001b[0m\u001b[1;33m(\u001b[0m\u001b[1;33m**\u001b[0m\u001b[0mkwargs\u001b[0m\u001b[1;33m)\u001b[0m\u001b[1;33m\u001b[0m\u001b[1;33m\u001b[0m\u001b[0m\n\u001b[0m\u001b[0;32m     74\u001b[0m     \u001b[1;32mreturn\u001b[0m \u001b[0minner_f\u001b[0m\u001b[1;33m\u001b[0m\u001b[1;33m\u001b[0m\u001b[0m\n\u001b[0;32m     75\u001b[0m \u001b[1;33m\u001b[0m\u001b[0m\n",
      "\u001b[1;32m~\\anaconda3\\lib\\site-packages\\sklearn\\model_selection\\_search.py\u001b[0m in \u001b[0;36mfit\u001b[1;34m(self, X, y, groups, **fit_params)\u001b[0m\n\u001b[0;32m    734\u001b[0m                 \u001b[1;32mreturn\u001b[0m \u001b[0mresults\u001b[0m\u001b[1;33m\u001b[0m\u001b[1;33m\u001b[0m\u001b[0m\n\u001b[0;32m    735\u001b[0m \u001b[1;33m\u001b[0m\u001b[0m\n\u001b[1;32m--> 736\u001b[1;33m             \u001b[0mself\u001b[0m\u001b[1;33m.\u001b[0m\u001b[0m_run_search\u001b[0m\u001b[1;33m(\u001b[0m\u001b[0mevaluate_candidates\u001b[0m\u001b[1;33m)\u001b[0m\u001b[1;33m\u001b[0m\u001b[1;33m\u001b[0m\u001b[0m\n\u001b[0m\u001b[0;32m    737\u001b[0m \u001b[1;33m\u001b[0m\u001b[0m\n\u001b[0;32m    738\u001b[0m         \u001b[1;31m# For multi-metric evaluation, store the best_index_, best_params_ and\u001b[0m\u001b[1;33m\u001b[0m\u001b[1;33m\u001b[0m\u001b[1;33m\u001b[0m\u001b[0m\n",
      "\u001b[1;32m~\\anaconda3\\lib\\site-packages\\sklearn\\model_selection\\_search.py\u001b[0m in \u001b[0;36m_run_search\u001b[1;34m(self, evaluate_candidates)\u001b[0m\n\u001b[0;32m   1186\u001b[0m     \u001b[1;32mdef\u001b[0m \u001b[0m_run_search\u001b[0m\u001b[1;33m(\u001b[0m\u001b[0mself\u001b[0m\u001b[1;33m,\u001b[0m \u001b[0mevaluate_candidates\u001b[0m\u001b[1;33m)\u001b[0m\u001b[1;33m:\u001b[0m\u001b[1;33m\u001b[0m\u001b[1;33m\u001b[0m\u001b[0m\n\u001b[0;32m   1187\u001b[0m         \u001b[1;34m\"\"\"Search all candidates in param_grid\"\"\"\u001b[0m\u001b[1;33m\u001b[0m\u001b[1;33m\u001b[0m\u001b[0m\n\u001b[1;32m-> 1188\u001b[1;33m         \u001b[0mevaluate_candidates\u001b[0m\u001b[1;33m(\u001b[0m\u001b[0mParameterGrid\u001b[0m\u001b[1;33m(\u001b[0m\u001b[0mself\u001b[0m\u001b[1;33m.\u001b[0m\u001b[0mparam_grid\u001b[0m\u001b[1;33m)\u001b[0m\u001b[1;33m)\u001b[0m\u001b[1;33m\u001b[0m\u001b[1;33m\u001b[0m\u001b[0m\n\u001b[0m\u001b[0;32m   1189\u001b[0m \u001b[1;33m\u001b[0m\u001b[0m\n\u001b[0;32m   1190\u001b[0m \u001b[1;33m\u001b[0m\u001b[0m\n",
      "\u001b[1;32m~\\anaconda3\\lib\\site-packages\\sklearn\\model_selection\\_search.py\u001b[0m in \u001b[0;36mevaluate_candidates\u001b[1;34m(candidate_params)\u001b[0m\n\u001b[0;32m    713\u001b[0m                                \u001b[1;32mfor\u001b[0m \u001b[0mparameters\u001b[0m\u001b[1;33m,\u001b[0m \u001b[1;33m(\u001b[0m\u001b[0mtrain\u001b[0m\u001b[1;33m,\u001b[0m \u001b[0mtest\u001b[0m\u001b[1;33m)\u001b[0m\u001b[1;33m\u001b[0m\u001b[1;33m\u001b[0m\u001b[0m\n\u001b[0;32m    714\u001b[0m                                in product(candidate_params,\n\u001b[1;32m--> 715\u001b[1;33m                                           cv.split(X, y, groups)))\n\u001b[0m\u001b[0;32m    716\u001b[0m \u001b[1;33m\u001b[0m\u001b[0m\n\u001b[0;32m    717\u001b[0m                 \u001b[1;32mif\u001b[0m \u001b[0mlen\u001b[0m\u001b[1;33m(\u001b[0m\u001b[0mout\u001b[0m\u001b[1;33m)\u001b[0m \u001b[1;33m<\u001b[0m \u001b[1;36m1\u001b[0m\u001b[1;33m:\u001b[0m\u001b[1;33m\u001b[0m\u001b[1;33m\u001b[0m\u001b[0m\n",
      "\u001b[1;32m~\\anaconda3\\lib\\site-packages\\joblib\\parallel.py\u001b[0m in \u001b[0;36m__call__\u001b[1;34m(self, iterable)\u001b[0m\n\u001b[0;32m   1015\u001b[0m \u001b[1;33m\u001b[0m\u001b[0m\n\u001b[0;32m   1016\u001b[0m             \u001b[1;32mwith\u001b[0m \u001b[0mself\u001b[0m\u001b[1;33m.\u001b[0m\u001b[0m_backend\u001b[0m\u001b[1;33m.\u001b[0m\u001b[0mretrieval_context\u001b[0m\u001b[1;33m(\u001b[0m\u001b[1;33m)\u001b[0m\u001b[1;33m:\u001b[0m\u001b[1;33m\u001b[0m\u001b[1;33m\u001b[0m\u001b[0m\n\u001b[1;32m-> 1017\u001b[1;33m                 \u001b[0mself\u001b[0m\u001b[1;33m.\u001b[0m\u001b[0mretrieve\u001b[0m\u001b[1;33m(\u001b[0m\u001b[1;33m)\u001b[0m\u001b[1;33m\u001b[0m\u001b[1;33m\u001b[0m\u001b[0m\n\u001b[0m\u001b[0;32m   1018\u001b[0m             \u001b[1;31m# Make sure that we get a last message telling us we are done\u001b[0m\u001b[1;33m\u001b[0m\u001b[1;33m\u001b[0m\u001b[1;33m\u001b[0m\u001b[0m\n\u001b[0;32m   1019\u001b[0m             \u001b[0melapsed_time\u001b[0m \u001b[1;33m=\u001b[0m \u001b[0mtime\u001b[0m\u001b[1;33m.\u001b[0m\u001b[0mtime\u001b[0m\u001b[1;33m(\u001b[0m\u001b[1;33m)\u001b[0m \u001b[1;33m-\u001b[0m \u001b[0mself\u001b[0m\u001b[1;33m.\u001b[0m\u001b[0m_start_time\u001b[0m\u001b[1;33m\u001b[0m\u001b[1;33m\u001b[0m\u001b[0m\n",
      "\u001b[1;32m~\\anaconda3\\lib\\site-packages\\joblib\\parallel.py\u001b[0m in \u001b[0;36mretrieve\u001b[1;34m(self)\u001b[0m\n\u001b[0;32m    907\u001b[0m             \u001b[1;32mtry\u001b[0m\u001b[1;33m:\u001b[0m\u001b[1;33m\u001b[0m\u001b[1;33m\u001b[0m\u001b[0m\n\u001b[0;32m    908\u001b[0m                 \u001b[1;32mif\u001b[0m \u001b[0mgetattr\u001b[0m\u001b[1;33m(\u001b[0m\u001b[0mself\u001b[0m\u001b[1;33m.\u001b[0m\u001b[0m_backend\u001b[0m\u001b[1;33m,\u001b[0m \u001b[1;34m'supports_timeout'\u001b[0m\u001b[1;33m,\u001b[0m \u001b[1;32mFalse\u001b[0m\u001b[1;33m)\u001b[0m\u001b[1;33m:\u001b[0m\u001b[1;33m\u001b[0m\u001b[1;33m\u001b[0m\u001b[0m\n\u001b[1;32m--> 909\u001b[1;33m                     \u001b[0mself\u001b[0m\u001b[1;33m.\u001b[0m\u001b[0m_output\u001b[0m\u001b[1;33m.\u001b[0m\u001b[0mextend\u001b[0m\u001b[1;33m(\u001b[0m\u001b[0mjob\u001b[0m\u001b[1;33m.\u001b[0m\u001b[0mget\u001b[0m\u001b[1;33m(\u001b[0m\u001b[0mtimeout\u001b[0m\u001b[1;33m=\u001b[0m\u001b[0mself\u001b[0m\u001b[1;33m.\u001b[0m\u001b[0mtimeout\u001b[0m\u001b[1;33m)\u001b[0m\u001b[1;33m)\u001b[0m\u001b[1;33m\u001b[0m\u001b[1;33m\u001b[0m\u001b[0m\n\u001b[0m\u001b[0;32m    910\u001b[0m                 \u001b[1;32melse\u001b[0m\u001b[1;33m:\u001b[0m\u001b[1;33m\u001b[0m\u001b[1;33m\u001b[0m\u001b[0m\n\u001b[0;32m    911\u001b[0m                     \u001b[0mself\u001b[0m\u001b[1;33m.\u001b[0m\u001b[0m_output\u001b[0m\u001b[1;33m.\u001b[0m\u001b[0mextend\u001b[0m\u001b[1;33m(\u001b[0m\u001b[0mjob\u001b[0m\u001b[1;33m.\u001b[0m\u001b[0mget\u001b[0m\u001b[1;33m(\u001b[0m\u001b[1;33m)\u001b[0m\u001b[1;33m)\u001b[0m\u001b[1;33m\u001b[0m\u001b[1;33m\u001b[0m\u001b[0m\n",
      "\u001b[1;32m~\\anaconda3\\lib\\site-packages\\joblib\\_parallel_backends.py\u001b[0m in \u001b[0;36mwrap_future_result\u001b[1;34m(future, timeout)\u001b[0m\n\u001b[0;32m    560\u001b[0m         AsyncResults.get from multiprocessing.\"\"\"\n\u001b[0;32m    561\u001b[0m         \u001b[1;32mtry\u001b[0m\u001b[1;33m:\u001b[0m\u001b[1;33m\u001b[0m\u001b[1;33m\u001b[0m\u001b[0m\n\u001b[1;32m--> 562\u001b[1;33m             \u001b[1;32mreturn\u001b[0m \u001b[0mfuture\u001b[0m\u001b[1;33m.\u001b[0m\u001b[0mresult\u001b[0m\u001b[1;33m(\u001b[0m\u001b[0mtimeout\u001b[0m\u001b[1;33m=\u001b[0m\u001b[0mtimeout\u001b[0m\u001b[1;33m)\u001b[0m\u001b[1;33m\u001b[0m\u001b[1;33m\u001b[0m\u001b[0m\n\u001b[0m\u001b[0;32m    563\u001b[0m         \u001b[1;32mexcept\u001b[0m \u001b[0mLokyTimeoutError\u001b[0m\u001b[1;33m:\u001b[0m\u001b[1;33m\u001b[0m\u001b[1;33m\u001b[0m\u001b[0m\n\u001b[0;32m    564\u001b[0m             \u001b[1;32mraise\u001b[0m \u001b[0mTimeoutError\u001b[0m\u001b[1;33m(\u001b[0m\u001b[1;33m)\u001b[0m\u001b[1;33m\u001b[0m\u001b[1;33m\u001b[0m\u001b[0m\n",
      "\u001b[1;32m~\\anaconda3\\lib\\concurrent\\futures\\_base.py\u001b[0m in \u001b[0;36mresult\u001b[1;34m(self, timeout)\u001b[0m\n\u001b[0;32m    428\u001b[0m                 \u001b[1;32mreturn\u001b[0m \u001b[0mself\u001b[0m\u001b[1;33m.\u001b[0m\u001b[0m__get_result\u001b[0m\u001b[1;33m(\u001b[0m\u001b[1;33m)\u001b[0m\u001b[1;33m\u001b[0m\u001b[1;33m\u001b[0m\u001b[0m\n\u001b[0;32m    429\u001b[0m \u001b[1;33m\u001b[0m\u001b[0m\n\u001b[1;32m--> 430\u001b[1;33m             \u001b[0mself\u001b[0m\u001b[1;33m.\u001b[0m\u001b[0m_condition\u001b[0m\u001b[1;33m.\u001b[0m\u001b[0mwait\u001b[0m\u001b[1;33m(\u001b[0m\u001b[0mtimeout\u001b[0m\u001b[1;33m)\u001b[0m\u001b[1;33m\u001b[0m\u001b[1;33m\u001b[0m\u001b[0m\n\u001b[0m\u001b[0;32m    431\u001b[0m \u001b[1;33m\u001b[0m\u001b[0m\n\u001b[0;32m    432\u001b[0m             \u001b[1;32mif\u001b[0m \u001b[0mself\u001b[0m\u001b[1;33m.\u001b[0m\u001b[0m_state\u001b[0m \u001b[1;32min\u001b[0m \u001b[1;33m[\u001b[0m\u001b[0mCANCELLED\u001b[0m\u001b[1;33m,\u001b[0m \u001b[0mCANCELLED_AND_NOTIFIED\u001b[0m\u001b[1;33m]\u001b[0m\u001b[1;33m:\u001b[0m\u001b[1;33m\u001b[0m\u001b[1;33m\u001b[0m\u001b[0m\n",
      "\u001b[1;32m~\\anaconda3\\lib\\threading.py\u001b[0m in \u001b[0;36mwait\u001b[1;34m(self, timeout)\u001b[0m\n\u001b[0;32m    294\u001b[0m         \u001b[1;32mtry\u001b[0m\u001b[1;33m:\u001b[0m    \u001b[1;31m# restore state no matter what (e.g., KeyboardInterrupt)\u001b[0m\u001b[1;33m\u001b[0m\u001b[1;33m\u001b[0m\u001b[0m\n\u001b[0;32m    295\u001b[0m             \u001b[1;32mif\u001b[0m \u001b[0mtimeout\u001b[0m \u001b[1;32mis\u001b[0m \u001b[1;32mNone\u001b[0m\u001b[1;33m:\u001b[0m\u001b[1;33m\u001b[0m\u001b[1;33m\u001b[0m\u001b[0m\n\u001b[1;32m--> 296\u001b[1;33m                 \u001b[0mwaiter\u001b[0m\u001b[1;33m.\u001b[0m\u001b[0macquire\u001b[0m\u001b[1;33m(\u001b[0m\u001b[1;33m)\u001b[0m\u001b[1;33m\u001b[0m\u001b[1;33m\u001b[0m\u001b[0m\n\u001b[0m\u001b[0;32m    297\u001b[0m                 \u001b[0mgotit\u001b[0m \u001b[1;33m=\u001b[0m \u001b[1;32mTrue\u001b[0m\u001b[1;33m\u001b[0m\u001b[1;33m\u001b[0m\u001b[0m\n\u001b[0;32m    298\u001b[0m             \u001b[1;32melse\u001b[0m\u001b[1;33m:\u001b[0m\u001b[1;33m\u001b[0m\u001b[1;33m\u001b[0m\u001b[0m\n",
      "\u001b[1;31mKeyboardInterrupt\u001b[0m: "
     ]
    }
   ],
   "source": [
    "%%time\n",
    "# Import everything again (for completeness)\n",
    "from sklearn.preprocessing import StandardScaler\n",
    "from sklearn.decomposition import PCA\n",
    "from sklearn.tree import DecisionTreeClassifier\n",
    "from sklearn.ensemble import RandomForestClassifier\n",
    "from sklearn.neighbors import KNeighborsClassifier\n",
    "\n",
    "# Make the pipeline\n",
    "# Note that this is more of a placeholder, grid search will only look over the values\n",
    "# in the param grid, this more to setup the pipeline step names\n",
    "\n",
    "estimators = [('dimensionality', PCA()),\n",
    "              ('model', RandomForestClassifier())]\n",
    "\n",
    "pipe = Pipeline(estimators)\n",
    "\n",
    "param_grid = [\n",
    "{'dimensionality':[PCA()],\n",
    "'model': [RandomForestClassifier(n_estimators=100)],\n",
    "'dimensionality__n_components':np.arange(1,min(X_rf.shape)),\n",
    "'model__max_features': [3, 4, 5, 6]}\n",
    "#np.arange(1, 20)\n",
    "]\n",
    "grid = GridSearchCV(pipe, param_grid, cv=5, verbose=1, n_jobs=-1)\n",
    "fittedgrid = grid.fit(X_rf, y_rf)"
   ]
  },
  {
   "cell_type": "code",
   "execution_count": 144,
   "metadata": {},
   "outputs": [
    {
     "name": "stdout",
     "output_type": "stream",
     "text": [
      "Best estimator: Pipeline(steps=[('dimensionality', None),\n",
      "                ('model', RandomForestClassifier(max_features=4))])\n",
      "Accuracy: 0.44076005961251863\n",
      "\n",
      "Score: 1.0\n"
     ]
    }
   ],
   "source": [
    "# What is the best pipeline?\n",
    "print('Best estimator:', fittedgrid.best_estimator_)\n",
    "\n",
    "# Accuracy\n",
    "print('Accuracy:', fittedgrid.score(X_test, y_test))\n",
    "\n",
    "print('')\n",
    "\n",
    "# Score\n",
    "print('Score:', fittedgrid.score(X_rf, y_rf))"
   ]
  },
  {
   "cell_type": "code",
   "execution_count": 77,
   "metadata": {},
   "outputs": [],
   "source": [
    "acc_dic_over['RF_with_PCA'] = ('Acc: 0.34', 'Score: 1.0' )"
   ]
  },
  {
   "cell_type": "markdown",
   "metadata": {},
   "source": [
    "Let us see the confusion matrix."
   ]
  },
  {
   "cell_type": "code",
   "execution_count": 145,
   "metadata": {},
   "outputs": [
    {
     "data": {
      "image/png": "[encoded data removed]",
      "text/plain": [
       "<Figure size 720x720 with 1 Axes>"
      ]
     },
     "metadata": {
      "needs_background": "light"
     },
     "output_type": "display_data"
    }
   ],
   "source": [
    "# Let's get the prediction vector\n",
    "y_pred = fittedgrid.predict(X_test)\n",
    "\n",
    "from sklearn.metrics import confusion_matrix\n",
    "\n",
    "# Let's get the prediction vector\n",
    "y_pred = fittedgrid.predict(X_test)\n",
    "\n",
    "y_pred = fittedgrid.predict(X_test)\n",
    "\n",
    "conf_mat = confusion_matrix(y_test, y_pred)\n",
    "plt.figure(figsize = (10,10))\n",
    "sns.heatmap(conf_mat,\n",
    "            annot=True,\n",
    "            fmt=\"g\",\n",
    "            cbar=False\n",
    "           )\n",
    "plt.title('Model Confusion Matrix',size = 25,y=1.01)\n",
    "plt.show()"
   ]
  },
  {
   "cell_type": "code",
   "execution_count": null,
   "metadata": {},
   "outputs": [],
   "source": []
  },
  {
   "cell_type": "markdown",
   "metadata": {},
   "source": [
    "From the confusion matrix we can see recall and precision of this model "
   ]
  },
  {
   "cell_type": "code",
   "execution_count": 146,
   "metadata": {},
   "outputs": [
    {
     "name": "stdout",
     "output_type": "stream",
     "text": [
      "Recall: [0.37777778 0.2254902  0.07692308 0.45840131 0.21100917 0.30769231\n",
      " 0.69193154 0.36458333 0.8539823  0.         0.34782609 0.04225352\n",
      " 0.        ]\n",
      "\n",
      "Precision: [0.39947781 0.2371134  0.06976744 0.43230769 0.23       0.19047619\n",
      " 0.63452915 0.46296296 0.74230769 0.         0.22222222 0.04615385\n",
      " 0.        ]\n",
      "\n",
      "Recall mean: 0.30445158619111434\n",
      "\n",
      "Precision mean: 0.2821014157787309\n"
     ]
    }
   ],
   "source": [
    "recall = np.diag(conf_mat)/np.sum(conf_mat, axis = 1)\n",
    "precision = np.diag(conf_mat)/np.sum(conf_mat, axis = 0)\n",
    "\n",
    "print('Recall:', recall)\n",
    "\n",
    "print('')\n",
    "\n",
    "print('Precision:', precision)\n",
    "\n",
    "print('')\n",
    "\n",
    "print('Recall mean:', np.mean(recall))\n",
    "\n",
    "print('')\n",
    "\n",
    "print('Precision mean:', np.mean(precision))"
   ]
  },
  {
   "cell_type": "markdown",
   "metadata": {},
   "source": [
    "Below we can see which features are most important"
   ]
  },
  {
   "cell_type": "code",
   "execution_count": 147,
   "metadata": {},
   "outputs": [
    {
     "data": {
      "text/plain": [
       "array([7.11822169e-02, 9.80243483e-02, 1.00036280e-01, 9.07676114e-02,\n",
       "       9.04780961e-02, 8.09682894e-02, 1.03817717e-02, 2.83173337e-03,\n",
       "       1.17752586e-02, 1.29443242e-02, 3.74512305e-04, 1.04702236e-02,\n",
       "       7.83851627e-04, 1.47775053e-03, 1.56085635e-04, 2.21682300e-03,\n",
       "       4.41429438e-03, 6.19801663e-04, 4.73414701e-04, 3.33871578e-03,\n",
       "       1.50175468e-04, 5.83381166e-04, 9.44947699e-03, 1.90582115e-03,\n",
       "       6.00718398e-04, 1.35454546e-03, 1.26939168e-03, 4.40711247e-04,\n",
       "       6.01098548e-04, 3.18398539e-03, 6.71681257e-04, 1.69203440e-02,\n",
       "       2.17508444e-03, 0.00000000e+00, 7.77585149e-04, 2.37380086e-03,\n",
       "       9.29275976e-04, 3.13230025e-03, 2.66999548e-04, 8.40253636e-04,\n",
       "       6.16213903e-03, 1.46587341e-03, 1.11590801e-03, 6.29520840e-04,\n",
       "       2.11015795e-03, 9.92210570e-05, 2.42237213e-02, 2.49229635e-02,\n",
       "       1.15666073e-02, 1.88984810e-03, 2.49128671e-03, 1.02442258e-03,\n",
       "       1.84008681e-04, 1.89205649e-02, 5.80060914e-03, 0.00000000e+00,\n",
       "       1.15117675e-04, 0.00000000e+00, 7.19042030e-04, 2.13639359e-02,\n",
       "       5.16325676e-04, 2.50729331e-03, 6.32295813e-04, 1.72850742e-02,\n",
       "       6.92518188e-03, 2.11727920e-03, 1.79135384e-04, 1.09961746e-02,\n",
       "       2.76261415e-03, 1.02141483e-02, 2.13896136e-03, 5.26811256e-03,\n",
       "       1.14260907e-02, 2.75252358e-03, 6.08874365e-04, 0.00000000e+00,\n",
       "       0.00000000e+00, 1.40615490e-02, 1.13234527e-02, 2.35005936e-04,\n",
       "       5.28298552e-04, 3.62233309e-03, 3.84431980e-04, 6.05218863e-04,\n",
       "       1.98281274e-04, 3.26293491e-03, 2.28988631e-03, 0.00000000e+00,\n",
       "       7.52326184e-04, 1.81066852e-03, 2.13761013e-03, 4.70014964e-03,\n",
       "       1.12435318e-03, 3.80658351e-03, 6.94138667e-03, 6.95139812e-03,\n",
       "       2.34753467e-03, 1.85124845e-03, 3.94152576e-04, 3.24227455e-03,\n",
       "       3.43913453e-03, 1.22945288e-03, 9.62420453e-03, 3.41969599e-04,\n",
       "       4.85500821e-03, 3.97527898e-03, 1.14276543e-03, 1.64195944e-03,\n",
       "       4.18424301e-05, 4.52608310e-03, 1.18811390e-02, 8.90348780e-03,\n",
       "       1.01486497e-02, 3.82397950e-03, 3.17980187e-03, 2.41130458e-05,\n",
       "       3.37105595e-03, 5.13272252e-03, 5.99205600e-03, 1.67715010e-03])"
      ]
     },
     "execution_count": 147,
     "metadata": {},
     "output_type": "execute_result"
    }
   ],
   "source": [
    "#fittedgrid.best_estimator_.feature_importances_()\n",
    "\n",
    "fittedgrid.best_estimator_[1].feature_importances_"
   ]
  },
  {
   "cell_type": "code",
   "execution_count": null,
   "metadata": {},
   "outputs": [],
   "source": []
  },
  {
   "cell_type": "markdown",
   "metadata": {},
   "source": [
    "### Decision Tree"
   ]
  },
  {
   "cell_type": "markdown",
   "metadata": {},
   "source": [
    "#### Without PCA"
   ]
  },
  {
   "cell_type": "code",
   "execution_count": 53,
   "metadata": {},
   "outputs": [
    {
     "name": "stdout",
     "output_type": "stream",
     "text": [
      "Fitting 5 folds for each of 24 candidates, totalling 120 fits\n"
     ]
    },
    {
     "name": "stderr",
     "output_type": "stream",
     "text": [
      "[Parallel(n_jobs=-1)]: Using backend LokyBackend with 4 concurrent workers.\n"
     ]
    },
    {
     "name": "stdout",
     "output_type": "stream",
     "text": [
      "Wall time: 1.93 s\n"
     ]
    },
    {
     "name": "stderr",
     "output_type": "stream",
     "text": [
      "[Parallel(n_jobs=-1)]: Done 120 out of 120 | elapsed:    1.8s finished\n"
     ]
    }
   ],
   "source": [
    "%%time\n",
    "# Import everything again (for completeness)\n",
    "from sklearn.preprocessing import StandardScaler\n",
    "from sklearn.decomposition import PCA\n",
    "from sklearn.tree import DecisionTreeClassifier\n",
    "from sklearn.ensemble import RandomForestClassifier\n",
    "from sklearn.neighbors import KNeighborsClassifier\n",
    "\n",
    "# Make the pipeline\n",
    "# Note that this is more of a placeholder, grid search will only look over the values\n",
    "# in the param grid, this more to setup the pipeline step names\n",
    "\n",
    "estimators = [('dimensionality', PCA()),\n",
    "              ('model', DecisionTreeClassifier())]\n",
    "\n",
    "pipe = Pipeline(estimators)\n",
    "\n",
    "param_grid = [\n",
    "{'dimensionality':[None],\n",
    " 'model': [DecisionTreeClassifier()],\n",
    " 'model__max_depth':np.arange(1, 25)}\n",
    "]\n",
    "grid = GridSearchCV(pipe, param_grid, cv=5, verbose=1, n_jobs=-1)\n",
    "fittedgrid = grid.fit(X_rf, y_rf)"
   ]
  },
  {
   "cell_type": "code",
   "execution_count": null,
   "metadata": {},
   "outputs": [],
   "source": []
  },
  {
   "cell_type": "code",
   "execution_count": 54,
   "metadata": {},
   "outputs": [
    {
     "name": "stdout",
     "output_type": "stream",
     "text": [
      "Pipeline(steps=[('dimensionality', None),\n",
      "                ('model', DecisionTreeClassifier(max_depth=24))])\n",
      "Accuracy: 0.30700447093889716\n",
      "\n",
      "Score: 0.907576571735626\n"
     ]
    }
   ],
   "source": [
    "# What is the best pipeline?\n",
    "print(fittedgrid.best_estimator_)\n",
    "\n",
    "# Accuracy\n",
    "print('Accuracy:', fittedgrid.score(X_test, y_test))\n",
    "\n",
    "print('')\n",
    "\n",
    "# Score\n",
    "print('Score:', fittedgrid.score(X_rf, y_rf))"
   ]
  },
  {
   "cell_type": "code",
   "execution_count": 78,
   "metadata": {},
   "outputs": [],
   "source": [
    "acc_dic['DT_without_PCA'] = ('Acc: 0.30', 'Score: 0.9' )\n"
   ]
  },
  {
   "cell_type": "code",
   "execution_count": 55,
   "metadata": {},
   "outputs": [
    {
     "data": {
      "image/png": "[encoded data removed]",
      "text/plain": [
       "<Figure size 720x720 with 1 Axes>"
      ]
     },
     "metadata": {
      "needs_background": "light"
     },
     "output_type": "display_data"
    }
   ],
   "source": [
    "# Let's get the prediction vector\n",
    "y_pred = fittedgrid.predict(X_test)\n",
    "\n",
    "from sklearn.metrics import confusion_matrix\n",
    "\n",
    "# Let's get the prediction vector\n",
    "y_pred = fittedgrid.predict(X_test)\n",
    "\n",
    "y_pred = fittedgrid.predict(X_test)\n",
    "\n",
    "conf_mat = confusion_matrix(y_test, y_pred)\n",
    "plt.figure(figsize = (10,10))\n",
    "sns.heatmap(conf_mat,\n",
    "            annot=True,\n",
    "            fmt=\"g\",\n",
    "            cbar=False\n",
    "           )\n",
    "plt.title('Model Confusion Matrix',size = 25,y=1.01)\n",
    "plt.show()"
   ]
  },
  {
   "cell_type": "code",
   "execution_count": 56,
   "metadata": {},
   "outputs": [
    {
     "name": "stdout",
     "output_type": "stream",
     "text": [
      "Recall: [0.26666667 0.28431373 0.12820513 0.18270799 0.30275229 0.30769231\n",
      " 0.46210269 0.275      0.68141593 0.05555556 0.2826087  0.08450704\n",
      " 0.        ]\n",
      "\n",
      "Precision: [0.34726688 0.09830508 0.06369427 0.40433213 0.22222222 0.11764706\n",
      " 0.55263158 0.40490798 0.52920962 0.01470588 0.1031746  0.04285714\n",
      " 0.        ]\n",
      "\n",
      "Recall mean: 0.25488677132756443\n",
      "\n",
      "Precision mean: 0.2231503422373524\n"
     ]
    }
   ],
   "source": [
    "recall = np.diag(conf_mat)/np.sum(conf_mat, axis = 1)\n",
    "precision = np.diag(conf_mat)/np.sum(conf_mat, axis = 0)\n",
    "\n",
    "print('Recall:', recall)\n",
    "\n",
    "print('')\n",
    "\n",
    "print('Precision:', precision)\n",
    "\n",
    "print('')\n",
    "\n",
    "print('Recall mean:', np.mean(recall))\n",
    "\n",
    "print('')\n",
    "\n",
    "print('Precision mean:', np.mean(precision))\n",
    "\n",
    "#fittedgrid.best_estimator_.feature_importances_()"
   ]
  },
  {
   "cell_type": "code",
   "execution_count": 57,
   "metadata": {},
   "outputs": [
    {
     "data": {
      "text/plain": [
       "array([0.07759886, 0.06225147, 0.09374553, 0.10626306, 0.12821692,\n",
       "       0.07774954, 0.02642729, 0.        , 0.        , 0.00489524,\n",
       "       0.        , 0.00583105, 0.00066356, 0.        , 0.        ,\n",
       "       0.        , 0.00191828, 0.0015483 , 0.        , 0.        ,\n",
       "       0.        , 0.        , 0.0389265 , 0.0011944 , 0.00148194,\n",
       "       0.00270006, 0.        , 0.        , 0.        , 0.00818412,\n",
       "       0.        , 0.0148247 , 0.00582388, 0.        , 0.        ,\n",
       "       0.00666471, 0.        , 0.00097954, 0.        , 0.        ,\n",
       "       0.02128351, 0.        , 0.        , 0.        , 0.        ,\n",
       "       0.        , 0.0166458 , 0.01516961, 0.01100875, 0.        ,\n",
       "       0.00152618, 0.        , 0.        , 0.05740583, 0.00136503,\n",
       "       0.        , 0.        , 0.        , 0.        , 0.00649465,\n",
       "       0.        , 0.        , 0.        , 0.03374609, 0.        ,\n",
       "       0.00221185, 0.        , 0.00793957, 0.        , 0.02000491,\n",
       "       0.        , 0.00868368, 0.00066356, 0.00210796, 0.        ,\n",
       "       0.        , 0.        , 0.0100174 , 0.00887648, 0.        ,\n",
       "       0.        , 0.        , 0.        , 0.        , 0.        ,\n",
       "       0.        , 0.00066356, 0.        , 0.        , 0.00066356,\n",
       "       0.        , 0.00066356, 0.        , 0.00530777, 0.00086262,\n",
       "       0.00106169, 0.00273166, 0.        , 0.        , 0.        ,\n",
       "       0.003154  , 0.        , 0.02664474, 0.        , 0.00059371,\n",
       "       0.00124819, 0.00263057, 0.        , 0.        , 0.00479881,\n",
       "       0.01290279, 0.00536237, 0.00571769, 0.00693532, 0.00215626,\n",
       "       0.        , 0.00450292, 0.00716709, 0.00964304, 0.0015483 ])"
      ]
     },
     "execution_count": 57,
     "metadata": {},
     "output_type": "execute_result"
    }
   ],
   "source": [
    "fittedgrid.best_estimator_[1].feature_importances_"
   ]
  },
  {
   "cell_type": "code",
   "execution_count": null,
   "metadata": {},
   "outputs": [],
   "source": []
  },
  {
   "cell_type": "code",
   "execution_count": null,
   "metadata": {},
   "outputs": [],
   "source": []
  },
  {
   "cell_type": "markdown",
   "metadata": {},
   "source": [
    "#### With PCA"
   ]
  },
  {
   "cell_type": "code",
   "execution_count": 58,
   "metadata": {},
   "outputs": [
    {
     "name": "stdout",
     "output_type": "stream",
     "text": [
      "Fitting 5 folds for each of 2856 candidates, totalling 14280 fits\n"
     ]
    },
    {
     "name": "stderr",
     "output_type": "stream",
     "text": [
      "[Parallel(n_jobs=-1)]: Using backend LokyBackend with 4 concurrent workers.\n",
      "[Parallel(n_jobs=-1)]: Done 128 tasks      | elapsed:    1.9s\n",
      "[Parallel(n_jobs=-1)]: Done 728 tasks      | elapsed:   11.1s\n",
      "[Parallel(n_jobs=-1)]: Done 1728 tasks      | elapsed:   32.3s\n",
      "[Parallel(n_jobs=-1)]: Done 3128 tasks      | elapsed:  1.2min\n",
      "[Parallel(n_jobs=-1)]: Done 4928 tasks      | elapsed:  2.4min\n",
      "[Parallel(n_jobs=-1)]: Done 6468 tasks      | elapsed:  3.7min\n",
      "[Parallel(n_jobs=-1)]: Done 7118 tasks      | elapsed:  4.3min\n",
      "[Parallel(n_jobs=-1)]: Done 7868 tasks      | elapsed:  5.2min\n",
      "[Parallel(n_jobs=-1)]: Done 8718 tasks      | elapsed:  6.2min\n",
      "[Parallel(n_jobs=-1)]: Done 9668 tasks      | elapsed:  7.5min\n",
      "[Parallel(n_jobs=-1)]: Done 10718 tasks      | elapsed:  9.3min\n",
      "[Parallel(n_jobs=-1)]: Done 11868 tasks      | elapsed: 11.3min\n",
      "[Parallel(n_jobs=-1)]: Done 13118 tasks      | elapsed: 13.2min\n",
      "[Parallel(n_jobs=-1)]: Done 14280 out of 14280 | elapsed: 15.0min finished\n"
     ]
    },
    {
     "name": "stdout",
     "output_type": "stream",
     "text": [
      "Wall time: 15min\n"
     ]
    }
   ],
   "source": [
    "%%time\n",
    "# Import everything again (for completeness)\n",
    "from sklearn.preprocessing import StandardScaler\n",
    "from sklearn.decomposition import PCA\n",
    "from sklearn.tree import DecisionTreeClassifier\n",
    "from sklearn.ensemble import RandomForestClassifier\n",
    "from sklearn.neighbors import KNeighborsClassifier\n",
    "\n",
    "# Make the pipeline\n",
    "# Note that this is more of a placeholder, grid search will only look over the values\n",
    "# in the param grid, this more to setup the pipeline step names\n",
    "\n",
    "estimators = [('dimensionality', PCA()),\n",
    "              ('model', DecisionTreeClassifier())]\n",
    "\n",
    "pipe = Pipeline(estimators)\n",
    "\n",
    "param_grid = [\n",
    "{'dimensionality':[PCA()],\n",
    " 'model': [DecisionTreeClassifier()],\n",
    " 'dimensionality__n_components':np.arange(1,min(X_rf.shape)),\n",
    " 'model__max_depth':np.arange(1, 25)}\n",
    "]\n",
    "grid = GridSearchCV(pipe, param_grid, cv=5, verbose=1, n_jobs=-1)\n",
    "fittedgrid = grid.fit(X_rf, y_rf)"
   ]
  },
  {
   "cell_type": "code",
   "execution_count": 60,
   "metadata": {},
   "outputs": [
    {
     "name": "stdout",
     "output_type": "stream",
     "text": [
      "Accuracy: 0.26527570789865873\n",
      "\n",
      "Score: 0.9618484685652875\n"
     ]
    }
   ],
   "source": [
    "# What is the best pipeline?\n",
    "fittedgrid.best_estimator_\n",
    "\n",
    "# Accuracy\n",
    "print('Accuracy:', fittedgrid.score(X_test, y_test))\n",
    "\n",
    "print('')\n",
    "\n",
    "# Score\n",
    "print('Score:', fittedgrid.score(X_rf, y_rf))"
   ]
  },
  {
   "cell_type": "code",
   "execution_count": 81,
   "metadata": {},
   "outputs": [],
   "source": [
    "acc_dic['DT_with_PCA'] = ('Acc: 0.26', 'Score: 0.96' )"
   ]
  },
  {
   "cell_type": "code",
   "execution_count": 61,
   "metadata": {},
   "outputs": [
    {
     "data": {
      "image/png": "[encoded data removed]",
      "text/plain": [
       "<Figure size 720x720 with 1 Axes>"
      ]
     },
     "metadata": {
      "needs_background": "light"
     },
     "output_type": "display_data"
    }
   ],
   "source": [
    "# Let's get the prediction vector\n",
    "y_pred = fittedgrid.predict(X_test)\n",
    "\n",
    "from sklearn.metrics import confusion_matrix\n",
    "\n",
    "# Let's get the prediction vector\n",
    "y_pred = fittedgrid.predict(X_test)\n",
    "\n",
    "y_pred = fittedgrid.predict(X_test)\n",
    "\n",
    "conf_mat = confusion_matrix(y_test, y_pred)\n",
    "plt.figure(figsize = (10,10))\n",
    "sns.heatmap(conf_mat,\n",
    "            annot=True,\n",
    "            fmt=\"g\",\n",
    "            cbar=False\n",
    "           )\n",
    "plt.title('Model Confusion Matrix',size = 25,y=1.01)\n",
    "plt.show()"
   ]
  },
  {
   "cell_type": "code",
   "execution_count": 62,
   "metadata": {},
   "outputs": [
    {
     "name": "stdout",
     "output_type": "stream",
     "text": [
      "Recall: [0.25925926 0.2745098  0.08974359 0.17944535 0.17431193 0.46153846\n",
      " 0.37897311 0.20833333 0.61504425 0.05555556 0.23913043 0.15492958\n",
      " 0.2       ]\n",
      "\n",
      "Precision: [0.30612245 0.11522634 0.03301887 0.39426523 0.15322581 0.125\n",
      " 0.47256098 0.37037037 0.56275304 0.01123596 0.07638889 0.05445545\n",
      " 0.03225806]\n",
      "\n",
      "Recall mean: 0.25313651122006536\n",
      "\n",
      "Precision mean: 0.2082216484771022\n"
     ]
    }
   ],
   "source": [
    "recall = np.diag(conf_mat)/np.sum(conf_mat, axis = 1)\n",
    "precision = np.diag(conf_mat)/np.sum(conf_mat, axis = 0)\n",
    "\n",
    "print('Recall:', recall)\n",
    "\n",
    "print('')\n",
    "\n",
    "print('Precision:', precision)\n",
    "\n",
    "print('')\n",
    "\n",
    "print('Recall mean:', np.mean(recall))\n",
    "\n",
    "print('')\n",
    "\n",
    "print('Precision mean:', np.mean(precision))"
   ]
  },
  {
   "cell_type": "code",
   "execution_count": 63,
   "metadata": {},
   "outputs": [
    {
     "data": {
      "text/plain": [
       "array([0.06475172, 0.04624311, 0.05905456, 0.0418364 , 0.01526512,\n",
       "       0.04992802, 0.01568742, 0.00834676, 0.0185412 , 0.01271755,\n",
       "       0.        , 0.01476121, 0.01309038, 0.01163173, 0.01087092,\n",
       "       0.00910399, 0.00579995, 0.02378513, 0.01281071, 0.0083823 ,\n",
       "       0.01387609, 0.03470342, 0.01749158, 0.01204661, 0.02316125,\n",
       "       0.00869278, 0.01414471, 0.00419391, 0.00861182, 0.01131148,\n",
       "       0.00928329, 0.01447317, 0.0142157 , 0.00682652, 0.02320218,\n",
       "       0.0035665 , 0.01368025, 0.01512761, 0.01458272, 0.00762954,\n",
       "       0.01807835, 0.00397524, 0.01443542, 0.00879501, 0.01294388,\n",
       "       0.01052828, 0.00694934, 0.00562506, 0.0105968 , 0.01673006,\n",
       "       0.01276384, 0.01770053, 0.0125962 , 0.01575357, 0.00998746,\n",
       "       0.00925741, 0.01249484, 0.01830538, 0.01313627, 0.00587194,\n",
       "       0.01582805, 0.0171427 , 0.01707509])"
      ]
     },
     "execution_count": 63,
     "metadata": {},
     "output_type": "execute_result"
    }
   ],
   "source": [
    "#fittedgrid.best_estimator_.feature_importances_()\n",
    "\n",
    "fittedgrid.best_estimator_[1].feature_importances_"
   ]
  },
  {
   "cell_type": "markdown",
   "metadata": {},
   "source": [
    "In terms of accuracy, the DecisionTree performs better without PCA."
   ]
  },
  {
   "cell_type": "code",
   "execution_count": null,
   "metadata": {},
   "outputs": [],
   "source": []
  },
  {
   "cell_type": "markdown",
   "metadata": {},
   "source": [
    "### KNN "
   ]
  },
  {
   "cell_type": "markdown",
   "metadata": {},
   "source": [
    "Int the case of KNN, it is important to combine the model with PCA"
   ]
  },
  {
   "cell_type": "code",
   "execution_count": 69,
   "metadata": {},
   "outputs": [
    {
     "name": "stdout",
     "output_type": "stream",
     "text": [
      "Fitting 5 folds for each of 714 candidates, totalling 3570 fits\n"
     ]
    },
    {
     "name": "stderr",
     "output_type": "stream",
     "text": [
      "[Parallel(n_jobs=-1)]: Using backend LokyBackend with 4 concurrent workers.\n",
      "[Parallel(n_jobs=-1)]: Done  42 tasks      | elapsed:    1.2s\n",
      "[Parallel(n_jobs=-1)]: Done 292 tasks      | elapsed:    7.8s\n",
      "[Parallel(n_jobs=-1)]: Done 792 tasks      | elapsed:   23.8s\n",
      "[Parallel(n_jobs=-1)]: Done 1492 tasks      | elapsed:   54.1s\n",
      "[Parallel(n_jobs=-1)]: Done 2392 tasks      | elapsed:  1.9min\n",
      "[Parallel(n_jobs=-1)]: Done 3492 tasks      | elapsed:  3.3min\n",
      "[Parallel(n_jobs=-1)]: Done 3563 out of 3570 | elapsed:  3.4min remaining:    0.3s\n",
      "[Parallel(n_jobs=-1)]: Done 3570 out of 3570 | elapsed:  3.4min finished\n"
     ]
    },
    {
     "name": "stdout",
     "output_type": "stream",
     "text": [
      "Wall time: 3min 26s\n"
     ]
    },
    {
     "name": "stderr",
     "output_type": "stream",
     "text": [
      "C:\\Users\\francisco\\anaconda3\\lib\\site-packages\\sklearn\\pipeline.py:335: DataConversionWarning: A column-vector y was passed when a 1d array was expected. Please change the shape of y to (n_samples, ), for example using ravel().\n",
      "  self._final_estimator.fit(Xt, y, **fit_params_last_step)\n"
     ]
    }
   ],
   "source": [
    "%%time\n",
    "# Import everything again (for completeness)\n",
    "from sklearn.preprocessing import StandardScaler\n",
    "from sklearn.decomposition import PCA\n",
    "from sklearn.tree import DecisionTreeClassifier\n",
    "from sklearn.ensemble import RandomForestClassifier\n",
    "from sklearn.neighbors import KNeighborsClassifier\n",
    "\n",
    "# Make the pipeline\n",
    "# Note that this is more of a placeholder, grid search will only look over the values\n",
    "# in the param grid, this more to setup the pipeline step names\n",
    "\n",
    "\n",
    "\n",
    "estimators = [('dimensionality', PCA()),\n",
    "              ('model', KNeighborsClassifier())]\n",
    "\n",
    "pipe = Pipeline(estimators)\n",
    "\n",
    "param_grid = [\n",
    "{ 'dimensionality':[PCA()],\n",
    " 'model': [KNeighborsClassifier()],\n",
    "  'dimensionality__n_components':np.arange(1,min(X_rf.shape)),\n",
    "  'model__n_neighbors':np.arange(1, 7)}\n",
    "]\n",
    "grid = GridSearchCV(pipe, param_grid, cv=5, verbose=1, n_jobs=-1)\n",
    "fittedgrid = grid.fit(X_rf, y_rf)"
   ]
  },
  {
   "cell_type": "code",
   "execution_count": 73,
   "metadata": {},
   "outputs": [
    {
     "name": "stdout",
     "output_type": "stream",
     "text": [
      "Pipeline(steps=[('dimensionality', PCA(n_components=100)),\n",
      "                ('model', KNeighborsClassifier(n_neighbors=1))])\n",
      "Accuracy: 0.3289865871833085\n",
      "\n",
      "Score: 1.0\n"
     ]
    }
   ],
   "source": [
    "# What is the best pipeline?\n",
    "print(fittedgrid.best_estimator_)\n",
    "\n",
    "# Accuracy\n",
    "print('Accuracy:', fittedgrid.score(X_test, y_test))\n",
    "\n",
    "print('')\n",
    "\n",
    "# Score\n",
    "print('Score:', fittedgrid.score(X_rf, y_rf))"
   ]
  },
  {
   "cell_type": "code",
   "execution_count": 80,
   "metadata": {},
   "outputs": [],
   "source": [
    "acc_dic['KNN_with_PCA'] = ('Acc: 0.32', 'Score: 1.0' )"
   ]
  },
  {
   "cell_type": "code",
   "execution_count": 74,
   "metadata": {},
   "outputs": [
    {
     "data": {
      "image/png": "[encoded data removed]",
      "text/plain": [
       "<Figure size 720x720 with 1 Axes>"
      ]
     },
     "metadata": {
      "needs_background": "light"
     },
     "output_type": "display_data"
    }
   ],
   "source": [
    "# Let's get the prediction vector\n",
    "y_pred = fittedgrid.predict(X_test)\n",
    "\n",
    "from sklearn.metrics import confusion_matrix\n",
    "\n",
    "# Let's get the prediction vector\n",
    "y_pred = fittedgrid.predict(X_test)\n",
    "\n",
    "y_pred = fittedgrid.predict(X_test)\n",
    "\n",
    "conf_mat = confusion_matrix(y_test, y_pred)\n",
    "plt.figure(figsize = (10,10))\n",
    "sns.heatmap(conf_mat,\n",
    "            annot=True,\n",
    "            fmt=\"g\",\n",
    "            cbar=False\n",
    "           )\n",
    "plt.title('Model Confusion Matrix',size = 25,y=1.01)\n",
    "plt.show()"
   ]
  },
  {
   "cell_type": "code",
   "execution_count": 75,
   "metadata": {},
   "outputs": [
    {
     "name": "stdout",
     "output_type": "stream",
     "text": [
      "Recall: [0.29876543 0.33333333 0.19230769 0.22185971 0.23394495 0.30769231\n",
      " 0.46943765 0.27708333 0.75221239 0.11111111 0.39130435 0.07042254\n",
      " 0.4       ]\n",
      "\n",
      "Precision: [0.34971098 0.16037736 0.07575758 0.45791246 0.21338912 0.06349206\n",
      " 0.53333333 0.43181818 0.60498221 0.02298851 0.16071429 0.03144654\n",
      " 0.09090909]\n",
      "\n",
      "Recall mean: 0.3122672919689814\n",
      "\n",
      "Precision mean: 0.24591013111221158\n"
     ]
    }
   ],
   "source": [
    "recall = np.diag(conf_mat)/np.sum(conf_mat, axis = 1)\n",
    "precision = np.diag(conf_mat)/np.sum(conf_mat, axis = 0)\n",
    "\n",
    "print('Recall:', recall)\n",
    "\n",
    "print('')\n",
    "\n",
    "print('Precision:', precision)\n",
    "\n",
    "print('')\n",
    "\n",
    "print('Recall mean:', np.mean(recall))\n",
    "\n",
    "print('')\n",
    "\n",
    "print('Precision mean:', np.mean(precision))"
   ]
  },
  {
   "cell_type": "markdown",
   "metadata": {},
   "source": [
    "Let us compare the different accuracies and scores we have obtained so far"
   ]
  },
  {
   "cell_type": "code",
   "execution_count": 82,
   "metadata": {},
   "outputs": [
    {
     "data": {
      "text/plain": [
       "{'RF_without_PCA': ('Acc: 0.37', 'Score: 1.0'),\n",
       " 'RF_with_PCA': ('Acc: 0.34', 'Score: 1.0'),\n",
       " 'DT_without_PCA': ('Acc: 0.30', 'Score: 0.9'),\n",
       " 'DT_with_PCA': ('Acc: 0.26', 'Score: 0.96'),\n",
       " 'KNN_with_PCA': ('Acc: 0.32', 'Score: 1.0')}"
      ]
     },
     "execution_count": 82,
     "metadata": {},
     "output_type": "execute_result"
    }
   ],
   "source": [
    "acc_dic"
   ]
  },
  {
   "cell_type": "markdown",
   "metadata": {},
   "source": [
    "In terms of accuracy, Random Forest without PCA is the best. "
   ]
  },
  {
   "cell_type": "code",
   "execution_count": null,
   "metadata": {},
   "outputs": [],
   "source": []
  },
  {
   "cell_type": "code",
   "execution_count": null,
   "metadata": {},
   "outputs": [],
   "source": []
  },
  {
   "cell_type": "code",
   "execution_count": null,
   "metadata": {},
   "outputs": [],
   "source": []
  },
  {
   "cell_type": "code",
   "execution_count": null,
   "metadata": {},
   "outputs": [],
   "source": []
  },
  {
   "cell_type": "code",
   "execution_count": null,
   "metadata": {},
   "outputs": [],
   "source": []
  },
  {
   "cell_type": "code",
   "execution_count": null,
   "metadata": {},
   "outputs": [],
   "source": []
  },
  {
   "cell_type": "code",
   "execution_count": null,
   "metadata": {},
   "outputs": [],
   "source": []
  },
  {
   "cell_type": "code",
   "execution_count": null,
   "metadata": {},
   "outputs": [],
   "source": []
  },
  {
   "cell_type": "code",
   "execution_count": null,
   "metadata": {},
   "outputs": [],
   "source": []
  },
  {
   "cell_type": "code",
   "execution_count": null,
   "metadata": {},
   "outputs": [],
   "source": []
  },
  {
   "cell_type": "code",
   "execution_count": null,
   "metadata": {},
   "outputs": [],
   "source": []
  },
  {
   "cell_type": "code",
   "execution_count": null,
   "metadata": {},
   "outputs": [],
   "source": []
  },
  {
   "cell_type": "markdown",
   "metadata": {},
   "source": [
    "#### We are ready to start running our models."
   ]
  },
  {
   "cell_type": "code",
   "execution_count": null,
   "metadata": {},
   "outputs": [],
   "source": [
    "from sklearn.pipeline import Pipeline\n",
    "from sklearn.model_selection import GridSearchCV\n",
    "from sklearn.metrics import SCORERS\n",
    "SCORERS.keys()"
   ]
  },
  {
   "cell_type": "markdown",
   "metadata": {},
   "source": [
    "### DecissionTre"
   ]
  },
  {
   "cell_type": "code",
   "execution_count": null,
   "metadata": {},
   "outputs": [],
   "source": [
    "%%time\n",
    "# Import everything again (for completeness)\n",
    "from sklearn.preprocessing import StandardScaler\n",
    "from sklearn.decomposition import PCA\n",
    "from sklearn.tree import DecisionTreeClassifier\n",
    "from sklearn.ensemble import RandomForestClassifier\n",
    "from sklearn.neighbors import KNeighborsClassifier\n",
    "\n",
    "# Make the pipeline\n",
    "# Note that this is more of a placeholder, grid search will only look over the values\n",
    "# in the param grid, this more to setup the pipeline step names\n",
    "\n",
    "estimators = [('dimensionality', PCA()),\n",
    "              ('model', DecisionTreeClassifier())]\n",
    "\n",
    "pipe = Pipeline(estimators)\n",
    "\n",
    "param_grid = [\n",
    "{'dimensionality':[None],\n",
    " 'model': [DecisionTreeClassifier()],\n",
    " 'model__max_depth':np.arange(1, 20)}\n",
    "]\n",
    "grid = GridSearchCV(pipe, param_grid, cv=5, verbose=1, n_jobs=-1)\n",
    "fittedgrid = grid.fit(X_over, y_over)"
   ]
  },
  {
   "cell_type": "code",
   "execution_count": null,
   "metadata": {},
   "outputs": [],
   "source": [
    "# What is the best pipeline?\n",
    "fittedgrid.best_estimator_"
   ]
  },
  {
   "cell_type": "code",
   "execution_count": null,
   "metadata": {},
   "outputs": [],
   "source": [
    "# Score\n",
    "fittedgrid.score(X_test, y_test)"
   ]
  },
  {
   "cell_type": "code",
   "execution_count": null,
   "metadata": {},
   "outputs": [],
   "source": [
    "fittedgrid.score(X_remainder, y_remainder)"
   ]
  },
  {
   "cell_type": "code",
   "execution_count": null,
   "metadata": {},
   "outputs": [],
   "source": [
    "%%time\n",
    "from sklearn.metrics import confusion_matrix\n",
    "\n",
    "# Let's get the prediction vector\n",
    "y_pred = fittedgrid.predict(X_test)\n",
    "\n",
    "y_pred = fittedgrid.predict(X_test)\n",
    "\n",
    "conf_mat = confusion_matrix(y_test, y_pred)\n",
    "plt.figure(figsize = (10,10))\n",
    "sns.heatmap(conf_mat,\n",
    "            annot=True,\n",
    "            fmt=\"g\",\n",
    "            cbar=False\n",
    "           )\n",
    "plt.title('Model Confusion Matrix',size = 25,y=1.01)\n",
    "plt.show()"
   ]
  },
  {
   "cell_type": "code",
   "execution_count": null,
   "metadata": {},
   "outputs": [],
   "source": []
  },
  {
   "cell_type": "code",
   "execution_count": null,
   "metadata": {},
   "outputs": [],
   "source": []
  },
  {
   "cell_type": "code",
   "execution_count": null,
   "metadata": {},
   "outputs": [],
   "source": [
    "recall = np.diag(conf_mat)/np.sum(conf_mat, axis = 1)\n",
    "precision = np.diag(conf_mat)/np.sum(conf_mat, axis = 0)\n",
    "\n",
    "print('Recall:', recall)\n",
    "\n",
    "print('')\n",
    "\n",
    "print('Precision:', precision)\n",
    "\n",
    "print('')\n",
    "\n",
    "print('Recall mean:', np.mean(recall))\n",
    "\n",
    "print('')\n",
    "\n",
    "print('Precision mean:', np.mean(precision))"
   ]
  },
  {
   "cell_type": "markdown",
   "metadata": {},
   "source": [
    "These scores are acceptable "
   ]
  },
  {
   "cell_type": "code",
   "execution_count": null,
   "metadata": {},
   "outputs": [],
   "source": [
    "%%time\n",
    "# Import everything again (for completeness)\n",
    "from sklearn.preprocessing import StandardScaler\n",
    "from sklearn.decomposition import PCA\n",
    "from sklearn.tree import DecisionTreeClassifier\n",
    "from sklearn.ensemble import RandomForestClassifier\n",
    "from sklearn.neighbors import KNeighborsClassifier\n",
    "\n",
    "# Make the pipeline\n",
    "# Note that this is more of a placeholder, grid search will only look over the values\n",
    "# in the param grid, this more to setup the pipeline step names\n",
    "\n",
    "estimators = [('dimensionality', PCA()),\n",
    "              ('model', DecisionTreeClassifier())]\n",
    "\n",
    "pipe = Pipeline(estimators)\n",
    "\n",
    "param_grid = [\n",
    "{'dimensionality':[None],\n",
    " 'model': [DecisionTreeClassifier()],\n",
    " 'model__max_depth':np.arange(1, 80)}\n",
    "]\n",
    "grid = GridSearchCV(pipe, param_grid, cv=5, verbose=1, n_jobs=-1)\n",
    "fittedgrid = grid.fit(X_resampled, y_resampled)"
   ]
  },
  {
   "cell_type": "code",
   "execution_count": null,
   "metadata": {},
   "outputs": [],
   "source": [
    "# What is the best pipeline?\n",
    "fittedgrid.best_estimator_"
   ]
  },
  {
   "cell_type": "code",
   "execution_count": null,
   "metadata": {},
   "outputs": [],
   "source": [
    "# Score\n",
    "fittedgrid.score(X_test, y_test)\n",
    "#0.28"
   ]
  },
  {
   "cell_type": "code",
   "execution_count": null,
   "metadata": {},
   "outputs": [],
   "source": [
    "# Score\n",
    "fittedgrid.score(X_under, y_under)\n",
    "#1.0"
   ]
  },
  {
   "cell_type": "code",
   "execution_count": null,
   "metadata": {},
   "outputs": [],
   "source": [
    "y_pred = fittedgrid.predict(X_test)\n",
    "y_pred"
   ]
  },
  {
   "cell_type": "code",
   "execution_count": null,
   "metadata": {},
   "outputs": [],
   "source": [
    "%%time\n",
    "from sklearn.metrics import confusion_matrix\n",
    "\n",
    "y_pred = fittedgrid.predict(X_test)\n",
    "\n",
    "conf_mat = confusion_matrix(y_test, y_pred)\n",
    "plt.figure(figsize = (10,10))\n",
    "sns.heatmap(conf_mat,\n",
    "            annot=True,\n",
    "            fmt=\"g\",\n",
    "            cbar=False\n",
    "           )\n",
    "plt.title('Model Confusion Matrix',size = 25,y=1.01)\n",
    "plt.show()"
   ]
  },
  {
   "cell_type": "markdown",
   "metadata": {},
   "source": [
    "### KNN"
   ]
  },
  {
   "cell_type": "code",
   "execution_count": null,
   "metadata": {},
   "outputs": [],
   "source": [
    "%%time\n",
    "# Import everything again (for completeness)\n",
    "from sklearn.preprocessing import StandardScaler\n",
    "from sklearn.decomposition import PCA\n",
    "from sklearn.tree import DecisionTreeClassifier\n",
    "from sklearn.ensemble import RandomForestClassifier\n",
    "from sklearn.neighbors import KNeighborsClassifier\n",
    "\n",
    "# Make the pipeline\n",
    "# Note that this is more of a placeholder, grid search will only look over the values\n",
    "# in the param grid, this more to setup the pipeline step names\n",
    "\n",
    "\n",
    "\n",
    "estimators = [('dimensionality', PCA()),\n",
    "              ('model', DecisionTreeClassifier())]\n",
    "\n",
    "pipe = Pipeline(estimators)\n",
    "\n",
    "param_grid = [\n",
    "{ 'dimensionality':[PCA()],\n",
    " 'model': [KNeighborsClassifier()],\n",
    "  'dimensionality__n_components':np.arange(1,min(X_resampled.shape)),\n",
    "  'model__n_neighbors':np.arange(5, 10)}\n",
    "]\n",
    "grid = GridSearchCV(pipe, param_grid, cv=5, verbose=1, n_jobs=-1)\n",
    "fittedgrid = grid.fit(X_under, y_under)"
   ]
  },
  {
   "cell_type": "code",
   "execution_count": null,
   "metadata": {},
   "outputs": [],
   "source": []
  },
  {
   "cell_type": "code",
   "execution_count": null,
   "metadata": {},
   "outputs": [],
   "source": [
    "# What is the best pipeline?\n",
    "fittedgrid.best_estimator_"
   ]
  },
  {
   "cell_type": "code",
   "execution_count": null,
   "metadata": {},
   "outputs": [],
   "source": [
    "# Score\n",
    "fittedgrid.score(X_test, y_test)"
   ]
  },
  {
   "cell_type": "code",
   "execution_count": null,
   "metadata": {},
   "outputs": [],
   "source": [
    "fittedgrid.score(X_under, y_under)"
   ]
  },
  {
   "cell_type": "code",
   "execution_count": null,
   "metadata": {},
   "outputs": [],
   "source": [
    "%%time\n",
    "from sklearn.metrics import confusion_matrix\n",
    "\n",
    "# Let's get the prediction vector\n",
    "y_pred = fittedgrid.predict(X_test)\n",
    "\n",
    "y_pred = fittedgrid.predict(X_test)\n",
    "\n",
    "conf_mat = confusion_matrix(y_test, y_pred)\n",
    "plt.figure(figsize = (10,10))\n",
    "sns.heatmap(conf_mat,\n",
    "            annot=True,\n",
    "            fmt=\"g\",\n",
    "            cbar=False\n",
    "           )\n",
    "plt.title('Model Confusion Matrix',size = 25,y=1.01)\n",
    "plt.show()"
   ]
  },
  {
   "cell_type": "code",
   "execution_count": null,
   "metadata": {},
   "outputs": [],
   "source": [
    "recall = np.diag(conf_mat)/np.sum(conf_mat, axis = 1)\n",
    "precision = np.diag(conf_mat)/np.sum(conf_mat, axis = 0)\n",
    "\n",
    "print('Recall:', recall)\n",
    "\n",
    "print('')\n",
    "\n",
    "print('Precision:', precision)\n",
    "\n",
    "print('')\n",
    "\n",
    "print('Recall mean:', np.mean(recall))\n",
    "\n",
    "print('')\n",
    "\n",
    "print('Precision mean:', np.mean(precision))"
   ]
  },
  {
   "cell_type": "code",
   "execution_count": null,
   "metadata": {},
   "outputs": [],
   "source": [
    "# Let's recall the number of components in our data\n",
    "\n",
    "print('X_remainder shape', X_remainder.shape)\n",
    "print('maximum possible number of components to feed our PCA model:', min(X_remainder.shape))"
   ]
  },
  {
   "cell_type": "markdown",
   "metadata": {},
   "source": [
    "### Below we can see different methods we use to balance the dataset"
   ]
  },
  {
   "cell_type": "markdown",
   "metadata": {},
   "source": [
    "### Undersampling Cluster Centroids"
   ]
  },
  {
   "cell_type": "code",
   "execution_count": null,
   "metadata": {},
   "outputs": [],
   "source": [
    "%%time\n",
    "from imblearn.under_sampling import ClusterCentroids\n",
    "cc = ClusterCentroids(random_state=2020)\n",
    "X_r_centroid, y_r_centroid= cc.fit_resample(X_remainder, y_remainder)\n",
    "print(sorted(Counter(y_r_centroid).items()))"
   ]
  },
  {
   "cell_type": "code",
   "execution_count": null,
   "metadata": {},
   "outputs": [],
   "source": [
    "plt.figure()\n",
    "sns.distplot(y_r_centroid, kde=False) # Enable `kde` if you also want a curve to be plotted; in this case I've disabled it\n",
    "#plt.axvline(y.mean(), c='r', label='Mean') # Plot the mean\n",
    "#plt.axvline(y.median(), c='gold', label='Median') # Plot the median\n",
    "#plt.legend() # Make a legend so we know which line is the mean and which is the median\n",
    "plt.title('Dependent variable (train) after resampling')\n",
    "plt.xlabel('Categories')\n",
    "plt.ylabel('Count')\n",
    "plt.show()"
   ]
  },
  {
   "cell_type": "code",
   "execution_count": null,
   "metadata": {},
   "outputs": [],
   "source": [
    "%%time\n",
    "# Import everything again (for completeness)\n",
    "from sklearn.preprocessing import StandardScaler\n",
    "from sklearn.decomposition import PCA\n",
    "from sklearn.tree import DecisionTreeClassifier\n",
    "from sklearn.ensemble import RandomForestClassifier\n",
    "from sklearn.neighbors import KNeighborsClassifier\n",
    "\n",
    "# Make the pipeline\n",
    "# Note that this is more of a placeholder, grid search will only look over the values\n",
    "# in the param grid, this more to setup the pipeline step names\n",
    "\n",
    "\n",
    "\n",
    "estimators = [('dimensionality', PCA()),\n",
    "              ('model', DecisionTreeClassifier())]\n",
    "\n",
    "pipe = Pipeline(estimators)\n",
    "\n",
    "param_grid = [\n",
    "{ 'dimensionality':[PCA()],\n",
    " 'model': [KNeighborsClassifier()],\n",
    "  'dimensionality__n_components':np.arange(1,min(X_resampled.shape)),\n",
    "  'model__n_neighbors':np.arange(3, 25)}\n",
    "]\n",
    "grid = GridSearchCV(pipe, param_grid, cv=5, verbose=1, n_jobs=-1)\n",
    "fittedgrid = grid.fit(X_r_centroid, y_r_centroid)"
   ]
  },
  {
   "cell_type": "code",
   "execution_count": null,
   "metadata": {},
   "outputs": [],
   "source": [
    "# What is the best pipeline?\n",
    "fittedgrid.best_estimator_"
   ]
  },
  {
   "cell_type": "code",
   "execution_count": null,
   "metadata": {},
   "outputs": [],
   "source": [
    "# Score\n",
    "fittedgrid.score(X_test, y_test)"
   ]
  },
  {
   "cell_type": "code",
   "execution_count": null,
   "metadata": {},
   "outputs": [],
   "source": []
  },
  {
   "cell_type": "markdown",
   "metadata": {},
   "source": [
    "### Random undersampling"
   ]
  },
  {
   "cell_type": "code",
   "execution_count": null,
   "metadata": {},
   "outputs": [],
   "source": [
    "from imblearn.under_sampling import RandomUnderSampler\n",
    "rus = RandomUnderSampler(random_state=20)\n",
    "X_random_u, y_random_u = rus.fit_resample(X_remainder, y_remainder)\n",
    "print(sorted(Counter(y_random_u).items()))"
   ]
  },
  {
   "cell_type": "code",
   "execution_count": null,
   "metadata": {},
   "outputs": [],
   "source": [
    "plt.figure()\n",
    "sns.distplot(y_random_u, kde=False) # Enable `kde` if you also want a curve to be plotted; in this case I've disabled it\n",
    "#plt.axvline(y.mean(), c='r', label='Mean') # Plot the mean\n",
    "#plt.axvline(y.median(), c='gold', label='Median') # Plot the median\n",
    "#plt.legend() # Make a legend so we know which line is the mean and which is the median\n",
    "plt.title('Dependent variable (train) after resampling')\n",
    "plt.xlabel('Categories')\n",
    "plt.ylabel('Count')\n",
    "plt.show()"
   ]
  },
  {
   "cell_type": "markdown",
   "metadata": {},
   "source": [
    "### Resampling Tomek:\n",
    "It gives interesting results"
   ]
  },
  {
   "cell_type": "code",
   "execution_count": null,
   "metadata": {},
   "outputs": [],
   "source": [
    "%%time\n",
    "from collections import Counter\n",
    "from imblearn.combine import SMOTEENN\n",
    "smote_enn = SMOTEENN(random_state=0)\n",
    "X_resampled, y_resampled = smote_enn.fit_resample(X_remainder, y_remainder)\n",
    "print(sorted(Counter(y_resampled).items()))\n",
    "\n",
    "from imblearn.combine import SMOTETomek\n",
    "smote_tomek = SMOTETomek(random_state=0)\n",
    "X_resampled, y_resampled = smote_tomek.fit_resample(X_remainder, y_remainder)\n",
    "print(sorted(Counter(y_resampled).items()))"
   ]
  },
  {
   "cell_type": "code",
   "execution_count": null,
   "metadata": {},
   "outputs": [],
   "source": [
    "%%time\n",
    "from collections import Counter\n",
    "from imblearn.combine import SMOTEENN\n",
    "smote_enn = SMOTEENN(random_state=0)\n",
    "X_resampled, y_resampled = smote_enn.fit_resample(X_remainder, y_remainder)\n",
    "print(sorted(Counter(y_resampled).items()))\n",
    "\n",
    "from imblearn.combine import SMOTETomek\n",
    "smote_tomek = SMOTETomek(random_state=0)\n",
    "X_resampled, y_resampled = smote_tomek.fit_resample(X_remainder, y_remainder)\n",
    "print(sorted(Counter(y_resampled).items()))\n",
    "\n",
    "plt.figure()\n",
    "sns.distplot(y_resampled, kde=False) # Enable `kde` if you also want a curve to be plotted; in this case I've disabled it\n",
    "#plt.axvline(y.mean(), c='r', label='Mean') # Plot the mean\n",
    "#plt.axvline(y.median(), c='gold', label='Median') # Plot the median\n",
    "#plt.legend() # Make a legend so we know which line is the mean and which is the median\n",
    "plt.title('Dependent variable (train) after resampling')\n",
    "plt.xlabel('Categories')\n",
    "plt.ylabel('Count')\n",
    "plt.show()"
   ]
  },
  {
   "cell_type": "code",
   "execution_count": null,
   "metadata": {},
   "outputs": [],
   "source": [
    "plt.figure()\n",
    "sns.distplot(y_test, kde=False) # Enable `kde` if you also want a curve to be plotted; in this case I've disabled it\n",
    "#plt.axvline(y.mean(), c='r', label='Mean') # Plot the mean\n",
    "#plt.axvline(y.median(), c='gold', label='Median') # Plot the median\n",
    "#plt.legend() # Make a legend so we know which line is the mean and which is the median\n",
    "plt.title('Dependent variable (test)')\n",
    "plt.xlabel('Categories')\n",
    "plt.ylabel('Count')\n",
    "plt.show()"
   ]
  },
  {
   "cell_type": "code",
   "execution_count": null,
   "metadata": {},
   "outputs": [],
   "source": [
    "4+4"
   ]
  },
  {
   "cell_type": "code",
   "execution_count": null,
   "metadata": {},
   "outputs": [],
   "source": []
  },
  {
   "cell_type": "code",
   "execution_count": null,
   "metadata": {},
   "outputs": [],
   "source": []
  }
 ],
 "metadata": {
  "kernelspec": {
   "display_name": "Python 3",
   "language": "python",
   "name": "python3"
  },
  "language_info": {
   "codemirror_mode": {
    "name": "ipython",
    "version": 3
   },
   "file_extension": ".py",
   "mimetype": "text/x-python",
   "name": "python",
   "nbconvert_exporter": "python",
   "pygments_lexer": "ipython3",
   "version": "3.7.6"
  }
 },
 "nbformat": 4,
 "nbformat_minor": 4
}
