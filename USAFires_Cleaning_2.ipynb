{
 "cells": [
  {
   "cell_type": "code",
   "execution_count": 3,
   "metadata": {},
   "outputs": [],
   "source": [
    "import pandas as pd\n",
    "\n",
    "import numpy as np\n",
    "\n",
    "import matplotlib.pyplot as plt\n",
    "import seaborn as sns"
   ]
  },
  {
   "cell_type": "markdown",
   "metadata": {},
   "source": [
    "Let us read in the data we are going to work with"
   ]
  },
  {
   "cell_type": "code",
   "execution_count": 4,
   "metadata": {},
   "outputs": [
    {
     "name": "stdout",
     "output_type": "stream",
     "text": [
      "Wall time: 3.19 s\n"
     ]
    }
   ],
   "source": [
    "%%time\n",
    "fires_df = pd.read_csv('C:\\\\Users\\\\francisco\\\\Desktop\\\\BrainStation\\\\Capstoneproject_BS\\\\FiresUSA\\\\Fires_pandas_df.csv')"
   ]
  },
  {
   "cell_type": "markdown",
   "metadata": {},
   "source": [
    "Remember that this data is mostly clean and is almost ready to make analysis. We will take a look at its content."
   ]
  },
  {
   "cell_type": "code",
   "execution_count": 5,
   "metadata": {},
   "outputs": [
    {
     "data": {
      "text/html": [
       "<div>\n",
       "<style scoped>\n",
       "    .dataframe tbody tr th:only-of-type {\n",
       "        vertical-align: middle;\n",
       "    }\n",
       "\n",
       "    .dataframe tbody tr th {\n",
       "        vertical-align: top;\n",
       "    }\n",
       "\n",
       "    .dataframe thead th {\n",
       "        text-align: right;\n",
       "    }\n",
       "</style>\n",
       "<table border=\"1\" class=\"dataframe\">\n",
       "  <thead>\n",
       "    <tr style=\"text-align: right;\">\n",
       "      <th></th>\n",
       "      <th>SOURCE_SYSTEM_TYPE</th>\n",
       "      <th>SOURCE_SYSTEM</th>\n",
       "      <th>STAT_CAUSE_CODE</th>\n",
       "      <th>STAT_CAUSE_DESCR</th>\n",
       "      <th>FIRE_SIZE</th>\n",
       "      <th>FIRE_SIZE_CLASS</th>\n",
       "      <th>LATITUDE</th>\n",
       "      <th>LONGITUDE</th>\n",
       "      <th>OWNER_CODE</th>\n",
       "      <th>OWNER_DESCR</th>\n",
       "      <th>STATE</th>\n",
       "      <th>Discovery_Year</th>\n",
       "      <th>Discovery_Month</th>\n",
       "      <th>Discovery_Day</th>\n",
       "    </tr>\n",
       "  </thead>\n",
       "  <tbody>\n",
       "    <tr>\n",
       "      <th>0</th>\n",
       "      <td>FED</td>\n",
       "      <td>FS-FIRESTAT</td>\n",
       "      <td>9.0</td>\n",
       "      <td>Miscellaneous</td>\n",
       "      <td>0.10</td>\n",
       "      <td>A</td>\n",
       "      <td>40.036944</td>\n",
       "      <td>-121.005833</td>\n",
       "      <td>5.0</td>\n",
       "      <td>USFS</td>\n",
       "      <td>CA</td>\n",
       "      <td>2005</td>\n",
       "      <td>2</td>\n",
       "      <td>2</td>\n",
       "    </tr>\n",
       "    <tr>\n",
       "      <th>1</th>\n",
       "      <td>FED</td>\n",
       "      <td>FS-FIRESTAT</td>\n",
       "      <td>1.0</td>\n",
       "      <td>Lightning</td>\n",
       "      <td>0.25</td>\n",
       "      <td>A</td>\n",
       "      <td>38.933056</td>\n",
       "      <td>-120.404444</td>\n",
       "      <td>5.0</td>\n",
       "      <td>USFS</td>\n",
       "      <td>CA</td>\n",
       "      <td>2004</td>\n",
       "      <td>5</td>\n",
       "      <td>12</td>\n",
       "    </tr>\n",
       "    <tr>\n",
       "      <th>2</th>\n",
       "      <td>FED</td>\n",
       "      <td>FS-FIRESTAT</td>\n",
       "      <td>5.0</td>\n",
       "      <td>Debris Burning</td>\n",
       "      <td>0.10</td>\n",
       "      <td>A</td>\n",
       "      <td>38.984167</td>\n",
       "      <td>-120.735556</td>\n",
       "      <td>13.0</td>\n",
       "      <td>STATE OR PRIVATE</td>\n",
       "      <td>CA</td>\n",
       "      <td>2004</td>\n",
       "      <td>5</td>\n",
       "      <td>31</td>\n",
       "    </tr>\n",
       "    <tr>\n",
       "      <th>3</th>\n",
       "      <td>FED</td>\n",
       "      <td>FS-FIRESTAT</td>\n",
       "      <td>1.0</td>\n",
       "      <td>Lightning</td>\n",
       "      <td>0.10</td>\n",
       "      <td>A</td>\n",
       "      <td>38.559167</td>\n",
       "      <td>-119.913333</td>\n",
       "      <td>5.0</td>\n",
       "      <td>USFS</td>\n",
       "      <td>CA</td>\n",
       "      <td>2004</td>\n",
       "      <td>6</td>\n",
       "      <td>28</td>\n",
       "    </tr>\n",
       "    <tr>\n",
       "      <th>4</th>\n",
       "      <td>FED</td>\n",
       "      <td>FS-FIRESTAT</td>\n",
       "      <td>1.0</td>\n",
       "      <td>Lightning</td>\n",
       "      <td>0.10</td>\n",
       "      <td>A</td>\n",
       "      <td>38.559167</td>\n",
       "      <td>-119.933056</td>\n",
       "      <td>5.0</td>\n",
       "      <td>USFS</td>\n",
       "      <td>CA</td>\n",
       "      <td>2004</td>\n",
       "      <td>6</td>\n",
       "      <td>28</td>\n",
       "    </tr>\n",
       "  </tbody>\n",
       "</table>\n",
       "</div>"
      ],
      "text/plain": [
       "  SOURCE_SYSTEM_TYPE SOURCE_SYSTEM  STAT_CAUSE_CODE STAT_CAUSE_DESCR  \\\n",
       "0                FED   FS-FIRESTAT              9.0    Miscellaneous   \n",
       "1                FED   FS-FIRESTAT              1.0        Lightning   \n",
       "2                FED   FS-FIRESTAT              5.0   Debris Burning   \n",
       "3                FED   FS-FIRESTAT              1.0        Lightning   \n",
       "4                FED   FS-FIRESTAT              1.0        Lightning   \n",
       "\n",
       "   FIRE_SIZE FIRE_SIZE_CLASS   LATITUDE   LONGITUDE  OWNER_CODE  \\\n",
       "0       0.10               A  40.036944 -121.005833         5.0   \n",
       "1       0.25               A  38.933056 -120.404444         5.0   \n",
       "2       0.10               A  38.984167 -120.735556        13.0   \n",
       "3       0.10               A  38.559167 -119.913333         5.0   \n",
       "4       0.10               A  38.559167 -119.933056         5.0   \n",
       "\n",
       "        OWNER_DESCR STATE  Discovery_Year  Discovery_Month  Discovery_Day  \n",
       "0              USFS    CA            2005                2              2  \n",
       "1              USFS    CA            2004                5             12  \n",
       "2  STATE OR PRIVATE    CA            2004                5             31  \n",
       "3              USFS    CA            2004                6             28  \n",
       "4              USFS    CA            2004                6             28  "
      ]
     },
     "execution_count": 5,
     "metadata": {},
     "output_type": "execute_result"
    }
   ],
   "source": [
    "fires_df.head()"
   ]
  },
  {
   "cell_type": "markdown",
   "metadata": {},
   "source": [
    "Let us see the information contained in our dataset"
   ]
  },
  {
   "cell_type": "code",
   "execution_count": 6,
   "metadata": {},
   "outputs": [
    {
     "name": "stdout",
     "output_type": "stream",
     "text": [
      "<class 'pandas.core.frame.DataFrame'>\n",
      "RangeIndex: 1800000 entries, 0 to 1799999\n",
      "Data columns (total 14 columns):\n",
      " #   Column              Dtype  \n",
      "---  ------              -----  \n",
      " 0   SOURCE_SYSTEM_TYPE  object \n",
      " 1   SOURCE_SYSTEM       object \n",
      " 2   STAT_CAUSE_CODE     float64\n",
      " 3   STAT_CAUSE_DESCR    object \n",
      " 4   FIRE_SIZE           float64\n",
      " 5   FIRE_SIZE_CLASS     object \n",
      " 6   LATITUDE            float64\n",
      " 7   LONGITUDE           float64\n",
      " 8   OWNER_CODE          float64\n",
      " 9   OWNER_DESCR         object \n",
      " 10  STATE               object \n",
      " 11  Discovery_Year      int64  \n",
      " 12  Discovery_Month     int64  \n",
      " 13  Discovery_Day       int64  \n",
      "dtypes: float64(5), int64(3), object(6)\n",
      "memory usage: 192.3+ MB\n"
     ]
    }
   ],
   "source": [
    "fires_df.info()"
   ]
  },
  {
   "cell_type": "markdown",
   "metadata": {},
   "source": [
    "Our dataset is a combination of numeric and non-numeric data. We will need to convert the non-numeric data that we will use to run our models. This will be done later. Recall that we are working with 1.8M datapoints. Indeed:"
   ]
  },
  {
   "cell_type": "code",
   "execution_count": 7,
   "metadata": {},
   "outputs": [
    {
     "data": {
      "text/plain": [
       "SOURCE_SYSTEM_TYPE    1800000\n",
       "SOURCE_SYSTEM         1800000\n",
       "STAT_CAUSE_CODE       1800000\n",
       "STAT_CAUSE_DESCR      1800000\n",
       "FIRE_SIZE             1800000\n",
       "FIRE_SIZE_CLASS       1800000\n",
       "LATITUDE              1800000\n",
       "LONGITUDE             1800000\n",
       "OWNER_CODE            1800000\n",
       "OWNER_DESCR           1800000\n",
       "STATE                 1800000\n",
       "Discovery_Year        1800000\n",
       "Discovery_Month       1800000\n",
       "Discovery_Day         1800000\n",
       "dtype: int64"
      ]
     },
     "execution_count": 7,
     "metadata": {},
     "output_type": "execute_result"
    }
   ],
   "source": [
    "fires_df.count()"
   ]
  },
  {
   "cell_type": "markdown",
   "metadata": {},
   "source": [
    "It is always good to check for duplicates."
   ]
  },
  {
   "cell_type": "code",
   "execution_count": 8,
   "metadata": {},
   "outputs": [
    {
     "data": {
      "text/plain": [
       "6125"
      ]
     },
     "execution_count": 8,
     "metadata": {},
     "output_type": "execute_result"
    }
   ],
   "source": [
    "fires_df.duplicated().astype(int).sum()"
   ]
  },
  {
   "cell_type": "markdown",
   "metadata": {},
   "source": [
    "The dictionary below contains a glosary from the original data source"
   ]
  },
  {
   "cell_type": "markdown",
   "metadata": {},
   "source": [
    "We have about $0.03\\%$ duplicated rows. We will eliminated them. "
   ]
  },
  {
   "cell_type": "code",
   "execution_count": 9,
   "metadata": {},
   "outputs": [],
   "source": [
    "fires_df.drop_duplicates(keep=False,inplace=True)"
   ]
  },
  {
   "cell_type": "markdown",
   "metadata": {},
   "source": [
    "We search for duplicates again"
   ]
  },
  {
   "cell_type": "code",
   "execution_count": 10,
   "metadata": {},
   "outputs": [
    {
     "data": {
      "text/plain": [
       "0"
      ]
     },
     "execution_count": 10,
     "metadata": {},
     "output_type": "execute_result"
    }
   ],
   "source": [
    "fires_df.duplicated().astype(int).sum()"
   ]
  },
  {
   "cell_type": "code",
   "execution_count": 11,
   "metadata": {},
   "outputs": [
    {
     "data": {
      "text/plain": [
       "SOURCE_SYSTEM_TYPE    1789378\n",
       "SOURCE_SYSTEM         1789378\n",
       "STAT_CAUSE_CODE       1789378\n",
       "STAT_CAUSE_DESCR      1789378\n",
       "FIRE_SIZE             1789378\n",
       "FIRE_SIZE_CLASS       1789378\n",
       "LATITUDE              1789378\n",
       "LONGITUDE             1789378\n",
       "OWNER_CODE            1789378\n",
       "OWNER_DESCR           1789378\n",
       "STATE                 1789378\n",
       "Discovery_Year        1789378\n",
       "Discovery_Month       1789378\n",
       "Discovery_Day         1789378\n",
       "dtype: int64"
      ]
     },
     "execution_count": 11,
     "metadata": {},
     "output_type": "execute_result"
    }
   ],
   "source": [
    "fires_df.count()"
   ]
  },
  {
   "cell_type": "markdown",
   "metadata": {},
   "source": [
    "To go to the next step of our analysis, we are going to store the glossary of terms in a dictionary"
   ]
  },
  {
   "cell_type": "code",
   "execution_count": 12,
   "metadata": {},
   "outputs": [],
   "source": [
    "# Below we create a dictionary that contains the abbreviations given above. The intention of this dictionary is to have those abbreviations at hand.\n",
    "\n",
    "abb = {}\n",
    "\n",
    "abb['Fires'] = 'Table including wildfire data for the period of 1992-2015 compiled from US federal, state, and local reporting systems'\n",
    "\n",
    "\n",
    "\n",
    "abb['FOD_ID'] = 'Global unique identifier'\n",
    "\n",
    "\n",
    "abb['FPA_ID'] = 'Unique identifier that contains information necessary to track back to the original record in the source dataset'\n",
    "\n",
    "abb['SOURCE_SYSTEM_TYPE'] = 'Type of source database or system that the record was drawn from (federal, nonfederal, or interagency)'\n",
    "\n",
    "abb['SOURCE_SYSTEM'] = 'Name of or other identifier for source database or system that the record was drawn from. See Table 1 in Short (2014), or \\Supplements\\FPAFODsourcelist.pdf, for a list of sources and their identifier'\n",
    "\n",
    "abb['NWCG_REPORTING_AGENCY'] = 'Active National Wildlife Coordinating Group (NWCG) Unit Identifier for the agency preparing the fire report (BIA = Bureau of Indian Affairs, BLM = Bureau of Land Management, BOR = Bureau of Reclamation, DOD = Department of Defense, DOE = Department of Energy, FS = Forest Service, FWS = Fish and Wildlife Service, IA = Interagency Organization, NPS = National Park Service, ST/C&L = State, County, or Local Organization, and TRIBE = Tribal Organization)'\n",
    "\n",
    "abb['NWCG_REPORTING_UNIT_ID'] = 'Active NWCG Unit Identifier for the unit preparing the fire report'\n",
    "\n",
    "abb['NWCG_REPORTING_UNIT_NAME'] = 'Active NWCG Unit Name for the unit preparing the fire report'\n",
    "\n",
    "abb['SOURCE_REPORTING_UNIT'] = 'Code for the agency unit preparing the fire report, based on code/name in the source dataset'\n",
    "\n",
    "abb['SOURCE_REPORTING_UNIT_NAME'] = 'Name of reporting agency unit preparing the fire report, based on code/name in the source dataset'\n",
    "\n",
    "abb['LOCALFIREREPORT_ID'] = 'Number or code that uniquely identifies an incident report for a particular reporting unit and a particular calendar year'\n",
    "\n",
    "abb['LOCALINCIDENTID'] = 'Number or code that uniquely identifies an incident for a particular local fire management organization within a particular calendar year'\n",
    "\n",
    "abb['FIRE_CODE'] ='Code used within the interagency wildland fire community to track and compile cost information for emergency fire suppression (https://www.firecode.gov/)'\n",
    "\n",
    "abb['FIRE_NAME'] = 'Name of the incident, from the fire report (primary) or ICS-209 report (secondary)'\n",
    "\n",
    "abb['ICS209INCIDENT_NUMBER'] = 'Incident (event) identifier, from the ICS-209 report'\n",
    "\n",
    "abb['ICS209NAME'] = 'Name of the incident, from the ICS-209 report'\n",
    "\n",
    "abb['MTBS_ID'] = 'Incident identifier, from the MTBS perimeter dataset'\n",
    "\n",
    "abb['MTBSFIRENAME'] = 'Name of the incident, from the MTBS perimeter dataset'\n",
    "\n",
    "abb['COMPLEX_NAME'] = 'Name of the complex under which the fire was ultimately managed, when discernible'\n",
    "\n",
    "abb['FIRE_YEAR'] = 'Calendar year in which the fire was discovered or confirmed to exist'\n",
    "\n",
    "abb['DISCOVERY_DATE'] ='Date on which the fire was discovered or confirmed to exist'\n",
    "\n",
    "abb['DISCOVERY_DOY'] = 'Day of year on which the fire was discovered or confirmed to exist'\n",
    "\n",
    "abb['DISCOVERY_TIME'] = 'Time of day that the fire was discovered or confirmed to exist'\n",
    "\n",
    "abb['STAT_CAUSE_CODE'] = 'Code for the (statistical) cause of the fire'\n",
    "\n",
    "abb['STAT_CAUSE_DESCR'] = 'Description of the (statistical) cause of the fire'\n",
    "\n",
    "abb['CONT_DATE'] = 'Date on which the fire was declared contained or otherwise controlled (mm/dd/yyyy where mm=month, dd=day, and yyyy=year)'\n",
    "\n",
    "abb['CONT_DOY'] = 'Day of year on which the fire was declared contained or otherwise controlled'\n",
    "\n",
    "abb['CONT_TIME'] = 'Time of day that the fire was declared contained or otherwise controlled (hhmm where hh=hour, mm=minutes)'\n",
    "\n",
    "abb['FIRE_SIZE'] = 'Estimate of acres within the final perimeter of the fire'\n",
    "\n",
    "abb['FIRE_SIZE_CLASS'] = 'Code for fire size based on the number of acres within the final fire perimeter expenditures (A=greater than 0 but less than or equal to 0.25 acres, B=0.26-9.9 acres, C=10.0-99.9 acres, D=100-299 acres, E=300 to 999 acres, F=1000 to 4999 acres, and G=5000+ acres)'\n",
    "\n",
    "abb['LATITUDE'] = 'Latitude (NAD83) for point location of the fire (decimal degrees)'\n",
    "\n",
    "abb['LONGITUDE'] = 'Longitude (NAD83) for point location of the fire (decimal degrees)'\n",
    "\n",
    "abb['OWNER_CODE'] = 'Code for primary owner or entity responsible for managing the land at the point of origin of the fire at the time of the incident'\n",
    "\n",
    "abb['OWNER_DESCR'] = 'Name of primary owner or entity responsible for managing the land at the point of origin of the fire at the time of the incident'\n",
    "\n",
    "abb['STATE'] = 'Two-letter alphabetic code for the state in which the fire burned (or originated), based on the nominal designation in the fire report'\n",
    "\n",
    "abb['COUNTY'] = 'County, or equivalent, in which the fire burned (or originated), based on nominal designation in the fire report'\n",
    "\n",
    "abb['FIPS_CODE'] = 'Three-digit code from the Federal Information Process Standards (FIPS) publication 6-4 for representation of counties and equivalent entities'\n",
    "\n",
    "abb['FIPS_NAME'] = 'County name from the FIPS publication 6-4 for representation of counties and equivalent entities'\n",
    "\n",
    "abb['NWCGUnitIDActive20170109'] = 'Look-up table containing all NWCG identifiers for agency units that were active (i.e., valid) as of 9 January 2017, when the list was downloaded from https://www.nifc.blm.gov/unit_id/Publish.html and used as the source of values available to populate the following fields in the Fires table: NWCGREPORTINGAGENCY, NWCGREPORTINGUNITID, and NWCGREPORTINGUNITNAME'\n",
    "\n",
    "abb['UnitId'] = 'NWCG Unit ID'\n",
    "\n",
    "abb['GeographicArea'] = 'Two-letter code for the geographic area in which the unit is located (NA=National, IN=International, AK=Alaska, CA=California, EA=Eastern Area, GB=Great Basin, NR=Northern Rockies, NW=Northwest, RM=Rocky Mountain, SA=Southern Area, and SW=Southwest)'\n",
    "\n",
    "abb['Gacc']= 'Seven or eight-letter code for the Geographic Area Coordination Center in which the unit is located or primarily affiliated with (CAMBCIFC=Canadian Interagency Forest Fire Centre, USAKCC=Alaska Interagency Coordination Center, USCAONCC=Northern California Area Coordination Center, USCAOSCC=Southern California Coordination Center, USCORMCC=Rocky Mountain Area Coordination Center, USGASAC=Southern Area Coordination Center, USIDNIC=National Interagency Coordination Center, USMTNRC=Northern Rockies Coordination Center, USNMSWC=Southwest Area Coordination Center, USORNWC=Northwest Area Coordination Center, USUTGBC=Western Great Basin Coordination Center, USWIEACC=Eastern Area Coordination Center)'\n",
    "\n",
    "abb['WildlandRole'] = 'Role of the unit within the wildland fire community'\n",
    "\n",
    "abb['UnitType'] = 'Type of unit (e.g., federal, state, local)'\n",
    "\n",
    "abb['Department'] = 'Department (or state/territory) to which the unit belongs (AK=Alaska, AL=Alabama, AR=Arkansas, AZ=Arizona, CA=California, CO=Colorado, CT=Connecticut, DE=Delaware, DHS=Department of Homeland Security, DOC= Department of Commerce, DOD=Department of Defense, DOE=Department of Energy, DOI= Department of Interior, DOL=Department of Labor, FL=Florida, GA=Georgia, IA=Iowa, IA/GC=Non-Departmental Agencies, ID=Idaho, IL=Illinois, IN=Indiana, KS=Kansas, KY=Kentucky, LA=Louisiana, MA=Massachusetts, MD=Maryland, ME=Maine, MI=Michigan, MN=Minnesota, MO=Missouri, MS=Mississippi, MT=Montana, NC=North Carolina, NE=Nebraska, NG=Non-Government, NH=New Hampshire, NJ=New Jersey, NM=New Mexico, NV=Nevada, NY=New York, OH=Ohio, OK=Oklahoma, OR=Oregon, PA=Pennsylvania, PR=Puerto Rico, RI=Rhode Island, SC=South Carolina, SD=South Dakota, ST/L=State or Local Government, TN=Tennessee, Tribe=Tribe, TX=Texas, USDA=Department of Agriculture, UT=Utah, VA=Virginia, VI=U. S. Virgin Islands, VT=Vermont, WA=Washington, WI=Wisconsin, WV=West Virginia, WY=Wyoming)'\n",
    "\n",
    "abb['Agency'] = 'Agency or bureau to which the unit belongs (AG=Air Guard, ANC=Alaska Native Corporation, BIA=Bureau of Indian Affairs, BLM=Bureau of Land Management, BOEM=Bureau of Ocean Energy Management, BOR=Bureau of Reclamation, BSEE=Bureau of Safety and Environmental Enforcement, C&L=County & Local, CDF=California Department of Forestry & Fire Protection, DC=Department of Corrections, DFE=Division of Forest Environment, DFF=Division of Forestry Fire & State Lands, DFL=Division of Forests and Land, DFR=Division of Forest Resources, DL=Department of Lands, DNR=Department of Natural Resources, DNRC=Department of Natural Resources and Conservation, DNRF=Department of Natural Resources Forest Service, DOA=Department of Agriculture, DOC=Department of Conservation, DOE=Department of Energy, DOF=Department of Forestry, DVF=Division of Forestry, DWF=Division of Wildland Fire, EPA=Environmental Protection Agency, FC=Forestry Commission, FEMA=Federal Emergency Management Agency, FFC=Bureau of Forest Fire Control, FFP=Forest Fire Protection, FFS=Forest Fire Service, FR=Forest Rangers, FS=Forest Service, FWS=Fish & Wildlife Service, HQ=Headquarters, JC=Job Corps, NBC=National Business Center, NG=National Guard, NNSA=National Nuclear Security Administration, NPS=National Park Service, NWS=National Weather Service, OES=Office of Emergency Services, PRI=Private, SF=State Forestry, SFS=State Forest Service, SP=State Parks, TNC=The Nature Conservancy, USA=United States Army, USACE=United States Army Corps of Engineers, USAF=United States Air Force, USGS=United States Geological Survey, USN=United States Navy)'\n",
    "\n",
    "abb['Parent'] = 'Agency subgroup to which the unit belongs (A concatenation of State and Unit from this report - https://www.nifc.blm.gov/unit_id/publish/UnitIdReport.rtf)'\n",
    "\n",
    "abb['Country'] = 'Country in which the unit is located (e.g. US = United States)'\n",
    "\n",
    "abb['State'] = 'Two-letter code for the state in which the unit is located (or primarily affiliated)'\n",
    "\n",
    "abb['Code'] = 'Unit code (follows state code to create UnitId)'\n",
    "\n",
    "abb['Name'] = 'Unit name'"
   ]
  },
  {
   "cell_type": "code",
   "execution_count": null,
   "metadata": {},
   "outputs": [],
   "source": []
  },
  {
   "cell_type": "markdown",
   "metadata": {},
   "source": [
    "At this point, we can turn our attention to the dependent variable: cause of fires. Let us analyse the two columns containing this information."
   ]
  },
  {
   "cell_type": "code",
   "execution_count": 13,
   "metadata": {},
   "outputs": [],
   "source": [
    "#%%time\n",
    "#sns.pairplot(fires_df)\n",
    "#plt.show()\n",
    "# This code takes forever to run!"
   ]
  },
  {
   "cell_type": "code",
   "execution_count": null,
   "metadata": {},
   "outputs": [],
   "source": []
  },
  {
   "cell_type": "code",
   "execution_count": 14,
   "metadata": {},
   "outputs": [
    {
     "name": "stdout",
     "output_type": "stream",
     "text": [
      "STAT_CAUSE_DESCR different elements: ['Miscellaneous' 'Lightning' 'Debris Burning' 'Campfire' 'Equipment Use'\n",
      " 'Arson' 'Children' 'Railroad' 'Smoking' 'Powerline' 'Structure'\n",
      " 'Fireworks' 'Missing/Undefined']\n",
      "\n",
      "\n",
      "Column decription: Code for the (statistical) cause of the fire\n",
      "\n",
      "\n",
      "STAT_CAUSE_DESCR number of different elements: 13\n",
      "\n",
      "\n",
      "STAT_CAUSE_CODE: [ 9.  1.  5.  4.  2.  7.  8.  6.  3. 11. 12. 10. 13.]\n"
     ]
    }
   ],
   "source": [
    "print('STAT_CAUSE_DESCR different elements:', fires_df['STAT_CAUSE_DESCR'].unique())\n",
    "\n",
    "print('')\n",
    "print('')\n",
    "\n",
    "print('Column decription:', abb['STAT_CAUSE_CODE'])\n",
    "\n",
    "print('')\n",
    "print('')\n",
    "\n",
    "print('STAT_CAUSE_DESCR number of different elements:', len(fires_df['STAT_CAUSE_DESCR'].unique()))\n",
    "\n",
    "\n",
    "print('')\n",
    "print('')\n",
    "\n",
    "print('STAT_CAUSE_CODE:', fires_df['STAT_CAUSE_CODE'].unique())"
   ]
  },
  {
   "cell_type": "markdown",
   "metadata": {},
   "source": [
    "We have $13$ different classes. This number of classes ususally causes imbalancy problems. Therefore, we should take a look at the histogram. We will do this with the sample we have at hand and more importantly, we are going to do it with all the data. Let us create a dictionary that stores the names of the different classes, together with their codes."
   ]
  },
  {
   "cell_type": "code",
   "execution_count": 15,
   "metadata": {},
   "outputs": [
    {
     "data": {
      "text/plain": [
       "{1: 'Lightning',\n",
       " 2: 'Equipment Use',\n",
       " 3: 'Smoking',\n",
       " 4: 'Campfire',\n",
       " 5: 'Debris Burning',\n",
       " 6: 'Railroad',\n",
       " 7: 'Arson',\n",
       " 8: 'Children',\n",
       " 9: 'Miscellaneous',\n",
       " 10: 'Fireworks',\n",
       " 11: 'Powerline',\n",
       " 12: 'Structure',\n",
       " 13: 'Missing/Undefined'}"
      ]
     },
     "execution_count": 15,
     "metadata": {},
     "output_type": "execute_result"
    }
   ],
   "source": [
    "fire_causes_codes = \\\n",
    "{\n",
    "1: 'Lightning',\n",
    "2:'Equipment Use',\n",
    "3:'Smoking',\n",
    "4:'Campfire',\n",
    "5:'Debris Burning',\n",
    "6:'Railroad',\n",
    "7: 'Arson',\n",
    "8:'Children',\n",
    "9:'Miscellaneous',\n",
    "10:'Fireworks',\n",
    "11: 'Powerline',\n",
    "12: 'Structure',\n",
    "13: 'Missing/Undefined'\n",
    "}\n",
    "\n",
    "\n",
    "fire_causes_codes"
   ]
  },
  {
   "cell_type": "markdown",
   "metadata": {},
   "source": [
    "Below is the distribution"
   ]
  },
  {
   "cell_type": "code",
   "execution_count": 16,
   "metadata": {},
   "outputs": [
    {
     "data": {
      "text/plain": [
       "<matplotlib.axes._subplots.AxesSubplot at 0x7a90d8bf88>"
      ]
     },
     "execution_count": 16,
     "metadata": {},
     "output_type": "execute_result"
    },
    {
     "data": {
      "image/png": "[encoded data removed]",
      "text/plain": [
       "<Figure size 432x288 with 1 Axes>"
      ]
     },
     "metadata": {
      "needs_background": "light"
     },
     "output_type": "display_data"
    }
   ],
   "source": [
    "#Let's see the distribution\n",
    "sns.distplot(fires_df['STAT_CAUSE_CODE'], bins=13, kde=False)\n",
    "\n",
    "# We see that Miscellaneous is the category with most fires associated."
   ]
  },
  {
   "cell_type": "markdown",
   "metadata": {},
   "source": [
    "There is a clear imbalance in our data: 5 categories are above 205K observations, two categories with about 150K observations, 2 categories with about 50K observations, and 5 categories with less than 50K observations. \n",
    "\n",
    "Three categories have very few observations: 10, 11, and 12. That is,'Fireworks','Powerline', and 'Structure'. Below we count the number of observations for these 3 categories. We may decide to drop them later. For now we wil continue our analysis."
   ]
  },
  {
   "cell_type": "code",
   "execution_count": null,
   "metadata": {},
   "outputs": [],
   "source": []
  },
  {
   "cell_type": "code",
   "execution_count": 17,
   "metadata": {},
   "outputs": [
    {
     "name": "stdout",
     "output_type": "stream",
     "text": [
      "Fireworks has 10897 observations\n",
      "\n",
      "\n",
      "Powerline has 12752 observations\n",
      "\n",
      "\n",
      "Structure has 10897 observations\n",
      "\n",
      "\n",
      "The three classes above have 27106\n"
     ]
    }
   ],
   "source": [
    "# making boolean series for a Misc cause \n",
    "\n",
    "fires = fires_df\n",
    "filter_1 = fires[\"STAT_CAUSE_DESCR\"]=='Fireworks'  \n",
    "\n",
    "x1 = fires.where(filter_1)\n",
    "x1.dropna(inplace = True)\n",
    "x1 = x1.shape[0]\n",
    "\n",
    "\n",
    "\n",
    "fires = fires_df\n",
    "filter_2 = fires[\"STAT_CAUSE_DESCR\"]=='Powerline'\n",
    "\n",
    "x2 = fires.where(filter_2)\n",
    "x2.dropna(inplace = True)\n",
    "x2 = x2.shape[0]\n",
    "\n",
    "\n",
    "\n",
    "fires = fires_df\n",
    "filter_3 = fires[\"STAT_CAUSE_DESCR\"]=='Structure'\n",
    "\n",
    "x3 = fires.where(filter_3)\n",
    "x3.dropna(inplace = True)\n",
    "x3 = x3.shape[0]\n",
    "\n",
    "print('Fireworks has', x1, 'observations' )\n",
    "print('')\n",
    "print('')\n",
    "print('Powerline has', x2, 'observations' )\n",
    "print('')\n",
    "print('')\n",
    "print('Structure has', x1, 'observations' )\n",
    "print('')\n",
    "print('')\n",
    "print('The three classes above have', x1 + x2 + x3)"
   ]
  },
  {
   "cell_type": "markdown",
   "metadata": {},
   "source": [
    "The three classes above represent all together $1.5\\%$ of our data. \n",
    "\n",
    "Continuing with our analysis, we are going to make categorize our target column. We have two columns containing the target variable information: `STAT_CAUSE_CODE` and `STAT_CAUSE_DESCR`. We will eliminate one of them and categorize the other."
   ]
  },
  {
   "cell_type": "code",
   "execution_count": 18,
   "metadata": {},
   "outputs": [],
   "source": [
    "fires_df.drop(['STAT_CAUSE_CODE'], axis = 1, inplace = True)"
   ]
  },
  {
   "cell_type": "code",
   "execution_count": 19,
   "metadata": {},
   "outputs": [
    {
     "data": {
      "text/plain": [
       "SOURCE_SYSTEM_TYPE      object\n",
       "SOURCE_SYSTEM           object\n",
       "STAT_CAUSE_DESCR      category\n",
       "FIRE_SIZE              float64\n",
       "FIRE_SIZE_CLASS         object\n",
       "LATITUDE               float64\n",
       "LONGITUDE              float64\n",
       "OWNER_CODE             float64\n",
       "OWNER_DESCR             object\n",
       "STATE                   object\n",
       "Discovery_Year           int64\n",
       "Discovery_Month          int64\n",
       "Discovery_Day            int64\n",
       "dtype: object"
      ]
     },
     "execution_count": 19,
     "metadata": {},
     "output_type": "execute_result"
    }
   ],
   "source": [
    "# we make our column categorical\n",
    "fires_df[\"STAT_CAUSE_DESCR\"] = fires_df[\"STAT_CAUSE_DESCR\"].astype('category')\n",
    "fires_df.dtypes"
   ]
  },
  {
   "cell_type": "markdown",
   "metadata": {},
   "source": [
    "We can see the the different categories are ordered to get the codes"
   ]
  },
  {
   "cell_type": "code",
   "execution_count": 20,
   "metadata": {},
   "outputs": [
    {
     "data": {
      "text/plain": [
       "Index(['Arson', 'Campfire', 'Children', 'Debris Burning', 'Equipment Use',\n",
       "       'Fireworks', 'Lightning', 'Miscellaneous', 'Missing/Undefined',\n",
       "       'Powerline', 'Railroad', 'Smoking', 'Structure'],\n",
       "      dtype='object')"
      ]
     },
     "execution_count": 20,
     "metadata": {},
     "output_type": "execute_result"
    }
   ],
   "source": [
    "# We can see the how the different categories are ordered to get the codes\n",
    "fires_df[\"STAT_CAUSE_DESCR\"].cat.categories\n",
    "#fires_df[\"STAT_CAUSE_DESCR\"].cat.ordered"
   ]
  },
  {
   "cell_type": "markdown",
   "metadata": {},
   "source": [
    "Now we can assign the encoded variable to a new column using the cat.codes accessor:"
   ]
  },
  {
   "cell_type": "code",
   "execution_count": 21,
   "metadata": {},
   "outputs": [],
   "source": [
    "#Now we can assign the encoded variable to a new column using the cat.codes accessor:\n",
    "\n",
    "fires_df[\"STAT_CAUSE_DESCR_cat\"] = fires_df[\"STAT_CAUSE_DESCR\"].cat.codes\n",
    "\n",
    "\n",
    "# we are following the directions given in `https://pbpython.com/categorical-encoding.html`"
   ]
  },
  {
   "cell_type": "markdown",
   "metadata": {},
   "source": [
    "To be more explicit, a ``STAT_CAUSE_DESCR_cat`` with code 0 will correspond  to 'Arson', code 7 will correspond to 'Miscellaneous', and so on. We can create a dictionary to store this information."
   ]
  },
  {
   "cell_type": "code",
   "execution_count": 22,
   "metadata": {},
   "outputs": [
    {
     "data": {
      "text/plain": [
       "{'Arson': 0,\n",
       " 'Campfire': 1,\n",
       " 'Children': 2,\n",
       " 'Debris Burning': 3,\n",
       " 'Equipment Use': 4,\n",
       " 'Fireworks': 5,\n",
       " 'Lightning': 6,\n",
       " 'Miscellaneous': 7,\n",
       " 'Missing/Undefined': 8,\n",
       " 'Powerline': 9,\n",
       " 'Railroad': 10,\n",
       " 'Smoking': 11,\n",
       " 'Structure': 12}"
      ]
     },
     "execution_count": 22,
     "metadata": {},
     "output_type": "execute_result"
    }
   ],
   "source": [
    "# We can create a dictionary to store this information\n",
    "\n",
    "s = fires_df[\"STAT_CAUSE_DESCR\"].cat.categories\n",
    "\n",
    "indp_map = {}\n",
    "\n",
    "lista = list(range(13))\n",
    "\n",
    "for i in lista:\n",
    "    indp_map[s[i]] =i\n",
    "\n",
    "indp_map"
   ]
  },
  {
   "cell_type": "markdown",
   "metadata": {},
   "source": [
    "Below we can see how the data looks like so far."
   ]
  },
  {
   "cell_type": "code",
   "execution_count": 23,
   "metadata": {},
   "outputs": [
    {
     "data": {
      "text/html": [
       "<div>\n",
       "<style scoped>\n",
       "    .dataframe tbody tr th:only-of-type {\n",
       "        vertical-align: middle;\n",
       "    }\n",
       "\n",
       "    .dataframe tbody tr th {\n",
       "        vertical-align: top;\n",
       "    }\n",
       "\n",
       "    .dataframe thead th {\n",
       "        text-align: right;\n",
       "    }\n",
       "</style>\n",
       "<table border=\"1\" class=\"dataframe\">\n",
       "  <thead>\n",
       "    <tr style=\"text-align: right;\">\n",
       "      <th></th>\n",
       "      <th>0</th>\n",
       "      <th>1</th>\n",
       "      <th>2</th>\n",
       "      <th>3</th>\n",
       "      <th>4</th>\n",
       "    </tr>\n",
       "  </thead>\n",
       "  <tbody>\n",
       "    <tr>\n",
       "      <th>SOURCE_SYSTEM_TYPE</th>\n",
       "      <td>FED</td>\n",
       "      <td>FED</td>\n",
       "      <td>FED</td>\n",
       "      <td>FED</td>\n",
       "      <td>FED</td>\n",
       "    </tr>\n",
       "    <tr>\n",
       "      <th>SOURCE_SYSTEM</th>\n",
       "      <td>FS-FIRESTAT</td>\n",
       "      <td>FS-FIRESTAT</td>\n",
       "      <td>FS-FIRESTAT</td>\n",
       "      <td>FS-FIRESTAT</td>\n",
       "      <td>FS-FIRESTAT</td>\n",
       "    </tr>\n",
       "    <tr>\n",
       "      <th>STAT_CAUSE_DESCR</th>\n",
       "      <td>Miscellaneous</td>\n",
       "      <td>Lightning</td>\n",
       "      <td>Debris Burning</td>\n",
       "      <td>Lightning</td>\n",
       "      <td>Lightning</td>\n",
       "    </tr>\n",
       "    <tr>\n",
       "      <th>FIRE_SIZE</th>\n",
       "      <td>0.1</td>\n",
       "      <td>0.25</td>\n",
       "      <td>0.1</td>\n",
       "      <td>0.1</td>\n",
       "      <td>0.1</td>\n",
       "    </tr>\n",
       "    <tr>\n",
       "      <th>FIRE_SIZE_CLASS</th>\n",
       "      <td>A</td>\n",
       "      <td>A</td>\n",
       "      <td>A</td>\n",
       "      <td>A</td>\n",
       "      <td>A</td>\n",
       "    </tr>\n",
       "    <tr>\n",
       "      <th>LATITUDE</th>\n",
       "      <td>40.0369</td>\n",
       "      <td>38.9331</td>\n",
       "      <td>38.9842</td>\n",
       "      <td>38.5592</td>\n",
       "      <td>38.5592</td>\n",
       "    </tr>\n",
       "    <tr>\n",
       "      <th>LONGITUDE</th>\n",
       "      <td>-121.006</td>\n",
       "      <td>-120.404</td>\n",
       "      <td>-120.736</td>\n",
       "      <td>-119.913</td>\n",
       "      <td>-119.933</td>\n",
       "    </tr>\n",
       "    <tr>\n",
       "      <th>OWNER_CODE</th>\n",
       "      <td>5</td>\n",
       "      <td>5</td>\n",
       "      <td>13</td>\n",
       "      <td>5</td>\n",
       "      <td>5</td>\n",
       "    </tr>\n",
       "    <tr>\n",
       "      <th>OWNER_DESCR</th>\n",
       "      <td>USFS</td>\n",
       "      <td>USFS</td>\n",
       "      <td>STATE OR PRIVATE</td>\n",
       "      <td>USFS</td>\n",
       "      <td>USFS</td>\n",
       "    </tr>\n",
       "    <tr>\n",
       "      <th>STATE</th>\n",
       "      <td>CA</td>\n",
       "      <td>CA</td>\n",
       "      <td>CA</td>\n",
       "      <td>CA</td>\n",
       "      <td>CA</td>\n",
       "    </tr>\n",
       "    <tr>\n",
       "      <th>Discovery_Year</th>\n",
       "      <td>2005</td>\n",
       "      <td>2004</td>\n",
       "      <td>2004</td>\n",
       "      <td>2004</td>\n",
       "      <td>2004</td>\n",
       "    </tr>\n",
       "    <tr>\n",
       "      <th>Discovery_Month</th>\n",
       "      <td>2</td>\n",
       "      <td>5</td>\n",
       "      <td>5</td>\n",
       "      <td>6</td>\n",
       "      <td>6</td>\n",
       "    </tr>\n",
       "    <tr>\n",
       "      <th>Discovery_Day</th>\n",
       "      <td>2</td>\n",
       "      <td>12</td>\n",
       "      <td>31</td>\n",
       "      <td>28</td>\n",
       "      <td>28</td>\n",
       "    </tr>\n",
       "    <tr>\n",
       "      <th>STAT_CAUSE_DESCR_cat</th>\n",
       "      <td>7</td>\n",
       "      <td>6</td>\n",
       "      <td>3</td>\n",
       "      <td>6</td>\n",
       "      <td>6</td>\n",
       "    </tr>\n",
       "  </tbody>\n",
       "</table>\n",
       "</div>"
      ],
      "text/plain": [
       "                                  0            1                 2  \\\n",
       "SOURCE_SYSTEM_TYPE              FED          FED               FED   \n",
       "SOURCE_SYSTEM           FS-FIRESTAT  FS-FIRESTAT       FS-FIRESTAT   \n",
       "STAT_CAUSE_DESCR      Miscellaneous    Lightning    Debris Burning   \n",
       "FIRE_SIZE                       0.1         0.25               0.1   \n",
       "FIRE_SIZE_CLASS                   A            A                 A   \n",
       "LATITUDE                    40.0369      38.9331           38.9842   \n",
       "LONGITUDE                  -121.006     -120.404          -120.736   \n",
       "OWNER_CODE                        5            5                13   \n",
       "OWNER_DESCR                    USFS         USFS  STATE OR PRIVATE   \n",
       "STATE                            CA           CA                CA   \n",
       "Discovery_Year                 2005         2004              2004   \n",
       "Discovery_Month                   2            5                 5   \n",
       "Discovery_Day                     2           12                31   \n",
       "STAT_CAUSE_DESCR_cat              7            6                 3   \n",
       "\n",
       "                                3            4  \n",
       "SOURCE_SYSTEM_TYPE            FED          FED  \n",
       "SOURCE_SYSTEM         FS-FIRESTAT  FS-FIRESTAT  \n",
       "STAT_CAUSE_DESCR        Lightning    Lightning  \n",
       "FIRE_SIZE                     0.1          0.1  \n",
       "FIRE_SIZE_CLASS                 A            A  \n",
       "LATITUDE                  38.5592      38.5592  \n",
       "LONGITUDE                -119.913     -119.933  \n",
       "OWNER_CODE                      5            5  \n",
       "OWNER_DESCR                  USFS         USFS  \n",
       "STATE                          CA           CA  \n",
       "Discovery_Year               2004         2004  \n",
       "Discovery_Month                 6            6  \n",
       "Discovery_Day                  28           28  \n",
       "STAT_CAUSE_DESCR_cat            6            6  "
      ]
     },
     "execution_count": 23,
     "metadata": {},
     "output_type": "execute_result"
    }
   ],
   "source": [
    "fires_df.head().T"
   ]
  },
  {
   "cell_type": "markdown",
   "metadata": {},
   "source": [
    "Let's define our independent variable"
   ]
  },
  {
   "cell_type": "code",
   "execution_count": 24,
   "metadata": {},
   "outputs": [],
   "source": [
    "# Let's define our independent variable:\n",
    "\n",
    "y = fires_df['STAT_CAUSE_DESCR_cat']"
   ]
  },
  {
   "cell_type": "code",
   "execution_count": null,
   "metadata": {},
   "outputs": [],
   "source": []
  },
  {
   "cell_type": "markdown",
   "metadata": {},
   "source": [
    "We can make a barplot to see if the data is balanced"
   ]
  },
  {
   "cell_type": "code",
   "execution_count": 25,
   "metadata": {},
   "outputs": [
    {
     "data": {
      "image/png": "[encoded data removed]",
      "text/plain": [
       "<Figure size 648x504 with 1 Axes>"
      ]
     },
     "metadata": {
      "needs_background": "light"
     },
     "output_type": "display_data"
    }
   ],
   "source": [
    "plt.figure(figsize=(9,7))\n",
    "\n",
    "u = fires_df.groupby(['STAT_CAUSE_DESCR_cat'])['STAT_CAUSE_DESCR']\n",
    "\n",
    "u.count().plot(kind='bar')\n",
    "\n",
    "#sns.distplot(u, kde=False) # Enable `kde` if you also want a curve to be plotted; in this case I've disabled it\n",
    "#plt.axvline(u.mean(), c='r', label='Mean') # Plot the mean\n",
    "#plt.axvline(y.median(), c='gold', label='Median') # Plot the median\n",
    "#plt.legend() # Make a legend so we know which line is the mean and which is the median\n",
    "plt.title('Cause of fires')\n",
    "plt.xlabel('Categories')\n",
    "plt.ylabel('Count')\n",
    "plt.show()"
   ]
  },
  {
   "cell_type": "code",
   "execution_count": null,
   "metadata": {},
   "outputs": [],
   "source": []
  },
  {
   "cell_type": "markdown",
   "metadata": {},
   "source": [
    "We can see how imbalanced is our data. Category $3$ has at least $30\\%$ more observations than any other category."
   ]
  },
  {
   "cell_type": "markdown",
   "metadata": {},
   "source": [
    "Now we focus on the independent variables. We still have to take care of non-numeric columns"
   ]
  },
  {
   "cell_type": "code",
   "execution_count": 26,
   "metadata": {},
   "outputs": [
    {
     "data": {
      "text/html": [
       "<div>\n",
       "<style scoped>\n",
       "    .dataframe tbody tr th:only-of-type {\n",
       "        vertical-align: middle;\n",
       "    }\n",
       "\n",
       "    .dataframe tbody tr th {\n",
       "        vertical-align: top;\n",
       "    }\n",
       "\n",
       "    .dataframe thead th {\n",
       "        text-align: right;\n",
       "    }\n",
       "</style>\n",
       "<table border=\"1\" class=\"dataframe\">\n",
       "  <thead>\n",
       "    <tr style=\"text-align: right;\">\n",
       "      <th></th>\n",
       "      <th>0</th>\n",
       "      <th>1</th>\n",
       "      <th>2</th>\n",
       "      <th>3</th>\n",
       "      <th>4</th>\n",
       "    </tr>\n",
       "  </thead>\n",
       "  <tbody>\n",
       "    <tr>\n",
       "      <th>SOURCE_SYSTEM_TYPE</th>\n",
       "      <td>FED</td>\n",
       "      <td>FED</td>\n",
       "      <td>FED</td>\n",
       "      <td>FED</td>\n",
       "      <td>FED</td>\n",
       "    </tr>\n",
       "    <tr>\n",
       "      <th>SOURCE_SYSTEM</th>\n",
       "      <td>FS-FIRESTAT</td>\n",
       "      <td>FS-FIRESTAT</td>\n",
       "      <td>FS-FIRESTAT</td>\n",
       "      <td>FS-FIRESTAT</td>\n",
       "      <td>FS-FIRESTAT</td>\n",
       "    </tr>\n",
       "    <tr>\n",
       "      <th>FIRE_SIZE</th>\n",
       "      <td>0.1</td>\n",
       "      <td>0.25</td>\n",
       "      <td>0.1</td>\n",
       "      <td>0.1</td>\n",
       "      <td>0.1</td>\n",
       "    </tr>\n",
       "    <tr>\n",
       "      <th>FIRE_SIZE_CLASS</th>\n",
       "      <td>A</td>\n",
       "      <td>A</td>\n",
       "      <td>A</td>\n",
       "      <td>A</td>\n",
       "      <td>A</td>\n",
       "    </tr>\n",
       "    <tr>\n",
       "      <th>LATITUDE</th>\n",
       "      <td>40.0369</td>\n",
       "      <td>38.9331</td>\n",
       "      <td>38.9842</td>\n",
       "      <td>38.5592</td>\n",
       "      <td>38.5592</td>\n",
       "    </tr>\n",
       "    <tr>\n",
       "      <th>LONGITUDE</th>\n",
       "      <td>-121.006</td>\n",
       "      <td>-120.404</td>\n",
       "      <td>-120.736</td>\n",
       "      <td>-119.913</td>\n",
       "      <td>-119.933</td>\n",
       "    </tr>\n",
       "    <tr>\n",
       "      <th>OWNER_CODE</th>\n",
       "      <td>5</td>\n",
       "      <td>5</td>\n",
       "      <td>13</td>\n",
       "      <td>5</td>\n",
       "      <td>5</td>\n",
       "    </tr>\n",
       "    <tr>\n",
       "      <th>OWNER_DESCR</th>\n",
       "      <td>USFS</td>\n",
       "      <td>USFS</td>\n",
       "      <td>STATE OR PRIVATE</td>\n",
       "      <td>USFS</td>\n",
       "      <td>USFS</td>\n",
       "    </tr>\n",
       "    <tr>\n",
       "      <th>STATE</th>\n",
       "      <td>CA</td>\n",
       "      <td>CA</td>\n",
       "      <td>CA</td>\n",
       "      <td>CA</td>\n",
       "      <td>CA</td>\n",
       "    </tr>\n",
       "    <tr>\n",
       "      <th>Discovery_Year</th>\n",
       "      <td>2005</td>\n",
       "      <td>2004</td>\n",
       "      <td>2004</td>\n",
       "      <td>2004</td>\n",
       "      <td>2004</td>\n",
       "    </tr>\n",
       "    <tr>\n",
       "      <th>Discovery_Month</th>\n",
       "      <td>2</td>\n",
       "      <td>5</td>\n",
       "      <td>5</td>\n",
       "      <td>6</td>\n",
       "      <td>6</td>\n",
       "    </tr>\n",
       "    <tr>\n",
       "      <th>Discovery_Day</th>\n",
       "      <td>2</td>\n",
       "      <td>12</td>\n",
       "      <td>31</td>\n",
       "      <td>28</td>\n",
       "      <td>28</td>\n",
       "    </tr>\n",
       "  </tbody>\n",
       "</table>\n",
       "</div>"
      ],
      "text/plain": [
       "                              0            1                 2            3  \\\n",
       "SOURCE_SYSTEM_TYPE          FED          FED               FED          FED   \n",
       "SOURCE_SYSTEM       FS-FIRESTAT  FS-FIRESTAT       FS-FIRESTAT  FS-FIRESTAT   \n",
       "FIRE_SIZE                   0.1         0.25               0.1          0.1   \n",
       "FIRE_SIZE_CLASS               A            A                 A            A   \n",
       "LATITUDE                40.0369      38.9331           38.9842      38.5592   \n",
       "LONGITUDE              -121.006     -120.404          -120.736     -119.913   \n",
       "OWNER_CODE                    5            5                13            5   \n",
       "OWNER_DESCR                USFS         USFS  STATE OR PRIVATE         USFS   \n",
       "STATE                        CA           CA                CA           CA   \n",
       "Discovery_Year             2005         2004              2004         2004   \n",
       "Discovery_Month               2            5                 5            6   \n",
       "Discovery_Day                 2           12                31           28   \n",
       "\n",
       "                              4  \n",
       "SOURCE_SYSTEM_TYPE          FED  \n",
       "SOURCE_SYSTEM       FS-FIRESTAT  \n",
       "FIRE_SIZE                   0.1  \n",
       "FIRE_SIZE_CLASS               A  \n",
       "LATITUDE                38.5592  \n",
       "LONGITUDE              -119.933  \n",
       "OWNER_CODE                    5  \n",
       "OWNER_DESCR                USFS  \n",
       "STATE                        CA  \n",
       "Discovery_Year             2004  \n",
       "Discovery_Month               6  \n",
       "Discovery_Day                28  "
      ]
     },
     "execution_count": 26,
     "metadata": {},
     "output_type": "execute_result"
    }
   ],
   "source": [
    "# Define X\n",
    "\n",
    "X = fires_df.drop(['STAT_CAUSE_DESCR_cat'], axis = 1)\n",
    "X.drop(['STAT_CAUSE_DESCR'], axis =1, inplace = True)\n",
    "X.head().T"
   ]
  },
  {
   "cell_type": "markdown",
   "metadata": {},
   "source": [
    "Let's see what non-numerical columns we have"
   ]
  },
  {
   "cell_type": "code",
   "execution_count": 27,
   "metadata": {},
   "outputs": [],
   "source": [
    "# Let's see what non-numerical columns we have\n",
    "\n",
    "non_num_col = ['SOURCE_SYSTEM_TYPE', 'SOURCE_SYSTEM', 'FIRE_SIZE_CLASS', 'OWNER_DESCR', 'STATE']\n",
    "# We have 5 in total"
   ]
  },
  {
   "cell_type": "code",
   "execution_count": null,
   "metadata": {},
   "outputs": [],
   "source": []
  },
  {
   "cell_type": "markdown",
   "metadata": {},
   "source": [
    "There are two columns that contain similar information: `` OWNER_CODE `` and `` OWNER_DESCR ``  "
   ]
  },
  {
   "cell_type": "code",
   "execution_count": 28,
   "metadata": {},
   "outputs": [
    {
     "name": "stdout",
     "output_type": "stream",
     "text": [
      "Code for primary owner or entity responsible for managing the land at the point of origin of the fire at the time of the incident\n",
      "Name of primary owner or entity responsible for managing the land at the point of origin of the fire at the time of the incident\n",
      "\n",
      "\n",
      "\n",
      "Below is the map that assigns each code to the names:\n",
      "Owner code: [ 5. 13. 14.  6.  2.  4.  9.  8.  7.  1.  3. 10.  0. 12. 11. 15.]\n",
      "Owner decription: ['USFS' 'STATE OR PRIVATE' 'MISSING/NOT SPECIFIED' 'OTHER FEDERAL' 'BIA'\n",
      " 'FWS' 'TRIBAL' 'PRIVATE' 'STATE' 'BLM' 'NPS' 'BOR' 'FOREIGN'\n",
      " 'MUNICIPAL/LOCAL' 'COUNTY' 'UNDEFINED FEDERAL']\n"
     ]
    }
   ],
   "source": [
    "# The columns below contain similar information\n",
    "\n",
    "\n",
    "print(abb['OWNER_CODE'])\n",
    "print(abb['OWNER_DESCR'])\n",
    "print('')\n",
    "print('')\n",
    "print('')\n",
    "\n",
    "print('Below is the map that assigns each code to the names:')\n",
    "print('Owner code:', X['OWNER_CODE'].unique())\n",
    "print('Owner decription:', X['OWNER_DESCR'].unique())"
   ]
  },
  {
   "cell_type": "markdown",
   "metadata": {},
   "source": [
    "We will drop the ``OWNER_CODE`` column and get the dummies later."
   ]
  },
  {
   "cell_type": "code",
   "execution_count": 29,
   "metadata": {},
   "outputs": [],
   "source": [
    "# We will drop the OWNER_CODE COLUMN .\n",
    "\n",
    "X.drop(['OWNER_CODE'], axis =1, inplace = True)"
   ]
  },
  {
   "cell_type": "markdown",
   "metadata": {},
   "source": [
    "We can see how our independent variables dataframe looks like so far."
   ]
  },
  {
   "cell_type": "code",
   "execution_count": 30,
   "metadata": {},
   "outputs": [
    {
     "data": {
      "text/html": [
       "<div>\n",
       "<style scoped>\n",
       "    .dataframe tbody tr th:only-of-type {\n",
       "        vertical-align: middle;\n",
       "    }\n",
       "\n",
       "    .dataframe tbody tr th {\n",
       "        vertical-align: top;\n",
       "    }\n",
       "\n",
       "    .dataframe thead th {\n",
       "        text-align: right;\n",
       "    }\n",
       "</style>\n",
       "<table border=\"1\" class=\"dataframe\">\n",
       "  <thead>\n",
       "    <tr style=\"text-align: right;\">\n",
       "      <th></th>\n",
       "      <th>0</th>\n",
       "      <th>1</th>\n",
       "      <th>2</th>\n",
       "      <th>3</th>\n",
       "      <th>4</th>\n",
       "    </tr>\n",
       "  </thead>\n",
       "  <tbody>\n",
       "    <tr>\n",
       "      <th>SOURCE_SYSTEM_TYPE</th>\n",
       "      <td>FED</td>\n",
       "      <td>FED</td>\n",
       "      <td>FED</td>\n",
       "      <td>FED</td>\n",
       "      <td>FED</td>\n",
       "    </tr>\n",
       "    <tr>\n",
       "      <th>SOURCE_SYSTEM</th>\n",
       "      <td>FS-FIRESTAT</td>\n",
       "      <td>FS-FIRESTAT</td>\n",
       "      <td>FS-FIRESTAT</td>\n",
       "      <td>FS-FIRESTAT</td>\n",
       "      <td>FS-FIRESTAT</td>\n",
       "    </tr>\n",
       "    <tr>\n",
       "      <th>FIRE_SIZE</th>\n",
       "      <td>0.1</td>\n",
       "      <td>0.25</td>\n",
       "      <td>0.1</td>\n",
       "      <td>0.1</td>\n",
       "      <td>0.1</td>\n",
       "    </tr>\n",
       "    <tr>\n",
       "      <th>FIRE_SIZE_CLASS</th>\n",
       "      <td>A</td>\n",
       "      <td>A</td>\n",
       "      <td>A</td>\n",
       "      <td>A</td>\n",
       "      <td>A</td>\n",
       "    </tr>\n",
       "    <tr>\n",
       "      <th>LATITUDE</th>\n",
       "      <td>40.0369</td>\n",
       "      <td>38.9331</td>\n",
       "      <td>38.9842</td>\n",
       "      <td>38.5592</td>\n",
       "      <td>38.5592</td>\n",
       "    </tr>\n",
       "    <tr>\n",
       "      <th>LONGITUDE</th>\n",
       "      <td>-121.006</td>\n",
       "      <td>-120.404</td>\n",
       "      <td>-120.736</td>\n",
       "      <td>-119.913</td>\n",
       "      <td>-119.933</td>\n",
       "    </tr>\n",
       "    <tr>\n",
       "      <th>OWNER_DESCR</th>\n",
       "      <td>USFS</td>\n",
       "      <td>USFS</td>\n",
       "      <td>STATE OR PRIVATE</td>\n",
       "      <td>USFS</td>\n",
       "      <td>USFS</td>\n",
       "    </tr>\n",
       "    <tr>\n",
       "      <th>STATE</th>\n",
       "      <td>CA</td>\n",
       "      <td>CA</td>\n",
       "      <td>CA</td>\n",
       "      <td>CA</td>\n",
       "      <td>CA</td>\n",
       "    </tr>\n",
       "    <tr>\n",
       "      <th>Discovery_Year</th>\n",
       "      <td>2005</td>\n",
       "      <td>2004</td>\n",
       "      <td>2004</td>\n",
       "      <td>2004</td>\n",
       "      <td>2004</td>\n",
       "    </tr>\n",
       "    <tr>\n",
       "      <th>Discovery_Month</th>\n",
       "      <td>2</td>\n",
       "      <td>5</td>\n",
       "      <td>5</td>\n",
       "      <td>6</td>\n",
       "      <td>6</td>\n",
       "    </tr>\n",
       "    <tr>\n",
       "      <th>Discovery_Day</th>\n",
       "      <td>2</td>\n",
       "      <td>12</td>\n",
       "      <td>31</td>\n",
       "      <td>28</td>\n",
       "      <td>28</td>\n",
       "    </tr>\n",
       "  </tbody>\n",
       "</table>\n",
       "</div>"
      ],
      "text/plain": [
       "                              0            1                 2            3  \\\n",
       "SOURCE_SYSTEM_TYPE          FED          FED               FED          FED   \n",
       "SOURCE_SYSTEM       FS-FIRESTAT  FS-FIRESTAT       FS-FIRESTAT  FS-FIRESTAT   \n",
       "FIRE_SIZE                   0.1         0.25               0.1          0.1   \n",
       "FIRE_SIZE_CLASS               A            A                 A            A   \n",
       "LATITUDE                40.0369      38.9331           38.9842      38.5592   \n",
       "LONGITUDE              -121.006     -120.404          -120.736     -119.913   \n",
       "OWNER_DESCR                USFS         USFS  STATE OR PRIVATE         USFS   \n",
       "STATE                        CA           CA                CA           CA   \n",
       "Discovery_Year             2005         2004              2004         2004   \n",
       "Discovery_Month               2            5                 5            6   \n",
       "Discovery_Day                 2           12                31           28   \n",
       "\n",
       "                              4  \n",
       "SOURCE_SYSTEM_TYPE          FED  \n",
       "SOURCE_SYSTEM       FS-FIRESTAT  \n",
       "FIRE_SIZE                   0.1  \n",
       "FIRE_SIZE_CLASS               A  \n",
       "LATITUDE                38.5592  \n",
       "LONGITUDE              -119.933  \n",
       "OWNER_DESCR                USFS  \n",
       "STATE                        CA  \n",
       "Discovery_Year             2004  \n",
       "Discovery_Month               6  \n",
       "Discovery_Day                28  "
      ]
     },
     "execution_count": 30,
     "metadata": {},
     "output_type": "execute_result"
    }
   ],
   "source": [
    "X.head().T"
   ]
  },
  {
   "cell_type": "code",
   "execution_count": 31,
   "metadata": {},
   "outputs": [
    {
     "name": "stdout",
     "output_type": "stream",
     "text": [
      "<class 'pandas.core.frame.DataFrame'>\n",
      "Int64Index: 1789378 entries, 0 to 1799999\n",
      "Data columns (total 11 columns):\n",
      " #   Column              Dtype  \n",
      "---  ------              -----  \n",
      " 0   SOURCE_SYSTEM_TYPE  object \n",
      " 1   SOURCE_SYSTEM       object \n",
      " 2   FIRE_SIZE           float64\n",
      " 3   FIRE_SIZE_CLASS     object \n",
      " 4   LATITUDE            float64\n",
      " 5   LONGITUDE           float64\n",
      " 6   OWNER_DESCR         object \n",
      " 7   STATE               object \n",
      " 8   Discovery_Year      int64  \n",
      " 9   Discovery_Month     int64  \n",
      " 10  Discovery_Day       int64  \n",
      "dtypes: float64(3), int64(3), object(5)\n",
      "memory usage: 163.8+ MB\n"
     ]
    }
   ],
   "source": [
    "X.info()"
   ]
  },
  {
   "cell_type": "code",
   "execution_count": 32,
   "metadata": {},
   "outputs": [
    {
     "data": {
      "text/plain": [
       "Index(['SOURCE_SYSTEM_TYPE', 'SOURCE_SYSTEM', 'FIRE_SIZE', 'FIRE_SIZE_CLASS',\n",
       "       'LATITUDE', 'LONGITUDE', 'OWNER_DESCR', 'STATE', 'Discovery_Year',\n",
       "       'Discovery_Month', 'Discovery_Day'],\n",
       "      dtype='object')"
      ]
     },
     "execution_count": 32,
     "metadata": {},
     "output_type": "execute_result"
    }
   ],
   "source": [
    "X.columns"
   ]
  },
  {
   "cell_type": "markdown",
   "metadata": {},
   "source": [
    "If we try to run VIF with\n",
    "\n",
    "\n",
    "\n",
    "from patsy import dmatrices\n",
    "import statsmodels.api as sm\n",
    "from statsmodels.stats.outliers_influence import variance_inflation_factor\n",
    "\n",
    "vif = pd.DataFrame()\n",
    "vif[\"VIF Factor\"] = [variance_inflation_factor(X.values, i) for i in range(X.shape[1])]\n",
    "vif[\"features\"] = X.columns\n",
    "\n",
    "\n",
    "We get a memory error:\n",
    "\n",
    "---------------------------------------------------------------------------\n",
    "MemoryError                               Traceback (most recent call last)\n",
    "<ipython-input-74-54a336798cba> in <module>\n",
    "      4 \n",
    "      5 vif = pd.DataFrame()\n",
    "----> 6 vif[\"VIF Factor\"] = [variance_inflation_factor(X.values, i) for i in range(X.shape[1])]\n",
    "      7 vif[\"features\"] = X.columns\n",
    "\n",
    "<ipython-input-74-54a336798cba> in <listcomp>(.0)\n",
    "      4 \n",
    "      5 vif = pd.DataFrame()\n",
    "----> 6 vif[\"VIF Factor\"] = [variance_inflation_factor(X.values, i) for i in range(X.shape[1])]\n",
    "      7 vif[\"features\"] = X.columns\n",
    "\n",
    "~\\anaconda3\\lib\\site-packages\\statsmodels\\stats\\outliers_influence.py in variance_inflation_factor(exog, exog_idx)\n",
    "    190     mask = np.arange(k_vars) != exog_idx\n",
    "    191     x_noti = exog[:, mask]\n",
    "--> 192     r_squared_i = OLS(x_i, x_noti).fit().rsquared\n",
    "    193     vif = 1. / (1. - r_squared_i)\n",
    "    194     return vif\n",
    "\n",
    "~\\anaconda3\\lib\\site-packages\\statsmodels\\regression\\linear_model.py in fit(self, method, cov_type, cov_kwds, use_t, **kwargs)\n",
    "    303                     hasattr(self, 'rank')):\n",
    "    304 \n",
    "--> 305                 self.pinv_wexog, singular_values = pinv_extended(self.wexog)\n",
    "    306                 self.normalized_cov_params = np.dot(\n",
    "    307                     self.pinv_wexog, np.transpose(self.pinv_wexog))\n",
    "\n",
    "~\\anaconda3\\lib\\site-packages\\statsmodels\\tools\\tools.py in pinv_extended(X, rcond)\n",
    "    398             s[i] = 0.\n",
    "    399     res = np.dot(np.transpose(vt), np.multiply(s[:, np.core.newaxis],\n",
    "--> 400                                                np.transpose(u)))\n",
    "    401     return res, s_orig\n",
    "    402 \n",
    "\n",
    "MemoryError: Unable to allocate 1.59 GiB for an array with shape (119, 1789378) and data type float64"
   ]
  },
  {
   "cell_type": "markdown",
   "metadata": {},
   "source": [
    "The code is below"
   ]
  },
  {
   "cell_type": "code",
   "execution_count": 33,
   "metadata": {},
   "outputs": [],
   "source": [
    "from patsy import dmatrices\n",
    "import statsmodels.api as sm\n",
    "from statsmodels.stats.outliers_influence import variance_inflation_factor\n",
    "from statsmodels.tools.tools import add_constant\n",
    "from sklearn.model_selection import train_test_split\n",
    "\n",
    "\n",
    "#vif = pd.DataFrame()\n",
    "#vif[\"VIF Factor\"] = [variance_inflation_factor(X_vif.values, i) for i in range(X_vif.shape[1])]\n",
    "#vif[\"features\"] = X_vif.columns\n",
    "#vif.round(1).head(15)\n",
    "\n",
    "#vif = add_constant(X_vif)\n",
    "#pd.Series([variance_inflation_factor(vif.values, i) for i in range(vif.shape[1])], index=vif.columns)"
   ]
  },
  {
   "cell_type": "markdown",
   "metadata": {},
   "source": [
    "We are going to convert the non-numerical columns in $X$ to numerical. We will get the dummies.\n"
   ]
  },
  {
   "cell_type": "code",
   "execution_count": 34,
   "metadata": {},
   "outputs": [],
   "source": [
    "# Towards getting the dummies:\n",
    "\n",
    "non_num_col = ['SOURCE_SYSTEM_TYPE', 'SOURCE_SYSTEM', 'FIRE_SIZE_CLASS', 'OWNER_DESCR', 'STATE']"
   ]
  },
  {
   "cell_type": "markdown",
   "metadata": {},
   "source": [
    "Let's grab the columns we need to get the dummies from"
   ]
  },
  {
   "cell_type": "code",
   "execution_count": 35,
   "metadata": {},
   "outputs": [
    {
     "data": {
      "text/html": [
       "<div>\n",
       "<style scoped>\n",
       "    .dataframe tbody tr th:only-of-type {\n",
       "        vertical-align: middle;\n",
       "    }\n",
       "\n",
       "    .dataframe tbody tr th {\n",
       "        vertical-align: top;\n",
       "    }\n",
       "\n",
       "    .dataframe thead th {\n",
       "        text-align: right;\n",
       "    }\n",
       "</style>\n",
       "<table border=\"1\" class=\"dataframe\">\n",
       "  <thead>\n",
       "    <tr style=\"text-align: right;\">\n",
       "      <th></th>\n",
       "      <th>SOURCE_SYSTEM_TYPE</th>\n",
       "      <th>SOURCE_SYSTEM</th>\n",
       "      <th>FIRE_SIZE_CLASS</th>\n",
       "      <th>OWNER_DESCR</th>\n",
       "      <th>STATE</th>\n",
       "    </tr>\n",
       "  </thead>\n",
       "  <tbody>\n",
       "    <tr>\n",
       "      <th>0</th>\n",
       "      <td>FED</td>\n",
       "      <td>FS-FIRESTAT</td>\n",
       "      <td>A</td>\n",
       "      <td>USFS</td>\n",
       "      <td>CA</td>\n",
       "    </tr>\n",
       "    <tr>\n",
       "      <th>1</th>\n",
       "      <td>FED</td>\n",
       "      <td>FS-FIRESTAT</td>\n",
       "      <td>A</td>\n",
       "      <td>USFS</td>\n",
       "      <td>CA</td>\n",
       "    </tr>\n",
       "    <tr>\n",
       "      <th>2</th>\n",
       "      <td>FED</td>\n",
       "      <td>FS-FIRESTAT</td>\n",
       "      <td>A</td>\n",
       "      <td>STATE OR PRIVATE</td>\n",
       "      <td>CA</td>\n",
       "    </tr>\n",
       "    <tr>\n",
       "      <th>3</th>\n",
       "      <td>FED</td>\n",
       "      <td>FS-FIRESTAT</td>\n",
       "      <td>A</td>\n",
       "      <td>USFS</td>\n",
       "      <td>CA</td>\n",
       "    </tr>\n",
       "    <tr>\n",
       "      <th>4</th>\n",
       "      <td>FED</td>\n",
       "      <td>FS-FIRESTAT</td>\n",
       "      <td>A</td>\n",
       "      <td>USFS</td>\n",
       "      <td>CA</td>\n",
       "    </tr>\n",
       "    <tr>\n",
       "      <th>...</th>\n",
       "      <td>...</td>\n",
       "      <td>...</td>\n",
       "      <td>...</td>\n",
       "      <td>...</td>\n",
       "      <td>...</td>\n",
       "    </tr>\n",
       "    <tr>\n",
       "      <th>1799995</th>\n",
       "      <td>FED</td>\n",
       "      <td>DOI-WFMI</td>\n",
       "      <td>B</td>\n",
       "      <td>PRIVATE</td>\n",
       "      <td>MT</td>\n",
       "    </tr>\n",
       "    <tr>\n",
       "      <th>1799996</th>\n",
       "      <td>FED</td>\n",
       "      <td>DOI-WFMI</td>\n",
       "      <td>E</td>\n",
       "      <td>PRIVATE</td>\n",
       "      <td>MT</td>\n",
       "    </tr>\n",
       "    <tr>\n",
       "      <th>1799997</th>\n",
       "      <td>FED</td>\n",
       "      <td>DOI-WFMI</td>\n",
       "      <td>B</td>\n",
       "      <td>BLM</td>\n",
       "      <td>MT</td>\n",
       "    </tr>\n",
       "    <tr>\n",
       "      <th>1799998</th>\n",
       "      <td>FED</td>\n",
       "      <td>DOI-WFMI</td>\n",
       "      <td>D</td>\n",
       "      <td>PRIVATE</td>\n",
       "      <td>MT</td>\n",
       "    </tr>\n",
       "    <tr>\n",
       "      <th>1799999</th>\n",
       "      <td>FED</td>\n",
       "      <td>DOI-WFMI</td>\n",
       "      <td>C</td>\n",
       "      <td>PRIVATE</td>\n",
       "      <td>MT</td>\n",
       "    </tr>\n",
       "  </tbody>\n",
       "</table>\n",
       "<p>1789378 rows × 5 columns</p>\n",
       "</div>"
      ],
      "text/plain": [
       "        SOURCE_SYSTEM_TYPE SOURCE_SYSTEM FIRE_SIZE_CLASS       OWNER_DESCR  \\\n",
       "0                      FED   FS-FIRESTAT               A              USFS   \n",
       "1                      FED   FS-FIRESTAT               A              USFS   \n",
       "2                      FED   FS-FIRESTAT               A  STATE OR PRIVATE   \n",
       "3                      FED   FS-FIRESTAT               A              USFS   \n",
       "4                      FED   FS-FIRESTAT               A              USFS   \n",
       "...                    ...           ...             ...               ...   \n",
       "1799995                FED      DOI-WFMI               B           PRIVATE   \n",
       "1799996                FED      DOI-WFMI               E           PRIVATE   \n",
       "1799997                FED      DOI-WFMI               B               BLM   \n",
       "1799998                FED      DOI-WFMI               D           PRIVATE   \n",
       "1799999                FED      DOI-WFMI               C           PRIVATE   \n",
       "\n",
       "        STATE  \n",
       "0          CA  \n",
       "1          CA  \n",
       "2          CA  \n",
       "3          CA  \n",
       "4          CA  \n",
       "...       ...  \n",
       "1799995    MT  \n",
       "1799996    MT  \n",
       "1799997    MT  \n",
       "1799998    MT  \n",
       "1799999    MT  \n",
       "\n",
       "[1789378 rows x 5 columns]"
      ]
     },
     "execution_count": 35,
     "metadata": {},
     "output_type": "execute_result"
    }
   ],
   "source": [
    "# Let's grab the columns we need to get the dummies from\n",
    "\n",
    "Z = X.loc[:,non_num_col]\n",
    "Z"
   ]
  },
  {
   "cell_type": "markdown",
   "metadata": {},
   "source": [
    " Below we obtain the dataframe with the columns of interest for us. Note that the code below also gives the dummies."
   ]
  },
  {
   "cell_type": "code",
   "execution_count": 36,
   "metadata": {},
   "outputs": [],
   "source": [
    "# For every column in non_num_col, we will get the dummies\n",
    "\n",
    "# Below we obtain the df with the columns of interest for us\n",
    "\n",
    "for col in non_num_col:\n",
    "    #Getting the dummies:\n",
    "    z=pd.get_dummies(Z[col])\n",
    "    #Now we concatenate:\n",
    "    Z = pd.concat([Z, z], axis=1)\n",
    "    #Finally, we drop the column where we just got the dummies from. WE do it for both X and Z\n",
    "    Z.drop([col], axis =1, inplace = True)\n",
    "    X.drop([col], axis =1, inplace = True)"
   ]
  },
  {
   "cell_type": "markdown",
   "metadata": {},
   "source": [
    "Let us check that $Z$ looks as explected."
   ]
  },
  {
   "cell_type": "code",
   "execution_count": 37,
   "metadata": {},
   "outputs": [
    {
     "data": {
      "text/html": [
       "<div>\n",
       "<style scoped>\n",
       "    .dataframe tbody tr th:only-of-type {\n",
       "        vertical-align: middle;\n",
       "    }\n",
       "\n",
       "    .dataframe tbody tr th {\n",
       "        vertical-align: top;\n",
       "    }\n",
       "\n",
       "    .dataframe thead th {\n",
       "        text-align: right;\n",
       "    }\n",
       "</style>\n",
       "<table border=\"1\" class=\"dataframe\">\n",
       "  <thead>\n",
       "    <tr style=\"text-align: right;\">\n",
       "      <th></th>\n",
       "      <th>0</th>\n",
       "      <th>1</th>\n",
       "      <th>2</th>\n",
       "      <th>3</th>\n",
       "      <th>4</th>\n",
       "    </tr>\n",
       "  </thead>\n",
       "  <tbody>\n",
       "    <tr>\n",
       "      <th>FED</th>\n",
       "      <td>1</td>\n",
       "      <td>1</td>\n",
       "      <td>1</td>\n",
       "      <td>1</td>\n",
       "      <td>1</td>\n",
       "    </tr>\n",
       "    <tr>\n",
       "      <th>INTERAGCY</th>\n",
       "      <td>0</td>\n",
       "      <td>0</td>\n",
       "      <td>0</td>\n",
       "      <td>0</td>\n",
       "      <td>0</td>\n",
       "    </tr>\n",
       "    <tr>\n",
       "      <th>NONFED</th>\n",
       "      <td>0</td>\n",
       "      <td>0</td>\n",
       "      <td>0</td>\n",
       "      <td>0</td>\n",
       "      <td>0</td>\n",
       "    </tr>\n",
       "    <tr>\n",
       "      <th>DOI-WFMI</th>\n",
       "      <td>0</td>\n",
       "      <td>0</td>\n",
       "      <td>0</td>\n",
       "      <td>0</td>\n",
       "      <td>0</td>\n",
       "    </tr>\n",
       "    <tr>\n",
       "      <th>FA-NFIRS</th>\n",
       "      <td>0</td>\n",
       "      <td>0</td>\n",
       "      <td>0</td>\n",
       "      <td>0</td>\n",
       "      <td>0</td>\n",
       "    </tr>\n",
       "    <tr>\n",
       "      <th>...</th>\n",
       "      <td>...</td>\n",
       "      <td>...</td>\n",
       "      <td>...</td>\n",
       "      <td>...</td>\n",
       "      <td>...</td>\n",
       "    </tr>\n",
       "    <tr>\n",
       "      <th>STATE_VT</th>\n",
       "      <td>0</td>\n",
       "      <td>0</td>\n",
       "      <td>0</td>\n",
       "      <td>0</td>\n",
       "      <td>0</td>\n",
       "    </tr>\n",
       "    <tr>\n",
       "      <th>STATE_WA</th>\n",
       "      <td>0</td>\n",
       "      <td>0</td>\n",
       "      <td>0</td>\n",
       "      <td>0</td>\n",
       "      <td>0</td>\n",
       "    </tr>\n",
       "    <tr>\n",
       "      <th>STATE_WI</th>\n",
       "      <td>0</td>\n",
       "      <td>0</td>\n",
       "      <td>0</td>\n",
       "      <td>0</td>\n",
       "      <td>0</td>\n",
       "    </tr>\n",
       "    <tr>\n",
       "      <th>STATE_WV</th>\n",
       "      <td>0</td>\n",
       "      <td>0</td>\n",
       "      <td>0</td>\n",
       "      <td>0</td>\n",
       "      <td>0</td>\n",
       "    </tr>\n",
       "    <tr>\n",
       "      <th>STATE_WY</th>\n",
       "      <td>0</td>\n",
       "      <td>0</td>\n",
       "      <td>0</td>\n",
       "      <td>0</td>\n",
       "      <td>0</td>\n",
       "    </tr>\n",
       "  </tbody>\n",
       "</table>\n",
       "<p>114 rows × 5 columns</p>\n",
       "</div>"
      ],
      "text/plain": [
       "           0  1  2  3  4\n",
       "FED        1  1  1  1  1\n",
       "INTERAGCY  0  0  0  0  0\n",
       "NONFED     0  0  0  0  0\n",
       "DOI-WFMI   0  0  0  0  0\n",
       "FA-NFIRS   0  0  0  0  0\n",
       "...       .. .. .. .. ..\n",
       "STATE_VT   0  0  0  0  0\n",
       "STATE_WA   0  0  0  0  0\n",
       "STATE_WI   0  0  0  0  0\n",
       "STATE_WV   0  0  0  0  0\n",
       "STATE_WY   0  0  0  0  0\n",
       "\n",
       "[114 rows x 5 columns]"
      ]
     },
     "execution_count": 37,
     "metadata": {},
     "output_type": "execute_result"
    }
   ],
   "source": [
    "Z.head().T"
   ]
  },
  {
   "cell_type": "markdown",
   "metadata": {},
   "source": [
    "Our next step is to concatenate $X$ and $Z$"
   ]
  },
  {
   "cell_type": "code",
   "execution_count": 38,
   "metadata": {},
   "outputs": [],
   "source": [
    "# Now we concatenate X and Z\n",
    "X = pd.concat([X, Z], axis=1)"
   ]
  },
  {
   "cell_type": "code",
   "execution_count": 39,
   "metadata": {},
   "outputs": [
    {
     "name": "stdout",
     "output_type": "stream",
     "text": [
      "<class 'pandas.core.frame.DataFrame'>\n",
      "Int64Index: 1789378 entries, 0 to 1799999\n",
      "Columns: 120 entries, FIRE_SIZE to STATE_WY\n",
      "dtypes: float64(3), int64(3), uint8(114)\n",
      "memory usage: 290.1 MB\n"
     ]
    }
   ],
   "source": [
    "X.info()"
   ]
  },
  {
   "cell_type": "code",
   "execution_count": 40,
   "metadata": {},
   "outputs": [
    {
     "data": {
      "text/html": [
       "<div>\n",
       "<style scoped>\n",
       "    .dataframe tbody tr th:only-of-type {\n",
       "        vertical-align: middle;\n",
       "    }\n",
       "\n",
       "    .dataframe tbody tr th {\n",
       "        vertical-align: top;\n",
       "    }\n",
       "\n",
       "    .dataframe thead th {\n",
       "        text-align: right;\n",
       "    }\n",
       "</style>\n",
       "<table border=\"1\" class=\"dataframe\">\n",
       "  <thead>\n",
       "    <tr style=\"text-align: right;\">\n",
       "      <th></th>\n",
       "      <th>0</th>\n",
       "      <th>1</th>\n",
       "      <th>2</th>\n",
       "      <th>3</th>\n",
       "      <th>4</th>\n",
       "    </tr>\n",
       "  </thead>\n",
       "  <tbody>\n",
       "    <tr>\n",
       "      <th>FIRE_SIZE</th>\n",
       "      <td>0.100000</td>\n",
       "      <td>0.250000</td>\n",
       "      <td>0.100000</td>\n",
       "      <td>0.100000</td>\n",
       "      <td>0.100000</td>\n",
       "    </tr>\n",
       "    <tr>\n",
       "      <th>LATITUDE</th>\n",
       "      <td>40.036944</td>\n",
       "      <td>38.933056</td>\n",
       "      <td>38.984167</td>\n",
       "      <td>38.559167</td>\n",
       "      <td>38.559167</td>\n",
       "    </tr>\n",
       "    <tr>\n",
       "      <th>LONGITUDE</th>\n",
       "      <td>-121.005833</td>\n",
       "      <td>-120.404444</td>\n",
       "      <td>-120.735556</td>\n",
       "      <td>-119.913333</td>\n",
       "      <td>-119.933056</td>\n",
       "    </tr>\n",
       "    <tr>\n",
       "      <th>Discovery_Year</th>\n",
       "      <td>2005.000000</td>\n",
       "      <td>2004.000000</td>\n",
       "      <td>2004.000000</td>\n",
       "      <td>2004.000000</td>\n",
       "      <td>2004.000000</td>\n",
       "    </tr>\n",
       "    <tr>\n",
       "      <th>Discovery_Month</th>\n",
       "      <td>2.000000</td>\n",
       "      <td>5.000000</td>\n",
       "      <td>5.000000</td>\n",
       "      <td>6.000000</td>\n",
       "      <td>6.000000</td>\n",
       "    </tr>\n",
       "    <tr>\n",
       "      <th>...</th>\n",
       "      <td>...</td>\n",
       "      <td>...</td>\n",
       "      <td>...</td>\n",
       "      <td>...</td>\n",
       "      <td>...</td>\n",
       "    </tr>\n",
       "    <tr>\n",
       "      <th>STATE_VT</th>\n",
       "      <td>0.000000</td>\n",
       "      <td>0.000000</td>\n",
       "      <td>0.000000</td>\n",
       "      <td>0.000000</td>\n",
       "      <td>0.000000</td>\n",
       "    </tr>\n",
       "    <tr>\n",
       "      <th>STATE_WA</th>\n",
       "      <td>0.000000</td>\n",
       "      <td>0.000000</td>\n",
       "      <td>0.000000</td>\n",
       "      <td>0.000000</td>\n",
       "      <td>0.000000</td>\n",
       "    </tr>\n",
       "    <tr>\n",
       "      <th>STATE_WI</th>\n",
       "      <td>0.000000</td>\n",
       "      <td>0.000000</td>\n",
       "      <td>0.000000</td>\n",
       "      <td>0.000000</td>\n",
       "      <td>0.000000</td>\n",
       "    </tr>\n",
       "    <tr>\n",
       "      <th>STATE_WV</th>\n",
       "      <td>0.000000</td>\n",
       "      <td>0.000000</td>\n",
       "      <td>0.000000</td>\n",
       "      <td>0.000000</td>\n",
       "      <td>0.000000</td>\n",
       "    </tr>\n",
       "    <tr>\n",
       "      <th>STATE_WY</th>\n",
       "      <td>0.000000</td>\n",
       "      <td>0.000000</td>\n",
       "      <td>0.000000</td>\n",
       "      <td>0.000000</td>\n",
       "      <td>0.000000</td>\n",
       "    </tr>\n",
       "  </tbody>\n",
       "</table>\n",
       "<p>120 rows × 5 columns</p>\n",
       "</div>"
      ],
      "text/plain": [
       "                           0            1            2            3  \\\n",
       "FIRE_SIZE           0.100000     0.250000     0.100000     0.100000   \n",
       "LATITUDE           40.036944    38.933056    38.984167    38.559167   \n",
       "LONGITUDE        -121.005833  -120.404444  -120.735556  -119.913333   \n",
       "Discovery_Year   2005.000000  2004.000000  2004.000000  2004.000000   \n",
       "Discovery_Month     2.000000     5.000000     5.000000     6.000000   \n",
       "...                      ...          ...          ...          ...   \n",
       "STATE_VT            0.000000     0.000000     0.000000     0.000000   \n",
       "STATE_WA            0.000000     0.000000     0.000000     0.000000   \n",
       "STATE_WI            0.000000     0.000000     0.000000     0.000000   \n",
       "STATE_WV            0.000000     0.000000     0.000000     0.000000   \n",
       "STATE_WY            0.000000     0.000000     0.000000     0.000000   \n",
       "\n",
       "                           4  \n",
       "FIRE_SIZE           0.100000  \n",
       "LATITUDE           38.559167  \n",
       "LONGITUDE        -119.933056  \n",
       "Discovery_Year   2004.000000  \n",
       "Discovery_Month     6.000000  \n",
       "...                      ...  \n",
       "STATE_VT            0.000000  \n",
       "STATE_WA            0.000000  \n",
       "STATE_WI            0.000000  \n",
       "STATE_WV            0.000000  \n",
       "STATE_WY            0.000000  \n",
       "\n",
       "[120 rows x 5 columns]"
      ]
     },
     "execution_count": 40,
     "metadata": {},
     "output_type": "execute_result"
    }
   ],
   "source": [
    "# Now our independent variables consist only of numeric data. \n",
    "X.head().T"
   ]
  },
  {
   "cell_type": "markdown",
   "metadata": {},
   "source": [
    "We are going to save the dependent and independent variables in a csv file. In this way we can work on the modelling part without having to run the cells above again."
   ]
  },
  {
   "cell_type": "code",
   "execution_count": null,
   "metadata": {},
   "outputs": [],
   "source": []
  },
  {
   "cell_type": "code",
   "execution_count": 41,
   "metadata": {},
   "outputs": [
    {
     "name": "stdout",
     "output_type": "stream",
     "text": [
      "Wall time: 51.5 s\n"
     ]
    }
   ],
   "source": [
    "%%time\n",
    "X.to_csv(r'C:\\Users\\francisco\\Desktop\\BrainStation\\Capstoneproject_BS\\FiresUSA\\fires_X.csv', index = False)"
   ]
  },
  {
   "cell_type": "code",
   "execution_count": 42,
   "metadata": {},
   "outputs": [
    {
     "name": "stdout",
     "output_type": "stream",
     "text": [
      "Wall time: 2.22 s\n"
     ]
    }
   ],
   "source": [
    "%%time\n",
    "y.to_csv(r'C:\\Users\\francisco\\Desktop\\BrainStation\\Capstoneproject_BS\\FiresUSA\\fires_y.csv', index = False)"
   ]
  },
  {
   "cell_type": "markdown",
   "metadata": {},
   "source": [
    "Below we are creating an .cvs file with the latitude and longitude columns in our dataset. "
   ]
  },
  {
   "cell_type": "code",
   "execution_count": 43,
   "metadata": {},
   "outputs": [],
   "source": [
    "LL = fires_df[['LONGITUDE','LATITUDE', 'STATE', 'Discovery_Year', 'STAT_CAUSE_DESCR', 'Discovery_Month', 'Discovery_Day', 'FIRE_SIZE', 'FIRE_SIZE_CLASS']]\n",
    "\n",
    "LL.to_csv(r'C:\\Users\\francisco\\Desktop\\BrainStation\\Capstoneproject_BS\\FiresUSA\\fires_LL.csv', index = False)"
   ]
  },
  {
   "cell_type": "code",
   "execution_count": 44,
   "metadata": {},
   "outputs": [
    {
     "data": {
      "text/plain": [
       "Index(['SOURCE_SYSTEM_TYPE', 'SOURCE_SYSTEM', 'STAT_CAUSE_DESCR', 'FIRE_SIZE',\n",
       "       'FIRE_SIZE_CLASS', 'LATITUDE', 'LONGITUDE', 'OWNER_CODE', 'OWNER_DESCR',\n",
       "       'STATE', 'Discovery_Year', 'Discovery_Month', 'Discovery_Day',\n",
       "       'STAT_CAUSE_DESCR_cat'],\n",
       "      dtype='object')"
      ]
     },
     "execution_count": 44,
     "metadata": {},
     "output_type": "execute_result"
    }
   ],
   "source": [
    "fires_df.columns"
   ]
  },
  {
   "cell_type": "markdown",
   "metadata": {},
   "source": [
    "### Visualizations"
   ]
  },
  {
   "cell_type": "markdown",
   "metadata": {},
   "source": [
    "Let's get the data frame again to make some visualizations"
   ]
  },
  {
   "cell_type": "code",
   "execution_count": 45,
   "metadata": {},
   "outputs": [
    {
     "name": "stdout",
     "output_type": "stream",
     "text": [
      "Wall time: 3.57 s\n"
     ]
    }
   ],
   "source": [
    "%%time\n",
    "fires_df = pd.read_csv('C:\\\\Users\\\\francisco\\\\Desktop\\\\BrainStation\\\\Capstoneproject_BS\\\\FiresUSA\\\\Fires_pandas_df.csv')\\"
   ]
  },
  {
   "cell_type": "markdown",
   "metadata": {},
   "source": [
    "### Fires per year"
   ]
  },
  {
   "cell_type": "code",
   "execution_count": 46,
   "metadata": {},
   "outputs": [
    {
     "data": {
      "text/plain": [
       "Index(['SOURCE_SYSTEM_TYPE', 'SOURCE_SYSTEM', 'STAT_CAUSE_CODE',\n",
       "       'STAT_CAUSE_DESCR', 'FIRE_SIZE', 'FIRE_SIZE_CLASS', 'LATITUDE',\n",
       "       'LONGITUDE', 'OWNER_CODE', 'OWNER_DESCR', 'STATE', 'Discovery_Year',\n",
       "       'Discovery_Month', 'Discovery_Day'],\n",
       "      dtype='object')"
      ]
     },
     "execution_count": 46,
     "metadata": {},
     "output_type": "execute_result"
    }
   ],
   "source": [
    "fires_df.columns"
   ]
  },
  {
   "cell_type": "code",
   "execution_count": 47,
   "metadata": {},
   "outputs": [
    {
     "data": {
      "image/png": "[encoded data removed]",
      "text/plain": [
       "<Figure size 576x576 with 1 Axes>"
      ]
     },
     "metadata": {
      "needs_background": "light"
     },
     "output_type": "display_data"
    }
   ],
   "source": [
    "year_count = fires_df.groupby('Discovery_Year').count()\n",
    "\n",
    "year = year_count.index\n",
    "\n",
    "count = year_count['STATE']\n",
    "\n",
    "plt.figure(figsize = (8,8))\n",
    "plt.plot(year, count)\n",
    "plt.title('Fires per year')\n",
    "plt.xlabel('Year')\n",
    "plt.ylabel('Count')\n",
    "plt.show()"
   ]
  },
  {
   "cell_type": "markdown",
   "metadata": {},
   "source": [
    "### Fires per state"
   ]
  },
  {
   "cell_type": "code",
   "execution_count": 48,
   "metadata": {},
   "outputs": [
    {
     "data": {
      "image/png": "[encoded data removed]",
      "text/plain": [
       "<Figure size 1584x576 with 1 Axes>"
      ]
     },
     "metadata": {
      "needs_background": "light"
     },
     "output_type": "display_data"
    }
   ],
   "source": [
    "f_count = fires_df.groupby('STATE').count()\n",
    "\n",
    "u = f_count.index\n",
    "\n",
    "v = f_count['Discovery_Year']\n",
    "\n",
    "plt.figure(figsize = (22,8))\n",
    "plt.bar(u, v)\n",
    "plt.title('Fires in the US per State')\n",
    "plt.xlabel('State')\n",
    "plt.ylabel('Count')\n",
    "plt.show()"
   ]
  },
  {
   "cell_type": "code",
   "execution_count": 49,
   "metadata": {},
   "outputs": [
    {
     "data": {
      "text/plain": [
       "Index(['SOURCE_SYSTEM_TYPE', 'SOURCE_SYSTEM', 'STAT_CAUSE_CODE',\n",
       "       'STAT_CAUSE_DESCR', 'FIRE_SIZE', 'FIRE_SIZE_CLASS', 'LATITUDE',\n",
       "       'LONGITUDE', 'OWNER_CODE', 'OWNER_DESCR', 'STATE', 'Discovery_Year',\n",
       "       'Discovery_Month', 'Discovery_Day'],\n",
       "      dtype='object')"
      ]
     },
     "execution_count": 49,
     "metadata": {},
     "output_type": "execute_result"
    }
   ],
   "source": [
    "fires_df.columns"
   ]
  },
  {
   "cell_type": "code",
   "execution_count": 50,
   "metadata": {},
   "outputs": [
    {
     "data": {
      "image/png": "[encoded data removed]",
      "text/plain": [
       "<Figure size 1584x576 with 1 Axes>"
      ]
     },
     "metadata": {
      "needs_background": "light"
     },
     "output_type": "display_data"
    }
   ],
   "source": [
    "f_count = fires_df.groupby('STATE').count()\n",
    "\n",
    "u = f_count.index\n",
    "\n",
    "v = f_count['Discovery_Year']\n",
    "\n",
    "plt.figure(figsize = (22,8))\n",
    "plt.bar(u, v)\n",
    "plt.title('Fires in the US per State')\n",
    "plt.xlabel('State')\n",
    "plt.ylabel('Count')\n",
    "plt.show()"
   ]
  },
  {
   "cell_type": "markdown",
   "metadata": {},
   "source": [
    "### Top States"
   ]
  },
  {
   "cell_type": "code",
   "execution_count": 51,
   "metadata": {},
   "outputs": [
    {
     "name": "stdout",
     "output_type": "stream",
     "text": [
      "Wall time: 3.48 s\n"
     ]
    }
   ],
   "source": [
    "%%time\n",
    "fires = pd.read_csv('C:\\\\Users\\\\francisco\\\\Desktop\\\\BrainStation\\\\Capstoneproject_BS\\\\FiresUSA\\\\Fires_pandas_df.csv')"
   ]
  },
  {
   "cell_type": "code",
   "execution_count": 52,
   "metadata": {},
   "outputs": [],
   "source": [
    "\n",
    "filter_1 = fires[\"STATE\"]=='CA'  \n",
    "#filter_2 = fires[\"STATE\"]=='GA'  \n",
    "x1 = fires.where(filter_1)\n",
    "x1.dropna(inplace = True)\n",
    "\n",
    "\n",
    "\n",
    "filter_2 = fires[\"STATE\"]=='GA'  \n",
    "x2 = fires.where(filter_2)\n",
    "x2.dropna(inplace = True)\n",
    "\n",
    "filter_3 = fires[\"STATE\"]=='NC'  \n",
    "#filter_2 = fires[\"STATE\"]=='GA'  \n",
    "x3 = fires.where(filter_3)\n",
    "x3.dropna(inplace = True)\n",
    "\n",
    "\n",
    "filter_4 = fires[\"STATE\"]=='TX'  \n",
    "#filter_2 = fires[\"STATE\"]=='GA'  \n",
    "x4 = fires.where(filter_4)\n",
    "x4.dropna(inplace = True)\n",
    "\n",
    "\n",
    "top4 = pd.concat([x1, x2, x3, x4], ignore_index=True)"
   ]
  },
  {
   "cell_type": "code",
   "execution_count": 53,
   "metadata": {},
   "outputs": [
    {
     "data": {
      "text/plain": [
       "array(['CA', 'GA', 'NC', 'TX'], dtype=object)"
      ]
     },
     "execution_count": 53,
     "metadata": {},
     "output_type": "execute_result"
    }
   ],
   "source": [
    "top4['STATE'].unique()"
   ]
  },
  {
   "cell_type": "code",
   "execution_count": 54,
   "metadata": {},
   "outputs": [
    {
     "data": {
      "text/plain": [
       "Index(['SOURCE_SYSTEM_TYPE', 'SOURCE_SYSTEM', 'STAT_CAUSE_CODE',\n",
       "       'STAT_CAUSE_DESCR', 'FIRE_SIZE', 'FIRE_SIZE_CLASS', 'LATITUDE',\n",
       "       'LONGITUDE', 'OWNER_CODE', 'OWNER_DESCR', 'STATE', 'Discovery_Year',\n",
       "       'Discovery_Month', 'Discovery_Day'],\n",
       "      dtype='object')"
      ]
     },
     "execution_count": 54,
     "metadata": {},
     "output_type": "execute_result"
    }
   ],
   "source": [
    "top4.columns"
   ]
  },
  {
   "cell_type": "markdown",
   "metadata": {},
   "source": [
    "We plot the distribution of below"
   ]
  },
  {
   "cell_type": "code",
   "execution_count": 55,
   "metadata": {},
   "outputs": [
    {
     "data": {
      "image/png": "[encoded data removed]",
      "text/plain": [
       "<Figure size 1080x576 with 2 Axes>"
      ]
     },
     "metadata": {
      "needs_background": "light"
     },
     "output_type": "display_data"
    }
   ],
   "source": [
    "plt.subplots(1, 2, figsize=(15,8))\n",
    "\n",
    "plt.subplot(1,2,1)\n",
    "sns.distplot(top4['STAT_CAUSE_CODE'], kde=False) # Enable `kde` if you also want a curve to be plotted; in this case I've disabled it\n",
    "#plt.axvline(y.mean(), c='r', label='Mean') # Plot the mean\n",
    "#plt.axvline(y.median(), c='gold', label='Median') # Plot the median\n",
    "#plt.legend() # Make a legend so we know which line is the mean and which is the median\n",
    "plt.title('Fire Cause in top 4 states')\n",
    "plt.xlabel('Categories')\n",
    "plt.ylabel('Count')\n",
    "\n",
    "\n",
    "\n",
    "plt.subplot(1,2,2)\n",
    "sns.distplot(fires['STAT_CAUSE_CODE'], kde=False) # Enable `kde` if you also want a curve to be plotted; in this case I've disabled it\n",
    "#plt.axvline(y.mean(), c='r', label='Mean') # Plot the mean\n",
    "#plt.axvline(y.median(), c='gold', label='Median') # Plot the median\n",
    "#plt.legend() # Make a legend so we know which line is the mean and which is the median\n",
    "plt.title('Case of fires accross the US')\n",
    "plt.xlabel('Categories')\n",
    "plt.ylabel('Count')\n",
    "\n",
    "\n",
    "# This ensures the subplots do not overlap\n",
    "plt.tight_layout()\n",
    "\n",
    "# Show the subplots\n",
    "plt.show()"
   ]
  },
  {
   "cell_type": "code",
   "execution_count": 56,
   "metadata": {},
   "outputs": [
    {
     "data": {
      "text/plain": [
       "array(['Miscellaneous', 'Lightning', 'Debris Burning', 'Campfire',\n",
       "       'Equipment Use', 'Arson', 'Children', 'Railroad', 'Smoking',\n",
       "       'Powerline', 'Structure', 'Fireworks', 'Missing/Undefined'],\n",
       "      dtype=object)"
      ]
     },
     "execution_count": 56,
     "metadata": {},
     "output_type": "execute_result"
    }
   ],
   "source": [
    "fires['STAT_CAUSE_DESCR'].unique()"
   ]
  },
  {
   "cell_type": "markdown",
   "metadata": {},
   "source": [
    "Interestingly, both distributinos are quite similar. Below we can obtain the number of fires per year in the top 4 states. "
   ]
  },
  {
   "cell_type": "code",
   "execution_count": 57,
   "metadata": {},
   "outputs": [
    {
     "data": {
      "image/png": "[encoded data removed]",
      "text/plain": [
       "<Figure size 576x576 with 1 Axes>"
      ]
     },
     "metadata": {
      "needs_background": "light"
     },
     "output_type": "display_data"
    }
   ],
   "source": [
    "year_count = top4.groupby('Discovery_Year').count()\n",
    "year = year_count.index\n",
    "\n",
    "\n",
    "\n",
    "\n",
    "count = year_count['STATE']\n",
    "plt.figure(figsize = (8,8))\n",
    "plt.plot(year, count)\n",
    "plt.title('Fires per year: top 4 states')\n",
    "plt.xlabel('Year')\n",
    "plt.ylabel('Count')\n",
    "plt.show()"
   ]
  },
  {
   "cell_type": "markdown",
   "metadata": {},
   "source": [
    "We can use a filter to check if we have data on fires in December 2015"
   ]
  },
  {
   "cell_type": "code",
   "execution_count": 58,
   "metadata": {},
   "outputs": [],
   "source": [
    "filter = fires[\"Discovery_Year\"]==2015  \n",
    "x2 = fires.where(filter)\n",
    "x2.dropna(inplace = True)"
   ]
  },
  {
   "cell_type": "code",
   "execution_count": 59,
   "metadata": {},
   "outputs": [
    {
     "name": "stdout",
     "output_type": "stream",
     "text": [
      "Lastmonth of 2015 where a fire was registered: 12.0\n",
      "Last day of December 2015 where a fire was registered: 31.0\n"
     ]
    }
   ],
   "source": [
    "print('Lastmonth of 2015 where a fire was registered:', x2['Discovery_Month'].max())\n",
    "\n",
    "print('Last day of December 2015 where a fire was registered:',x2['Discovery_Day'].max())"
   ]
  },
  {
   "cell_type": "markdown",
   "metadata": {},
   "source": [
    "A reason for the drastic drop of fires in 2015 could be that we did not read in all the data from the originall source. Let us see the distribution of causes of fires in 2015."
   ]
  },
  {
   "cell_type": "code",
   "execution_count": 60,
   "metadata": {},
   "outputs": [
    {
     "data": {
      "image/png": "[encoded data removed]",
      "text/plain": [
       "<Figure size 432x288 with 1 Axes>"
      ]
     },
     "metadata": {
      "needs_background": "light"
     },
     "output_type": "display_data"
    }
   ],
   "source": [
    "plt.figure()\n",
    "sns.distplot(x2['STAT_CAUSE_CODE'], kde=False) # Enable `kde` if you also want a curve to be plotted; in this case I've disabled it\n",
    "#plt.axvline(y.mean(), c='r', label='Mean') # Plot the mean\n",
    "#plt.axvline(y.median(), c='gold', label='Median') # Plot the median\n",
    "#plt.legend() # Make a legend so we know which line is the mean and which is the median\n",
    "plt.title('Dependent variable (train) after resampling')\n",
    "plt.xlabel('Categories')\n",
    "plt.ylabel('Count')\n",
    "plt.show()"
   ]
  },
  {
   "cell_type": "code",
   "execution_count": 61,
   "metadata": {},
   "outputs": [
    {
     "data": {
      "text/plain": [
       "array(['Lightning', 'Miscellaneous', 'Campfire', 'Railroad',\n",
       "       'Equipment Use', 'Debris Burning', 'Arson', 'Children', 'Smoking',\n",
       "       'Missing/Undefined', 'Powerline', 'Fireworks', 'Structure'],\n",
       "      dtype=object)"
      ]
     },
     "execution_count": 61,
     "metadata": {},
     "output_type": "execute_result"
    }
   ],
   "source": [
    "x2['STAT_CAUSE_DESCR'].unique()"
   ]
  },
  {
   "cell_type": "markdown",
   "metadata": {},
   "source": [
    "Interestingly, most fires registered in 2015 were caused my a `Miscellaneous` reason. We should also checck the number of fires in 2015."
   ]
  },
  {
   "cell_type": "code",
   "execution_count": 62,
   "metadata": {},
   "outputs": [
    {
     "data": {
      "text/plain": [
       "10989"
      ]
     },
     "execution_count": 62,
     "metadata": {},
     "output_type": "execute_result"
    }
   ],
   "source": [
    "x2['STAT_CAUSE_DESCR'].count()"
   ]
  },
  {
   "cell_type": "markdown",
   "metadata": {},
   "source": [
    "This represents $0.6\\%$ of the total number of fires registered. We can also see the monthly distribution of fires per state in the year 2015"
   ]
  },
  {
   "cell_type": "code",
   "execution_count": 63,
   "metadata": {},
   "outputs": [
    {
     "data": {
      "image/png": "[encoded data removed]",
      "text/plain": [
       "<Figure size 1584x576 with 1 Axes>"
      ]
     },
     "metadata": {
      "needs_background": "light"
     },
     "output_type": "display_data"
    }
   ],
   "source": [
    "x2_count = x2.groupby('STATE').count()\n",
    "\n",
    "u = x2_count.index\n",
    "\n",
    "v = x2_count['Discovery_Month']\n",
    "\n",
    "plt.figure(figsize = (22,8))\n",
    "plt.bar(u, v)\n",
    "plt.title('Fires in the US per State')\n",
    "plt.xlabel('State')\n",
    "plt.ylabel('Count')\n",
    "plt.show()"
   ]
  },
  {
   "cell_type": "markdown",
   "metadata": {},
   "source": [
    "### Fire Size"
   ]
  },
  {
   "cell_type": "code",
   "execution_count": 159,
   "metadata": {},
   "outputs": [
    {
     "data": {
      "image/png": "[encoded data removed]",
      "text/plain": [
       "<Figure size 1584x576 with 1 Axes>"
      ]
     },
     "metadata": {
      "needs_background": "light"
     },
     "output_type": "display_data"
    }
   ],
   "source": [
    "f_count = fires_df.groupby('Discovery_Year')['FIRE_SIZE'].sum()\n",
    "\n",
    "\n",
    "plt.figure(figsize = (22,8))\n",
    "plt.plot(f_count)\n",
    "plt.title('Total size of fires per year')\n",
    "plt.xlabel('State')\n",
    "plt.ylabel('Accres burnt. Exponent: $10^7$')\n",
    "plt.show()\n"
   ]
  },
  {
   "cell_type": "markdown",
   "metadata": {},
   "source": [
    "As the graph above shows, there is an overall increasment in the number of accres afected by fires. Below we can see the series that contains this information"
   ]
  },
  {
   "cell_type": "code",
   "execution_count": 157,
   "metadata": {},
   "outputs": [
    {
     "data": {
      "text/plain": [
       "Discovery_Year\n",
       "1992    2.198618e+06\n",
       "1993    2.189703e+06\n",
       "1994    4.116458e+06\n",
       "1995    2.048510e+06\n",
       "1996    6.004554e+06\n",
       "1997    3.214350e+06\n",
       "1998    1.979409e+06\n",
       "1999    6.063901e+06\n",
       "2000    7.636157e+06\n",
       "2001    3.721279e+06\n",
       "2002    6.799153e+06\n",
       "2003    4.468061e+06\n",
       "2004    8.230584e+06\n",
       "2005    9.618208e+06\n",
       "2006    1.002961e+07\n",
       "2007    9.225163e+06\n",
       "2008    5.370058e+06\n",
       "2009    6.027713e+06\n",
       "2010    3.470649e+06\n",
       "2011    9.620286e+06\n",
       "2012    9.428418e+06\n",
       "2013    4.482467e+06\n",
       "2014    3.645704e+06\n",
       "2015    5.432258e+06\n",
       "Name: FIRE_SIZE, dtype: float64"
      ]
     },
     "execution_count": 157,
     "metadata": {},
     "output_type": "execute_result"
    }
   ],
   "source": [
    "f_count"
   ]
  },
  {
   "cell_type": "markdown",
   "metadata": {},
   "source": [
    "We can see the size per month"
   ]
  },
  {
   "cell_type": "code",
   "execution_count": 161,
   "metadata": {},
   "outputs": [
    {
     "data": {
      "image/png": "[encoded data removed]",
      "text/plain": [
       "<Figure size 1584x576 with 1 Axes>"
      ]
     },
     "metadata": {
      "needs_background": "light"
     },
     "output_type": "display_data"
    }
   ],
   "source": [
    "f_count = fires_df.groupby('Discovery_Month')['FIRE_SIZE'].sum()\n",
    "\n",
    "\n",
    "plt.figure(figsize = (22,8))\n",
    "plt.plot(f_count)\n",
    "plt.title('Total size of fires per month')\n",
    "plt.xlabel('State')\n",
    "plt.ylabel('Accres burnt. Exponent: $10^7$')\n",
    "plt.show()"
   ]
  },
  {
   "cell_type": "markdown",
   "metadata": {},
   "source": [
    "As we expected, most fires are registered in summers. We can also get the day month with most fires."
   ]
  },
  {
   "cell_type": "code",
   "execution_count": 165,
   "metadata": {},
   "outputs": [
    {
     "data": {
      "image/png": "[encoded data removed]",
      "text/plain": [
       "<Figure size 1584x576 with 1 Axes>"
      ]
     },
     "metadata": {
      "needs_background": "light"
     },
     "output_type": "display_data"
    }
   ],
   "source": [
    "f_count = fires_df.groupby('Discovery_Day')['FIRE_SIZE'].sum()\n",
    "\n",
    "\n",
    "plt.figure(figsize = (22,8))\n",
    "plt.plot(f_count)\n",
    "plt.title('Total size of fires per day of the month')\n",
    "plt.xlabel('State')\n",
    "plt.ylabel('Accres burnt')\n",
    "plt.show()"
   ]
  },
  {
   "cell_type": "markdown",
   "metadata": {},
   "source": [
    " "
   ]
  },
  {
   "cell_type": "markdown",
   "metadata": {},
   "source": [
    "### Rebalancing the data"
   ]
  },
  {
   "cell_type": "markdown",
   "metadata": {},
   "source": [
    "There are two obstackles with the data we have prepared for modelling. One is the size of the dataset. $1.8$M datapoints are too many to be processed in a personal machine. This issue can be adddressed by subsampling. The other issue we have is that our data is imbalanced. There are many methods we can try to address this. One could be downsampling or upsampling, or both. We will try both approaches to see wich gives us the best accuracy. As for the models, we will try DecisionTree,  Random Forest and  KNN (if the machine allows us to do so). After we have run each model we will get the corresponding confusion matrix, recall and precision. As for the Decision Trees and Random Forests, I will also calculate the feature's importance."
   ]
  },
  {
   "cell_type": "code",
   "execution_count": 45,
   "metadata": {},
   "outputs": [
    {
     "data": {
      "text/plain": [
       "dict_keys(['explained_variance', 'r2', 'max_error', 'neg_median_absolute_error', 'neg_mean_absolute_error', 'neg_mean_squared_error', 'neg_mean_squared_log_error', 'neg_root_mean_squared_error', 'neg_mean_poisson_deviance', 'neg_mean_gamma_deviance', 'accuracy', 'roc_auc', 'roc_auc_ovr', 'roc_auc_ovo', 'roc_auc_ovr_weighted', 'roc_auc_ovo_weighted', 'balanced_accuracy', 'average_precision', 'neg_log_loss', 'neg_brier_score', 'adjusted_rand_score', 'homogeneity_score', 'completeness_score', 'v_measure_score', 'mutual_info_score', 'adjusted_mutual_info_score', 'normalized_mutual_info_score', 'fowlkes_mallows_score', 'precision', 'precision_macro', 'precision_micro', 'precision_samples', 'precision_weighted', 'recall', 'recall_macro', 'recall_micro', 'recall_samples', 'recall_weighted', 'f1', 'f1_macro', 'f1_micro', 'f1_samples', 'f1_weighted', 'jaccard', 'jaccard_macro', 'jaccard_micro', 'jaccard_samples', 'jaccard_weighted'])"
      ]
     },
     "execution_count": 45,
     "metadata": {},
     "output_type": "execute_result"
    }
   ],
   "source": [
    "import pandas as pd\n",
    "\n",
    "import numpy as np\n",
    "\n",
    "import matplotlib.pyplot as plt\n",
    "import seaborn as sns\n",
    "\n",
    "from sklearn.pipeline import Pipeline\n",
    "from sklearn.model_selection import GridSearchCV\n",
    "from sklearn.metrics import SCORERS\n",
    "SCORERS.keys()"
   ]
  },
  {
   "cell_type": "markdown",
   "metadata": {},
   "source": [
    "Let us read in the data that we prepared above."
   ]
  },
  {
   "cell_type": "code",
   "execution_count": 46,
   "metadata": {},
   "outputs": [
    {
     "name": "stdout",
     "output_type": "stream",
     "text": [
      "Wall time: 3min 14s\n"
     ]
    }
   ],
   "source": [
    "%%time\n",
    "X = pd.read_csv('C:\\\\Users\\\\francisco\\\\Desktop\\\\BrainStation\\\\Capstoneproject_BS\\\\FiresUSA\\\\fires_X.csv')"
   ]
  },
  {
   "cell_type": "code",
   "execution_count": 47,
   "metadata": {},
   "outputs": [
    {
     "name": "stdout",
     "output_type": "stream",
     "text": [
      "Wall time: 7.49 s\n"
     ]
    }
   ],
   "source": [
    "%%time\n",
    "y = pd.read_csv('C:\\\\Users\\\\francisco\\\\Desktop\\\\BrainStation\\\\Capstoneproject_BS\\\\FiresUSA\\\\fires_y.csv')"
   ]
  },
  {
   "cell_type": "code",
   "execution_count": 48,
   "metadata": {},
   "outputs": [
    {
     "name": "stdout",
     "output_type": "stream",
     "text": [
      "<class 'pandas.core.frame.DataFrame'>\n",
      "RangeIndex: 1789378 entries, 0 to 1789377\n",
      "Columns: 120 entries, FIRE_SIZE to STATE_WY\n",
      "dtypes: float64(3), int64(117)\n",
      "memory usage: 1.6 GB\n"
     ]
    }
   ],
   "source": [
    "X.info()"
   ]
  },
  {
   "cell_type": "code",
   "execution_count": 49,
   "metadata": {},
   "outputs": [
    {
     "name": "stdout",
     "output_type": "stream",
     "text": [
      "<class 'pandas.core.frame.DataFrame'>\n",
      "RangeIndex: 1789378 entries, 0 to 1789377\n",
      "Data columns (total 1 columns):\n",
      " #   Column                Dtype\n",
      "---  ------                -----\n",
      " 0   STAT_CAUSE_DESCR_cat  int64\n",
      "dtypes: int64(1)\n",
      "memory usage: 13.7 MB\n"
     ]
    }
   ],
   "source": [
    "y.info()"
   ]
  },
  {
   "cell_type": "markdown",
   "metadata": {},
   "source": []
  },
  {
   "cell_type": "markdown",
   "metadata": {},
   "source": [
    "Our next steps include:\n",
    "\n",
    "\n",
    "* Scaling our data so that we can use it with various models\n",
    "* Downsampling and/or upsampling our data.\n",
    "* If possible, reduce the number of features using PCA\n",
    "* Model to run: Decision Tree, KNN and RandomForest.\n",
    "\n",
    "The last two steps will be in a different notebook. We intent to optimize the hyperparameters and use PCA via Pipelines, using a GridSearch."
   ]
  },
  {
   "cell_type": "code",
   "execution_count": 50,
   "metadata": {},
   "outputs": [],
   "source": [
    "# Below we import some of the libraries and packages we may need\n",
    "#from sklearn.feature_extraction.text import CountVectorizer\n",
    "# splitting our data into train and test sets\n",
    "from sklearn.model_selection import train_test_split\n",
    "from sklearn.preprocessing import StandardScaler\n",
    "from sklearn.decomposition import PCA\n",
    "from sklearn.metrics import accuracy_score\n",
    "\n",
    "from sklearn.metrics import accuracy_score\n",
    "%matplotlib inline"
   ]
  },
  {
   "cell_type": "markdown",
   "metadata": {},
   "source": [
    "This dataset is too large to be processed as our models are computational expensive. Therefore, we will work with a subsample of the data."
   ]
  },
  {
   "cell_type": "code",
   "execution_count": 51,
   "metadata": {},
   "outputs": [
    {
     "name": "stdout",
     "output_type": "stream",
     "text": [
      "Wall time: 0 ns\n"
     ]
    }
   ],
   "source": [
    "%time\n",
    "X_subsample, X_rest, y_subsample, y_rest = \\\n",
    "        train_test_split(X, y, test_size = 0.995, random_state=2020)"
   ]
  },
  {
   "cell_type": "markdown",
   "metadata": {},
   "source": [
    "Let us scale our data and then we split it to get the test set."
   ]
  },
  {
   "cell_type": "code",
   "execution_count": 52,
   "metadata": {},
   "outputs": [
    {
     "name": "stdout",
     "output_type": "stream",
     "text": [
      "Wall time: 1min 7s\n"
     ]
    }
   ],
   "source": [
    "%%time\n",
    "\n",
    "# Splitting the data into the test and remainder data:\n",
    "X_remainder, X_test, y_remainder, y_test = \\\n",
    "        train_test_split(X_subsample, y_subsample, test_size = 0.3, random_state=2020)\n",
    "\n",
    "\n",
    "# Scaling:\n",
    "scaler = StandardScaler()\n",
    "scaler.fit(X_remainder)\n",
    "X_remainder = scaler.transform(X_remainder)\n",
    "X_test = scaler.transform(X_test)"
   ]
  },
  {
   "cell_type": "code",
   "execution_count": 53,
   "metadata": {},
   "outputs": [
    {
     "data": {
      "text/plain": [
       "(6262, 120)"
      ]
     },
     "execution_count": 53,
     "metadata": {},
     "output_type": "execute_result"
    }
   ],
   "source": [
    "X_remainder.shape"
   ]
  },
  {
   "cell_type": "code",
   "execution_count": 54,
   "metadata": {},
   "outputs": [
    {
     "data": {
      "text/plain": [
       "(6262, 1)"
      ]
     },
     "execution_count": 54,
     "metadata": {},
     "output_type": "execute_result"
    }
   ],
   "source": [
    "y_remainder.shape"
   ]
  },
  {
   "cell_type": "markdown",
   "metadata": {},
   "source": [
    "We will address the imbalance problem in our data using SMOTE. We will do an oversample and an undersampling using `X_remainder` and `y_remainder`."
   ]
  },
  {
   "cell_type": "code",
   "execution_count": 56,
   "metadata": {},
   "outputs": [
    {
     "name": "stdout",
     "output_type": "stream",
     "text": [
      "0.7.0\n"
     ]
    }
   ],
   "source": [
    "import imblearn\n",
    "print(imblearn.__version__)"
   ]
  },
  {
   "cell_type": "raw",
   "metadata": {},
   "source": []
  },
  {
   "cell_type": "code",
   "execution_count": 58,
   "metadata": {},
   "outputs": [],
   "source": [
    "from sklearn.datasets import make_classification\n",
    "from imblearn.over_sampling import SMOTE\n",
    "from imblearn.under_sampling import RandomUnderSampler"
   ]
  },
  {
   "cell_type": "code",
   "execution_count": null,
   "metadata": {},
   "outputs": [],
   "source": [
    "%%time\n",
    "from collections import Counter\n",
    "from imblearn.combine import SMOTEENN\n",
    "smote_enn = SMOTEENN(random_state=0)\n",
    "X_resampled, y_resampled = smote_enn.fit_resample(X_remainder, y_remainder)\n",
    "print(sorted(Counter(y_resampled).items()))"
   ]
  },
  {
   "cell_type": "code",
   "execution_count": null,
   "metadata": {},
   "outputs": [],
   "source": [
    "from imblearn.combine import SMOTETomek\n",
    "smote_tomek = SMOTETomek(random_state=0)\n",
    "X_resampled, y_resampled = smote_tomek.fit_resample(X_remainder, y_remainder)\n",
    "print(sorted(Counter(y_resampled).items()))"
   ]
  },
  {
   "cell_type": "code",
   "execution_count": null,
   "metadata": {},
   "outputs": [],
   "source": [
    "plt.figure()\n",
    "sns.distplot(y_resampled, kde=False) # Enable `kde` if you also want a curve to be plotted; in this case I've disabled it\n",
    "#plt.axvline(y.mean(), c='r', label='Mean') # Plot the mean\n",
    "#plt.axvline(y.median(), c='gold', label='Median') # Plot the median\n",
    "#plt.legend() # Make a legend so we know which line is the mean and which is the median\n",
    "plt.title('Dependent variable (train) after resampling')\n",
    "plt.xlabel('Categories')\n",
    "plt.ylabel('Count')\n",
    "plt.show()"
   ]
  },
  {
   "cell_type": "markdown",
   "metadata": {},
   "source": [
    "Below we store the data we havee processed so far to have it at hand."
   ]
  },
  {
   "cell_type": "code",
   "execution_count": null,
   "metadata": {},
   "outputs": [],
   "source": [
    "%%time\n",
    "# From numpy array to pandas daaframe\n",
    "X0 = pd.DataFrame(data = X_resampled, index=None, columns=None)\n",
    "#from pandas df to csv\n",
    "X0.to_csv(r'C:\\Users\\francisco\\Desktop\\BrainStation\\Capstoneproject_BS\\FiresUSA\\fires_X_smote.csv', index = False)\n",
    "\n",
    "##\n",
    "y0 = pd.DataFrame(data = y_resampled, index=None, columns=None)\n",
    "\n",
    "##\n",
    "\n",
    "y0.to_csv(r'C:\\Users\\francisco\\Desktop\\BrainStation\\Capstoneproject_BS\\FiresUSA\\fires_y_smote.csv', index = False)\n",
    "\n",
    "\n",
    "\n",
    "\n",
    "X00 = pd.DataFrame(data = X_test, index=None, columns=None)\n",
    "#from pandas df to csv\n",
    "X00.to_csv(r'C:\\Users\\francisco\\Desktop\\BrainStation\\Capstoneproject_BS\\FiresUSA\\fires_X_smote_test.csv', index = False)\n",
    "\n",
    "\n",
    "y00 = pd.DataFrame(data = y_test, index=None, columns=None)\n",
    "#from pandas df to csv\n",
    "y00.to_csv(r'C:\\Users\\francisco\\Desktop\\BrainStation\\Capstoneproject_BS\\FiresUSA\\fires_y_smote_test.csv', index = False)\n"
   ]
  },
  {
   "cell_type": "code",
   "execution_count": null,
   "metadata": {},
   "outputs": [],
   "source": []
  },
  {
   "cell_type": "markdown",
   "metadata": {},
   "source": [
    "### The cell below is made to be able to run  the random forest"
   ]
  },
  {
   "cell_type": "code",
   "execution_count": null,
   "metadata": {},
   "outputs": [],
   "source": [
    "X_rf, X_resto, y_rf, y_resto = \\\n",
    "        train_test_split(X_resampled, y_resampled, test_size = 0.9, random_state=2020)\n",
    "\n",
    "\n",
    "X_rf_test, X_restos, y_rf_test, y_restos = \\\n",
    "        train_test_split(X_test, y_test, test_size = 0.9, random_state=2020)"
   ]
  },
  {
   "cell_type": "code",
   "execution_count": null,
   "metadata": {},
   "outputs": [],
   "source": [
    "plt.figure()\n",
    "sns.distplot(y_rf, kde=False) # Enable `kde` if you also want a curve to be plotted; in this case I've disabled it\n",
    "#plt.axvline(y.mean(), c='r', label='Mean') # Plot the mean\n",
    "#plt.axvline(y.median(), c='gold', label='Median') # Plot the median\n",
    "#plt.legend() # Make a legend so we know which line is the mean and which is the median\n",
    "plt.title('Dependent variable (train) after resampling')\n",
    "plt.xlabel('Categories')\n",
    "plt.ylabel('Count')\n",
    "plt.show()"
   ]
  },
  {
   "cell_type": "markdown",
   "metadata": {},
   "source": [
    "### Random Forest"
   ]
  },
  {
   "cell_type": "code",
   "execution_count": null,
   "metadata": {},
   "outputs": [],
   "source": [
    "%%time\n",
    "# Import everything again (for completeness)\n",
    "from sklearn.preprocessing import StandardScaler\n",
    "from sklearn.decomposition import PCA\n",
    "from sklearn.tree import DecisionTreeClassifier\n",
    "from sklearn.ensemble import RandomForestClassifier\n",
    "from sklearn.neighbors import KNeighborsClassifier\n",
    "\n",
    "# Make the pipeline\n",
    "# Note that this is more of a placeholder, grid search will only look over the values\n",
    "# in the param grid, this more to setup the pipeline step names\n",
    "\n",
    "estimators = [('dimensionality', PCA()),\n",
    "              ('model', RandomForestClassifier())]\n",
    "\n",
    "pipe = Pipeline(estimators)\n",
    "\n",
    "param_grid = [\n",
    "{'dimensionality':[PCA()],\n",
    "'model': [RandomForestClassifier(n_estimators=100)],\n",
    "'dimensionality__n_components':np.arange(1,min(X_rf.shape)),\n",
    "'model__max_features': [3, 4, 5, 6]}\n",
    "#np.arange(1, 20)\n",
    "]\n",
    "grid = GridSearchCV(pipe, param_grid, cv=5, verbose=1, n_jobs=-1)\n",
    "fittedgrid = grid.fit(X_rf, y_rf)"
   ]
  },
  {
   "cell_type": "code",
   "execution_count": null,
   "metadata": {},
   "outputs": [],
   "source": [
    "# What is the best pipeline?\n",
    "fittedgrid.best_estimator_"
   ]
  },
  {
   "cell_type": "code",
   "execution_count": null,
   "metadata": {},
   "outputs": [],
   "source": [
    "# Score\n",
    "fittedgrid.score(X_test, y_test)"
   ]
  },
  {
   "cell_type": "code",
   "execution_count": null,
   "metadata": {},
   "outputs": [],
   "source": [
    "# Accuracy\n",
    "fittedgrid.score(X_rf, y_rf)"
   ]
  },
  {
   "cell_type": "code",
   "execution_count": null,
   "metadata": {},
   "outputs": [],
   "source": []
  },
  {
   "cell_type": "markdown",
   "metadata": {},
   "source": [
    "It seems we are overfitting."
   ]
  },
  {
   "cell_type": "code",
   "execution_count": null,
   "metadata": {},
   "outputs": [],
   "source": [
    "# Let's get the prediction vector\n",
    "y_pred = fittedgrid.predict(X_test)\n",
    "y_pred"
   ]
  },
  {
   "cell_type": "code",
   "execution_count": null,
   "metadata": {},
   "outputs": [],
   "source": [
    "%%time\n",
    "from sklearn.metrics import confusion_matrix\n",
    "\n",
    "# Let's get the prediction vector\n",
    "y_pred = fittedgrid.predict(X_test)\n",
    "\n",
    "y_pred = fittedgrid.predict(X_test)\n",
    "\n",
    "conf_mat = confusion_matrix(y_test, y_pred)\n",
    "plt.figure(figsize = (10,10))\n",
    "sns.heatmap(conf_mat,\n",
    "            annot=True,\n",
    "            fmt=\"g\",\n",
    "            cbar=False\n",
    "           )\n",
    "plt.title('Model Confusion Matrix',size = 25,y=1.01)\n",
    "plt.show()"
   ]
  },
  {
   "cell_type": "code",
   "execution_count": null,
   "metadata": {},
   "outputs": [],
   "source": []
  },
  {
   "cell_type": "code",
   "execution_count": null,
   "metadata": {},
   "outputs": [],
   "source": [
    "recall = np.diag(conf_mat)/np.sum(conf_mat, axis = 1)\n",
    "precision = np.diag(conf_mat)/np.sum(conf_mat, axis = 0)\n",
    "\n",
    "print('Recall:', recall)\n",
    "\n",
    "print('')\n",
    "\n",
    "print('Precision:', precision)\n",
    "\n",
    "print('')\n",
    "\n",
    "print('Recall mean:', np.mean(recall))\n",
    "\n",
    "print('')\n",
    "\n",
    "print('Precision mean:', np.mean(precision))"
   ]
  },
  {
   "cell_type": "markdown",
   "metadata": {},
   "source": [
    "Below we will determine wich features have the most predictive power."
   ]
  },
  {
   "cell_type": "code",
   "execution_count": null,
   "metadata": {},
   "outputs": [],
   "source": [
    "#fittedgrid.best_estimator_.feature_importances_()\n",
    "\n",
    "fittedgrid.best_estimator_[1].feature_importances_"
   ]
  },
  {
   "cell_type": "code",
   "execution_count": null,
   "metadata": {},
   "outputs": [],
   "source": [
    "# decision tree for feature importance on a classification problem\n",
    "from sklearn.datasets import make_classification\n",
    "from sklearn.tree import DecisionTreeClassifier\n",
    "from matplotlib import pyplot\n",
    "# define dataset\n",
    "#X, y = make_classification(n_samples=1000, n_features=10, n_informative=5, n_redundant=5, random_state=1)\n",
    "# define the model\n",
    "model = DecisionTreeClassifier()\n",
    "# fit the model\n",
    "#model.fit(X_test, y_test)\n",
    "# get importance\n",
    "importance = model.feature_importances_\n",
    "# summarize feature importance\n",
    "for i,v in enumerate(importance):\n",
    "\tprint('Feature: %0d, Score: %.5f' % (i,v))\n",
    "# plot feature importance\n",
    "pyplot.bar([x for x in range(len(importance))], importance)\n",
    "pyplot.show()"
   ]
  },
  {
   "cell_type": "markdown",
   "metadata": {},
   "source": [
    "Below we do the oversampling. "
   ]
  },
  {
   "cell_type": "code",
   "execution_count": 59,
   "metadata": {},
   "outputs": [],
   "source": [
    "# transform the dataset\n",
    "oversample = SMOTE()\n",
    "#Fit the data\n",
    "X_over, y_over = oversample.fit_resample(X_remainder, y_remainder)"
   ]
  },
  {
   "cell_type": "code",
   "execution_count": 60,
   "metadata": {},
   "outputs": [
    {
     "data": {
      "text/plain": [
       "(19903, 120)"
      ]
     },
     "execution_count": 60,
     "metadata": {},
     "output_type": "execute_result"
    }
   ],
   "source": [
    "X_over.shape"
   ]
  },
  {
   "cell_type": "code",
   "execution_count": 65,
   "metadata": {},
   "outputs": [
    {
     "data": {
      "text/plain": [
       "(19903, 1)"
      ]
     },
     "execution_count": 65,
     "metadata": {},
     "output_type": "execute_result"
    }
   ],
   "source": [
    "y_over.shape"
   ]
  },
  {
   "cell_type": "code",
   "execution_count": 62,
   "metadata": {},
   "outputs": [
    {
     "name": "stdout",
     "output_type": "stream",
     "text": [
      "Wall time: 262 ms\n"
     ]
    }
   ],
   "source": [
    "%%time\n",
    "# transform the dataset\n",
    "oversample = RandomUnderSampler()\n",
    "#Fit the data\n",
    "X_under, y_under = oversample.fit_resample(X_remainder, y_remainder)"
   ]
  },
  {
   "cell_type": "markdown",
   "metadata": {},
   "source": [
    "Let us check that everythig looks as excepted."
   ]
  },
  {
   "cell_type": "code",
   "execution_count": 63,
   "metadata": {},
   "outputs": [
    {
     "data": {
      "image/png": "[encoded data removed]",
      "text/plain": [
       "<Figure size 432x288 with 1 Axes>"
      ]
     },
     "metadata": {
      "needs_background": "light"
     },
     "output_type": "display_data"
    }
   ],
   "source": [
    "plt.figure()\n",
    "sns.distplot(y_over, kde=False) # Enable `kde` if you also want a curve to be plotted; in this case I've disabled it\n",
    "#plt.axvline(y.mean(), c='r', label='Mean') # Plot the mean\n",
    "#plt.axvline(y.median(), c='gold', label='Median') # Plot the median\n",
    "#plt.legend() # Make a legend so we know which line is the mean and which is the median\n",
    "plt.title('Distribution independent variable values with oversampling')\n",
    "plt.xlabel('Categories')\n",
    "plt.ylabel('Count')\n",
    "plt.show()"
   ]
  },
  {
   "cell_type": "code",
   "execution_count": null,
   "metadata": {},
   "outputs": [],
   "source": [
    "plt.figure()\n",
    "sns.distplot(y_under, kde=False) # Enable `kde` if you also want a curve to be plotted; in this case I've disabled it\n",
    "#plt.axvline(y.mean(), c='r', label='Mean') # Plot the mean\n",
    "#plt.axvline(y.median(), c='gold', label='Median') # Plot the median\n",
    "#plt.legend() # Make a legend so we know which line is the mean and which is the median\n",
    "plt.title('Distribution independent variable values with undersampling')\n",
    "plt.xlabel('Categories')\n",
    "plt.ylabel('Count')\n",
    "plt.show()"
   ]
  },
  {
   "cell_type": "markdown",
   "metadata": {},
   "source": [
    "Below I am saving ``X_over`` and ``y_over`` in my machine"
   ]
  },
  {
   "cell_type": "code",
   "execution_count": 66,
   "metadata": {},
   "outputs": [
    {
     "name": "stdout",
     "output_type": "stream",
     "text": [
      "Wall time: 5.73 s\n"
     ]
    }
   ],
   "source": [
    "%%time\n",
    "# From numpy array to pandas daaframe\n",
    "X0 = pd.DataFrame(data = X_over, index=None, columns=None)\n",
    "#from pandas df to csv\n",
    "X0.to_csv(r'C:\\Users\\francisco\\Desktop\\BrainStation\\Capstoneproject_BS\\FiresUSA\\fires_X_over.csv', index = False)\n",
    "\n",
    "##\n",
    "y0 = pd.DataFrame(data = y_over, index=None, columns=None)\n",
    "\n",
    "##\n",
    "\n",
    "y0.to_csv(r'C:\\Users\\francisco\\Desktop\\BrainStation\\Capstoneproject_BS\\FiresUSA\\fires_y_over.csv', index = False)"
   ]
  },
  {
   "cell_type": "code",
   "execution_count": 64,
   "metadata": {},
   "outputs": [
    {
     "name": "stdout",
     "output_type": "stream",
     "text": [
      "Wall time: 25.5 s\n"
     ]
    }
   ],
   "source": [
    "X00 = pd.DataFrame(data = X_test, index=None, columns=None)\n",
    "#from pandas df to csv\n",
    "X00.to_csv(r'C:\\Users\\francisco\\Desktop\\BrainStation\\Capstoneproject_BS\\FiresUSA\\fires_X_over_test.csv', index = False)\n",
    "\n",
    "\n",
    "y00 = pd.DataFrame(data = y_test, index=None, columns=None)\n",
    "#from pandas df to csv\n",
    "y00.to_csv(r'C:\\Users\\francisco\\Desktop\\BrainStation\\Capstoneproject_BS\\FiresUSA\\fires_y_over_test.csv', index = False)"
   ]
  },
  {
   "cell_type": "code",
   "execution_count": null,
   "metadata": {},
   "outputs": [],
   "source": []
  },
  {
   "cell_type": "code",
   "execution_count": 68,
   "metadata": {},
   "outputs": [
    {
     "name": "stdout",
     "output_type": "stream",
     "text": [
      "Wall time: 1.08 s\n"
     ]
    }
   ],
   "source": [
    "%%time\n",
    "prova_0 = pd.read_csv('C:\\\\Users\\\\francisco\\\\Desktop\\\\BrainStation\\\\Capstoneproject_BS\\\\FiresUSA\\\\fires_X_over.csv')\n",
    "\n",
    "prova_1 = pd.read_csv('C:\\\\Users\\\\francisco\\\\Desktop\\\\BrainStation\\\\Capstoneproject_BS\\\\FiresUSA\\\\fires_y_over.csv')"
   ]
  },
  {
   "cell_type": "code",
   "execution_count": 70,
   "metadata": {},
   "outputs": [
    {
     "name": "stdout",
     "output_type": "stream",
     "text": [
      "<class 'pandas.core.frame.DataFrame'>\n",
      "RangeIndex: 19903 entries, 0 to 19902\n",
      "Columns: 120 entries, 0 to 119\n",
      "dtypes: float64(120)\n",
      "memory usage: 18.2 MB\n"
     ]
    }
   ],
   "source": [
    "prova_0.info()"
   ]
  },
  {
   "cell_type": "code",
   "execution_count": 71,
   "metadata": {},
   "outputs": [
    {
     "name": "stdout",
     "output_type": "stream",
     "text": [
      "<class 'pandas.core.frame.DataFrame'>\n",
      "RangeIndex: 19903 entries, 0 to 19902\n",
      "Data columns (total 1 columns):\n",
      " #   Column                Non-Null Count  Dtype\n",
      "---  ------                --------------  -----\n",
      " 0   STAT_CAUSE_DESCR_cat  19903 non-null  int64\n",
      "dtypes: int64(1)\n",
      "memory usage: 155.6 KB\n"
     ]
    }
   ],
   "source": [
    "prova_1.info()"
   ]
  },
  {
   "cell_type": "code",
   "execution_count": null,
   "metadata": {},
   "outputs": [],
   "source": []
  },
  {
   "cell_type": "markdown",
   "metadata": {},
   "source": [
    "Below we work with all the data"
   ]
  },
  {
   "cell_type": "code",
   "execution_count": null,
   "metadata": {},
   "outputs": [],
   "source": [
    "# transform the dataset\n",
    "oversample = SMOTE()\n",
    "#Fit the data\n",
    "X_overall, y_overall = oversample.fit_resample(X, y)"
   ]
  },
  {
   "cell_type": "code",
   "execution_count": null,
   "metadata": {},
   "outputs": [],
   "source": [
    "plt.figure()\n",
    "sns.distplot(y_overall, kde=False) # Enable `kde` if you also want a curve to be plotted; in this case I've disabled it\n",
    "#plt.axvline(y.mean(), c='r', label='Mean') # Plot the mean\n",
    "#plt.axvline(y.median(), c='gold', label='Median') # Plot the median\n",
    "#plt.legend() # Make a legend so we know which line is the mean and which is the median\n",
    "plt.title('Distribution independent variable values with oversampling')\n",
    "plt.xlabel('Categories')\n",
    "plt.ylabel('Count')\n",
    "plt.show()"
   ]
  },
  {
   "cell_type": "code",
   "execution_count": null,
   "metadata": {},
   "outputs": [],
   "source": []
  },
  {
   "cell_type": "code",
   "execution_count": null,
   "metadata": {},
   "outputs": [],
   "source": []
  },
  {
   "cell_type": "code",
   "execution_count": null,
   "metadata": {},
   "outputs": [],
   "source": []
  },
  {
   "cell_type": "code",
   "execution_count": null,
   "metadata": {},
   "outputs": [],
   "source": []
  },
  {
   "cell_type": "code",
   "execution_count": null,
   "metadata": {},
   "outputs": [],
   "source": []
  },
  {
   "cell_type": "code",
   "execution_count": null,
   "metadata": {},
   "outputs": [],
   "source": []
  },
  {
   "cell_type": "markdown",
   "metadata": {},
   "source": [
    "#### We are ready to start running our models."
   ]
  },
  {
   "cell_type": "code",
   "execution_count": null,
   "metadata": {},
   "outputs": [],
   "source": [
    "from sklearn.pipeline import Pipeline\n",
    "from sklearn.model_selection import GridSearchCV\n",
    "from sklearn.metrics import SCORERS\n",
    "SCORERS.keys()"
   ]
  },
  {
   "cell_type": "markdown",
   "metadata": {},
   "source": [
    "### DecissionTre"
   ]
  },
  {
   "cell_type": "code",
   "execution_count": null,
   "metadata": {},
   "outputs": [],
   "source": [
    "%%time\n",
    "# Import everything again (for completeness)\n",
    "from sklearn.preprocessing import StandardScaler\n",
    "from sklearn.decomposition import PCA\n",
    "from sklearn.tree import DecisionTreeClassifier\n",
    "from sklearn.ensemble import RandomForestClassifier\n",
    "from sklearn.neighbors import KNeighborsClassifier\n",
    "\n",
    "# Make the pipeline\n",
    "# Note that this is more of a placeholder, grid search will only look over the values\n",
    "# in the param grid, this more to setup the pipeline step names\n",
    "\n",
    "estimators = [('dimensionality', PCA()),\n",
    "              ('model', DecisionTreeClassifier())]\n",
    "\n",
    "pipe = Pipeline(estimators)\n",
    "\n",
    "param_grid = [\n",
    "{'dimensionality':[None],\n",
    " 'model': [DecisionTreeClassifier()],\n",
    " 'model__max_depth':np.arange(1, 20)}\n",
    "]\n",
    "grid = GridSearchCV(pipe, param_grid, cv=5, verbose=1, n_jobs=-1)\n",
    "fittedgrid = grid.fit(X_over, y_over)"
   ]
  },
  {
   "cell_type": "code",
   "execution_count": null,
   "metadata": {},
   "outputs": [],
   "source": [
    "# What is the best pipeline?\n",
    "fittedgrid.best_estimator_"
   ]
  },
  {
   "cell_type": "code",
   "execution_count": null,
   "metadata": {},
   "outputs": [],
   "source": [
    "# Score\n",
    "fittedgrid.score(X_test, y_test)"
   ]
  },
  {
   "cell_type": "code",
   "execution_count": null,
   "metadata": {},
   "outputs": [],
   "source": [
    "fittedgrid.score(X_remainder, y_remainder)"
   ]
  },
  {
   "cell_type": "code",
   "execution_count": null,
   "metadata": {},
   "outputs": [],
   "source": [
    "%%time\n",
    "from sklearn.metrics import confusion_matrix\n",
    "\n",
    "# Let's get the prediction vector\n",
    "y_pred = fittedgrid.predict(X_test)\n",
    "\n",
    "y_pred = fittedgrid.predict(X_test)\n",
    "\n",
    "conf_mat = confusion_matrix(y_test, y_pred)\n",
    "plt.figure(figsize = (10,10))\n",
    "sns.heatmap(conf_mat,\n",
    "            annot=True,\n",
    "            fmt=\"g\",\n",
    "            cbar=False\n",
    "           )\n",
    "plt.title('Model Confusion Matrix',size = 25,y=1.01)\n",
    "plt.show()"
   ]
  },
  {
   "cell_type": "code",
   "execution_count": null,
   "metadata": {},
   "outputs": [],
   "source": []
  },
  {
   "cell_type": "code",
   "execution_count": null,
   "metadata": {},
   "outputs": [],
   "source": []
  },
  {
   "cell_type": "code",
   "execution_count": null,
   "metadata": {},
   "outputs": [],
   "source": [
    "recall = np.diag(conf_mat)/np.sum(conf_mat, axis = 1)\n",
    "precision = np.diag(conf_mat)/np.sum(conf_mat, axis = 0)\n",
    "\n",
    "print('Recall:', recall)\n",
    "\n",
    "print('')\n",
    "\n",
    "print('Precision:', precision)\n",
    "\n",
    "print('')\n",
    "\n",
    "print('Recall mean:', np.mean(recall))\n",
    "\n",
    "print('')\n",
    "\n",
    "print('Precision mean:', np.mean(precision))"
   ]
  },
  {
   "cell_type": "markdown",
   "metadata": {},
   "source": [
    "These scores are acceptable "
   ]
  },
  {
   "cell_type": "code",
   "execution_count": null,
   "metadata": {},
   "outputs": [],
   "source": [
    "%%time\n",
    "# Import everything again (for completeness)\n",
    "from sklearn.preprocessing import StandardScaler\n",
    "from sklearn.decomposition import PCA\n",
    "from sklearn.tree import DecisionTreeClassifier\n",
    "from sklearn.ensemble import RandomForestClassifier\n",
    "from sklearn.neighbors import KNeighborsClassifier\n",
    "\n",
    "# Make the pipeline\n",
    "# Note that this is more of a placeholder, grid search will only look over the values\n",
    "# in the param grid, this more to setup the pipeline step names\n",
    "\n",
    "estimators = [('dimensionality', PCA()),\n",
    "              ('model', DecisionTreeClassifier())]\n",
    "\n",
    "pipe = Pipeline(estimators)\n",
    "\n",
    "param_grid = [\n",
    "{'dimensionality':[None],\n",
    " 'model': [DecisionTreeClassifier()],\n",
    " 'model__max_depth':np.arange(1, 80)}\n",
    "]\n",
    "grid = GridSearchCV(pipe, param_grid, cv=5, verbose=1, n_jobs=-1)\n",
    "fittedgrid = grid.fit(X_resampled, y_resampled)"
   ]
  },
  {
   "cell_type": "code",
   "execution_count": null,
   "metadata": {},
   "outputs": [],
   "source": [
    "# What is the best pipeline?\n",
    "fittedgrid.best_estimator_"
   ]
  },
  {
   "cell_type": "code",
   "execution_count": null,
   "metadata": {},
   "outputs": [],
   "source": [
    "# Score\n",
    "fittedgrid.score(X_test, y_test)\n",
    "#0.28"
   ]
  },
  {
   "cell_type": "code",
   "execution_count": null,
   "metadata": {},
   "outputs": [],
   "source": [
    "# Score\n",
    "fittedgrid.score(X_under, y_under)\n",
    "#1.0"
   ]
  },
  {
   "cell_type": "code",
   "execution_count": null,
   "metadata": {},
   "outputs": [],
   "source": [
    "y_pred = fittedgrid.predict(X_test)\n",
    "y_pred"
   ]
  },
  {
   "cell_type": "code",
   "execution_count": null,
   "metadata": {},
   "outputs": [],
   "source": [
    "%%time\n",
    "from sklearn.metrics import confusion_matrix\n",
    "\n",
    "y_pred = fittedgrid.predict(X_test)\n",
    "\n",
    "conf_mat = confusion_matrix(y_test, y_pred)\n",
    "plt.figure(figsize = (10,10))\n",
    "sns.heatmap(conf_mat,\n",
    "            annot=True,\n",
    "            fmt=\"g\",\n",
    "            cbar=False\n",
    "           )\n",
    "plt.title('Model Confusion Matrix',size = 25,y=1.01)\n",
    "plt.show()"
   ]
  },
  {
   "cell_type": "markdown",
   "metadata": {},
   "source": [
    "### KNN"
   ]
  },
  {
   "cell_type": "code",
   "execution_count": null,
   "metadata": {},
   "outputs": [],
   "source": [
    "%%time\n",
    "# Import everything again (for completeness)\n",
    "from sklearn.preprocessing import StandardScaler\n",
    "from sklearn.decomposition import PCA\n",
    "from sklearn.tree import DecisionTreeClassifier\n",
    "from sklearn.ensemble import RandomForestClassifier\n",
    "from sklearn.neighbors import KNeighborsClassifier\n",
    "\n",
    "# Make the pipeline\n",
    "# Note that this is more of a placeholder, grid search will only look over the values\n",
    "# in the param grid, this more to setup the pipeline step names\n",
    "\n",
    "\n",
    "\n",
    "estimators = [('dimensionality', PCA()),\n",
    "              ('model', DecisionTreeClassifier())]\n",
    "\n",
    "pipe = Pipeline(estimators)\n",
    "\n",
    "param_grid = [\n",
    "{ 'dimensionality':[PCA()],\n",
    " 'model': [KNeighborsClassifier()],\n",
    "  'dimensionality__n_components':np.arange(1,min(X_resampled.shape)),\n",
    "  'model__n_neighbors':np.arange(5, 10)}\n",
    "]\n",
    "grid = GridSearchCV(pipe, param_grid, cv=5, verbose=1, n_jobs=-1)\n",
    "fittedgrid = grid.fit(X_under, y_under)"
   ]
  },
  {
   "cell_type": "code",
   "execution_count": null,
   "metadata": {},
   "outputs": [],
   "source": []
  },
  {
   "cell_type": "code",
   "execution_count": null,
   "metadata": {},
   "outputs": [],
   "source": [
    "# What is the best pipeline?\n",
    "fittedgrid.best_estimator_"
   ]
  },
  {
   "cell_type": "code",
   "execution_count": null,
   "metadata": {},
   "outputs": [],
   "source": [
    "# Score\n",
    "fittedgrid.score(X_test, y_test)"
   ]
  },
  {
   "cell_type": "code",
   "execution_count": null,
   "metadata": {},
   "outputs": [],
   "source": [
    "fittedgrid.score(X_under, y_under)"
   ]
  },
  {
   "cell_type": "code",
   "execution_count": null,
   "metadata": {},
   "outputs": [],
   "source": [
    "%%time\n",
    "from sklearn.metrics import confusion_matrix\n",
    "\n",
    "# Let's get the prediction vector\n",
    "y_pred = fittedgrid.predict(X_test)\n",
    "\n",
    "y_pred = fittedgrid.predict(X_test)\n",
    "\n",
    "conf_mat = confusion_matrix(y_test, y_pred)\n",
    "plt.figure(figsize = (10,10))\n",
    "sns.heatmap(conf_mat,\n",
    "            annot=True,\n",
    "            fmt=\"g\",\n",
    "            cbar=False\n",
    "           )\n",
    "plt.title('Model Confusion Matrix',size = 25,y=1.01)\n",
    "plt.show()"
   ]
  },
  {
   "cell_type": "code",
   "execution_count": null,
   "metadata": {},
   "outputs": [],
   "source": [
    "recall = np.diag(conf_mat)/np.sum(conf_mat, axis = 1)\n",
    "precision = np.diag(conf_mat)/np.sum(conf_mat, axis = 0)\n",
    "\n",
    "print('Recall:', recall)\n",
    "\n",
    "print('')\n",
    "\n",
    "print('Precision:', precision)\n",
    "\n",
    "print('')\n",
    "\n",
    "print('Recall mean:', np.mean(recall))\n",
    "\n",
    "print('')\n",
    "\n",
    "print('Precision mean:', np.mean(precision))"
   ]
  },
  {
   "cell_type": "code",
   "execution_count": null,
   "metadata": {},
   "outputs": [],
   "source": [
    "# Let's recall the number of components in our data\n",
    "\n",
    "print('X_remainder shape', X_remainder.shape)\n",
    "print('maximum possible number of components to feed our PCA model:', min(X_remainder.shape))"
   ]
  },
  {
   "cell_type": "markdown",
   "metadata": {},
   "source": [
    "### Below we can see different methods we use to balance the dataset"
   ]
  },
  {
   "cell_type": "markdown",
   "metadata": {},
   "source": [
    "### Undersampling Cluster Centroids"
   ]
  },
  {
   "cell_type": "code",
   "execution_count": null,
   "metadata": {},
   "outputs": [],
   "source": [
    "%%time\n",
    "from imblearn.under_sampling import ClusterCentroids\n",
    "cc = ClusterCentroids(random_state=2020)\n",
    "X_r_centroid, y_r_centroid= cc.fit_resample(X_remainder, y_remainder)\n",
    "print(sorted(Counter(y_r_centroid).items()))"
   ]
  },
  {
   "cell_type": "code",
   "execution_count": null,
   "metadata": {},
   "outputs": [],
   "source": [
    "plt.figure()\n",
    "sns.distplot(y_r_centroid, kde=False) # Enable `kde` if you also want a curve to be plotted; in this case I've disabled it\n",
    "#plt.axvline(y.mean(), c='r', label='Mean') # Plot the mean\n",
    "#plt.axvline(y.median(), c='gold', label='Median') # Plot the median\n",
    "#plt.legend() # Make a legend so we know which line is the mean and which is the median\n",
    "plt.title('Dependent variable (train) after resampling')\n",
    "plt.xlabel('Categories')\n",
    "plt.ylabel('Count')\n",
    "plt.show()"
   ]
  },
  {
   "cell_type": "code",
   "execution_count": null,
   "metadata": {},
   "outputs": [],
   "source": [
    "%%time\n",
    "# Import everything again (for completeness)\n",
    "from sklearn.preprocessing import StandardScaler\n",
    "from sklearn.decomposition import PCA\n",
    "from sklearn.tree import DecisionTreeClassifier\n",
    "from sklearn.ensemble import RandomForestClassifier\n",
    "from sklearn.neighbors import KNeighborsClassifier\n",
    "\n",
    "# Make the pipeline\n",
    "# Note that this is more of a placeholder, grid search will only look over the values\n",
    "# in the param grid, this more to setup the pipeline step names\n",
    "\n",
    "\n",
    "\n",
    "estimators = [('dimensionality', PCA()),\n",
    "              ('model', DecisionTreeClassifier())]\n",
    "\n",
    "pipe = Pipeline(estimators)\n",
    "\n",
    "param_grid = [\n",
    "{ 'dimensionality':[PCA()],\n",
    " 'model': [KNeighborsClassifier()],\n",
    "  'dimensionality__n_components':np.arange(1,min(X_resampled.shape)),\n",
    "  'model__n_neighbors':np.arange(3, 25)}\n",
    "]\n",
    "grid = GridSearchCV(pipe, param_grid, cv=5, verbose=1, n_jobs=-1)\n",
    "fittedgrid = grid.fit(X_r_centroid, y_r_centroid)"
   ]
  },
  {
   "cell_type": "code",
   "execution_count": null,
   "metadata": {},
   "outputs": [],
   "source": [
    "# What is the best pipeline?\n",
    "fittedgrid.best_estimator_"
   ]
  },
  {
   "cell_type": "code",
   "execution_count": null,
   "metadata": {},
   "outputs": [],
   "source": [
    "# Score\n",
    "fittedgrid.score(X_test, y_test)"
   ]
  },
  {
   "cell_type": "code",
   "execution_count": null,
   "metadata": {},
   "outputs": [],
   "source": []
  },
  {
   "cell_type": "markdown",
   "metadata": {},
   "source": [
    "### Random undersampling"
   ]
  },
  {
   "cell_type": "code",
   "execution_count": null,
   "metadata": {},
   "outputs": [],
   "source": [
    "from imblearn.under_sampling import RandomUnderSampler\n",
    "rus = RandomUnderSampler(random_state=20)\n",
    "X_random_u, y_random_u = rus.fit_resample(X_remainder, y_remainder)\n",
    "print(sorted(Counter(y_random_u).items()))"
   ]
  },
  {
   "cell_type": "code",
   "execution_count": null,
   "metadata": {},
   "outputs": [],
   "source": [
    "plt.figure()\n",
    "sns.distplot(y_random_u, kde=False) # Enable `kde` if you also want a curve to be plotted; in this case I've disabled it\n",
    "#plt.axvline(y.mean(), c='r', label='Mean') # Plot the mean\n",
    "#plt.axvline(y.median(), c='gold', label='Median') # Plot the median\n",
    "#plt.legend() # Make a legend so we know which line is the mean and which is the median\n",
    "plt.title('Dependent variable (train) after resampling')\n",
    "plt.xlabel('Categories')\n",
    "plt.ylabel('Count')\n",
    "plt.show()"
   ]
  },
  {
   "cell_type": "markdown",
   "metadata": {},
   "source": [
    "### Resampling Tomek:\n",
    "It gives interesting results"
   ]
  },
  {
   "cell_type": "code",
   "execution_count": null,
   "metadata": {},
   "outputs": [],
   "source": [
    "%%time\n",
    "from collections import Counter\n",
    "from imblearn.combine import SMOTEENN\n",
    "smote_enn = SMOTEENN(random_state=0)\n",
    "X_resampled, y_resampled = smote_enn.fit_resample(X_remainder, y_remainder)\n",
    "print(sorted(Counter(y_resampled).items()))\n",
    "\n",
    "from imblearn.combine import SMOTETomek\n",
    "smote_tomek = SMOTETomek(random_state=0)\n",
    "X_resampled, y_resampled = smote_tomek.fit_resample(X_remainder, y_remainder)\n",
    "print(sorted(Counter(y_resampled).items()))"
   ]
  },
  {
   "cell_type": "code",
   "execution_count": null,
   "metadata": {},
   "outputs": [],
   "source": [
    "%%time\n",
    "from collections import Counter\n",
    "from imblearn.combine import SMOTEENN\n",
    "smote_enn = SMOTEENN(random_state=0)\n",
    "X_resampled, y_resampled = smote_enn.fit_resample(X_remainder, y_remainder)\n",
    "print(sorted(Counter(y_resampled).items()))\n",
    "\n",
    "from imblearn.combine import SMOTETomek\n",
    "smote_tomek = SMOTETomek(random_state=0)\n",
    "X_resampled, y_resampled = smote_tomek.fit_resample(X_remainder, y_remainder)\n",
    "print(sorted(Counter(y_resampled).items()))\n",
    "\n",
    "plt.figure()\n",
    "sns.distplot(y_resampled, kde=False) # Enable `kde` if you also want a curve to be plotted; in this case I've disabled it\n",
    "#plt.axvline(y.mean(), c='r', label='Mean') # Plot the mean\n",
    "#plt.axvline(y.median(), c='gold', label='Median') # Plot the median\n",
    "#plt.legend() # Make a legend so we know which line is the mean and which is the median\n",
    "plt.title('Dependent variable (train) after resampling')\n",
    "plt.xlabel('Categories')\n",
    "plt.ylabel('Count')\n",
    "plt.show()"
   ]
  },
  {
   "cell_type": "code",
   "execution_count": null,
   "metadata": {},
   "outputs": [],
   "source": [
    "plt.figure()\n",
    "sns.distplot(y_test, kde=False) # Enable `kde` if you also want a curve to be plotted; in this case I've disabled it\n",
    "#plt.axvline(y.mean(), c='r', label='Mean') # Plot the mean\n",
    "#plt.axvline(y.median(), c='gold', label='Median') # Plot the median\n",
    "#plt.legend() # Make a legend so we know which line is the mean and which is the median\n",
    "plt.title('Dependent variable (test)')\n",
    "plt.xlabel('Categories')\n",
    "plt.ylabel('Count')\n",
    "plt.show()"
   ]
  },
  {
   "cell_type": "code",
   "execution_count": null,
   "metadata": {},
   "outputs": [],
   "source": []
  },
  {
   "cell_type": "code",
   "execution_count": null,
   "metadata": {},
   "outputs": [],
   "source": []
  }
 ],
 "metadata": {
  "kernelspec": {
   "display_name": "Python 3",
   "language": "python",
   "name": "python3"
  },
  "language_info": {
   "codemirror_mode": {
    "name": "ipython",
    "version": 3
   },
   "file_extension": ".py",
   "mimetype": "text/x-python",
   "name": "python",
   "nbconvert_exporter": "python",
   "pygments_lexer": "ipython3",
   "version": "3.7.6"
  }
 },
 "nbformat": 4,
 "nbformat_minor": 4
}
